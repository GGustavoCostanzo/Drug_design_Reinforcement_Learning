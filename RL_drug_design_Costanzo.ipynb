{
  "cells": [
    {
      "cell_type": "code",
      "execution_count": 1,
      "id": "rtGyA99XR5WG",
      "metadata": {
        "colab": {
          "base_uri": "https://localhost:8080/"
        },
        "id": "rtGyA99XR5WG",
        "outputId": "c255fa3e-e71e-4535-9b93-7e97ef140998"
      },
      "outputs": [
        {
          "name": "stdout",
          "output_type": "stream",
          "text": [
            "Mounted at /content/drive\n"
          ]
        }
      ],
      "source": [
        "from google.colab import drive\n",
        "drive.mount('/content/drive')"
      ]
    },
    {
      "cell_type": "code",
      "execution_count": null,
      "id": "-_54X-Eb9p9o",
      "metadata": {
        "id": "-_54X-Eb9p9o"
      },
      "outputs": [],
      "source": [
        "!rm -rf rl_experiments/\n"
      ]
    },
    {
      "cell_type": "code",
      "execution_count": 2,
      "id": "Bw8uA-OQ9r1X",
      "metadata": {
        "colab": {
          "base_uri": "https://localhost:8080/"
        },
        "id": "Bw8uA-OQ9r1X",
        "outputId": "5b7679e3-34f4-4e95-b52f-a09537ab71b0"
      },
      "outputs": [
        {
          "name": "stdout",
          "output_type": "stream",
          "text": [
            "Cloning into 'rl_experiments'...\n",
            "remote: Enumerating objects: 95, done.\u001b[K\n",
            "remote: Total 95 (delta 0), reused 0 (delta 0), pack-reused 95 (from 1)\u001b[K\n",
            "Receiving objects: 100% (95/95), 445.13 MiB | 15.93 MiB/s, done.\n",
            "Resolving deltas: 100% (32/32), done.\n",
            "Updating files: 100% (58/58), done.\n"
          ]
        }
      ],
      "source": [
        "!GIT_LFS_SKIP_SMUDGE=1 git clone https://github.com/isayevlab/rl_experiments.git\n"
      ]
    },
    {
      "cell_type": "code",
      "execution_count": 3,
      "id": "hZgZvEf3B6yG",
      "metadata": {
        "colab": {
          "base_uri": "https://localhost:8080/"
        },
        "id": "hZgZvEf3B6yG",
        "outputId": "dd2a4c43-c3d1-4aa1-abcb-6340f091d3be"
      },
      "outputs": [
        {
          "name": "stdout",
          "output_type": "stream",
          "text": [
            "Collecting rdkit-pypi\n",
            "  Downloading rdkit_pypi-2022.9.5-cp310-cp310-manylinux_2_17_x86_64.manylinux2014_x86_64.whl.metadata (3.9 kB)\n",
            "Requirement already satisfied: torch in /usr/local/lib/python3.10/dist-packages (2.5.0+cu121)\n",
            "Requirement already satisfied: torchvision in /usr/local/lib/python3.10/dist-packages (0.20.0+cu121)\n",
            "Requirement already satisfied: pandas in /usr/local/lib/python3.10/dist-packages (2.2.2)\n",
            "Requirement already satisfied: matplotlib in /usr/local/lib/python3.10/dist-packages (3.7.1)\n",
            "Requirement already satisfied: numpy in /usr/local/lib/python3.10/dist-packages (from rdkit-pypi) (1.26.4)\n",
            "Requirement already satisfied: Pillow in /usr/local/lib/python3.10/dist-packages (from rdkit-pypi) (10.4.0)\n",
            "Requirement already satisfied: filelock in /usr/local/lib/python3.10/dist-packages (from torch) (3.16.1)\n",
            "Requirement already satisfied: typing-extensions>=4.8.0 in /usr/local/lib/python3.10/dist-packages (from torch) (4.12.2)\n",
            "Requirement already satisfied: networkx in /usr/local/lib/python3.10/dist-packages (from torch) (3.4.2)\n",
            "Requirement already satisfied: jinja2 in /usr/local/lib/python3.10/dist-packages (from torch) (3.1.4)\n",
            "Requirement already satisfied: fsspec in /usr/local/lib/python3.10/dist-packages (from torch) (2024.6.1)\n",
            "Requirement already satisfied: sympy==1.13.1 in /usr/local/lib/python3.10/dist-packages (from torch) (1.13.1)\n",
            "Requirement already satisfied: mpmath<1.4,>=1.1.0 in /usr/local/lib/python3.10/dist-packages (from sympy==1.13.1->torch) (1.3.0)\n",
            "Requirement already satisfied: python-dateutil>=2.8.2 in /usr/local/lib/python3.10/dist-packages (from pandas) (2.8.2)\n",
            "Requirement already satisfied: pytz>=2020.1 in /usr/local/lib/python3.10/dist-packages (from pandas) (2024.2)\n",
            "Requirement already satisfied: tzdata>=2022.7 in /usr/local/lib/python3.10/dist-packages (from pandas) (2024.2)\n",
            "Requirement already satisfied: contourpy>=1.0.1 in /usr/local/lib/python3.10/dist-packages (from matplotlib) (1.3.0)\n",
            "Requirement already satisfied: cycler>=0.10 in /usr/local/lib/python3.10/dist-packages (from matplotlib) (0.12.1)\n",
            "Requirement already satisfied: fonttools>=4.22.0 in /usr/local/lib/python3.10/dist-packages (from matplotlib) (4.54.1)\n",
            "Requirement already satisfied: kiwisolver>=1.0.1 in /usr/local/lib/python3.10/dist-packages (from matplotlib) (1.4.7)\n",
            "Requirement already satisfied: packaging>=20.0 in /usr/local/lib/python3.10/dist-packages (from matplotlib) (24.1)\n",
            "Requirement already satisfied: pyparsing>=2.3.1 in /usr/local/lib/python3.10/dist-packages (from matplotlib) (3.2.0)\n",
            "Requirement already satisfied: six>=1.5 in /usr/local/lib/python3.10/dist-packages (from python-dateutil>=2.8.2->pandas) (1.16.0)\n",
            "Requirement already satisfied: MarkupSafe>=2.0 in /usr/local/lib/python3.10/dist-packages (from jinja2->torch) (3.0.2)\n",
            "Downloading rdkit_pypi-2022.9.5-cp310-cp310-manylinux_2_17_x86_64.manylinux2014_x86_64.whl (29.4 MB)\n",
            "\u001b[2K   \u001b[90m━━━━━━━━━━━━━━━━━━━━━━━━━━━━━━━━━━━━━━━━\u001b[0m \u001b[32m29.4/29.4 MB\u001b[0m \u001b[31m70.2 MB/s\u001b[0m eta \u001b[36m0:00:00\u001b[0m\n",
            "\u001b[?25hInstalling collected packages: rdkit-pypi\n",
            "Successfully installed rdkit-pypi-2022.9.5\n"
          ]
        }
      ],
      "source": [
        "!pip install rdkit-pypi torch torchvision pandas matplotlib\n"
      ]
    },
    {
      "cell_type": "code",
      "execution_count": 4,
      "id": "jjXF9rZ1C_Gl",
      "metadata": {
        "colab": {
          "base_uri": "https://localhost:8080/"
        },
        "id": "jjXF9rZ1C_Gl",
        "outputId": "9207bdb5-23ff-44bb-f814-c10f22d955e3"
      },
      "outputs": [
        {
          "name": "stdout",
          "output_type": "stream",
          "text": [
            "Requirement already satisfied: joblib in /usr/local/lib/python3.10/dist-packages (1.4.2)\n"
          ]
        }
      ],
      "source": [
        "!pip install joblib\n"
      ]
    },
    {
      "cell_type": "code",
      "execution_count": 5,
      "id": "9dGMPJXXpZfR",
      "metadata": {
        "colab": {
          "base_uri": "https://localhost:8080/"
        },
        "id": "9dGMPJXXpZfR",
        "outputId": "e7b52e1e-cbac-49ef-f1cd-e3a1f0d932be"
      },
      "outputs": [
        {
          "name": "stdout",
          "output_type": "stream",
          "text": [
            "True\n"
          ]
        }
      ],
      "source": [
        "import torch\n",
        "print(torch.cuda.is_available())  # Should return True if GPU is available\n"
      ]
    },
    {
      "cell_type": "code",
      "execution_count": 6,
      "id": "Gea5x0UNpdcu",
      "metadata": {
        "colab": {
          "base_uri": "https://localhost:8080/"
        },
        "id": "Gea5x0UNpdcu",
        "outputId": "5cc749ae-fda2-452b-955b-56fc8549578e"
      },
      "outputs": [
        {
          "name": "stdout",
          "output_type": "stream",
          "text": [
            "Looking in indexes: https://pypi.org/simple, https://download.pytorch.org/whl/cu113\n",
            "Requirement already satisfied: torch in /usr/local/lib/python3.10/dist-packages (2.5.0+cu121)\n",
            "Requirement already satisfied: torchvision in /usr/local/lib/python3.10/dist-packages (0.20.0+cu121)\n",
            "Requirement already satisfied: torchaudio in /usr/local/lib/python3.10/dist-packages (2.5.0+cu121)\n",
            "Requirement already satisfied: filelock in /usr/local/lib/python3.10/dist-packages (from torch) (3.16.1)\n",
            "Requirement already satisfied: typing-extensions>=4.8.0 in /usr/local/lib/python3.10/dist-packages (from torch) (4.12.2)\n",
            "Requirement already satisfied: networkx in /usr/local/lib/python3.10/dist-packages (from torch) (3.4.2)\n",
            "Requirement already satisfied: jinja2 in /usr/local/lib/python3.10/dist-packages (from torch) (3.1.4)\n",
            "Requirement already satisfied: fsspec in /usr/local/lib/python3.10/dist-packages (from torch) (2024.6.1)\n",
            "Requirement already satisfied: sympy==1.13.1 in /usr/local/lib/python3.10/dist-packages (from torch) (1.13.1)\n",
            "Requirement already satisfied: mpmath<1.4,>=1.1.0 in /usr/local/lib/python3.10/dist-packages (from sympy==1.13.1->torch) (1.3.0)\n",
            "Requirement already satisfied: numpy in /usr/local/lib/python3.10/dist-packages (from torchvision) (1.26.4)\n",
            "Requirement already satisfied: pillow!=8.3.*,>=5.3.0 in /usr/local/lib/python3.10/dist-packages (from torchvision) (10.4.0)\n",
            "Requirement already satisfied: MarkupSafe>=2.0 in /usr/local/lib/python3.10/dist-packages (from jinja2->torch) (3.0.2)\n"
          ]
        }
      ],
      "source": [
        "!pip install torch torchvision torchaudio --extra-index-url https://download.pytorch.org/whl/cu113\n"
      ]
    },
    {
      "cell_type": "code",
      "execution_count": 7,
      "id": "VmGl6cJLpoei",
      "metadata": {
        "colab": {
          "base_uri": "https://localhost:8080/"
        },
        "id": "VmGl6cJLpoei",
        "outputId": "1c2621b2-2bac-4e01-db40-5ae73133ee8b"
      },
      "outputs": [
        {
          "name": "stdout",
          "output_type": "stream",
          "text": [
            "True\n"
          ]
        }
      ],
      "source": [
        "import torch\n",
        "print(torch.cuda.is_available())  # Should return True if GPU is available"
      ]
    },
    {
      "cell_type": "code",
      "execution_count": null,
      "id": "TjDJPx_dpxtz",
      "metadata": {
        "colab": {
          "base_uri": "https://localhost:8080/"
        },
        "id": "TjDJPx_dpxtz",
        "outputId": "ff21ca3a-4bc5-4a5c-af1b-564d99f7004d"
      },
      "outputs": [
        {
          "name": "stdout",
          "output_type": "stream",
          "text": [
            "nvcc: NVIDIA (R) Cuda compiler driver\n",
            "Copyright (c) 2005-2023 NVIDIA Corporation\n",
            "Built on Tue_Aug_15_22:02:13_PDT_2023\n",
            "Cuda compilation tools, release 12.2, V12.2.140\n",
            "Build cuda_12.2.r12.2/compiler.33191640_0\n"
          ]
        }
      ],
      "source": [
        "!nvcc --version\n"
      ]
    },
    {
      "cell_type": "code",
      "execution_count": 8,
      "id": "IU1a40JrBkj_",
      "metadata": {
        "id": "IU1a40JrBkj_"
      },
      "outputs": [],
      "source": [
        "import sys\n",
        "sys.path.append('/content/rl_experiments/release')\n"
      ]
    },
    {
      "cell_type": "code",
      "execution_count": 9,
      "id": "3fa1ed46",
      "metadata": {
        "id": "3fa1ed46"
      },
      "outputs": [],
      "source": [
        "import os\n",
        "os.environ['CUDA_VISIBLE_DEVICES'] = '1'\n",
        "import sys\n",
        "sys.path.append('../release')"
      ]
    },
    {
      "cell_type": "code",
      "execution_count": 10,
      "id": "105d79bb",
      "metadata": {
        "id": "105d79bb"
      },
      "outputs": [],
      "source": [
        "import numpy as np\n",
        "import pandas as pd\n",
        "from tqdm import trange\n",
        "import torch\n",
        "use_cuda = torch.cuda.is_available()"
      ]
    },
    {
      "cell_type": "code",
      "execution_count": 11,
      "id": "Qk64FXHMkcfg",
      "metadata": {
        "colab": {
          "base_uri": "https://localhost:8080/"
        },
        "id": "Qk64FXHMkcfg",
        "outputId": "38347781-229a-4e4e-e1b0-dcabf209d282"
      },
      "outputs": [
        {
          "name": "stdout",
          "output_type": "stream",
          "text": [
            "/content\n"
          ]
        }
      ],
      "source": [
        "import os\n",
        "print(os.getcwd())\n"
      ]
    },
    {
      "cell_type": "code",
      "execution_count": 11,
      "id": "c6555db4",
      "metadata": {
        "id": "c6555db4"
      },
      "outputs": [],
      "source": [
        "from data import GeneratorData, PredictorData\n",
        "from stackRNN import StackAugmentedRNN\n",
        "from utils import get_fp\n",
        "from reinforcement import Reinforcement"
      ]
    },
    {
      "cell_type": "code",
      "execution_count": 12,
      "id": "7a537893",
      "metadata": {
        "id": "7a537893"
      },
      "outputs": [],
      "source": [
        "import joblib\n",
        "from sklearn.ensemble import RandomForestClassifier as RFC\n",
        "from predictor import VanillaQSAR"
      ]
    },
    {
      "cell_type": "markdown",
      "id": "50ef9271",
      "metadata": {
        "id": "50ef9271"
      },
      "source": [
        "# Training the predictor"
      ]
    },
    {
      "cell_type": "code",
      "execution_count": null,
      "id": "413f20d9",
      "metadata": {
        "id": "413f20d9"
      },
      "outputs": [],
      "source": [
        "from rdkit import RDLogger\n",
        "\n",
        "# Disable RDKit warnings\n",
        "RDLogger.DisableLog('rdApp.*')\n",
        "\n",
        "np.random.seed(42)\n",
        "\n",
        "pred_data = PredictorData('rl_experiments/data/egfr_with_pubchem.csv', get_features=get_fp)\n",
        "model_instance = RFC\n",
        "model_params = {'n_estimators': 250,\n",
        "                'n_jobs': 10}\n",
        "my_predictor = VanillaQSAR(model_instance=model_instance,\n",
        "                           model_params=model_params,\n",
        "                           ensemble_size=10)"
      ]
    },
    {
      "cell_type": "code",
      "execution_count": null,
      "id": "U4BN_XQdvywV",
      "metadata": {
        "colab": {
          "background_save": true
        },
        "id": "U4BN_XQdvywV"
      },
      "outputs": [],
      "source": [
        "# Train the model and retrieve metrics\n",
        "results, metrics_type = my_predictor.fit_model(pred_data, cv_split='random')\n",
        "\n"
      ]
    },
    {
      "cell_type": "code",
      "execution_count": null,
      "id": "1nVTnaJX6xKo",
      "metadata": {
        "colab": {
          "background_save": true,
          "base_uri": "https://localhost:8080/"
        },
        "id": "1nVTnaJX6xKo",
        "outputId": "05a2cb98-8d01-4c18-e942-9d93ef9d275d"
      },
      "outputs": [
        {
          "name": "stdout",
          "output_type": "stream",
          "text": [
            "Metrics Type: F1 score\n",
            "Fold 1: F1 score = 0.8571\n",
            "Fold 2: F1 score = 0.8301\n",
            "Fold 3: F1 score = 0.8549\n",
            "Fold 4: F1 score = 0.8525\n",
            "Fold 5: F1 score = 0.8350\n",
            "Fold 6: F1 score = 0.8465\n",
            "Fold 7: F1 score = 0.8343\n",
            "Fold 8: F1 score = 0.8540\n",
            "Fold 9: F1 score = 0.8505\n",
            "Fold 10: F1 score = 0.8357\n",
            "Average F1 score: 0.8451\n"
          ]
        }
      ],
      "source": [
        "# Print out the results and calculate the average F1 score\n",
        "print(f\"Metrics Type: {metrics_type}\")\n",
        "for i, metric in enumerate(results):\n",
        "    print(f\"Fold {i+1}: {metrics_type} = {metric:.4f}\")\n",
        "\n",
        "# Calculate and print the average F1 score\n",
        "average_f1 = np.mean(results)\n",
        "print(f\"Average {metrics_type}: {average_f1:.4f}\")\n"
      ]
    },
    {
      "cell_type": "code",
      "execution_count": null,
      "id": "ef78f406",
      "metadata": {
        "id": "ef78f406"
      },
      "outputs": [],
      "source": [
        "# uncomment to train predictor model...\n",
        "my_predictor.fit_model(pred_data, cv_split='random')\n",
        "my_predictor.save_model('/content/drive/MyDrive/egfr_rfc')"
      ]
    },
    {
      "cell_type": "code",
      "execution_count": null,
      "id": "a635078d",
      "metadata": {
        "id": "a635078d"
      },
      "outputs": [],
      "source": [
        "# ...or use pretrained model\n",
        "my_predictor.load_model('/content/drive/MyDrive/egfr_rfc')"
      ]
    },
    {
      "cell_type": "markdown",
      "id": "000c46f1",
      "metadata": {
        "id": "000c46f1"
      },
      "source": [
        "# Pre-train the generative model"
      ]
    },
    {
      "cell_type": "code",
      "execution_count": null,
      "id": "07db388e",
      "metadata": {
        "colab": {
          "base_uri": "https://localhost:8080/"
        },
        "id": "07db388e",
        "outputId": "39cca5d7-3d28-45be-e507-16333acbba19"
      },
      "outputs": [
        {
          "data": {
            "text/plain": [
              "<torch._C.Generator at 0x7d0f332fab50>"
            ]
          },
          "execution_count": 14,
          "metadata": {},
          "output_type": "execute_result"
        }
      ],
      "source": [
        "np.random.seed(42)\n",
        "torch.manual_seed(42)"
      ]
    },
    {
      "cell_type": "code",
      "execution_count": null,
      "id": "bb6177bb",
      "metadata": {
        "id": "bb6177bb"
      },
      "outputs": [],
      "source": [
        "tokens = [' ', '<', '>', '#', '%', ')', '(', '+', '-', '/', '.', '1', '0', '3', '2', '5', '4', '7',\n",
        "          '6', '9', '8', '=', 'A', '@', 'C', 'B', 'F', 'I', 'H', 'O', 'N', 'P', 'S', '[', ']',\n",
        "          '\\\\', 'c', 'e', 'i', 'l', 'o', 'n', 'p', 's', 'r']\n",
        "gen_data_path = 'rl_experiments/data/chembl_22_clean_1576904_sorted_std_final.smi'\n",
        "gen_data = GeneratorData(training_data_path=gen_data_path, delimiter='\\t',\n",
        "                         cols_to_read=[0], keep_header=True, tokens=tokens)"
      ]
    },
    {
      "cell_type": "code",
      "execution_count": null,
      "id": "fe2b1066",
      "metadata": {
        "id": "fe2b1066"
      },
      "outputs": [],
      "source": [
        "hidden_size = 1500\n",
        "stack_width = 1500\n",
        "stack_depth = 200\n",
        "layer_type = 'GRU'\n",
        "lr = 0.0002\n",
        "optimizer = torch.optim.Adadelta\n",
        "\n",
        "my_generator = StackAugmentedRNN(input_size=gen_data.n_characters, hidden_size=hidden_size,\n",
        "                                     output_size=gen_data.n_characters,\n",
        "                                     layer_type=layer_type, n_layers=1, is_bidirectional=False,\n",
        "                                     has_stack=True, stack_width=stack_width, stack_depth=stack_depth,\n",
        "                                     use_cuda=use_cuda,\n",
        "                                     lr=lr, optimizer_instance=optimizer)"
      ]
    },
    {
      "cell_type": "code",
      "execution_count": null,
      "id": "1e78d746",
      "metadata": {
        "id": "1e78d746"
      },
      "outputs": [],
      "source": [
        "model_path = '/content/rl_experiments/checkpoints/generator/egfr_clf_rnn_mixed_primed'\n",
        "batch_size = 16\n",
        "n_iterations = 1500000\n",
        "\n",
        "# uncomment to pretrain generator...\n",
        "# losses = my_generator.fit(gen_data, batch_size, n_iterations)\n",
        "# my_generator.save_model('/content/drive/MyDrive/model_path')\n",
        "# with open('losses.txt','wt') as f:\n",
        "#     for val in losses:\n",
        "#         print(val, file=f)"
      ]
    },
    {
      "cell_type": "code",
      "execution_count": null,
      "id": "61S2wTUtI8zu",
      "metadata": {
        "colab": {
          "base_uri": "https://localhost:8080/",
          "height": 231
        },
        "id": "61S2wTUtI8zu",
        "outputId": "407fb6ac-3f6e-4b58-b192-2b9a3fbe4315"
      },
      "outputs": [
        {
          "ename": "NameError",
          "evalue": "name 'model_path' is not defined",
          "output_type": "error",
          "traceback": [
            "\u001b[0;31m---------------------------------------------------------------------------\u001b[0m",
            "\u001b[0;31mNameError\u001b[0m                                 Traceback (most recent call last)",
            "\u001b[0;32m<ipython-input-17-34cb3ea1b38c>\u001b[0m in \u001b[0;36m<cell line: 2>\u001b[0;34m()\u001b[0m\n\u001b[1;32m      1\u001b[0m \u001b[0;31m# Force the model to load on CPU first\u001b[0m\u001b[0;34m\u001b[0m\u001b[0;34m\u001b[0m\u001b[0m\n\u001b[0;32m----> 2\u001b[0;31m \u001b[0mstate_dict\u001b[0m \u001b[0;34m=\u001b[0m \u001b[0mtorch\u001b[0m\u001b[0;34m.\u001b[0m\u001b[0mload\u001b[0m\u001b[0;34m(\u001b[0m\u001b[0mmodel_path\u001b[0m\u001b[0;34m,\u001b[0m \u001b[0mmap_location\u001b[0m\u001b[0;34m=\u001b[0m\u001b[0;34m'cpu'\u001b[0m\u001b[0;34m)\u001b[0m\u001b[0;34m\u001b[0m\u001b[0;34m\u001b[0m\u001b[0m\n\u001b[0m\u001b[1;32m      3\u001b[0m \u001b[0;34m\u001b[0m\u001b[0m\n\u001b[1;32m      4\u001b[0m \u001b[0;31m# Then, load the state dictionary into your generator model\u001b[0m\u001b[0;34m\u001b[0m\u001b[0;34m\u001b[0m\u001b[0m\n\u001b[1;32m      5\u001b[0m \u001b[0mmy_generator\u001b[0m\u001b[0;34m.\u001b[0m\u001b[0mload_state_dict\u001b[0m\u001b[0;34m(\u001b[0m\u001b[0mstate_dict\u001b[0m\u001b[0;34m)\u001b[0m\u001b[0;34m\u001b[0m\u001b[0;34m\u001b[0m\u001b[0m\n",
            "\u001b[0;31mNameError\u001b[0m: name 'model_path' is not defined"
          ]
        }
      ],
      "source": [
        "# Force the model to load on CPU first\n",
        "state_dict = torch.load(model_path, map_location='cpu')\n",
        "\n",
        "# Then, load the state dictionary into your generator model\n",
        "my_generator.load_state_dict(state_dict)\n",
        "\n",
        "# Finally, move the model to the GPU if available\n",
        "device = torch.device('cuda' if torch.cuda.is_available() else 'cpu')\n",
        "my_generator.to(device)\n"
      ]
    },
    {
      "cell_type": "code",
      "execution_count": null,
      "id": "sPLPLeLlJSqv",
      "metadata": {
        "id": "sPLPLeLlJSqv"
      },
      "outputs": [],
      "source": [
        "print(torch.cuda.is_available())  # Should return True if GPU is available\n",
        "print(torch.cuda.device_count())  # Should return the number of GPUs available\n"
      ]
    },
    {
      "cell_type": "code",
      "execution_count": null,
      "id": "xCze8C0LC2Iq",
      "metadata": {
        "colab": {
          "base_uri": "https://localhost:8080/",
          "height": 1000
        },
        "id": "xCze8C0LC2Iq",
        "outputId": "22ab2cb6-6513-4adb-e75d-089f6d74998f"
      },
      "outputs": [
        {
          "name": "stdout",
          "output_type": "stream",
          "text": [
            "Iteration 1000/50000, Loss: 12.9343\n",
            "Iteration 2000/50000, Loss: 10.5309\n",
            "Iteration 3000/50000, Loss: 5.9506\n",
            "Iteration 4000/50000, Loss: 10.5028\n",
            "Iteration 5000/50000, Loss: 11.8164\n",
            "Iteration 6000/50000, Loss: 8.8280\n",
            "Iteration 7000/50000, Loss: 10.0768\n",
            "Iteration 8000/50000, Loss: 9.8125\n",
            "Iteration 9000/50000, Loss: 7.7691\n",
            "Iteration 10000/50000, Loss: 6.5106\n",
            "Iteration 11000/50000, Loss: 5.8323\n",
            "Iteration 12000/50000, Loss: 5.0690\n",
            "Iteration 13000/50000, Loss: 6.1537\n",
            "Iteration 14000/50000, Loss: 10.0901\n",
            "Iteration 15000/50000, Loss: 6.6745\n",
            "Iteration 16000/50000, Loss: 5.6312\n",
            "Iteration 17000/50000, Loss: 8.0564\n",
            "Iteration 18000/50000, Loss: 4.8651\n",
            "Iteration 19000/50000, Loss: 9.1946\n",
            "Iteration 20000/50000, Loss: 6.0853\n",
            "Iteration 21000/50000, Loss: 5.6609\n",
            "Iteration 22000/50000, Loss: 4.8585\n",
            "Iteration 23000/50000, Loss: 7.4008\n",
            "Iteration 24000/50000, Loss: 6.1333\n",
            "Iteration 25000/50000, Loss: 8.4590\n",
            "Iteration 26000/50000, Loss: 5.1284\n",
            "Iteration 27000/50000, Loss: 6.7884\n",
            "Iteration 28000/50000, Loss: 5.4164\n",
            "Iteration 29000/50000, Loss: 6.3732\n",
            "Iteration 30000/50000, Loss: 4.4388\n",
            "Iteration 31000/50000, Loss: 7.2369\n",
            "Iteration 32000/50000, Loss: 6.8926\n",
            "Iteration 33000/50000, Loss: 5.5828\n",
            "Iteration 34000/50000, Loss: 7.8490\n",
            "Iteration 35000/50000, Loss: 4.9681\n",
            "Iteration 36000/50000, Loss: 4.7881\n",
            "Iteration 37000/50000, Loss: 6.6936\n",
            "Iteration 38000/50000, Loss: 5.3893\n",
            "Iteration 39000/50000, Loss: 6.1115\n",
            "Iteration 40000/50000, Loss: 7.9611\n",
            "Iteration 41000/50000, Loss: 6.3881\n",
            "Iteration 42000/50000, Loss: 6.6422\n",
            "Iteration 43000/50000, Loss: 7.9241\n",
            "Iteration 44000/50000, Loss: 4.5040\n",
            "Iteration 45000/50000, Loss: 3.9197\n",
            "Iteration 46000/50000, Loss: 4.0233\n",
            "Iteration 47000/50000, Loss: 3.9764\n",
            "Iteration 48000/50000, Loss: 6.5138\n",
            "Iteration 49000/50000, Loss: 5.6445\n",
            "Iteration 50000/50000, Loss: 3.8249\n"
          ]
        },
        {
          "data": {
            "image/png": "[encoded data removed]",
            "text/plain": [
              "<Figure size 1000x600 with 1 Axes>"
            ]
          },
          "metadata": {},
          "output_type": "display_data"
        }
      ],
      "source": [
        "import matplotlib.pyplot as plt\n",
        "import numpy as np\n",
        "import torch\n",
        "\n",
        "np.random.seed(42)\n",
        "torch.manual_seed(42)\n",
        "\n",
        "tokens = [' ', '<', '>', '#', '%', ')', '(', '+', '-', '/', '.', '1', '0', '3', '2', '5', '4', '7',\n",
        "          '6', '9', '8', '=', 'A', '@', 'C', 'B', 'F', 'I', 'H', 'O', 'N', 'P', 'S', '[', ']',\n",
        "          '\\\\', 'c', 'e', 'i', 'l', 'o', 'n', 'p', 's', 'r']\n",
        "gen_data_path = 'rl_experiments/data/chembl_22_clean_1576904_sorted_std_final.smi'\n",
        "gen_data = GeneratorData(training_data_path=gen_data_path, delimiter='\\t',\n",
        "                         cols_to_read=[0], keep_header=True, tokens=tokens)\n",
        "\n",
        "hidden_size = 1500\n",
        "stack_width = 1500\n",
        "stack_depth = 200\n",
        "layer_type = 'GRU'\n",
        "lr = 0.0002\n",
        "optimizer = torch.optim.Adadelta\n",
        "\n",
        "my_generator = StackAugmentedRNN(input_size=gen_data.n_characters, hidden_size=hidden_size,\n",
        "                                 output_size=gen_data.n_characters,\n",
        "                                 layer_type=layer_type, n_layers=1, is_bidirectional=False,\n",
        "                                 has_stack=True, stack_width=stack_width, stack_depth=stack_depth,\n",
        "                                 use_cuda=use_cuda,\n",
        "                                 lr=lr, optimizer_instance=optimizer)\n",
        "\n",
        "model_path = '/content/rl_experiments/checkpoints/generator/egfr_clf_rnn_mixed_primed'\n",
        "batch_size = 16\n",
        "n_iterations = 28000\n",
        "\n",
        "# Initialize an empty list to store losses\n",
        "losses = []\n",
        "\n",
        "# Training loop\n",
        "for i in range(n_iterations):\n",
        "    # Sample a batch from gen_data\n",
        "    inputs, targets = gen_data.random_training_set(batch_size)\n",
        "\n",
        "    # Train step with the inputs and targets\n",
        "    loss = my_generator.train_step(inputs, targets)\n",
        "    losses.append(loss)\n",
        "\n",
        "    if (i + 1) % 1000 == 0:  # Print every 1000 iterations\n",
        "        print(f\"Iteration {i+1}/{n_iterations}, Loss: {loss:.4f}\")\n",
        "\n",
        "# Save the model\n",
        "my_generator.save_model('/content/drive/MyDrive/model_path')\n",
        "\n",
        "# Save losses to a file\n",
        "with open('/content/drive/MyDrive/losses.txt', 'wt') as f:\n",
        "    for val in losses:\n",
        "        print(val, file=f)\n",
        "\n",
        "# Plot the training loss curve\n",
        "plt.figure(figsize=(10, 6))\n",
        "plt.plot(losses)\n",
        "plt.title('Training Loss Curve')\n",
        "plt.xlabel('Iteration')\n",
        "plt.ylabel('Loss')\n",
        "plt.grid(True)\n",
        "plt.show()\n"
      ]
    },
    {
      "cell_type": "markdown",
      "id": "4lvQ3Mwb6ilq",
      "metadata": {
        "id": "4lvQ3Mwb6ilq"
      },
      "source": [
        "# **Without replay and dynamic threshold**\n"
      ]
    },
    {
      "cell_type": "code",
      "execution_count": null,
      "id": "SGX3q670NvOt",
      "metadata": {
        "colab": {
          "base_uri": "https://localhost:8080/",
          "height": 1000
        },
        "id": "SGX3q670NvOt",
        "outputId": "53029d9c-ee57-4389-a7a8-9604c13d090a"
      },
      "outputs": [
        {
          "name": "stderr",
          "output_type": "stream",
          "text": [
            "<ipython-input-13-320895010f54>:130: FutureWarning: You are using `torch.load` with `weights_only=False` (the current default value), which uses the default pickle module implicitly. It is possible to construct malicious pickle data which will execute arbitrary code during unpickling (See https://github.com/pytorch/pytorch/blob/main/SECURITY.md#untrusted-models for more details). In a future release, the default value for `weights_only` will be flipped to `True`. This limits the functions that could be executed during unpickling. Arbitrary objects will no longer be allowed to be loaded via this mode unless they are explicitly allowlisted by the user via `torch.serialization.add_safe_globals`. We recommend you start setting `weights_only=True` for any use case where you don't have full control of the loaded file. Please open an issue on GitHub for any issues related to this experimental feature.\n",
            "  weights = torch.load(primed_path, map_location=lambda storage, loc: storage.cuda() if torch.cuda.is_available() else storage.cpu())\n"
          ]
        },
        {
          "name": "stdout",
          "output_type": "stream",
          "text": [
            "1 Training on replay instances...\n"
          ]
        },
        {
          "name": "stderr",
          "output_type": "stream",
          "text": [
            " 1 Policy gradient...: 100%|██████████| 10/10 [00:39<00:00,  3.99s/it]\n",
            "Generating molecules...: 100%|██████████| 50/50 [00:08<00:00,  6.06it/s]\n",
            "<ipython-input-13-320895010f54>:185: FutureWarning: The behavior of DataFrame concatenation with empty or all-NA entries is deprecated. In a future version, this will no longer exclude empty or all-NA columns when determining the result dtypes. To retain the old behavior, exclude the relevant entries before the concat operation.\n",
            "  progress_df = pd.concat([progress_df, new_row], ignore_index=True)\n"
          ]
        },
        {
          "name": "stdout",
          "output_type": "stream",
          "text": [
            "2 Training on replay instances...\n"
          ]
        },
        {
          "name": "stderr",
          "output_type": "stream",
          "text": [
            " 2 Policy gradient...: 100%|██████████| 10/10 [00:40<00:00,  4.03s/it]\n",
            "Generating molecules...: 100%|██████████| 50/50 [00:08<00:00,  6.02it/s]\n"
          ]
        },
        {
          "name": "stdout",
          "output_type": "stream",
          "text": [
            "3 Training on replay instances...\n"
          ]
        },
        {
          "name": "stderr",
          "output_type": "stream",
          "text": [
            " 3 Policy gradient...: 100%|██████████| 10/10 [00:39<00:00,  3.94s/it]\n",
            "Generating molecules...: 100%|██████████| 50/50 [00:08<00:00,  6.10it/s]\n"
          ]
        },
        {
          "name": "stdout",
          "output_type": "stream",
          "text": [
            "4 Training on replay instances...\n"
          ]
        },
        {
          "name": "stderr",
          "output_type": "stream",
          "text": [
            " 4 Policy gradient...: 100%|██████████| 10/10 [00:38<00:00,  3.89s/it]\n",
            "Generating molecules...: 100%|██████████| 50/50 [00:08<00:00,  6.03it/s]\n"
          ]
        },
        {
          "name": "stdout",
          "output_type": "stream",
          "text": [
            "5 Training on replay instances...\n"
          ]
        },
        {
          "name": "stderr",
          "output_type": "stream",
          "text": [
            " 5 Policy gradient...: 100%|██████████| 10/10 [00:38<00:00,  3.87s/it]\n",
            "Generating molecules...: 100%|██████████| 50/50 [00:08<00:00,  6.03it/s]\n"
          ]
        },
        {
          "name": "stdout",
          "output_type": "stream",
          "text": [
            "6 Training on replay instances...\n"
          ]
        },
        {
          "name": "stderr",
          "output_type": "stream",
          "text": [
            " 6 Policy gradient...: 100%|██████████| 10/10 [00:38<00:00,  3.82s/it]\n",
            "Generating molecules...: 100%|██████████| 50/50 [00:08<00:00,  5.96it/s]\n"
          ]
        },
        {
          "name": "stdout",
          "output_type": "stream",
          "text": [
            "7 Training on replay instances...\n"
          ]
        },
        {
          "name": "stderr",
          "output_type": "stream",
          "text": [
            " 7 Policy gradient...: 100%|██████████| 10/10 [00:38<00:00,  3.89s/it]\n",
            "Generating molecules...: 100%|██████████| 50/50 [00:08<00:00,  5.99it/s]\n"
          ]
        },
        {
          "name": "stdout",
          "output_type": "stream",
          "text": [
            "8 Training on replay instances...\n"
          ]
        },
        {
          "name": "stderr",
          "output_type": "stream",
          "text": [
            " 8 Policy gradient...: 100%|██████████| 10/10 [00:38<00:00,  3.83s/it]\n",
            "Generating molecules...: 100%|██████████| 50/50 [00:08<00:00,  5.98it/s]\n"
          ]
        },
        {
          "name": "stdout",
          "output_type": "stream",
          "text": [
            "9 Training on replay instances...\n"
          ]
        },
        {
          "name": "stderr",
          "output_type": "stream",
          "text": [
            " 9 Policy gradient...: 100%|██████████| 10/10 [00:38<00:00,  3.83s/it]\n",
            "Generating molecules...: 100%|██████████| 50/50 [00:08<00:00,  5.99it/s]\n"
          ]
        },
        {
          "name": "stdout",
          "output_type": "stream",
          "text": [
            "10 Training on replay instances...\n"
          ]
        },
        {
          "name": "stderr",
          "output_type": "stream",
          "text": [
            " 10 Policy gradient...: 100%|██████████| 10/10 [00:39<00:00,  3.90s/it]\n",
            "Generating molecules...: 100%|██████████| 50/50 [00:08<00:00,  5.98it/s]\n"
          ]
        },
        {
          "name": "stdout",
          "output_type": "stream",
          "text": [
            "11 Training on replay instances...\n"
          ]
        },
        {
          "name": "stderr",
          "output_type": "stream",
          "text": [
            " 11 Policy gradient...: 100%|██████████| 10/10 [00:38<00:00,  3.86s/it]\n",
            "Generating molecules...: 100%|██████████| 50/50 [00:08<00:00,  5.97it/s]\n"
          ]
        },
        {
          "name": "stdout",
          "output_type": "stream",
          "text": [
            "12 Training on replay instances...\n"
          ]
        },
        {
          "name": "stderr",
          "output_type": "stream",
          "text": [
            " 12 Policy gradient...: 100%|██████████| 10/10 [00:39<00:00,  3.94s/it]\n",
            "Generating molecules...: 100%|██████████| 50/50 [00:08<00:00,  5.96it/s]\n"
          ]
        },
        {
          "name": "stdout",
          "output_type": "stream",
          "text": [
            "13 Training on replay instances...\n"
          ]
        },
        {
          "name": "stderr",
          "output_type": "stream",
          "text": [
            " 13 Policy gradient...: 100%|██████████| 10/10 [00:36<00:00,  3.63s/it]\n",
            "Generating molecules...: 100%|██████████| 50/50 [00:08<00:00,  5.94it/s]\n"
          ]
        },
        {
          "name": "stdout",
          "output_type": "stream",
          "text": [
            "14 Training on replay instances...\n"
          ]
        },
        {
          "name": "stderr",
          "output_type": "stream",
          "text": [
            " 14 Policy gradient...: 100%|██████████| 10/10 [00:39<00:00,  3.93s/it]\n",
            "Generating molecules...: 100%|██████████| 50/50 [00:08<00:00,  5.97it/s]\n"
          ]
        },
        {
          "name": "stdout",
          "output_type": "stream",
          "text": [
            "15 Training on replay instances...\n"
          ]
        },
        {
          "name": "stderr",
          "output_type": "stream",
          "text": [
            " 15 Policy gradient...: 100%|██████████| 10/10 [00:38<00:00,  3.89s/it]\n",
            "Generating molecules...: 100%|██████████| 50/50 [00:08<00:00,  5.89it/s]\n"
          ]
        },
        {
          "name": "stdout",
          "output_type": "stream",
          "text": [
            "16 Training on replay instances...\n"
          ]
        },
        {
          "name": "stderr",
          "output_type": "stream",
          "text": [
            " 16 Policy gradient...: 100%|██████████| 10/10 [00:39<00:00,  3.90s/it]\n",
            "Generating molecules...: 100%|██████████| 50/50 [00:08<00:00,  5.82it/s]\n"
          ]
        },
        {
          "name": "stdout",
          "output_type": "stream",
          "text": [
            "17 Training on replay instances...\n"
          ]
        },
        {
          "name": "stderr",
          "output_type": "stream",
          "text": [
            " 17 Policy gradient...: 100%|██████████| 10/10 [00:38<00:00,  3.81s/it]\n",
            "Generating molecules...: 100%|██████████| 50/50 [00:08<00:00,  5.90it/s]\n"
          ]
        },
        {
          "name": "stdout",
          "output_type": "stream",
          "text": [
            "18 Training on replay instances...\n"
          ]
        },
        {
          "name": "stderr",
          "output_type": "stream",
          "text": [
            " 18 Policy gradient...: 100%|██████████| 10/10 [00:38<00:00,  3.81s/it]\n",
            "Generating molecules...: 100%|██████████| 50/50 [00:08<00:00,  5.92it/s]\n"
          ]
        },
        {
          "name": "stdout",
          "output_type": "stream",
          "text": [
            "19 Training on replay instances...\n"
          ]
        },
        {
          "name": "stderr",
          "output_type": "stream",
          "text": [
            " 19 Policy gradient...: 100%|██████████| 10/10 [00:38<00:00,  3.87s/it]\n",
            "Generating molecules...: 100%|██████████| 50/50 [00:08<00:00,  5.92it/s]\n"
          ]
        },
        {
          "name": "stdout",
          "output_type": "stream",
          "text": [
            "20 Training on replay instances...\n"
          ]
        },
        {
          "name": "stderr",
          "output_type": "stream",
          "text": [
            " 20 Policy gradient...: 100%|██████████| 10/10 [00:38<00:00,  3.87s/it]\n",
            "Generating molecules...: 100%|██████████| 50/50 [00:08<00:00,  5.90it/s]\n"
          ]
        },
        {
          "name": "stdout",
          "output_type": "stream",
          "text": [
            "21 Training on replay instances...\n"
          ]
        },
        {
          "name": "stderr",
          "output_type": "stream",
          "text": [
            " 21 Policy gradient...: 100%|██████████| 10/10 [00:38<00:00,  3.88s/it]\n",
            "Generating molecules...: 100%|██████████| 50/50 [00:08<00:00,  5.94it/s]\n"
          ]
        },
        {
          "name": "stdout",
          "output_type": "stream",
          "text": [
            "22 Training on replay instances...\n"
          ]
        },
        {
          "name": "stderr",
          "output_type": "stream",
          "text": [
            " 22 Policy gradient...: 100%|██████████| 10/10 [00:38<00:00,  3.86s/it]\n",
            "Generating molecules...: 100%|██████████| 50/50 [00:08<00:00,  5.93it/s]\n"
          ]
        },
        {
          "name": "stdout",
          "output_type": "stream",
          "text": [
            "23 Training on replay instances...\n"
          ]
        },
        {
          "name": "stderr",
          "output_type": "stream",
          "text": [
            " 23 Policy gradient...: 100%|██████████| 10/10 [00:38<00:00,  3.80s/it]\n",
            "Generating molecules...: 100%|██████████| 50/50 [00:08<00:00,  5.90it/s]\n"
          ]
        },
        {
          "name": "stdout",
          "output_type": "stream",
          "text": [
            "24 Training on replay instances...\n"
          ]
        },
        {
          "name": "stderr",
          "output_type": "stream",
          "text": [
            " 24 Policy gradient...: 100%|██████████| 10/10 [00:37<00:00,  3.74s/it]\n",
            "Generating molecules...: 100%|██████████| 50/50 [00:08<00:00,  5.85it/s]\n"
          ]
        },
        {
          "name": "stdout",
          "output_type": "stream",
          "text": [
            "25 Training on replay instances...\n"
          ]
        },
        {
          "name": "stderr",
          "output_type": "stream",
          "text": [
            " 25 Policy gradient...: 100%|██████████| 10/10 [00:39<00:00,  3.93s/it]\n",
            "Generating molecules...: 100%|██████████| 50/50 [00:08<00:00,  5.86it/s]\n"
          ]
        },
        {
          "name": "stdout",
          "output_type": "stream",
          "text": [
            "26 Training on replay instances...\n"
          ]
        },
        {
          "name": "stderr",
          "output_type": "stream",
          "text": [
            " 26 Policy gradient...: 100%|██████████| 10/10 [00:38<00:00,  3.84s/it]\n",
            "Generating molecules...: 100%|██████████| 50/50 [00:08<00:00,  5.81it/s]\n"
          ]
        },
        {
          "name": "stdout",
          "output_type": "stream",
          "text": [
            "27 Training on replay instances...\n"
          ]
        },
        {
          "name": "stderr",
          "output_type": "stream",
          "text": [
            " 27 Policy gradient...: 100%|██████████| 10/10 [00:38<00:00,  3.90s/it]\n",
            "Generating molecules...: 100%|██████████| 50/50 [00:08<00:00,  5.88it/s]\n"
          ]
        },
        {
          "name": "stdout",
          "output_type": "stream",
          "text": [
            "28 Training on replay instances...\n"
          ]
        },
        {
          "name": "stderr",
          "output_type": "stream",
          "text": [
            " 28 Policy gradient...: 100%|██████████| 10/10 [00:40<00:00,  4.00s/it]\n",
            "Generating molecules...: 100%|██████████| 50/50 [00:08<00:00,  5.82it/s]\n"
          ]
        },
        {
          "name": "stdout",
          "output_type": "stream",
          "text": [
            "29 Training on replay instances...\n"
          ]
        },
        {
          "name": "stderr",
          "output_type": "stream",
          "text": [
            " 29 Policy gradient...: 100%|██████████| 10/10 [00:38<00:00,  3.82s/it]\n",
            "Generating molecules...: 100%|██████████| 50/50 [00:08<00:00,  5.80it/s]\n"
          ]
        },
        {
          "name": "stdout",
          "output_type": "stream",
          "text": [
            "30 Training on replay instances...\n"
          ]
        },
        {
          "name": "stderr",
          "output_type": "stream",
          "text": [
            " 30 Policy gradient...: 100%|██████████| 10/10 [00:38<00:00,  3.85s/it]\n",
            "Generating molecules...: 100%|██████████| 50/50 [00:08<00:00,  5.86it/s]\n"
          ]
        },
        {
          "name": "stdout",
          "output_type": "stream",
          "text": [
            "31 Training on replay instances...\n"
          ]
        },
        {
          "name": "stderr",
          "output_type": "stream",
          "text": [
            " 31 Policy gradient...: 100%|██████████| 10/10 [00:38<00:00,  3.88s/it]\n",
            "Generating molecules...: 100%|██████████| 50/50 [00:08<00:00,  5.87it/s]\n"
          ]
        },
        {
          "name": "stdout",
          "output_type": "stream",
          "text": [
            "32 Training on replay instances...\n"
          ]
        },
        {
          "name": "stderr",
          "output_type": "stream",
          "text": [
            " 32 Policy gradient...: 100%|██████████| 10/10 [00:37<00:00,  3.73s/it]\n",
            "Generating molecules...: 100%|██████████| 50/50 [00:08<00:00,  5.90it/s]\n"
          ]
        },
        {
          "name": "stdout",
          "output_type": "stream",
          "text": [
            "33 Training on replay instances...\n"
          ]
        },
        {
          "name": "stderr",
          "output_type": "stream",
          "text": [
            " 33 Policy gradient...: 100%|██████████| 10/10 [00:38<00:00,  3.85s/it]\n",
            "Generating molecules...: 100%|██████████| 50/50 [00:08<00:00,  5.82it/s]\n"
          ]
        },
        {
          "name": "stdout",
          "output_type": "stream",
          "text": [
            "34 Training on replay instances...\n"
          ]
        },
        {
          "name": "stderr",
          "output_type": "stream",
          "text": [
            " 34 Policy gradient...: 100%|██████████| 10/10 [00:39<00:00,  3.90s/it]\n",
            "Generating molecules...: 100%|██████████| 50/50 [00:08<00:00,  5.85it/s]\n"
          ]
        },
        {
          "name": "stdout",
          "output_type": "stream",
          "text": [
            "35 Training on replay instances...\n"
          ]
        },
        {
          "name": "stderr",
          "output_type": "stream",
          "text": [
            " 35 Policy gradient...: 100%|██████████| 10/10 [00:39<00:00,  3.90s/it]\n",
            "Generating molecules...: 100%|██████████| 50/50 [00:08<00:00,  5.84it/s]\n"
          ]
        },
        {
          "name": "stdout",
          "output_type": "stream",
          "text": [
            "36 Training on replay instances...\n"
          ]
        },
        {
          "name": "stderr",
          "output_type": "stream",
          "text": [
            " 36 Policy gradient...: 100%|██████████| 10/10 [00:39<00:00,  3.94s/it]\n",
            "Generating molecules...: 100%|██████████| 50/50 [00:08<00:00,  5.82it/s]\n"
          ]
        },
        {
          "name": "stdout",
          "output_type": "stream",
          "text": [
            "37 Training on replay instances...\n"
          ]
        },
        {
          "name": "stderr",
          "output_type": "stream",
          "text": [
            " 37 Policy gradient...: 100%|██████████| 10/10 [00:39<00:00,  3.93s/it]\n",
            "Generating molecules...: 100%|██████████| 50/50 [00:08<00:00,  5.82it/s]\n"
          ]
        },
        {
          "name": "stdout",
          "output_type": "stream",
          "text": [
            "38 Training on replay instances...\n"
          ]
        },
        {
          "name": "stderr",
          "output_type": "stream",
          "text": [
            " 38 Policy gradient...: 100%|██████████| 10/10 [00:39<00:00,  3.96s/it]\n",
            "Generating molecules...: 100%|██████████| 50/50 [00:08<00:00,  5.80it/s]\n"
          ]
        },
        {
          "name": "stdout",
          "output_type": "stream",
          "text": [
            "39 Training on replay instances...\n"
          ]
        },
        {
          "name": "stderr",
          "output_type": "stream",
          "text": [
            " 39 Policy gradient...: 100%|██████████| 10/10 [00:38<00:00,  3.80s/it]\n",
            "Generating molecules...: 100%|██████████| 50/50 [00:08<00:00,  5.79it/s]\n"
          ]
        },
        {
          "name": "stdout",
          "output_type": "stream",
          "text": [
            "40 Training on replay instances...\n"
          ]
        },
        {
          "name": "stderr",
          "output_type": "stream",
          "text": [
            " 40 Policy gradient...: 100%|██████████| 10/10 [00:38<00:00,  3.87s/it]\n",
            "Generating molecules...: 100%|██████████| 50/50 [00:08<00:00,  5.78it/s]\n"
          ]
        },
        {
          "name": "stdout",
          "output_type": "stream",
          "text": [
            "41 Training on replay instances...\n"
          ]
        },
        {
          "name": "stderr",
          "output_type": "stream",
          "text": [
            " 41 Policy gradient...: 100%|██████████| 10/10 [00:39<00:00,  3.92s/it]\n",
            "Generating molecules...: 100%|██████████| 50/50 [00:08<00:00,  5.72it/s]\n"
          ]
        },
        {
          "name": "stdout",
          "output_type": "stream",
          "text": [
            "42 Training on replay instances...\n"
          ]
        },
        {
          "name": "stderr",
          "output_type": "stream",
          "text": [
            " 42 Policy gradient...: 100%|██████████| 10/10 [00:37<00:00,  3.74s/it]\n",
            "Generating molecules...: 100%|██████████| 50/50 [00:08<00:00,  5.77it/s]\n"
          ]
        },
        {
          "name": "stdout",
          "output_type": "stream",
          "text": [
            "43 Training on replay instances...\n"
          ]
        },
        {
          "name": "stderr",
          "output_type": "stream",
          "text": [
            " 43 Policy gradient...: 100%|██████████| 10/10 [00:38<00:00,  3.80s/it]\n",
            "Generating molecules...: 100%|██████████| 50/50 [00:08<00:00,  5.79it/s]\n"
          ]
        },
        {
          "name": "stdout",
          "output_type": "stream",
          "text": [
            "44 Training on replay instances...\n"
          ]
        },
        {
          "name": "stderr",
          "output_type": "stream",
          "text": [
            " 44 Policy gradient...: 100%|██████████| 10/10 [00:37<00:00,  3.78s/it]\n",
            "Generating molecules...: 100%|██████████| 50/50 [00:08<00:00,  5.78it/s]\n"
          ]
        },
        {
          "name": "stdout",
          "output_type": "stream",
          "text": [
            "45 Training on replay instances...\n"
          ]
        },
        {
          "name": "stderr",
          "output_type": "stream",
          "text": [
            " 45 Policy gradient...: 100%|██████████| 10/10 [00:38<00:00,  3.89s/it]\n",
            "Generating molecules...: 100%|██████████| 50/50 [00:08<00:00,  5.81it/s]\n"
          ]
        },
        {
          "name": "stdout",
          "output_type": "stream",
          "text": [
            "46 Training on replay instances...\n"
          ]
        },
        {
          "name": "stderr",
          "output_type": "stream",
          "text": [
            " 46 Policy gradient...: 100%|██████████| 10/10 [00:39<00:00,  3.98s/it]\n",
            "Generating molecules...: 100%|██████████| 50/50 [00:08<00:00,  5.78it/s]\n"
          ]
        },
        {
          "name": "stdout",
          "output_type": "stream",
          "text": [
            "47 Training on replay instances...\n"
          ]
        },
        {
          "name": "stderr",
          "output_type": "stream",
          "text": [
            " 47 Policy gradient...: 100%|██████████| 10/10 [00:38<00:00,  3.85s/it]\n",
            "Generating molecules...: 100%|██████████| 50/50 [00:08<00:00,  5.77it/s]\n"
          ]
        },
        {
          "name": "stdout",
          "output_type": "stream",
          "text": [
            "48 Training on replay instances...\n"
          ]
        },
        {
          "name": "stderr",
          "output_type": "stream",
          "text": [
            " 48 Policy gradient...: 100%|██████████| 10/10 [00:38<00:00,  3.87s/it]\n",
            "Generating molecules...: 100%|██████████| 50/50 [00:08<00:00,  5.82it/s]\n"
          ]
        },
        {
          "name": "stdout",
          "output_type": "stream",
          "text": [
            "49 Training on replay instances...\n"
          ]
        },
        {
          "name": "stderr",
          "output_type": "stream",
          "text": [
            " 49 Policy gradient...: 100%|██████████| 10/10 [00:36<00:00,  3.69s/it]\n",
            "Generating molecules...: 100%|██████████| 50/50 [00:08<00:00,  5.77it/s]\n"
          ]
        },
        {
          "name": "stdout",
          "output_type": "stream",
          "text": [
            "50 Training on replay instances...\n"
          ]
        },
        {
          "name": "stderr",
          "output_type": "stream",
          "text": [
            " 50 Policy gradient...: 100%|██████████| 10/10 [00:37<00:00,  3.75s/it]\n",
            "Generating molecules...: 100%|██████████| 50/50 [00:08<00:00,  5.80it/s]\n"
          ]
        },
        {
          "name": "stdout",
          "output_type": "stream",
          "text": [
            "51 Training on replay instances...\n"
          ]
        },
        {
          "name": "stderr",
          "output_type": "stream",
          "text": [
            " 51 Policy gradient...: 100%|██████████| 10/10 [00:39<00:00,  3.92s/it]\n",
            "Generating molecules...: 100%|██████████| 50/50 [00:08<00:00,  5.79it/s]\n"
          ]
        },
        {
          "name": "stdout",
          "output_type": "stream",
          "text": [
            "52 Training on replay instances...\n"
          ]
        },
        {
          "name": "stderr",
          "output_type": "stream",
          "text": [
            " 52 Policy gradient...: 100%|██████████| 10/10 [00:37<00:00,  3.79s/it]\n",
            "Generating molecules...: 100%|██████████| 50/50 [00:08<00:00,  5.79it/s]\n"
          ]
        },
        {
          "name": "stdout",
          "output_type": "stream",
          "text": [
            "53 Training on replay instances...\n"
          ]
        },
        {
          "name": "stderr",
          "output_type": "stream",
          "text": [
            " 53 Policy gradient...: 100%|██████████| 10/10 [00:37<00:00,  3.78s/it]\n",
            "Generating molecules...: 100%|██████████| 50/50 [00:08<00:00,  5.75it/s]\n"
          ]
        },
        {
          "name": "stdout",
          "output_type": "stream",
          "text": [
            "54 Training on replay instances...\n"
          ]
        },
        {
          "name": "stderr",
          "output_type": "stream",
          "text": [
            " 54 Policy gradient...: 100%|██████████| 10/10 [00:39<00:00,  3.96s/it]\n",
            "Generating molecules...: 100%|██████████| 50/50 [00:08<00:00,  5.74it/s]\n"
          ]
        },
        {
          "name": "stdout",
          "output_type": "stream",
          "text": [
            "55 Training on replay instances...\n"
          ]
        },
        {
          "name": "stderr",
          "output_type": "stream",
          "text": [
            " 55 Policy gradient...: 100%|██████████| 10/10 [00:38<00:00,  3.87s/it]\n",
            "Generating molecules...: 100%|██████████| 50/50 [00:08<00:00,  5.78it/s]\n"
          ]
        },
        {
          "name": "stdout",
          "output_type": "stream",
          "text": [
            "56 Training on replay instances...\n"
          ]
        },
        {
          "name": "stderr",
          "output_type": "stream",
          "text": [
            " 56 Policy gradient...: 100%|██████████| 10/10 [00:37<00:00,  3.75s/it]\n",
            "Generating molecules...: 100%|██████████| 50/50 [00:08<00:00,  5.77it/s]\n"
          ]
        },
        {
          "name": "stdout",
          "output_type": "stream",
          "text": [
            "57 Training on replay instances...\n"
          ]
        },
        {
          "name": "stderr",
          "output_type": "stream",
          "text": [
            " 57 Policy gradient...: 100%|██████████| 10/10 [00:39<00:00,  3.96s/it]\n",
            "Generating molecules...: 100%|██████████| 50/50 [00:08<00:00,  5.75it/s]\n"
          ]
        },
        {
          "name": "stdout",
          "output_type": "stream",
          "text": [
            "58 Training on replay instances...\n"
          ]
        },
        {
          "name": "stderr",
          "output_type": "stream",
          "text": [
            " 58 Policy gradient...: 100%|██████████| 10/10 [00:38<00:00,  3.85s/it]\n",
            "Generating molecules...: 100%|██████████| 50/50 [00:08<00:00,  5.79it/s]\n"
          ]
        },
        {
          "name": "stdout",
          "output_type": "stream",
          "text": [
            "59 Training on replay instances...\n"
          ]
        },
        {
          "name": "stderr",
          "output_type": "stream",
          "text": [
            " 59 Policy gradient...: 100%|██████████| 10/10 [00:40<00:00,  4.02s/it]\n",
            "Generating molecules...: 100%|██████████| 50/50 [00:08<00:00,  5.80it/s]\n"
          ]
        },
        {
          "name": "stdout",
          "output_type": "stream",
          "text": [
            "60 Training on replay instances...\n"
          ]
        },
        {
          "name": "stderr",
          "output_type": "stream",
          "text": [
            " 60 Policy gradient...: 100%|██████████| 10/10 [00:40<00:00,  4.02s/it]\n",
            "Generating molecules...: 100%|██████████| 50/50 [00:09<00:00,  5.34it/s]\n"
          ]
        },
        {
          "name": "stdout",
          "output_type": "stream",
          "text": [
            "61 Training on replay instances...\n"
          ]
        },
        {
          "name": "stderr",
          "output_type": "stream",
          "text": [
            " 61 Policy gradient...: 100%|██████████| 10/10 [00:39<00:00,  3.91s/it]\n",
            "Generating molecules...: 100%|██████████| 50/50 [00:08<00:00,  5.73it/s]\n"
          ]
        },
        {
          "name": "stdout",
          "output_type": "stream",
          "text": [
            "62 Training on replay instances...\n"
          ]
        },
        {
          "name": "stderr",
          "output_type": "stream",
          "text": [
            " 62 Policy gradient...: 100%|██████████| 10/10 [00:39<00:00,  3.94s/it]\n",
            "Generating molecules...: 100%|██████████| 50/50 [00:08<00:00,  5.74it/s]\n"
          ]
        },
        {
          "name": "stdout",
          "output_type": "stream",
          "text": [
            "63 Training on replay instances...\n"
          ]
        },
        {
          "name": "stderr",
          "output_type": "stream",
          "text": [
            " 63 Policy gradient...: 100%|██████████| 10/10 [00:38<00:00,  3.83s/it]\n",
            "Generating molecules...: 100%|██████████| 50/50 [00:08<00:00,  5.75it/s]\n"
          ]
        },
        {
          "name": "stdout",
          "output_type": "stream",
          "text": [
            "64 Training on replay instances...\n"
          ]
        },
        {
          "name": "stderr",
          "output_type": "stream",
          "text": [
            " 64 Policy gradient...: 100%|██████████| 10/10 [00:39<00:00,  3.93s/it]\n",
            "Generating molecules...: 100%|██████████| 50/50 [00:08<00:00,  5.79it/s]\n"
          ]
        },
        {
          "name": "stdout",
          "output_type": "stream",
          "text": [
            "65 Training on replay instances...\n"
          ]
        },
        {
          "name": "stderr",
          "output_type": "stream",
          "text": [
            " 65 Policy gradient...: 100%|██████████| 10/10 [00:40<00:00,  4.03s/it]\n",
            "Generating molecules...: 100%|██████████| 50/50 [00:08<00:00,  5.77it/s]\n"
          ]
        },
        {
          "name": "stdout",
          "output_type": "stream",
          "text": [
            "66 Training on replay instances...\n"
          ]
        },
        {
          "name": "stderr",
          "output_type": "stream",
          "text": [
            " 66 Policy gradient...: 100%|██████████| 10/10 [00:39<00:00,  3.98s/it]\n",
            "Generating molecules...: 100%|██████████| 50/50 [00:08<00:00,  5.70it/s]\n"
          ]
        },
        {
          "name": "stdout",
          "output_type": "stream",
          "text": [
            "67 Training on replay instances...\n"
          ]
        },
        {
          "name": "stderr",
          "output_type": "stream",
          "text": [
            " 67 Policy gradient...: 100%|██████████| 10/10 [00:40<00:00,  4.06s/it]\n",
            "Generating molecules...: 100%|██████████| 50/50 [00:08<00:00,  5.76it/s]\n"
          ]
        },
        {
          "name": "stdout",
          "output_type": "stream",
          "text": [
            "68 Training on replay instances...\n"
          ]
        },
        {
          "name": "stderr",
          "output_type": "stream",
          "text": [
            " 68 Policy gradient...: 100%|██████████| 10/10 [00:40<00:00,  4.10s/it]\n",
            "Generating molecules...: 100%|██████████| 50/50 [00:08<00:00,  5.74it/s]\n"
          ]
        },
        {
          "name": "stdout",
          "output_type": "stream",
          "text": [
            "69 Training on replay instances...\n"
          ]
        },
        {
          "name": "stderr",
          "output_type": "stream",
          "text": [
            " 69 Policy gradient...: 100%|██████████| 10/10 [00:41<00:00,  4.15s/it]\n",
            "Generating molecules...: 100%|██████████| 50/50 [00:08<00:00,  5.75it/s]\n"
          ]
        },
        {
          "name": "stdout",
          "output_type": "stream",
          "text": [
            "70 Training on replay instances...\n"
          ]
        },
        {
          "name": "stderr",
          "output_type": "stream",
          "text": [
            " 70 Policy gradient...: 100%|██████████| 10/10 [00:42<00:00,  4.27s/it]\n",
            "Generating molecules...: 100%|██████████| 50/50 [00:08<00:00,  5.77it/s]\n"
          ]
        },
        {
          "name": "stdout",
          "output_type": "stream",
          "text": [
            "71 Training on replay instances...\n"
          ]
        },
        {
          "name": "stderr",
          "output_type": "stream",
          "text": [
            " 71 Policy gradient...: 100%|██████████| 10/10 [00:42<00:00,  4.27s/it]\n",
            "Generating molecules...: 100%|██████████| 50/50 [00:08<00:00,  5.71it/s]\n"
          ]
        },
        {
          "name": "stdout",
          "output_type": "stream",
          "text": [
            "72 Training on replay instances...\n"
          ]
        },
        {
          "name": "stderr",
          "output_type": "stream",
          "text": [
            " 72 Policy gradient...: 100%|██████████| 10/10 [00:41<00:00,  4.19s/it]\n",
            "Generating molecules...: 100%|██████████| 50/50 [00:08<00:00,  5.69it/s]\n"
          ]
        },
        {
          "name": "stdout",
          "output_type": "stream",
          "text": [
            "73 Training on replay instances...\n"
          ]
        },
        {
          "name": "stderr",
          "output_type": "stream",
          "text": [
            " 73 Policy gradient...: 100%|██████████| 10/10 [00:40<00:00,  4.07s/it]\n",
            "Generating molecules...: 100%|██████████| 50/50 [00:08<00:00,  5.69it/s]\n"
          ]
        },
        {
          "name": "stdout",
          "output_type": "stream",
          "text": [
            "74 Training on replay instances...\n"
          ]
        },
        {
          "name": "stderr",
          "output_type": "stream",
          "text": [
            " 74 Policy gradient...: 100%|██████████| 10/10 [00:40<00:00,  4.06s/it]\n",
            "Generating molecules...: 100%|██████████| 50/50 [00:08<00:00,  5.68it/s]\n"
          ]
        },
        {
          "name": "stdout",
          "output_type": "stream",
          "text": [
            "75 Training on replay instances...\n"
          ]
        },
        {
          "name": "stderr",
          "output_type": "stream",
          "text": [
            " 75 Policy gradient...: 100%|██████████| 10/10 [00:41<00:00,  4.15s/it]\n",
            "Generating molecules...: 100%|██████████| 50/50 [00:08<00:00,  5.71it/s]\n"
          ]
        },
        {
          "name": "stdout",
          "output_type": "stream",
          "text": [
            "76 Training on replay instances...\n"
          ]
        },
        {
          "name": "stderr",
          "output_type": "stream",
          "text": [
            " 76 Policy gradient...: 100%|██████████| 10/10 [00:42<00:00,  4.29s/it]\n",
            "Generating molecules...: 100%|██████████| 50/50 [00:08<00:00,  5.74it/s]\n"
          ]
        },
        {
          "name": "stdout",
          "output_type": "stream",
          "text": [
            "77 Training on replay instances...\n"
          ]
        },
        {
          "name": "stderr",
          "output_type": "stream",
          "text": [
            " 77 Policy gradient...: 100%|██████████| 10/10 [00:41<00:00,  4.12s/it]\n",
            "Generating molecules...: 100%|██████████| 50/50 [00:08<00:00,  5.75it/s]\n"
          ]
        },
        {
          "name": "stdout",
          "output_type": "stream",
          "text": [
            "78 Training on replay instances...\n"
          ]
        },
        {
          "name": "stderr",
          "output_type": "stream",
          "text": [
            " 78 Policy gradient...: 100%|██████████| 10/10 [00:42<00:00,  4.30s/it]\n",
            "Generating molecules...: 100%|██████████| 50/50 [00:08<00:00,  5.69it/s]\n"
          ]
        },
        {
          "name": "stdout",
          "output_type": "stream",
          "text": [
            "79 Training on replay instances...\n"
          ]
        },
        {
          "name": "stderr",
          "output_type": "stream",
          "text": [
            " 79 Policy gradient...: 100%|██████████| 10/10 [00:40<00:00,  4.02s/it]\n",
            "Generating molecules...: 100%|██████████| 50/50 [00:08<00:00,  5.67it/s]\n"
          ]
        },
        {
          "name": "stdout",
          "output_type": "stream",
          "text": [
            "80 Training on replay instances...\n"
          ]
        },
        {
          "name": "stderr",
          "output_type": "stream",
          "text": [
            " 80 Policy gradient...: 100%|██████████| 10/10 [00:39<00:00,  3.99s/it]\n",
            "Generating molecules...: 100%|██████████| 50/50 [00:08<00:00,  5.68it/s]\n"
          ]
        },
        {
          "name": "stdout",
          "output_type": "stream",
          "text": [
            "81 Training on replay instances...\n"
          ]
        },
        {
          "name": "stderr",
          "output_type": "stream",
          "text": [
            " 81 Policy gradient...: 100%|██████████| 10/10 [00:38<00:00,  3.86s/it]\n",
            "Generating molecules...: 100%|██████████| 50/50 [00:08<00:00,  5.68it/s]\n"
          ]
        },
        {
          "name": "stdout",
          "output_type": "stream",
          "text": [
            "82 Training on replay instances...\n"
          ]
        },
        {
          "name": "stderr",
          "output_type": "stream",
          "text": [
            " 82 Policy gradient...: 100%|██████████| 10/10 [00:40<00:00,  4.03s/it]\n",
            "Generating molecules...: 100%|██████████| 50/50 [00:08<00:00,  5.70it/s]\n"
          ]
        },
        {
          "name": "stdout",
          "output_type": "stream",
          "text": [
            "83 Training on replay instances...\n"
          ]
        },
        {
          "name": "stderr",
          "output_type": "stream",
          "text": [
            " 83 Policy gradient...: 100%|██████████| 10/10 [00:39<00:00,  3.99s/it]\n",
            "Generating molecules...: 100%|██████████| 50/50 [00:08<00:00,  5.66it/s]\n"
          ]
        },
        {
          "name": "stdout",
          "output_type": "stream",
          "text": [
            "84 Training on replay instances...\n"
          ]
        },
        {
          "name": "stderr",
          "output_type": "stream",
          "text": [
            " 84 Policy gradient...: 100%|██████████| 10/10 [00:39<00:00,  3.93s/it]\n",
            "Generating molecules...: 100%|██████████| 50/50 [00:08<00:00,  5.70it/s]\n"
          ]
        },
        {
          "name": "stdout",
          "output_type": "stream",
          "text": [
            "85 Training on replay instances...\n"
          ]
        },
        {
          "name": "stderr",
          "output_type": "stream",
          "text": [
            " 85 Policy gradient...: 100%|██████████| 10/10 [00:37<00:00,  3.80s/it]\n",
            "Generating molecules...: 100%|██████████| 50/50 [00:08<00:00,  5.72it/s]\n"
          ]
        },
        {
          "name": "stdout",
          "output_type": "stream",
          "text": [
            "86 Training on replay instances...\n"
          ]
        },
        {
          "name": "stderr",
          "output_type": "stream",
          "text": [
            " 86 Policy gradient...: 100%|██████████| 10/10 [00:38<00:00,  3.84s/it]\n",
            "Generating molecules...: 100%|██████████| 50/50 [00:08<00:00,  5.66it/s]\n"
          ]
        },
        {
          "name": "stdout",
          "output_type": "stream",
          "text": [
            "87 Training on replay instances...\n"
          ]
        },
        {
          "name": "stderr",
          "output_type": "stream",
          "text": [
            " 87 Policy gradient...: 100%|██████████| 10/10 [00:38<00:00,  3.81s/it]\n",
            "Generating molecules...: 100%|██████████| 50/50 [00:08<00:00,  5.70it/s]\n"
          ]
        },
        {
          "name": "stdout",
          "output_type": "stream",
          "text": [
            "88 Training on replay instances...\n"
          ]
        },
        {
          "name": "stderr",
          "output_type": "stream",
          "text": [
            " 88 Policy gradient...: 100%|██████████| 10/10 [00:37<00:00,  3.80s/it]\n",
            "Generating molecules...: 100%|██████████| 50/50 [00:08<00:00,  5.69it/s]\n"
          ]
        },
        {
          "name": "stdout",
          "output_type": "stream",
          "text": [
            "89 Training on replay instances...\n"
          ]
        },
        {
          "name": "stderr",
          "output_type": "stream",
          "text": [
            " 89 Policy gradient...: 100%|██████████| 10/10 [00:38<00:00,  3.87s/it]\n",
            "Generating molecules...: 100%|██████████| 50/50 [00:08<00:00,  5.69it/s]\n"
          ]
        },
        {
          "name": "stdout",
          "output_type": "stream",
          "text": [
            "90 Training on replay instances...\n"
          ]
        },
        {
          "name": "stderr",
          "output_type": "stream",
          "text": [
            " 90 Policy gradient...: 100%|██████████| 10/10 [00:38<00:00,  3.89s/it]\n",
            "Generating molecules...: 100%|██████████| 50/50 [00:08<00:00,  5.67it/s]\n"
          ]
        },
        {
          "name": "stdout",
          "output_type": "stream",
          "text": [
            "91 Training on replay instances...\n"
          ]
        },
        {
          "name": "stderr",
          "output_type": "stream",
          "text": [
            " 91 Policy gradient...: 100%|██████████| 10/10 [00:38<00:00,  3.83s/it]\n",
            "Generating molecules...: 100%|██████████| 50/50 [00:08<00:00,  5.72it/s]\n"
          ]
        },
        {
          "name": "stdout",
          "output_type": "stream",
          "text": [
            "92 Training on replay instances...\n"
          ]
        },
        {
          "name": "stderr",
          "output_type": "stream",
          "text": [
            " 92 Policy gradient...: 100%|██████████| 10/10 [00:39<00:00,  3.96s/it]\n",
            "Generating molecules...: 100%|██████████| 50/50 [00:08<00:00,  5.73it/s]\n"
          ]
        },
        {
          "name": "stdout",
          "output_type": "stream",
          "text": [
            "93 Training on replay instances...\n"
          ]
        },
        {
          "name": "stderr",
          "output_type": "stream",
          "text": [
            " 93 Policy gradient...: 100%|██████████| 10/10 [00:37<00:00,  3.77s/it]\n",
            "Generating molecules...: 100%|██████████| 50/50 [00:08<00:00,  5.74it/s]\n"
          ]
        },
        {
          "name": "stdout",
          "output_type": "stream",
          "text": [
            "94 Training on replay instances...\n"
          ]
        },
        {
          "name": "stderr",
          "output_type": "stream",
          "text": [
            " 94 Policy gradient...: 100%|██████████| 10/10 [00:37<00:00,  3.77s/it]\n",
            "Generating molecules...: 100%|██████████| 50/50 [00:08<00:00,  5.71it/s]\n"
          ]
        },
        {
          "name": "stdout",
          "output_type": "stream",
          "text": [
            "95 Training on replay instances...\n"
          ]
        },
        {
          "name": "stderr",
          "output_type": "stream",
          "text": [
            " 95 Policy gradient...: 100%|██████████| 10/10 [00:38<00:00,  3.90s/it]\n",
            "Generating molecules...: 100%|██████████| 50/50 [00:08<00:00,  5.72it/s]\n"
          ]
        },
        {
          "name": "stdout",
          "output_type": "stream",
          "text": [
            "96 Training on replay instances...\n"
          ]
        },
        {
          "name": "stderr",
          "output_type": "stream",
          "text": [
            " 96 Policy gradient...: 100%|██████████| 10/10 [00:39<00:00,  3.94s/it]\n",
            "Generating molecules...: 100%|██████████| 50/50 [00:08<00:00,  5.70it/s]\n"
          ]
        },
        {
          "name": "stdout",
          "output_type": "stream",
          "text": [
            "97 Training on replay instances...\n"
          ]
        },
        {
          "name": "stderr",
          "output_type": "stream",
          "text": [
            " 97 Policy gradient...: 100%|██████████| 10/10 [00:39<00:00,  3.97s/it]\n",
            "Generating molecules...: 100%|██████████| 50/50 [00:08<00:00,  5.65it/s]\n"
          ]
        },
        {
          "name": "stdout",
          "output_type": "stream",
          "text": [
            "98 Training on replay instances...\n"
          ]
        },
        {
          "name": "stderr",
          "output_type": "stream",
          "text": [
            " 98 Policy gradient...: 100%|██████████| 10/10 [00:38<00:00,  3.89s/it]\n",
            "Generating molecules...: 100%|██████████| 50/50 [00:08<00:00,  5.69it/s]\n"
          ]
        },
        {
          "name": "stdout",
          "output_type": "stream",
          "text": [
            "99 Training on replay instances...\n"
          ]
        },
        {
          "name": "stderr",
          "output_type": "stream",
          "text": [
            " 99 Policy gradient...: 100%|██████████| 10/10 [00:38<00:00,  3.84s/it]\n",
            "Generating molecules...: 100%|██████████| 50/50 [00:08<00:00,  5.71it/s]\n"
          ]
        },
        {
          "name": "stdout",
          "output_type": "stream",
          "text": [
            "100 Training on replay instances...\n"
          ]
        },
        {
          "name": "stderr",
          "output_type": "stream",
          "text": [
            " 100 Policy gradient...: 100%|██████████| 10/10 [00:37<00:00,  3.74s/it]\n",
            "Generating molecules...: 100%|██████████| 50/50 [00:08<00:00,  5.72it/s]\n"
          ]
        },
        {
          "name": "stdout",
          "output_type": "stream",
          "text": [
            "101 Training on replay instances...\n"
          ]
        },
        {
          "name": "stderr",
          "output_type": "stream",
          "text": [
            " 101 Policy gradient...: 100%|██████████| 10/10 [00:38<00:00,  3.88s/it]\n",
            "Generating molecules...: 100%|██████████| 50/50 [00:08<00:00,  5.75it/s]\n"
          ]
        },
        {
          "name": "stdout",
          "output_type": "stream",
          "text": [
            "102 Training on replay instances...\n"
          ]
        },
        {
          "name": "stderr",
          "output_type": "stream",
          "text": [
            " 102 Policy gradient...: 100%|██████████| 10/10 [00:39<00:00,  3.99s/it]\n",
            "Generating molecules...: 100%|██████████| 50/50 [00:08<00:00,  5.68it/s]\n"
          ]
        },
        {
          "name": "stdout",
          "output_type": "stream",
          "text": [
            "103 Training on replay instances...\n"
          ]
        },
        {
          "name": "stderr",
          "output_type": "stream",
          "text": [
            " 103 Policy gradient...: 100%|██████████| 10/10 [00:38<00:00,  3.81s/it]\n",
            "Generating molecules...: 100%|██████████| 50/50 [00:08<00:00,  5.72it/s]\n"
          ]
        },
        {
          "name": "stdout",
          "output_type": "stream",
          "text": [
            "104 Training on replay instances...\n"
          ]
        },
        {
          "name": "stderr",
          "output_type": "stream",
          "text": [
            " 104 Policy gradient...: 100%|██████████| 10/10 [00:38<00:00,  3.86s/it]\n",
            "Generating molecules...: 100%|██████████| 50/50 [00:08<00:00,  5.73it/s]\n"
          ]
        },
        {
          "name": "stdout",
          "output_type": "stream",
          "text": [
            "105 Training on replay instances...\n"
          ]
        },
        {
          "name": "stderr",
          "output_type": "stream",
          "text": [
            " 105 Policy gradient...: 100%|██████████| 10/10 [00:40<00:00,  4.01s/it]\n",
            "Generating molecules...: 100%|██████████| 50/50 [00:08<00:00,  5.75it/s]\n"
          ]
        },
        {
          "name": "stdout",
          "output_type": "stream",
          "text": [
            "106 Training on replay instances...\n"
          ]
        },
        {
          "name": "stderr",
          "output_type": "stream",
          "text": [
            " 106 Policy gradient...: 100%|██████████| 10/10 [00:40<00:00,  4.00s/it]\n",
            "Generating molecules...: 100%|██████████| 50/50 [00:08<00:00,  5.72it/s]\n"
          ]
        },
        {
          "name": "stdout",
          "output_type": "stream",
          "text": [
            "107 Training on replay instances...\n"
          ]
        },
        {
          "name": "stderr",
          "output_type": "stream",
          "text": [
            " 107 Policy gradient...: 100%|██████████| 10/10 [00:41<00:00,  4.20s/it]\n",
            "Generating molecules...: 100%|██████████| 50/50 [00:08<00:00,  5.63it/s]\n"
          ]
        },
        {
          "name": "stdout",
          "output_type": "stream",
          "text": [
            "108 Training on replay instances...\n"
          ]
        },
        {
          "name": "stderr",
          "output_type": "stream",
          "text": [
            " 108 Policy gradient...: 100%|██████████| 10/10 [00:38<00:00,  3.87s/it]\n",
            "Generating molecules...: 100%|██████████| 50/50 [00:08<00:00,  5.70it/s]\n"
          ]
        },
        {
          "name": "stdout",
          "output_type": "stream",
          "text": [
            "109 Training on replay instances...\n"
          ]
        },
        {
          "name": "stderr",
          "output_type": "stream",
          "text": [
            " 109 Policy gradient...: 100%|██████████| 10/10 [00:39<00:00,  4.00s/it]\n",
            "Generating molecules...: 100%|██████████| 50/50 [00:08<00:00,  5.70it/s]\n"
          ]
        },
        {
          "name": "stdout",
          "output_type": "stream",
          "text": [
            "110 Training on replay instances...\n"
          ]
        },
        {
          "name": "stderr",
          "output_type": "stream",
          "text": [
            " 110 Policy gradient...: 100%|██████████| 10/10 [00:39<00:00,  3.91s/it]\n",
            "Generating molecules...: 100%|██████████| 50/50 [00:08<00:00,  5.71it/s]\n"
          ]
        },
        {
          "name": "stdout",
          "output_type": "stream",
          "text": [
            "111 Training on replay instances...\n"
          ]
        },
        {
          "name": "stderr",
          "output_type": "stream",
          "text": [
            " 111 Policy gradient...: 100%|██████████| 10/10 [00:40<00:00,  4.00s/it]\n",
            "Generating molecules...: 100%|██████████| 50/50 [00:08<00:00,  5.71it/s]\n"
          ]
        },
        {
          "name": "stdout",
          "output_type": "stream",
          "text": [
            "112 Training on replay instances...\n"
          ]
        },
        {
          "name": "stderr",
          "output_type": "stream",
          "text": [
            " 112 Policy gradient...: 100%|██████████| 10/10 [00:39<00:00,  3.95s/it]\n",
            "Generating molecules...: 100%|██████████| 50/50 [00:08<00:00,  5.67it/s]\n"
          ]
        },
        {
          "name": "stdout",
          "output_type": "stream",
          "text": [
            "113 Training on replay instances...\n"
          ]
        },
        {
          "name": "stderr",
          "output_type": "stream",
          "text": [
            " 113 Policy gradient...: 100%|██████████| 10/10 [00:39<00:00,  3.94s/it]\n",
            "Generating molecules...: 100%|██████████| 50/50 [00:08<00:00,  5.71it/s]\n"
          ]
        },
        {
          "name": "stdout",
          "output_type": "stream",
          "text": [
            "114 Training on replay instances...\n"
          ]
        },
        {
          "name": "stderr",
          "output_type": "stream",
          "text": [
            " 114 Policy gradient...: 100%|██████████| 10/10 [00:38<00:00,  3.87s/it]\n",
            "Generating molecules...: 100%|██████████| 50/50 [00:08<00:00,  5.74it/s]\n"
          ]
        },
        {
          "name": "stdout",
          "output_type": "stream",
          "text": [
            "115 Training on replay instances...\n"
          ]
        },
        {
          "name": "stderr",
          "output_type": "stream",
          "text": [
            " 115 Policy gradient...: 100%|██████████| 10/10 [00:39<00:00,  3.96s/it]\n",
            "Generating molecules...: 100%|██████████| 50/50 [00:08<00:00,  5.74it/s]\n"
          ]
        },
        {
          "name": "stdout",
          "output_type": "stream",
          "text": [
            "116 Training on replay instances...\n"
          ]
        },
        {
          "name": "stderr",
          "output_type": "stream",
          "text": [
            " 116 Policy gradient...: 100%|██████████| 10/10 [00:39<00:00,  3.94s/it]\n",
            "Generating molecules...: 100%|██████████| 50/50 [00:08<00:00,  5.75it/s]\n"
          ]
        },
        {
          "name": "stdout",
          "output_type": "stream",
          "text": [
            "117 Training on replay instances...\n"
          ]
        },
        {
          "name": "stderr",
          "output_type": "stream",
          "text": [
            " 117 Policy gradient...: 100%|██████████| 10/10 [00:40<00:00,  4.03s/it]\n",
            "Generating molecules...: 100%|██████████| 50/50 [00:08<00:00,  5.72it/s]\n"
          ]
        },
        {
          "name": "stdout",
          "output_type": "stream",
          "text": [
            "118 Training on replay instances...\n"
          ]
        },
        {
          "name": "stderr",
          "output_type": "stream",
          "text": [
            " 118 Policy gradient...: 100%|██████████| 10/10 [00:40<00:00,  4.06s/it]\n",
            "Generating molecules...: 100%|██████████| 50/50 [00:08<00:00,  5.75it/s]\n"
          ]
        },
        {
          "name": "stdout",
          "output_type": "stream",
          "text": [
            "119 Training on replay instances...\n"
          ]
        },
        {
          "name": "stderr",
          "output_type": "stream",
          "text": [
            " 119 Policy gradient...: 100%|██████████| 10/10 [00:40<00:00,  4.02s/it]\n",
            "Generating molecules...: 100%|██████████| 50/50 [00:08<00:00,  5.74it/s]\n"
          ]
        },
        {
          "name": "stdout",
          "output_type": "stream",
          "text": [
            "120 Training on replay instances...\n"
          ]
        },
        {
          "name": "stderr",
          "output_type": "stream",
          "text": [
            " 120 Policy gradient...: 100%|██████████| 10/10 [00:39<00:00,  3.94s/it]\n",
            "Generating molecules...: 100%|██████████| 50/50 [00:08<00:00,  5.74it/s]\n"
          ]
        },
        {
          "name": "stdout",
          "output_type": "stream",
          "text": [
            "121 Training on replay instances...\n"
          ]
        },
        {
          "name": "stderr",
          "output_type": "stream",
          "text": [
            " 121 Policy gradient...: 100%|██████████| 10/10 [00:38<00:00,  3.90s/it]\n",
            "Generating molecules...: 100%|██████████| 50/50 [00:08<00:00,  5.75it/s]\n"
          ]
        },
        {
          "name": "stdout",
          "output_type": "stream",
          "text": [
            "122 Training on replay instances...\n"
          ]
        },
        {
          "name": "stderr",
          "output_type": "stream",
          "text": [
            " 122 Policy gradient...: 100%|██████████| 10/10 [00:40<00:00,  4.02s/it]\n",
            "Generating molecules...: 100%|██████████| 50/50 [00:08<00:00,  5.73it/s]\n"
          ]
        },
        {
          "name": "stdout",
          "output_type": "stream",
          "text": [
            "123 Training on replay instances...\n"
          ]
        },
        {
          "name": "stderr",
          "output_type": "stream",
          "text": [
            " 123 Policy gradient...: 100%|██████████| 10/10 [00:39<00:00,  3.92s/it]\n",
            "Generating molecules...: 100%|██████████| 50/50 [00:08<00:00,  5.74it/s]\n"
          ]
        },
        {
          "name": "stdout",
          "output_type": "stream",
          "text": [
            "124 Training on replay instances...\n"
          ]
        },
        {
          "name": "stderr",
          "output_type": "stream",
          "text": [
            " 124 Policy gradient...: 100%|██████████| 10/10 [00:39<00:00,  3.99s/it]\n",
            "Generating molecules...: 100%|██████████| 50/50 [00:08<00:00,  5.70it/s]\n"
          ]
        },
        {
          "name": "stdout",
          "output_type": "stream",
          "text": [
            "125 Training on replay instances...\n"
          ]
        },
        {
          "name": "stderr",
          "output_type": "stream",
          "text": [
            " 125 Policy gradient...: 100%|██████████| 10/10 [00:38<00:00,  3.89s/it]\n",
            "Generating molecules...: 100%|██████████| 50/50 [00:08<00:00,  5.73it/s]\n"
          ]
        },
        {
          "name": "stdout",
          "output_type": "stream",
          "text": [
            "126 Training on replay instances...\n"
          ]
        },
        {
          "name": "stderr",
          "output_type": "stream",
          "text": [
            " 126 Policy gradient...: 100%|██████████| 10/10 [00:40<00:00,  4.09s/it]\n",
            "Generating molecules...: 100%|██████████| 50/50 [00:08<00:00,  5.76it/s]\n"
          ]
        },
        {
          "name": "stdout",
          "output_type": "stream",
          "text": [
            "127 Training on replay instances...\n"
          ]
        },
        {
          "name": "stderr",
          "output_type": "stream",
          "text": [
            " 127 Policy gradient...: 100%|██████████| 10/10 [00:39<00:00,  3.94s/it]\n",
            "Generating molecules...: 100%|██████████| 50/50 [00:08<00:00,  5.72it/s]\n"
          ]
        },
        {
          "name": "stdout",
          "output_type": "stream",
          "text": [
            "128 Training on replay instances...\n"
          ]
        },
        {
          "name": "stderr",
          "output_type": "stream",
          "text": [
            " 128 Policy gradient...: 100%|██████████| 10/10 [00:39<00:00,  3.93s/it]\n",
            "Generating molecules...: 100%|██████████| 50/50 [00:08<00:00,  5.74it/s]\n"
          ]
        },
        {
          "name": "stdout",
          "output_type": "stream",
          "text": [
            "129 Training on replay instances...\n"
          ]
        },
        {
          "name": "stderr",
          "output_type": "stream",
          "text": [
            " 129 Policy gradient...: 100%|██████████| 10/10 [00:39<00:00,  3.90s/it]\n",
            "Generating molecules...: 100%|██████████| 50/50 [00:08<00:00,  5.70it/s]\n"
          ]
        },
        {
          "name": "stdout",
          "output_type": "stream",
          "text": [
            "130 Training on replay instances...\n"
          ]
        },
        {
          "name": "stderr",
          "output_type": "stream",
          "text": [
            " 130 Policy gradient...: 100%|██████████| 10/10 [00:39<00:00,  3.94s/it]\n",
            "Generating molecules...: 100%|██████████| 50/50 [00:08<00:00,  5.73it/s]\n"
          ]
        },
        {
          "name": "stdout",
          "output_type": "stream",
          "text": [
            "131 Training on replay instances...\n"
          ]
        },
        {
          "name": "stderr",
          "output_type": "stream",
          "text": [
            " 131 Policy gradient...: 100%|██████████| 10/10 [00:40<00:00,  4.07s/it]\n",
            "Generating molecules...: 100%|██████████| 50/50 [00:08<00:00,  5.74it/s]\n"
          ]
        },
        {
          "name": "stdout",
          "output_type": "stream",
          "text": [
            "132 Training on replay instances...\n"
          ]
        },
        {
          "name": "stderr",
          "output_type": "stream",
          "text": [
            " 132 Policy gradient...: 100%|██████████| 10/10 [00:39<00:00,  3.90s/it]\n",
            "Generating molecules...: 100%|██████████| 50/50 [00:08<00:00,  5.71it/s]\n"
          ]
        },
        {
          "name": "stdout",
          "output_type": "stream",
          "text": [
            "133 Training on replay instances...\n"
          ]
        },
        {
          "name": "stderr",
          "output_type": "stream",
          "text": [
            " 133 Policy gradient...: 100%|██████████| 10/10 [00:38<00:00,  3.84s/it]\n",
            "Generating molecules...: 100%|██████████| 50/50 [00:08<00:00,  5.78it/s]\n"
          ]
        },
        {
          "name": "stdout",
          "output_type": "stream",
          "text": [
            "134 Training on replay instances...\n"
          ]
        },
        {
          "name": "stderr",
          "output_type": "stream",
          "text": [
            " 134 Policy gradient...: 100%|██████████| 10/10 [00:38<00:00,  3.87s/it]\n",
            "Generating molecules...: 100%|██████████| 50/50 [00:08<00:00,  5.73it/s]\n"
          ]
        },
        {
          "name": "stdout",
          "output_type": "stream",
          "text": [
            "135 Training on replay instances...\n"
          ]
        },
        {
          "name": "stderr",
          "output_type": "stream",
          "text": [
            " 135 Policy gradient...: 100%|██████████| 10/10 [00:38<00:00,  3.89s/it]\n",
            "Generating molecules...: 100%|██████████| 50/50 [00:08<00:00,  5.77it/s]\n"
          ]
        },
        {
          "name": "stdout",
          "output_type": "stream",
          "text": [
            "136 Training on replay instances...\n"
          ]
        },
        {
          "name": "stderr",
          "output_type": "stream",
          "text": [
            " 136 Policy gradient...: 100%|██████████| 10/10 [00:37<00:00,  3.75s/it]\n",
            "Generating molecules...: 100%|██████████| 50/50 [00:08<00:00,  5.80it/s]\n"
          ]
        },
        {
          "name": "stdout",
          "output_type": "stream",
          "text": [
            "137 Training on replay instances...\n"
          ]
        },
        {
          "name": "stderr",
          "output_type": "stream",
          "text": [
            " 137 Policy gradient...: 100%|██████████| 10/10 [00:39<00:00,  3.96s/it]\n",
            "Generating molecules...: 100%|██████████| 50/50 [00:08<00:00,  5.73it/s]\n"
          ]
        },
        {
          "name": "stdout",
          "output_type": "stream",
          "text": [
            "138 Training on replay instances...\n"
          ]
        },
        {
          "name": "stderr",
          "output_type": "stream",
          "text": [
            " 138 Policy gradient...: 100%|██████████| 10/10 [00:37<00:00,  3.73s/it]\n",
            "Generating molecules...: 100%|██████████| 50/50 [00:08<00:00,  5.71it/s]\n"
          ]
        },
        {
          "name": "stdout",
          "output_type": "stream",
          "text": [
            "139 Training on replay instances...\n"
          ]
        },
        {
          "name": "stderr",
          "output_type": "stream",
          "text": [
            " 139 Policy gradient...: 100%|██████████| 10/10 [00:37<00:00,  3.71s/it]\n",
            "Generating molecules...: 100%|██████████| 50/50 [00:08<00:00,  5.66it/s]\n"
          ]
        },
        {
          "name": "stdout",
          "output_type": "stream",
          "text": [
            "140 Training on replay instances...\n"
          ]
        },
        {
          "name": "stderr",
          "output_type": "stream",
          "text": [
            " 140 Policy gradient...: 100%|██████████| 10/10 [00:38<00:00,  3.87s/it]\n",
            "Generating molecules...: 100%|██████████| 50/50 [00:08<00:00,  5.75it/s]\n"
          ]
        },
        {
          "name": "stdout",
          "output_type": "stream",
          "text": [
            "141 Training on replay instances...\n"
          ]
        },
        {
          "name": "stderr",
          "output_type": "stream",
          "text": [
            " 141 Policy gradient...: 100%|██████████| 10/10 [00:37<00:00,  3.79s/it]\n",
            "Generating molecules...: 100%|██████████| 50/50 [00:08<00:00,  5.68it/s]\n"
          ]
        },
        {
          "name": "stdout",
          "output_type": "stream",
          "text": [
            "142 Training on replay instances...\n"
          ]
        },
        {
          "name": "stderr",
          "output_type": "stream",
          "text": [
            " 142 Policy gradient...: 100%|██████████| 10/10 [00:39<00:00,  3.91s/it]\n",
            "Generating molecules...: 100%|██████████| 50/50 [00:08<00:00,  5.73it/s]\n"
          ]
        },
        {
          "name": "stdout",
          "output_type": "stream",
          "text": [
            "143 Training on replay instances...\n"
          ]
        },
        {
          "name": "stderr",
          "output_type": "stream",
          "text": [
            " 143 Policy gradient...: 100%|██████████| 10/10 [00:37<00:00,  3.80s/it]\n",
            "Generating molecules...: 100%|██████████| 50/50 [00:08<00:00,  5.72it/s]\n"
          ]
        },
        {
          "name": "stdout",
          "output_type": "stream",
          "text": [
            "144 Training on replay instances...\n"
          ]
        },
        {
          "name": "stderr",
          "output_type": "stream",
          "text": [
            " 144 Policy gradient...: 100%|██████████| 10/10 [00:37<00:00,  3.77s/it]\n",
            "Generating molecules...: 100%|██████████| 50/50 [00:10<00:00,  4.90it/s]\n"
          ]
        },
        {
          "name": "stdout",
          "output_type": "stream",
          "text": [
            "145 Training on replay instances...\n"
          ]
        },
        {
          "name": "stderr",
          "output_type": "stream",
          "text": [
            " 145 Policy gradient...: 100%|██████████| 10/10 [00:39<00:00,  3.94s/it]\n",
            "Generating molecules...: 100%|██████████| 50/50 [00:08<00:00,  5.76it/s]\n"
          ]
        },
        {
          "name": "stdout",
          "output_type": "stream",
          "text": [
            "146 Training on replay instances...\n"
          ]
        },
        {
          "name": "stderr",
          "output_type": "stream",
          "text": [
            " 146 Policy gradient...: 100%|██████████| 10/10 [00:38<00:00,  3.81s/it]\n",
            "Generating molecules...: 100%|██████████| 50/50 [00:08<00:00,  5.79it/s]\n"
          ]
        },
        {
          "name": "stdout",
          "output_type": "stream",
          "text": [
            "147 Training on replay instances...\n"
          ]
        },
        {
          "name": "stderr",
          "output_type": "stream",
          "text": [
            " 147 Policy gradient...: 100%|██████████| 10/10 [00:38<00:00,  3.84s/it]\n",
            "Generating molecules...: 100%|██████████| 50/50 [00:08<00:00,  5.72it/s]\n"
          ]
        },
        {
          "name": "stdout",
          "output_type": "stream",
          "text": [
            "148 Training on replay instances...\n"
          ]
        },
        {
          "name": "stderr",
          "output_type": "stream",
          "text": [
            " 148 Policy gradient...: 100%|██████████| 10/10 [00:38<00:00,  3.86s/it]\n",
            "Generating molecules...: 100%|██████████| 50/50 [00:08<00:00,  5.76it/s]\n"
          ]
        },
        {
          "name": "stdout",
          "output_type": "stream",
          "text": [
            "149 Training on replay instances...\n"
          ]
        },
        {
          "name": "stderr",
          "output_type": "stream",
          "text": [
            " 149 Policy gradient...: 100%|██████████| 10/10 [00:38<00:00,  3.82s/it]\n",
            "Generating molecules...: 100%|██████████| 50/50 [00:08<00:00,  5.73it/s]\n"
          ]
        },
        {
          "name": "stdout",
          "output_type": "stream",
          "text": [
            "150 Training on replay instances...\n"
          ]
        },
        {
          "name": "stderr",
          "output_type": "stream",
          "text": [
            " 150 Policy gradient...: 100%|██████████| 10/10 [00:37<00:00,  3.70s/it]\n",
            "Generating molecules...: 100%|██████████| 50/50 [00:08<00:00,  5.69it/s]\n"
          ]
        },
        {
          "name": "stdout",
          "output_type": "stream",
          "text": [
            "151 Training on replay instances...\n"
          ]
        },
        {
          "name": "stderr",
          "output_type": "stream",
          "text": [
            " 151 Policy gradient...: 100%|██████████| 10/10 [00:38<00:00,  3.84s/it]\n",
            "Generating molecules...: 100%|██████████| 50/50 [00:08<00:00,  5.79it/s]\n"
          ]
        },
        {
          "name": "stdout",
          "output_type": "stream",
          "text": [
            "152 Training on replay instances...\n"
          ]
        },
        {
          "name": "stderr",
          "output_type": "stream",
          "text": [
            " 152 Policy gradient...: 100%|██████████| 10/10 [00:39<00:00,  3.93s/it]\n",
            "Generating molecules...: 100%|██████████| 50/50 [00:08<00:00,  5.73it/s]\n"
          ]
        },
        {
          "name": "stdout",
          "output_type": "stream",
          "text": [
            "153 Training on replay instances...\n"
          ]
        },
        {
          "name": "stderr",
          "output_type": "stream",
          "text": [
            " 153 Policy gradient...: 100%|██████████| 10/10 [00:36<00:00,  3.68s/it]\n",
            "Generating molecules...: 100%|██████████| 50/50 [00:08<00:00,  5.73it/s]\n"
          ]
        },
        {
          "name": "stdout",
          "output_type": "stream",
          "text": [
            "154 Training on replay instances...\n"
          ]
        },
        {
          "name": "stderr",
          "output_type": "stream",
          "text": [
            " 154 Policy gradient...: 100%|██████████| 10/10 [00:37<00:00,  3.75s/it]\n",
            "Generating molecules...: 100%|██████████| 50/50 [00:08<00:00,  5.74it/s]\n"
          ]
        },
        {
          "name": "stdout",
          "output_type": "stream",
          "text": [
            "155 Training on replay instances...\n"
          ]
        },
        {
          "name": "stderr",
          "output_type": "stream",
          "text": [
            " 155 Policy gradient...: 100%|██████████| 10/10 [00:38<00:00,  3.83s/it]\n",
            "Generating molecules...: 100%|██████████| 50/50 [00:08<00:00,  5.75it/s]\n"
          ]
        },
        {
          "name": "stdout",
          "output_type": "stream",
          "text": [
            "156 Training on replay instances...\n"
          ]
        },
        {
          "name": "stderr",
          "output_type": "stream",
          "text": [
            " 156 Policy gradient...: 100%|██████████| 10/10 [00:38<00:00,  3.86s/it]\n",
            "Generating molecules...: 100%|██████████| 50/50 [00:08<00:00,  5.81it/s]\n"
          ]
        },
        {
          "name": "stdout",
          "output_type": "stream",
          "text": [
            "157 Training on replay instances...\n"
          ]
        },
        {
          "name": "stderr",
          "output_type": "stream",
          "text": [
            " 157 Policy gradient...: 100%|██████████| 10/10 [00:38<00:00,  3.85s/it]\n",
            "Generating molecules...: 100%|██████████| 50/50 [00:08<00:00,  5.78it/s]\n"
          ]
        },
        {
          "name": "stdout",
          "output_type": "stream",
          "text": [
            "158 Training on replay instances...\n"
          ]
        },
        {
          "name": "stderr",
          "output_type": "stream",
          "text": [
            " 158 Policy gradient...: 100%|██████████| 10/10 [00:37<00:00,  3.77s/it]\n",
            "Generating molecules...: 100%|██████████| 50/50 [00:08<00:00,  5.74it/s]\n"
          ]
        },
        {
          "name": "stdout",
          "output_type": "stream",
          "text": [
            "159 Training on replay instances...\n"
          ]
        },
        {
          "name": "stderr",
          "output_type": "stream",
          "text": [
            " 159 Policy gradient...: 100%|██████████| 10/10 [00:36<00:00,  3.69s/it]\n",
            "Generating molecules...: 100%|██████████| 50/50 [00:08<00:00,  5.71it/s]\n"
          ]
        },
        {
          "name": "stdout",
          "output_type": "stream",
          "text": [
            "160 Training on replay instances...\n"
          ]
        },
        {
          "name": "stderr",
          "output_type": "stream",
          "text": [
            " 160 Policy gradient...: 100%|██████████| 10/10 [00:39<00:00,  3.95s/it]\n",
            "Generating molecules...: 100%|██████████| 50/50 [00:08<00:00,  5.72it/s]\n"
          ]
        },
        {
          "name": "stdout",
          "output_type": "stream",
          "text": [
            "161 Training on replay instances...\n"
          ]
        },
        {
          "name": "stderr",
          "output_type": "stream",
          "text": [
            " 161 Policy gradient...: 100%|██████████| 10/10 [00:38<00:00,  3.85s/it]\n",
            "Generating molecules...: 100%|██████████| 50/50 [00:08<00:00,  5.76it/s]\n"
          ]
        },
        {
          "name": "stdout",
          "output_type": "stream",
          "text": [
            "162 Training on replay instances...\n"
          ]
        },
        {
          "name": "stderr",
          "output_type": "stream",
          "text": [
            " 162 Policy gradient...: 100%|██████████| 10/10 [00:38<00:00,  3.80s/it]\n",
            "Generating molecules...: 100%|██████████| 50/50 [00:08<00:00,  5.70it/s]\n"
          ]
        },
        {
          "name": "stdout",
          "output_type": "stream",
          "text": [
            "163 Training on replay instances...\n"
          ]
        },
        {
          "name": "stderr",
          "output_type": "stream",
          "text": [
            " 163 Policy gradient...: 100%|██████████| 10/10 [00:37<00:00,  3.76s/it]\n",
            "Generating molecules...: 100%|██████████| 50/50 [00:08<00:00,  5.70it/s]\n"
          ]
        },
        {
          "name": "stdout",
          "output_type": "stream",
          "text": [
            "164 Training on replay instances...\n"
          ]
        },
        {
          "name": "stderr",
          "output_type": "stream",
          "text": [
            " 164 Policy gradient...: 100%|██████████| 10/10 [00:38<00:00,  3.84s/it]\n",
            "Generating molecules...: 100%|██████████| 50/50 [00:08<00:00,  5.74it/s]\n"
          ]
        },
        {
          "name": "stdout",
          "output_type": "stream",
          "text": [
            "165 Training on replay instances...\n"
          ]
        },
        {
          "name": "stderr",
          "output_type": "stream",
          "text": [
            " 165 Policy gradient...: 100%|██████████| 10/10 [00:37<00:00,  3.76s/it]\n",
            "Generating molecules...: 100%|██████████| 50/50 [00:08<00:00,  5.78it/s]\n"
          ]
        },
        {
          "name": "stdout",
          "output_type": "stream",
          "text": [
            "166 Training on replay instances...\n"
          ]
        },
        {
          "name": "stderr",
          "output_type": "stream",
          "text": [
            " 166 Policy gradient...: 100%|██████████| 10/10 [00:36<00:00,  3.65s/it]\n",
            "Generating molecules...: 100%|██████████| 50/50 [00:08<00:00,  5.73it/s]\n"
          ]
        },
        {
          "name": "stdout",
          "output_type": "stream",
          "text": [
            "167 Training on replay instances...\n"
          ]
        },
        {
          "name": "stderr",
          "output_type": "stream",
          "text": [
            " 167 Policy gradient...: 100%|██████████| 10/10 [00:39<00:00,  3.93s/it]\n",
            "Generating molecules...: 100%|██████████| 50/50 [00:08<00:00,  5.75it/s]\n"
          ]
        },
        {
          "name": "stdout",
          "output_type": "stream",
          "text": [
            "168 Training on replay instances...\n"
          ]
        },
        {
          "name": "stderr",
          "output_type": "stream",
          "text": [
            " 168 Policy gradient...: 100%|██████████| 10/10 [00:41<00:00,  4.11s/it]\n",
            "Generating molecules...: 100%|██████████| 50/50 [00:08<00:00,  5.74it/s]\n"
          ]
        },
        {
          "name": "stdout",
          "output_type": "stream",
          "text": [
            "169 Training on replay instances...\n"
          ]
        },
        {
          "name": "stderr",
          "output_type": "stream",
          "text": [
            " 169 Policy gradient...: 100%|██████████| 10/10 [00:38<00:00,  3.84s/it]\n",
            "Generating molecules...: 100%|██████████| 50/50 [00:08<00:00,  5.76it/s]\n"
          ]
        },
        {
          "name": "stdout",
          "output_type": "stream",
          "text": [
            "170 Training on replay instances...\n"
          ]
        },
        {
          "name": "stderr",
          "output_type": "stream",
          "text": [
            " 170 Policy gradient...: 100%|██████████| 10/10 [00:37<00:00,  3.74s/it]\n",
            "Generating molecules...: 100%|██████████| 50/50 [00:08<00:00,  5.75it/s]\n"
          ]
        },
        {
          "name": "stdout",
          "output_type": "stream",
          "text": [
            "171 Training on replay instances...\n"
          ]
        },
        {
          "name": "stderr",
          "output_type": "stream",
          "text": [
            " 171 Policy gradient...: 100%|██████████| 10/10 [00:39<00:00,  3.91s/it]\n",
            "Generating molecules...: 100%|██████████| 50/50 [00:08<00:00,  5.73it/s]\n"
          ]
        },
        {
          "name": "stdout",
          "output_type": "stream",
          "text": [
            "172 Training on replay instances...\n"
          ]
        },
        {
          "name": "stderr",
          "output_type": "stream",
          "text": [
            " 172 Policy gradient...: 100%|██████████| 10/10 [00:38<00:00,  3.81s/it]\n",
            "Generating molecules...: 100%|██████████| 50/50 [00:08<00:00,  5.79it/s]\n"
          ]
        },
        {
          "name": "stdout",
          "output_type": "stream",
          "text": [
            "173 Training on replay instances...\n"
          ]
        },
        {
          "name": "stderr",
          "output_type": "stream",
          "text": [
            " 173 Policy gradient...: 100%|██████████| 10/10 [00:38<00:00,  3.83s/it]\n",
            "Generating molecules...: 100%|██████████| 50/50 [00:08<00:00,  5.73it/s]\n"
          ]
        },
        {
          "name": "stdout",
          "output_type": "stream",
          "text": [
            "174 Training on replay instances...\n"
          ]
        },
        {
          "name": "stderr",
          "output_type": "stream",
          "text": [
            " 174 Policy gradient...: 100%|██████████| 10/10 [00:38<00:00,  3.81s/it]\n",
            "Generating molecules...: 100%|██████████| 50/50 [00:08<00:00,  5.72it/s]\n"
          ]
        },
        {
          "name": "stdout",
          "output_type": "stream",
          "text": [
            "175 Training on replay instances...\n"
          ]
        },
        {
          "name": "stderr",
          "output_type": "stream",
          "text": [
            " 175 Policy gradient...: 100%|██████████| 10/10 [00:38<00:00,  3.88s/it]\n",
            "Generating molecules...: 100%|██████████| 50/50 [00:08<00:00,  5.77it/s]\n"
          ]
        },
        {
          "name": "stdout",
          "output_type": "stream",
          "text": [
            "176 Training on replay instances...\n"
          ]
        },
        {
          "name": "stderr",
          "output_type": "stream",
          "text": [
            " 176 Policy gradient...: 100%|██████████| 10/10 [00:41<00:00,  4.10s/it]\n",
            "Generating molecules...: 100%|██████████| 50/50 [00:08<00:00,  5.74it/s]\n"
          ]
        },
        {
          "name": "stdout",
          "output_type": "stream",
          "text": [
            "177 Training on replay instances...\n"
          ]
        },
        {
          "name": "stderr",
          "output_type": "stream",
          "text": [
            " 177 Policy gradient...: 100%|██████████| 10/10 [00:37<00:00,  3.79s/it]\n",
            "Generating molecules...: 100%|██████████| 50/50 [00:08<00:00,  5.70it/s]\n"
          ]
        },
        {
          "name": "stdout",
          "output_type": "stream",
          "text": [
            "178 Training on replay instances...\n"
          ]
        },
        {
          "name": "stderr",
          "output_type": "stream",
          "text": [
            " 178 Policy gradient...: 100%|██████████| 10/10 [00:38<00:00,  3.83s/it]\n",
            "Generating molecules...: 100%|██████████| 50/50 [00:08<00:00,  5.75it/s]\n"
          ]
        },
        {
          "name": "stdout",
          "output_type": "stream",
          "text": [
            "179 Training on replay instances...\n"
          ]
        },
        {
          "name": "stderr",
          "output_type": "stream",
          "text": [
            " 179 Policy gradient...: 100%|██████████| 10/10 [00:38<00:00,  3.86s/it]\n",
            "Generating molecules...: 100%|██████████| 50/50 [00:08<00:00,  5.77it/s]\n"
          ]
        },
        {
          "name": "stdout",
          "output_type": "stream",
          "text": [
            "180 Training on replay instances...\n"
          ]
        },
        {
          "name": "stderr",
          "output_type": "stream",
          "text": [
            " 180 Policy gradient...: 100%|██████████| 10/10 [00:37<00:00,  3.73s/it]\n",
            "Generating molecules...: 100%|██████████| 50/50 [00:08<00:00,  5.81it/s]\n"
          ]
        },
        {
          "name": "stdout",
          "output_type": "stream",
          "text": [
            "181 Training on replay instances...\n"
          ]
        },
        {
          "name": "stderr",
          "output_type": "stream",
          "text": [
            " 181 Policy gradient...: 100%|██████████| 10/10 [00:38<00:00,  3.88s/it]\n",
            "Generating molecules...: 100%|██████████| 50/50 [00:08<00:00,  5.77it/s]\n"
          ]
        },
        {
          "name": "stdout",
          "output_type": "stream",
          "text": [
            "182 Training on replay instances...\n"
          ]
        },
        {
          "name": "stderr",
          "output_type": "stream",
          "text": [
            " 182 Policy gradient...: 100%|██████████| 10/10 [00:38<00:00,  3.82s/it]\n",
            "Generating molecules...: 100%|██████████| 50/50 [00:08<00:00,  5.79it/s]\n"
          ]
        },
        {
          "name": "stdout",
          "output_type": "stream",
          "text": [
            "183 Training on replay instances...\n"
          ]
        },
        {
          "name": "stderr",
          "output_type": "stream",
          "text": [
            " 183 Policy gradient...: 100%|██████████| 10/10 [00:38<00:00,  3.85s/it]\n",
            "Generating molecules...: 100%|██████████| 50/50 [00:08<00:00,  5.75it/s]\n"
          ]
        },
        {
          "name": "stdout",
          "output_type": "stream",
          "text": [
            "184 Training on replay instances...\n"
          ]
        },
        {
          "name": "stderr",
          "output_type": "stream",
          "text": [
            " 184 Policy gradient...: 100%|██████████| 10/10 [00:38<00:00,  3.87s/it]\n",
            "Generating molecules...: 100%|██████████| 50/50 [00:08<00:00,  5.73it/s]\n"
          ]
        },
        {
          "name": "stdout",
          "output_type": "stream",
          "text": [
            "185 Training on replay instances...\n"
          ]
        },
        {
          "name": "stderr",
          "output_type": "stream",
          "text": [
            " 185 Policy gradient...: 100%|██████████| 10/10 [00:41<00:00,  4.13s/it]\n",
            "Generating molecules...: 100%|██████████| 50/50 [00:08<00:00,  5.72it/s]\n"
          ]
        },
        {
          "name": "stdout",
          "output_type": "stream",
          "text": [
            "186 Training on replay instances...\n"
          ]
        },
        {
          "name": "stderr",
          "output_type": "stream",
          "text": [
            " 186 Policy gradient...: 100%|██████████| 10/10 [00:37<00:00,  3.73s/it]\n",
            "Generating molecules...: 100%|██████████| 50/50 [00:08<00:00,  5.68it/s]\n"
          ]
        },
        {
          "name": "stdout",
          "output_type": "stream",
          "text": [
            "187 Training on replay instances...\n"
          ]
        },
        {
          "name": "stderr",
          "output_type": "stream",
          "text": [
            " 187 Policy gradient...: 100%|██████████| 10/10 [00:38<00:00,  3.81s/it]\n",
            "Generating molecules...: 100%|██████████| 50/50 [00:08<00:00,  5.76it/s]\n"
          ]
        },
        {
          "name": "stdout",
          "output_type": "stream",
          "text": [
            "188 Training on replay instances...\n"
          ]
        },
        {
          "name": "stderr",
          "output_type": "stream",
          "text": [
            " 188 Policy gradient...: 100%|██████████| 10/10 [00:37<00:00,  3.79s/it]\n",
            "Generating molecules...: 100%|██████████| 50/50 [00:08<00:00,  5.76it/s]\n"
          ]
        },
        {
          "name": "stdout",
          "output_type": "stream",
          "text": [
            "189 Training on replay instances...\n"
          ]
        },
        {
          "name": "stderr",
          "output_type": "stream",
          "text": [
            " 189 Policy gradient...: 100%|██████████| 10/10 [00:37<00:00,  3.80s/it]\n",
            "Generating molecules...: 100%|██████████| 50/50 [00:08<00:00,  5.74it/s]\n"
          ]
        },
        {
          "name": "stdout",
          "output_type": "stream",
          "text": [
            "190 Training on replay instances...\n"
          ]
        },
        {
          "name": "stderr",
          "output_type": "stream",
          "text": [
            " 190 Policy gradient...: 100%|██████████| 10/10 [00:36<00:00,  3.69s/it]\n",
            "Generating molecules...: 100%|██████████| 50/50 [00:08<00:00,  5.81it/s]\n"
          ]
        },
        {
          "name": "stdout",
          "output_type": "stream",
          "text": [
            "191 Training on replay instances...\n"
          ]
        },
        {
          "name": "stderr",
          "output_type": "stream",
          "text": [
            " 191 Policy gradient...: 100%|██████████| 10/10 [00:39<00:00,  3.91s/it]\n",
            "Generating molecules...: 100%|██████████| 50/50 [00:08<00:00,  5.76it/s]\n"
          ]
        },
        {
          "name": "stdout",
          "output_type": "stream",
          "text": [
            "192 Training on replay instances...\n"
          ]
        },
        {
          "name": "stderr",
          "output_type": "stream",
          "text": [
            " 192 Policy gradient...: 100%|██████████| 10/10 [00:37<00:00,  3.80s/it]\n",
            "Generating molecules...: 100%|██████████| 50/50 [00:08<00:00,  5.79it/s]\n"
          ]
        },
        {
          "name": "stdout",
          "output_type": "stream",
          "text": [
            "193 Training on replay instances...\n"
          ]
        },
        {
          "name": "stderr",
          "output_type": "stream",
          "text": [
            " 193 Policy gradient...: 100%|██████████| 10/10 [00:39<00:00,  3.92s/it]\n",
            "Generating molecules...: 100%|██████████| 50/50 [00:08<00:00,  5.78it/s]\n"
          ]
        },
        {
          "name": "stdout",
          "output_type": "stream",
          "text": [
            "194 Training on replay instances...\n"
          ]
        },
        {
          "name": "stderr",
          "output_type": "stream",
          "text": [
            " 194 Policy gradient...: 100%|██████████| 10/10 [00:41<00:00,  4.18s/it]\n",
            "Generating molecules...: 100%|██████████| 50/50 [00:08<00:00,  5.72it/s]\n"
          ]
        },
        {
          "name": "stdout",
          "output_type": "stream",
          "text": [
            "195 Training on replay instances...\n"
          ]
        },
        {
          "name": "stderr",
          "output_type": "stream",
          "text": [
            " 195 Policy gradient...: 100%|██████████| 10/10 [00:38<00:00,  3.86s/it]\n",
            "Generating molecules...: 100%|██████████| 50/50 [00:08<00:00,  5.81it/s]\n"
          ]
        },
        {
          "name": "stdout",
          "output_type": "stream",
          "text": [
            "196 Training on replay instances...\n"
          ]
        },
        {
          "name": "stderr",
          "output_type": "stream",
          "text": [
            " 196 Policy gradient...: 100%|██████████| 10/10 [00:39<00:00,  3.95s/it]\n",
            "Generating molecules...: 100%|██████████| 50/50 [00:08<00:00,  5.81it/s]\n"
          ]
        },
        {
          "name": "stdout",
          "output_type": "stream",
          "text": [
            "197 Training on replay instances...\n"
          ]
        },
        {
          "name": "stderr",
          "output_type": "stream",
          "text": [
            " 197 Policy gradient...: 100%|██████████| 10/10 [00:37<00:00,  3.74s/it]\n",
            "Generating molecules...: 100%|██████████| 50/50 [00:08<00:00,  5.76it/s]\n"
          ]
        },
        {
          "name": "stdout",
          "output_type": "stream",
          "text": [
            "198 Training on replay instances...\n"
          ]
        },
        {
          "name": "stderr",
          "output_type": "stream",
          "text": [
            " 198 Policy gradient...: 100%|██████████| 10/10 [00:36<00:00,  3.67s/it]\n",
            "Generating molecules...: 100%|██████████| 50/50 [00:08<00:00,  5.74it/s]\n"
          ]
        },
        {
          "name": "stdout",
          "output_type": "stream",
          "text": [
            "199 Training on replay instances...\n"
          ]
        },
        {
          "name": "stderr",
          "output_type": "stream",
          "text": [
            " 199 Policy gradient...: 100%|██████████| 10/10 [00:38<00:00,  3.85s/it]\n",
            "Generating molecules...: 100%|██████████| 50/50 [00:08<00:00,  5.73it/s]\n"
          ]
        },
        {
          "name": "stdout",
          "output_type": "stream",
          "text": [
            "200 Training on replay instances...\n"
          ]
        },
        {
          "name": "stderr",
          "output_type": "stream",
          "text": [
            " 200 Policy gradient...: 100%|██████████| 10/10 [00:38<00:00,  3.82s/it]\n",
            "Generating molecules...: 100%|██████████| 50/50 [00:08<00:00,  5.71it/s]\n"
          ]
        },
        {
          "name": "stdout",
          "output_type": "stream",
          "text": [
            "201 Training on replay instances...\n"
          ]
        },
        {
          "name": "stderr",
          "output_type": "stream",
          "text": [
            " 201 Policy gradient...: 100%|██████████| 10/10 [00:37<00:00,  3.80s/it]\n",
            "Generating molecules...: 100%|██████████| 50/50 [00:08<00:00,  5.76it/s]\n"
          ]
        },
        {
          "name": "stdout",
          "output_type": "stream",
          "text": [
            "202 Training on replay instances...\n"
          ]
        },
        {
          "name": "stderr",
          "output_type": "stream",
          "text": [
            " 202 Policy gradient...: 100%|██████████| 10/10 [00:37<00:00,  3.78s/it]\n",
            "Generating molecules...: 100%|██████████| 50/50 [00:08<00:00,  5.74it/s]\n"
          ]
        },
        {
          "name": "stdout",
          "output_type": "stream",
          "text": [
            "203 Training on replay instances...\n"
          ]
        },
        {
          "name": "stderr",
          "output_type": "stream",
          "text": [
            " 203 Policy gradient...: 100%|██████████| 10/10 [00:37<00:00,  3.79s/it]\n",
            "Generating molecules...: 100%|██████████| 50/50 [00:08<00:00,  5.77it/s]\n"
          ]
        },
        {
          "name": "stdout",
          "output_type": "stream",
          "text": [
            "204 Training on replay instances...\n"
          ]
        },
        {
          "name": "stderr",
          "output_type": "stream",
          "text": [
            " 204 Policy gradient...: 100%|██████████| 10/10 [00:39<00:00,  3.98s/it]\n",
            "Generating molecules...: 100%|██████████| 50/50 [00:08<00:00,  5.73it/s]\n"
          ]
        },
        {
          "name": "stdout",
          "output_type": "stream",
          "text": [
            "205 Training on replay instances...\n"
          ]
        },
        {
          "name": "stderr",
          "output_type": "stream",
          "text": [
            " 205 Policy gradient...: 100%|██████████| 10/10 [00:38<00:00,  3.84s/it]\n",
            "Generating molecules...: 100%|██████████| 50/50 [00:08<00:00,  5.80it/s]\n"
          ]
        },
        {
          "name": "stdout",
          "output_type": "stream",
          "text": [
            "206 Training on replay instances...\n"
          ]
        },
        {
          "name": "stderr",
          "output_type": "stream",
          "text": [
            " 206 Policy gradient...: 100%|██████████| 10/10 [00:39<00:00,  3.95s/it]\n",
            "Generating molecules...: 100%|██████████| 50/50 [00:08<00:00,  5.75it/s]\n"
          ]
        },
        {
          "name": "stdout",
          "output_type": "stream",
          "text": [
            "207 Training on replay instances...\n"
          ]
        },
        {
          "name": "stderr",
          "output_type": "stream",
          "text": [
            " 207 Policy gradient...: 100%|██████████| 10/10 [00:38<00:00,  3.80s/it]\n",
            "Generating molecules...: 100%|██████████| 50/50 [00:08<00:00,  5.79it/s]\n"
          ]
        },
        {
          "name": "stdout",
          "output_type": "stream",
          "text": [
            "208 Training on replay instances...\n"
          ]
        },
        {
          "name": "stderr",
          "output_type": "stream",
          "text": [
            " 208 Policy gradient...: 100%|██████████| 10/10 [00:37<00:00,  3.75s/it]\n",
            "Generating molecules...: 100%|██████████| 50/50 [00:08<00:00,  5.75it/s]\n"
          ]
        },
        {
          "name": "stdout",
          "output_type": "stream",
          "text": [
            "209 Training on replay instances...\n"
          ]
        },
        {
          "name": "stderr",
          "output_type": "stream",
          "text": [
            " 209 Policy gradient...: 100%|██████████| 10/10 [00:37<00:00,  3.80s/it]\n",
            "Generating molecules...: 100%|██████████| 50/50 [00:08<00:00,  5.70it/s]\n"
          ]
        },
        {
          "name": "stdout",
          "output_type": "stream",
          "text": [
            "210 Training on replay instances...\n"
          ]
        },
        {
          "name": "stderr",
          "output_type": "stream",
          "text": [
            " 210 Policy gradient...: 100%|██████████| 10/10 [00:38<00:00,  3.84s/it]\n",
            "Generating molecules...: 100%|██████████| 50/50 [00:08<00:00,  5.76it/s]\n"
          ]
        },
        {
          "name": "stdout",
          "output_type": "stream",
          "text": [
            "211 Training on replay instances...\n"
          ]
        },
        {
          "name": "stderr",
          "output_type": "stream",
          "text": [
            " 211 Policy gradient...: 100%|██████████| 10/10 [00:38<00:00,  3.82s/it]\n",
            "Generating molecules...: 100%|██████████| 50/50 [00:08<00:00,  5.77it/s]\n"
          ]
        },
        {
          "name": "stdout",
          "output_type": "stream",
          "text": [
            "212 Training on replay instances...\n"
          ]
        },
        {
          "name": "stderr",
          "output_type": "stream",
          "text": [
            " 212 Policy gradient...: 100%|██████████| 10/10 [00:38<00:00,  3.86s/it]\n",
            "Generating molecules...: 100%|██████████| 50/50 [00:08<00:00,  5.80it/s]\n"
          ]
        },
        {
          "name": "stdout",
          "output_type": "stream",
          "text": [
            "213 Training on replay instances...\n"
          ]
        },
        {
          "name": "stderr",
          "output_type": "stream",
          "text": [
            " 213 Policy gradient...: 100%|██████████| 10/10 [00:38<00:00,  3.86s/it]\n",
            "Generating molecules...: 100%|██████████| 50/50 [00:08<00:00,  5.75it/s]\n"
          ]
        },
        {
          "name": "stdout",
          "output_type": "stream",
          "text": [
            "214 Training on replay instances...\n"
          ]
        },
        {
          "name": "stderr",
          "output_type": "stream",
          "text": [
            " 214 Policy gradient...: 100%|██████████| 10/10 [00:39<00:00,  3.96s/it]\n",
            "Generating molecules...: 100%|██████████| 50/50 [00:08<00:00,  5.70it/s]\n"
          ]
        },
        {
          "name": "stdout",
          "output_type": "stream",
          "text": [
            "215 Training on replay instances...\n"
          ]
        },
        {
          "name": "stderr",
          "output_type": "stream",
          "text": [
            " 215 Policy gradient...: 100%|██████████| 10/10 [00:38<00:00,  3.82s/it]\n",
            "Generating molecules...: 100%|██████████| 50/50 [00:08<00:00,  5.78it/s]\n"
          ]
        },
        {
          "name": "stdout",
          "output_type": "stream",
          "text": [
            "216 Training on replay instances...\n"
          ]
        },
        {
          "name": "stderr",
          "output_type": "stream",
          "text": [
            " 216 Policy gradient...: 100%|██████████| 10/10 [00:39<00:00,  3.93s/it]\n",
            "Generating molecules...: 100%|██████████| 50/50 [00:08<00:00,  5.72it/s]\n"
          ]
        },
        {
          "name": "stdout",
          "output_type": "stream",
          "text": [
            "217 Training on replay instances...\n"
          ]
        },
        {
          "name": "stderr",
          "output_type": "stream",
          "text": [
            " 217 Policy gradient...: 100%|██████████| 10/10 [00:38<00:00,  3.82s/it]\n",
            "Generating molecules...: 100%|██████████| 50/50 [00:08<00:00,  5.77it/s]\n"
          ]
        },
        {
          "name": "stdout",
          "output_type": "stream",
          "text": [
            "218 Training on replay instances...\n"
          ]
        },
        {
          "name": "stderr",
          "output_type": "stream",
          "text": [
            " 218 Policy gradient...: 100%|██████████| 10/10 [00:38<00:00,  3.88s/it]\n",
            "Generating molecules...: 100%|██████████| 50/50 [00:08<00:00,  5.70it/s]\n"
          ]
        },
        {
          "name": "stdout",
          "output_type": "stream",
          "text": [
            "219 Training on replay instances...\n"
          ]
        },
        {
          "name": "stderr",
          "output_type": "stream",
          "text": [
            " 219 Policy gradient...: 100%|██████████| 10/10 [00:38<00:00,  3.87s/it]\n",
            "Generating molecules...: 100%|██████████| 50/50 [00:08<00:00,  5.72it/s]\n"
          ]
        },
        {
          "name": "stdout",
          "output_type": "stream",
          "text": [
            "220 Training on replay instances...\n"
          ]
        },
        {
          "name": "stderr",
          "output_type": "stream",
          "text": [
            " 220 Policy gradient...: 100%|██████████| 10/10 [00:39<00:00,  3.96s/it]\n",
            "Generating molecules...: 100%|██████████| 50/50 [00:08<00:00,  5.77it/s]\n"
          ]
        },
        {
          "name": "stdout",
          "output_type": "stream",
          "text": [
            "221 Training on replay instances...\n"
          ]
        },
        {
          "name": "stderr",
          "output_type": "stream",
          "text": [
            " 221 Policy gradient...: 100%|██████████| 10/10 [00:38<00:00,  3.82s/it]\n",
            "Generating molecules...: 100%|██████████| 50/50 [00:08<00:00,  5.75it/s]\n"
          ]
        },
        {
          "name": "stdout",
          "output_type": "stream",
          "text": [
            "222 Training on replay instances...\n"
          ]
        },
        {
          "name": "stderr",
          "output_type": "stream",
          "text": [
            " 222 Policy gradient...: 100%|██████████| 10/10 [00:37<00:00,  3.79s/it]\n",
            "Generating molecules...: 100%|██████████| 50/50 [00:08<00:00,  5.80it/s]\n"
          ]
        },
        {
          "name": "stdout",
          "output_type": "stream",
          "text": [
            "223 Training on replay instances...\n"
          ]
        },
        {
          "name": "stderr",
          "output_type": "stream",
          "text": [
            " 223 Policy gradient...: 100%|██████████| 10/10 [00:38<00:00,  3.87s/it]\n",
            "Generating molecules...: 100%|██████████| 50/50 [00:08<00:00,  5.73it/s]\n"
          ]
        },
        {
          "name": "stdout",
          "output_type": "stream",
          "text": [
            "224 Training on replay instances...\n"
          ]
        },
        {
          "name": "stderr",
          "output_type": "stream",
          "text": [
            " 224 Policy gradient...: 100%|██████████| 10/10 [00:40<00:00,  4.08s/it]\n",
            "Generating molecules...: 100%|██████████| 50/50 [00:08<00:00,  5.73it/s]\n"
          ]
        },
        {
          "name": "stdout",
          "output_type": "stream",
          "text": [
            "225 Training on replay instances...\n"
          ]
        },
        {
          "name": "stderr",
          "output_type": "stream",
          "text": [
            " 225 Policy gradient...: 100%|██████████| 10/10 [00:39<00:00,  3.93s/it]\n",
            "Generating molecules...: 100%|██████████| 50/50 [00:08<00:00,  5.78it/s]\n"
          ]
        },
        {
          "name": "stdout",
          "output_type": "stream",
          "text": [
            "226 Training on replay instances...\n"
          ]
        },
        {
          "name": "stderr",
          "output_type": "stream",
          "text": [
            " 226 Policy gradient...: 100%|██████████| 10/10 [00:37<00:00,  3.74s/it]\n",
            "Generating molecules...: 100%|██████████| 50/50 [00:08<00:00,  5.75it/s]\n"
          ]
        },
        {
          "name": "stdout",
          "output_type": "stream",
          "text": [
            "227 Training on replay instances...\n"
          ]
        },
        {
          "name": "stderr",
          "output_type": "stream",
          "text": [
            " 227 Policy gradient...: 100%|██████████| 10/10 [00:37<00:00,  3.75s/it]\n",
            "Generating molecules...: 100%|██████████| 50/50 [00:08<00:00,  5.77it/s]\n"
          ]
        },
        {
          "name": "stdout",
          "output_type": "stream",
          "text": [
            "228 Training on replay instances...\n"
          ]
        },
        {
          "name": "stderr",
          "output_type": "stream",
          "text": [
            " 228 Policy gradient...: 100%|██████████| 10/10 [00:37<00:00,  3.76s/it]\n",
            "Generating molecules...: 100%|██████████| 50/50 [00:08<00:00,  5.72it/s]\n"
          ]
        },
        {
          "name": "stdout",
          "output_type": "stream",
          "text": [
            "229 Training on replay instances...\n"
          ]
        },
        {
          "name": "stderr",
          "output_type": "stream",
          "text": [
            " 229 Policy gradient...: 100%|██████████| 10/10 [00:39<00:00,  3.92s/it]\n",
            "Generating molecules...: 100%|██████████| 50/50 [00:08<00:00,  5.74it/s]\n"
          ]
        },
        {
          "name": "stdout",
          "output_type": "stream",
          "text": [
            "230 Training on replay instances...\n"
          ]
        },
        {
          "name": "stderr",
          "output_type": "stream",
          "text": [
            " 230 Policy gradient...: 100%|██████████| 10/10 [00:38<00:00,  3.86s/it]\n",
            "Generating molecules...: 100%|██████████| 50/50 [00:08<00:00,  5.78it/s]\n"
          ]
        },
        {
          "name": "stdout",
          "output_type": "stream",
          "text": [
            "231 Training on replay instances...\n"
          ]
        },
        {
          "name": "stderr",
          "output_type": "stream",
          "text": [
            " 231 Policy gradient...: 100%|██████████| 10/10 [00:37<00:00,  3.71s/it]\n",
            "Generating molecules...: 100%|██████████| 50/50 [00:08<00:00,  5.78it/s]\n"
          ]
        },
        {
          "name": "stdout",
          "output_type": "stream",
          "text": [
            "232 Training on replay instances...\n"
          ]
        },
        {
          "name": "stderr",
          "output_type": "stream",
          "text": [
            " 232 Policy gradient...: 100%|██████████| 10/10 [00:37<00:00,  3.78s/it]\n",
            "Generating molecules...: 100%|██████████| 50/50 [00:08<00:00,  5.75it/s]\n"
          ]
        },
        {
          "name": "stdout",
          "output_type": "stream",
          "text": [
            "233 Training on replay instances...\n"
          ]
        },
        {
          "name": "stderr",
          "output_type": "stream",
          "text": [
            " 233 Policy gradient...: 100%|██████████| 10/10 [00:36<00:00,  3.68s/it]\n",
            "Generating molecules...: 100%|██████████| 50/50 [00:08<00:00,  5.79it/s]\n"
          ]
        },
        {
          "name": "stdout",
          "output_type": "stream",
          "text": [
            "234 Training on replay instances...\n"
          ]
        },
        {
          "name": "stderr",
          "output_type": "stream",
          "text": [
            " 234 Policy gradient...: 100%|██████████| 10/10 [00:37<00:00,  3.80s/it]\n",
            "Generating molecules...: 100%|██████████| 50/50 [00:08<00:00,  5.78it/s]\n"
          ]
        },
        {
          "name": "stdout",
          "output_type": "stream",
          "text": [
            "235 Training on replay instances...\n"
          ]
        },
        {
          "name": "stderr",
          "output_type": "stream",
          "text": [
            " 235 Policy gradient...: 100%|██████████| 10/10 [00:39<00:00,  3.95s/it]\n",
            "Generating molecules...: 100%|██████████| 50/50 [00:08<00:00,  5.73it/s]\n"
          ]
        },
        {
          "name": "stdout",
          "output_type": "stream",
          "text": [
            "236 Training on replay instances...\n"
          ]
        },
        {
          "name": "stderr",
          "output_type": "stream",
          "text": [
            " 236 Policy gradient...: 100%|██████████| 10/10 [00:38<00:00,  3.86s/it]\n",
            "Generating molecules...: 100%|██████████| 50/50 [00:08<00:00,  5.75it/s]\n"
          ]
        },
        {
          "name": "stdout",
          "output_type": "stream",
          "text": [
            "237 Training on replay instances...\n"
          ]
        },
        {
          "name": "stderr",
          "output_type": "stream",
          "text": [
            " 237 Policy gradient...: 100%|██████████| 10/10 [00:37<00:00,  3.76s/it]\n",
            "Generating molecules...: 100%|██████████| 50/50 [00:08<00:00,  5.73it/s]\n"
          ]
        },
        {
          "name": "stdout",
          "output_type": "stream",
          "text": [
            "238 Training on replay instances...\n"
          ]
        },
        {
          "name": "stderr",
          "output_type": "stream",
          "text": [
            " 238 Policy gradient...: 100%|██████████| 10/10 [00:38<00:00,  3.88s/it]\n",
            "Generating molecules...: 100%|██████████| 50/50 [00:08<00:00,  5.72it/s]\n"
          ]
        },
        {
          "name": "stdout",
          "output_type": "stream",
          "text": [
            "239 Training on replay instances...\n"
          ]
        },
        {
          "name": "stderr",
          "output_type": "stream",
          "text": [
            " 239 Policy gradient...: 100%|██████████| 10/10 [00:38<00:00,  3.86s/it]\n",
            "Generating molecules...: 100%|██████████| 50/50 [00:08<00:00,  5.74it/s]\n"
          ]
        },
        {
          "name": "stdout",
          "output_type": "stream",
          "text": [
            "240 Training on replay instances...\n"
          ]
        },
        {
          "name": "stderr",
          "output_type": "stream",
          "text": [
            " 240 Policy gradient...: 100%|██████████| 10/10 [00:38<00:00,  3.88s/it]\n",
            "Generating molecules...: 100%|██████████| 50/50 [00:08<00:00,  5.76it/s]\n"
          ]
        },
        {
          "name": "stdout",
          "output_type": "stream",
          "text": [
            "241 Training on replay instances...\n"
          ]
        },
        {
          "name": "stderr",
          "output_type": "stream",
          "text": [
            " 241 Policy gradient...: 100%|██████████| 10/10 [00:36<00:00,  3.70s/it]\n",
            "Generating molecules...: 100%|██████████| 50/50 [00:08<00:00,  5.71it/s]\n"
          ]
        },
        {
          "name": "stdout",
          "output_type": "stream",
          "text": [
            "242 Training on replay instances...\n"
          ]
        },
        {
          "name": "stderr",
          "output_type": "stream",
          "text": [
            " 242 Policy gradient...: 100%|██████████| 10/10 [00:37<00:00,  3.76s/it]\n",
            "Generating molecules...: 100%|██████████| 50/50 [00:08<00:00,  5.78it/s]\n"
          ]
        },
        {
          "name": "stdout",
          "output_type": "stream",
          "text": [
            "243 Training on replay instances...\n"
          ]
        },
        {
          "name": "stderr",
          "output_type": "stream",
          "text": [
            " 243 Policy gradient...: 100%|██████████| 10/10 [00:40<00:00,  4.01s/it]\n",
            "Generating molecules...: 100%|██████████| 50/50 [00:08<00:00,  5.79it/s]\n"
          ]
        },
        {
          "name": "stdout",
          "output_type": "stream",
          "text": [
            "244 Training on replay instances...\n"
          ]
        },
        {
          "name": "stderr",
          "output_type": "stream",
          "text": [
            " 244 Policy gradient...: 100%|██████████| 10/10 [00:39<00:00,  3.93s/it]\n",
            "Generating molecules...: 100%|██████████| 50/50 [00:08<00:00,  5.80it/s]\n"
          ]
        },
        {
          "name": "stdout",
          "output_type": "stream",
          "text": [
            "245 Training on replay instances...\n"
          ]
        },
        {
          "name": "stderr",
          "output_type": "stream",
          "text": [
            " 245 Policy gradient...: 100%|██████████| 10/10 [00:39<00:00,  3.95s/it]\n",
            "Generating molecules...: 100%|██████████| 50/50 [00:08<00:00,  5.81it/s]\n"
          ]
        },
        {
          "name": "stdout",
          "output_type": "stream",
          "text": [
            "246 Training on replay instances...\n"
          ]
        },
        {
          "name": "stderr",
          "output_type": "stream",
          "text": [
            " 246 Policy gradient...: 100%|██████████| 10/10 [00:38<00:00,  3.84s/it]\n",
            "Generating molecules...: 100%|██████████| 50/50 [00:10<00:00,  4.56it/s]\n"
          ]
        },
        {
          "name": "stdout",
          "output_type": "stream",
          "text": [
            "247 Training on replay instances...\n"
          ]
        },
        {
          "name": "stderr",
          "output_type": "stream",
          "text": [
            " 247 Policy gradient...: 100%|██████████| 10/10 [00:39<00:00,  3.94s/it]\n",
            "Generating molecules...: 100%|██████████| 50/50 [00:08<00:00,  5.76it/s]\n"
          ]
        },
        {
          "name": "stdout",
          "output_type": "stream",
          "text": [
            "248 Training on replay instances...\n"
          ]
        },
        {
          "name": "stderr",
          "output_type": "stream",
          "text": [
            " 248 Policy gradient...: 100%|██████████| 10/10 [00:39<00:00,  3.96s/it]\n",
            "Generating molecules...: 100%|██████████| 50/50 [00:08<00:00,  5.78it/s]\n"
          ]
        },
        {
          "name": "stdout",
          "output_type": "stream",
          "text": [
            "249 Training on replay instances...\n"
          ]
        },
        {
          "name": "stderr",
          "output_type": "stream",
          "text": [
            " 249 Policy gradient...: 100%|██████████| 10/10 [00:41<00:00,  4.10s/it]\n",
            "Generating molecules...: 100%|██████████| 50/50 [00:08<00:00,  5.75it/s]\n"
          ]
        },
        {
          "name": "stdout",
          "output_type": "stream",
          "text": [
            "250 Training on replay instances...\n"
          ]
        },
        {
          "name": "stderr",
          "output_type": "stream",
          "text": [
            " 250 Policy gradient...: 100%|██████████| 10/10 [00:40<00:00,  4.09s/it]\n",
            "Generating molecules...: 100%|██████████| 50/50 [00:08<00:00,  5.69it/s]\n"
          ]
        },
        {
          "name": "stdout",
          "output_type": "stream",
          "text": [
            "251 Training on replay instances...\n"
          ]
        },
        {
          "name": "stderr",
          "output_type": "stream",
          "text": [
            " 251 Policy gradient...: 100%|██████████| 10/10 [00:40<00:00,  4.01s/it]\n",
            "Generating molecules...: 100%|██████████| 50/50 [00:08<00:00,  5.71it/s]\n"
          ]
        },
        {
          "name": "stdout",
          "output_type": "stream",
          "text": [
            "252 Training on replay instances...\n"
          ]
        },
        {
          "name": "stderr",
          "output_type": "stream",
          "text": [
            " 252 Policy gradient...: 100%|██████████| 10/10 [00:38<00:00,  3.90s/it]\n",
            "Generating molecules...: 100%|██████████| 50/50 [00:08<00:00,  5.74it/s]\n"
          ]
        },
        {
          "name": "stdout",
          "output_type": "stream",
          "text": [
            "253 Training on replay instances...\n"
          ]
        },
        {
          "name": "stderr",
          "output_type": "stream",
          "text": [
            " 253 Policy gradient...: 100%|██████████| 10/10 [00:37<00:00,  3.79s/it]\n",
            "Generating molecules...: 100%|██████████| 50/50 [00:08<00:00,  5.77it/s]\n"
          ]
        },
        {
          "name": "stdout",
          "output_type": "stream",
          "text": [
            "254 Training on replay instances...\n"
          ]
        },
        {
          "name": "stderr",
          "output_type": "stream",
          "text": [
            " 254 Policy gradient...: 100%|██████████| 10/10 [00:39<00:00,  3.91s/it]\n",
            "Generating molecules...: 100%|██████████| 50/50 [00:08<00:00,  5.78it/s]\n"
          ]
        },
        {
          "name": "stdout",
          "output_type": "stream",
          "text": [
            "255 Training on replay instances...\n"
          ]
        },
        {
          "name": "stderr",
          "output_type": "stream",
          "text": [
            " 255 Policy gradient...: 100%|██████████| 10/10 [00:40<00:00,  4.01s/it]\n",
            "Generating molecules...: 100%|██████████| 50/50 [00:08<00:00,  5.75it/s]\n"
          ]
        },
        {
          "name": "stdout",
          "output_type": "stream",
          "text": [
            "256 Training on replay instances...\n"
          ]
        },
        {
          "name": "stderr",
          "output_type": "stream",
          "text": [
            " 256 Policy gradient...: 100%|██████████| 10/10 [00:38<00:00,  3.90s/it]\n",
            "Generating molecules...: 100%|██████████| 50/50 [00:08<00:00,  5.77it/s]\n"
          ]
        },
        {
          "name": "stdout",
          "output_type": "stream",
          "text": [
            "257 Training on replay instances...\n"
          ]
        },
        {
          "name": "stderr",
          "output_type": "stream",
          "text": [
            " 257 Policy gradient...: 100%|██████████| 10/10 [00:39<00:00,  3.99s/it]\n",
            "Generating molecules...: 100%|██████████| 50/50 [00:08<00:00,  5.75it/s]\n"
          ]
        },
        {
          "name": "stdout",
          "output_type": "stream",
          "text": [
            "258 Training on replay instances...\n"
          ]
        },
        {
          "name": "stderr",
          "output_type": "stream",
          "text": [
            " 258 Policy gradient...: 100%|██████████| 10/10 [00:41<00:00,  4.20s/it]\n",
            "Generating molecules...: 100%|██████████| 50/50 [00:08<00:00,  5.72it/s]\n"
          ]
        },
        {
          "name": "stdout",
          "output_type": "stream",
          "text": [
            "259 Training on replay instances...\n"
          ]
        },
        {
          "name": "stderr",
          "output_type": "stream",
          "text": [
            " 259 Policy gradient...: 100%|██████████| 10/10 [00:39<00:00,  3.98s/it]\n",
            "Generating molecules...: 100%|██████████| 50/50 [00:08<00:00,  5.77it/s]\n"
          ]
        },
        {
          "name": "stdout",
          "output_type": "stream",
          "text": [
            "260 Training on replay instances...\n"
          ]
        },
        {
          "name": "stderr",
          "output_type": "stream",
          "text": [
            " 260 Policy gradient...: 100%|██████████| 10/10 [00:39<00:00,  3.95s/it]\n",
            "Generating molecules...: 100%|██████████| 50/50 [00:08<00:00,  5.77it/s]\n"
          ]
        },
        {
          "name": "stdout",
          "output_type": "stream",
          "text": [
            "261 Training on replay instances...\n"
          ]
        },
        {
          "name": "stderr",
          "output_type": "stream",
          "text": [
            " 261 Policy gradient...: 100%|██████████| 10/10 [00:39<00:00,  3.96s/it]\n",
            "Generating molecules...: 100%|██████████| 50/50 [00:08<00:00,  5.73it/s]\n"
          ]
        },
        {
          "name": "stdout",
          "output_type": "stream",
          "text": [
            "262 Training on replay instances...\n"
          ]
        },
        {
          "name": "stderr",
          "output_type": "stream",
          "text": [
            " 262 Policy gradient...: 100%|██████████| 10/10 [00:39<00:00,  3.93s/it]\n",
            "Generating molecules...: 100%|██████████| 50/50 [00:08<00:00,  5.75it/s]\n"
          ]
        },
        {
          "name": "stdout",
          "output_type": "stream",
          "text": [
            "263 Training on replay instances...\n"
          ]
        },
        {
          "name": "stderr",
          "output_type": "stream",
          "text": [
            " 263 Policy gradient...: 100%|██████████| 10/10 [00:39<00:00,  3.98s/it]\n",
            "Generating molecules...: 100%|██████████| 50/50 [00:08<00:00,  5.74it/s]\n"
          ]
        },
        {
          "name": "stdout",
          "output_type": "stream",
          "text": [
            "264 Training on replay instances...\n"
          ]
        },
        {
          "name": "stderr",
          "output_type": "stream",
          "text": [
            " 264 Policy gradient...: 100%|██████████| 10/10 [00:39<00:00,  3.91s/it]\n",
            "Generating molecules...: 100%|██████████| 50/50 [00:08<00:00,  5.75it/s]\n"
          ]
        },
        {
          "name": "stdout",
          "output_type": "stream",
          "text": [
            "265 Training on replay instances...\n"
          ]
        },
        {
          "name": "stderr",
          "output_type": "stream",
          "text": [
            " 265 Policy gradient...: 100%|██████████| 10/10 [00:37<00:00,  3.79s/it]\n",
            "Generating molecules...: 100%|██████████| 50/50 [00:08<00:00,  5.78it/s]\n"
          ]
        },
        {
          "name": "stdout",
          "output_type": "stream",
          "text": [
            "266 Training on replay instances...\n"
          ]
        },
        {
          "name": "stderr",
          "output_type": "stream",
          "text": [
            " 266 Policy gradient...: 100%|██████████| 10/10 [00:39<00:00,  3.93s/it]\n",
            "Generating molecules...: 100%|██████████| 50/50 [00:08<00:00,  5.73it/s]\n"
          ]
        },
        {
          "name": "stdout",
          "output_type": "stream",
          "text": [
            "267 Training on replay instances...\n"
          ]
        },
        {
          "name": "stderr",
          "output_type": "stream",
          "text": [
            " 267 Policy gradient...: 100%|██████████| 10/10 [00:38<00:00,  3.82s/it]\n",
            "Generating molecules...: 100%|██████████| 50/50 [00:08<00:00,  5.78it/s]\n"
          ]
        },
        {
          "name": "stdout",
          "output_type": "stream",
          "text": [
            "268 Training on replay instances...\n"
          ]
        },
        {
          "name": "stderr",
          "output_type": "stream",
          "text": [
            " 268 Policy gradient...: 100%|██████████| 10/10 [00:38<00:00,  3.84s/it]\n",
            "Generating molecules...: 100%|██████████| 50/50 [00:08<00:00,  5.78it/s]\n"
          ]
        },
        {
          "name": "stdout",
          "output_type": "stream",
          "text": [
            "269 Training on replay instances...\n"
          ]
        },
        {
          "name": "stderr",
          "output_type": "stream",
          "text": [
            " 269 Policy gradient...: 100%|██████████| 10/10 [00:38<00:00,  3.84s/it]\n",
            "Generating molecules...: 100%|██████████| 50/50 [00:08<00:00,  5.78it/s]\n"
          ]
        },
        {
          "name": "stdout",
          "output_type": "stream",
          "text": [
            "270 Training on replay instances...\n"
          ]
        },
        {
          "name": "stderr",
          "output_type": "stream",
          "text": [
            " 270 Policy gradient...: 100%|██████████| 10/10 [00:39<00:00,  3.97s/it]\n",
            "Generating molecules...: 100%|██████████| 50/50 [00:08<00:00,  5.70it/s]\n"
          ]
        },
        {
          "name": "stdout",
          "output_type": "stream",
          "text": [
            "271 Training on replay instances...\n"
          ]
        },
        {
          "name": "stderr",
          "output_type": "stream",
          "text": [
            " 271 Policy gradient...: 100%|██████████| 10/10 [00:38<00:00,  3.81s/it]\n",
            "Generating molecules...: 100%|██████████| 50/50 [00:08<00:00,  5.75it/s]\n"
          ]
        },
        {
          "name": "stdout",
          "output_type": "stream",
          "text": [
            "272 Training on replay instances...\n"
          ]
        },
        {
          "name": "stderr",
          "output_type": "stream",
          "text": [
            " 272 Policy gradient...: 100%|██████████| 10/10 [00:38<00:00,  3.81s/it]\n",
            "Generating molecules...: 100%|██████████| 50/50 [00:08<00:00,  5.76it/s]\n"
          ]
        },
        {
          "name": "stdout",
          "output_type": "stream",
          "text": [
            "273 Training on replay instances...\n"
          ]
        },
        {
          "name": "stderr",
          "output_type": "stream",
          "text": [
            " 273 Policy gradient...: 100%|██████████| 10/10 [00:37<00:00,  3.75s/it]\n",
            "Generating molecules...: 100%|██████████| 50/50 [00:08<00:00,  5.72it/s]\n"
          ]
        },
        {
          "name": "stdout",
          "output_type": "stream",
          "text": [
            "274 Training on replay instances...\n"
          ]
        },
        {
          "name": "stderr",
          "output_type": "stream",
          "text": [
            " 274 Policy gradient...: 100%|██████████| 10/10 [00:37<00:00,  3.78s/it]\n",
            "Generating molecules...: 100%|██████████| 50/50 [00:08<00:00,  5.74it/s]\n"
          ]
        },
        {
          "name": "stdout",
          "output_type": "stream",
          "text": [
            "275 Training on replay instances...\n"
          ]
        },
        {
          "name": "stderr",
          "output_type": "stream",
          "text": [
            " 275 Policy gradient...: 100%|██████████| 10/10 [00:37<00:00,  3.78s/it]\n",
            "Generating molecules...: 100%|██████████| 50/50 [00:08<00:00,  5.76it/s]\n"
          ]
        },
        {
          "name": "stdout",
          "output_type": "stream",
          "text": [
            "276 Training on replay instances...\n"
          ]
        },
        {
          "name": "stderr",
          "output_type": "stream",
          "text": [
            " 276 Policy gradient...: 100%|██████████| 10/10 [00:37<00:00,  3.74s/it]\n",
            "Generating molecules...: 100%|██████████| 50/50 [00:08<00:00,  5.77it/s]\n"
          ]
        },
        {
          "name": "stdout",
          "output_type": "stream",
          "text": [
            "277 Training on replay instances...\n"
          ]
        },
        {
          "name": "stderr",
          "output_type": "stream",
          "text": [
            " 277 Policy gradient...: 100%|██████████| 10/10 [00:37<00:00,  3.75s/it]\n",
            "Generating molecules...: 100%|██████████| 50/50 [00:08<00:00,  5.79it/s]\n"
          ]
        },
        {
          "name": "stdout",
          "output_type": "stream",
          "text": [
            "278 Training on replay instances...\n"
          ]
        },
        {
          "name": "stderr",
          "output_type": "stream",
          "text": [
            " 278 Policy gradient...: 100%|██████████| 10/10 [00:37<00:00,  3.78s/it]\n",
            "Generating molecules...: 100%|██████████| 50/50 [00:08<00:00,  5.80it/s]\n"
          ]
        },
        {
          "name": "stdout",
          "output_type": "stream",
          "text": [
            "279 Training on replay instances...\n"
          ]
        },
        {
          "name": "stderr",
          "output_type": "stream",
          "text": [
            " 279 Policy gradient...: 100%|██████████| 10/10 [00:37<00:00,  3.70s/it]\n",
            "Generating molecules...: 100%|██████████| 50/50 [00:08<00:00,  5.77it/s]\n"
          ]
        },
        {
          "name": "stdout",
          "output_type": "stream",
          "text": [
            "280 Training on replay instances...\n"
          ]
        },
        {
          "name": "stderr",
          "output_type": "stream",
          "text": [
            " 280 Policy gradient...: 100%|██████████| 10/10 [00:37<00:00,  3.75s/it]\n",
            "Generating molecules...: 100%|██████████| 50/50 [00:08<00:00,  5.77it/s]\n"
          ]
        },
        {
          "name": "stdout",
          "output_type": "stream",
          "text": [
            "281 Training on replay instances...\n"
          ]
        },
        {
          "name": "stderr",
          "output_type": "stream",
          "text": [
            " 281 Policy gradient...: 100%|██████████| 10/10 [00:37<00:00,  3.78s/it]\n",
            "Generating molecules...: 100%|██████████| 50/50 [00:08<00:00,  5.76it/s]\n"
          ]
        },
        {
          "name": "stdout",
          "output_type": "stream",
          "text": [
            "282 Training on replay instances...\n"
          ]
        },
        {
          "name": "stderr",
          "output_type": "stream",
          "text": [
            " 282 Policy gradient...: 100%|██████████| 10/10 [00:37<00:00,  3.77s/it]\n",
            "Generating molecules...: 100%|██████████| 50/50 [00:08<00:00,  5.78it/s]\n"
          ]
        },
        {
          "name": "stdout",
          "output_type": "stream",
          "text": [
            "283 Training on replay instances...\n"
          ]
        },
        {
          "name": "stderr",
          "output_type": "stream",
          "text": [
            " 283 Policy gradient...: 100%|██████████| 10/10 [00:40<00:00,  4.04s/it]\n",
            "Generating molecules...: 100%|██████████| 50/50 [00:08<00:00,  5.73it/s]\n"
          ]
        },
        {
          "name": "stdout",
          "output_type": "stream",
          "text": [
            "284 Training on replay instances...\n"
          ]
        },
        {
          "name": "stderr",
          "output_type": "stream",
          "text": [
            " 284 Policy gradient...: 100%|██████████| 10/10 [00:37<00:00,  3.78s/it]\n",
            "Generating molecules...: 100%|██████████| 50/50 [00:08<00:00,  5.73it/s]\n"
          ]
        },
        {
          "name": "stdout",
          "output_type": "stream",
          "text": [
            "285 Training on replay instances...\n"
          ]
        },
        {
          "name": "stderr",
          "output_type": "stream",
          "text": [
            " 285 Policy gradient...: 100%|██████████| 10/10 [00:37<00:00,  3.76s/it]\n",
            "Generating molecules...: 100%|██████████| 50/50 [00:08<00:00,  5.73it/s]\n"
          ]
        },
        {
          "name": "stdout",
          "output_type": "stream",
          "text": [
            "286 Training on replay instances...\n"
          ]
        },
        {
          "name": "stderr",
          "output_type": "stream",
          "text": [
            " 286 Policy gradient...: 100%|██████████| 10/10 [00:37<00:00,  3.77s/it]\n",
            "Generating molecules...: 100%|██████████| 50/50 [00:08<00:00,  5.75it/s]\n"
          ]
        },
        {
          "name": "stdout",
          "output_type": "stream",
          "text": [
            "287 Training on replay instances...\n"
          ]
        },
        {
          "name": "stderr",
          "output_type": "stream",
          "text": [
            " 287 Policy gradient...: 100%|██████████| 10/10 [00:37<00:00,  3.76s/it]\n",
            "Generating molecules...: 100%|██████████| 50/50 [00:08<00:00,  5.76it/s]\n"
          ]
        },
        {
          "name": "stdout",
          "output_type": "stream",
          "text": [
            "288 Training on replay instances...\n"
          ]
        },
        {
          "name": "stderr",
          "output_type": "stream",
          "text": [
            " 288 Policy gradient...: 100%|██████████| 10/10 [00:37<00:00,  3.74s/it]\n",
            "Generating molecules...: 100%|██████████| 50/50 [00:08<00:00,  5.78it/s]\n"
          ]
        },
        {
          "name": "stdout",
          "output_type": "stream",
          "text": [
            "289 Training on replay instances...\n"
          ]
        },
        {
          "name": "stderr",
          "output_type": "stream",
          "text": [
            " 289 Policy gradient...: 100%|██████████| 10/10 [00:37<00:00,  3.73s/it]\n",
            "Generating molecules...: 100%|██████████| 50/50 [00:08<00:00,  5.78it/s]\n"
          ]
        },
        {
          "name": "stdout",
          "output_type": "stream",
          "text": [
            "290 Training on replay instances...\n"
          ]
        },
        {
          "name": "stderr",
          "output_type": "stream",
          "text": [
            " 290 Policy gradient...: 100%|██████████| 10/10 [00:37<00:00,  3.78s/it]\n",
            "Generating molecules...: 100%|██████████| 50/50 [00:08<00:00,  5.72it/s]\n"
          ]
        },
        {
          "name": "stdout",
          "output_type": "stream",
          "text": [
            "Threshold increased to: 0.06\n",
            "291 Training on replay instances...\n"
          ]
        },
        {
          "name": "stderr",
          "output_type": "stream",
          "text": [
            " 291 Policy gradient...: 100%|██████████| 10/10 [00:37<00:00,  3.79s/it]\n",
            "Generating molecules...: 100%|██████████| 50/50 [00:08<00:00,  5.73it/s]\n"
          ]
        },
        {
          "name": "stdout",
          "output_type": "stream",
          "text": [
            "Threshold increased to: 0.06\n",
            "292 Training on replay instances...\n"
          ]
        },
        {
          "name": "stderr",
          "output_type": "stream",
          "text": [
            " 292 Policy gradient...: 100%|██████████| 10/10 [00:37<00:00,  3.76s/it]\n",
            "Generating molecules...: 100%|██████████| 50/50 [00:08<00:00,  5.73it/s]\n"
          ]
        },
        {
          "name": "stdout",
          "output_type": "stream",
          "text": [
            "293 Training on replay instances...\n"
          ]
        },
        {
          "name": "stderr",
          "output_type": "stream",
          "text": [
            " 293 Policy gradient...: 100%|██████████| 10/10 [00:37<00:00,  3.77s/it]\n",
            "Generating molecules...: 100%|██████████| 50/50 [00:08<00:00,  5.76it/s]\n"
          ]
        },
        {
          "name": "stdout",
          "output_type": "stream",
          "text": [
            "294 Training on replay instances...\n"
          ]
        },
        {
          "name": "stderr",
          "output_type": "stream",
          "text": [
            " 294 Policy gradient...: 100%|██████████| 10/10 [00:37<00:00,  3.76s/it]\n",
            "Generating molecules...: 100%|██████████| 50/50 [00:08<00:00,  5.81it/s]\n"
          ]
        },
        {
          "name": "stdout",
          "output_type": "stream",
          "text": [
            "295 Training on replay instances...\n"
          ]
        },
        {
          "name": "stderr",
          "output_type": "stream",
          "text": [
            " 295 Policy gradient...: 100%|██████████| 10/10 [00:37<00:00,  3.78s/it]\n",
            "Generating molecules...: 100%|██████████| 50/50 [00:08<00:00,  5.76it/s]\n"
          ]
        },
        {
          "name": "stdout",
          "output_type": "stream",
          "text": [
            "296 Training on replay instances...\n"
          ]
        },
        {
          "name": "stderr",
          "output_type": "stream",
          "text": [
            " 296 Policy gradient...: 100%|██████████| 10/10 [00:37<00:00,  3.79s/it]\n",
            "Generating molecules...: 100%|██████████| 50/50 [00:08<00:00,  5.74it/s]\n"
          ]
        },
        {
          "name": "stdout",
          "output_type": "stream",
          "text": [
            "297 Training on replay instances...\n"
          ]
        },
        {
          "name": "stderr",
          "output_type": "stream",
          "text": [
            " 297 Policy gradient...: 100%|██████████| 10/10 [00:40<00:00,  4.07s/it]\n",
            "Generating molecules...: 100%|██████████| 50/50 [00:08<00:00,  5.74it/s]\n"
          ]
        },
        {
          "name": "stdout",
          "output_type": "stream",
          "text": [
            "298 Training on replay instances...\n"
          ]
        },
        {
          "name": "stderr",
          "output_type": "stream",
          "text": [
            " 298 Policy gradient...: 100%|██████████| 10/10 [00:38<00:00,  3.80s/it]\n",
            "Generating molecules...: 100%|██████████| 50/50 [00:08<00:00,  5.67it/s]\n"
          ]
        },
        {
          "name": "stdout",
          "output_type": "stream",
          "text": [
            "Threshold increased to: 0.07\n",
            "299 Training on replay instances...\n"
          ]
        },
        {
          "name": "stderr",
          "output_type": "stream",
          "text": [
            " 299 Policy gradient...: 100%|██████████| 10/10 [00:37<00:00,  3.79s/it]\n",
            "Generating molecules...: 100%|██████████| 50/50 [00:08<00:00,  5.74it/s]\n"
          ]
        },
        {
          "name": "stdout",
          "output_type": "stream",
          "text": [
            "Threshold increased to: 0.07\n",
            "300 Training on replay instances...\n"
          ]
        },
        {
          "name": "stderr",
          "output_type": "stream",
          "text": [
            " 300 Policy gradient...: 100%|██████████| 10/10 [00:37<00:00,  3.78s/it]\n",
            "Generating molecules...: 100%|██████████| 50/50 [00:08<00:00,  5.71it/s]\n"
          ]
        },
        {
          "name": "stdout",
          "output_type": "stream",
          "text": [
            "Threshold increased to: 0.08\n",
            "Training duration: 14478.157973766327 seconds\n"
          ]
        },
        {
          "data": {
            "image/png": "[encoded data removed]",
            "text/plain": [
              "<Figure size 1200x600 with 1 Axes>"
            ]
          },
          "metadata": {},
          "output_type": "display_data"
        },
        {
          "data": {
            "image/png": "[encoded data removed]",
            "text/plain": [
              "<Figure size 1200x600 with 1 Axes>"
            ]
          },
          "metadata": {},
          "output_type": "display_data"
        }
      ],
      "source": [
        "import os\n",
        "import sys\n",
        "import torch\n",
        "import numpy as np\n",
        "import pandas as pd\n",
        "import matplotlib.pyplot as plt\n",
        "from tqdm import tqdm, trange\n",
        "from rdkit import Chem, DataStructs\n",
        "from sklearn.ensemble import RandomForestClassifier as RFC\n",
        "from utils import canonical_smiles, get_fp\n",
        "from stackRNN import StackAugmentedRNN\n",
        "from data import GeneratorData\n",
        "from predictor import VanillaQSAR\n",
        "from reinforcement import Reinforcement\n",
        "import time\n",
        "import contextlib\n",
        "from rdkit import RDLogger\n",
        "\n",
        "# Suppress RDKit warnings and errors\n",
        "RDLogger.DisableLog('rdApp.*')\n",
        "\n",
        "# A function to suppress stderr (error messages)\n",
        "@contextlib.contextmanager\n",
        "def suppress_stderr():\n",
        "    with open(os.devnull, 'w') as devnull:\n",
        "        old_stderr = sys.stderr\n",
        "        sys.stderr = devnull\n",
        "        try:\n",
        "            yield\n",
        "        finally:\n",
        "            sys.stderr = old_stderr\n",
        "\n",
        "def estimate_and_update(generator, predictor, n_to_generate, threshold=None, batch_size=16,\n",
        "                        plot_counts=False, plot=False, return_metrics=False, **kwargs):\n",
        "    generated = []\n",
        "    pbar = tqdm(range(n_to_generate))\n",
        "    for i in pbar:\n",
        "        pbar.set_description(\"Generating molecules...\")\n",
        "        with suppress_stderr():\n",
        "            generated += generator.evaluate(gen_data, predict_len=120, batch_size=batch_size)\n",
        "\n",
        "    with suppress_stderr():\n",
        "        sanitized = canonical_smiles(generated, sanitize=False, throw_warning=False)[:-1]\n",
        "    unique_smiles, counts = np.unique(sanitized, return_counts=True)\n",
        "    unique_smiles, counts = list(unique_smiles)[1:], counts[1:]\n",
        "\n",
        "    smiles, prediction, nan_smiles = predictor.predict(unique_smiles, get_features=get_fp)\n",
        "\n",
        "    if plot_counts and plot:\n",
        "        plt.hist(counts)\n",
        "        plt.gca().set_yscale('log')\n",
        "        plt.title('Distribution of counts of generated smiles')\n",
        "        plt.xlabel('Counts observed')\n",
        "        plt.show()\n",
        "\n",
        "    valid_fraction = len(prediction) / len(generated)\n",
        "    active_fraction = np.mean(prediction >= threshold)\n",
        "    metrics = {'valid_fraction': valid_fraction, 'active_fraction': active_fraction}\n",
        "\n",
        "    if return_metrics:\n",
        "        return smiles, prediction, metrics\n",
        "    else:\n",
        "        return smiles, prediction\n",
        "\n",
        "def plot_hist(prediction, n_to_generate, threshold=None, plot=True):\n",
        "    print(\"Mean value of predictions:\", prediction.mean())\n",
        "    print(\"Proportion of valid SMILES:\", len(prediction) / n_to_generate)\n",
        "    if plot:\n",
        "        plt.hist(prediction, bins=20, edgecolor='black')\n",
        "        if threshold is not None:\n",
        "            plt.axvline(x=threshold, color=\"red\")\n",
        "        plt.xlabel('Predicted pIC50')\n",
        "        plt.title('Distribution of predicted pIC50 for generated molecules')\n",
        "        plt.show()\n",
        "\n",
        "def update_threshold(cur_threshold, prediction, proportion=0.15, step=0.005):\n",
        "    if (prediction >= cur_threshold).mean() >= proportion:\n",
        "        new_threshold = min(cur_threshold + step, 0.8)\n",
        "        print(f\"Threshold increased to: {new_threshold:.2f}\")\n",
        "        return new_threshold\n",
        "    else:\n",
        "        return cur_threshold\n",
        "\n",
        "def simple_moving_average(prev_values, new_value, ma_window_size=10):\n",
        "    ma_value = sum(prev_values[-(ma_window_size - 1):]) + new_value\n",
        "    ma_value = ma_value / (len(prev_values[-(ma_window_size - 1):]) + 1.)\n",
        "    return ma_value\n",
        "\n",
        "def main(n_iterations=300, n_policy=10, n_policy_replay=15, batch_size=16, n_fine_tune=None,\n",
        "         seed=None, replay_data_path='/content/rl_experiments/data/gen_actives.smi',\n",
        "         primed_path='/content/rl_experiments/checkpoints/generator/checkpoint_batch_training',\n",
        "         save_path=None):\n",
        "\"\"\"\n",
        "1. n_iterations (Outer Iterations)\n",
        "\n",
        "    Role: n_iterations is the main loop that runs for a specified number of steps, often viewed as \"epochs\" in machine learning terminology.\n",
        "    Purpose: Each iteration represents a full round of training where certain key operations happen (e.g., updating the threshold, generating molecules, and calculating rewards).\n",
        "    Interpretation: Since n_iterations controls the number of times the entire training process is executed, it can indeed be thought of as analogous to epochs. Every time an outer iteration is completed, the model gains experience from that cycle and theoretically becomes more refined.\n",
        "\n",
        "In this code:\n",
        "\n",
        "    Each n_iterations step involves multiple molecule generation and evaluation operations.\n",
        "    The threshold update and reward recording happen in each main iteration, so n_iterations essentially defines the broader progress of the training.\n",
        "\n",
        "2. n_policy (Policy Gradient Steps within Each Outer Iteration)\n",
        "\n",
        "    Role: n_policy represents the number of policy gradient updates performed within each outer iteration. For each main iteration (n_iterations), the code runs n_policy policy gradient steps, making small updates to the model.\n",
        "    Purpose: These smaller steps allow the model to incrementally adjust its policy based on the reward received for each generated molecule.\n",
        "    Interpretation: Rather than representing full training cycles (like epochs), n_policy can be seen as sub-steps within each epoch, where each step allows the model to adjust to the data at a finer level.\n",
        "\"\"\"\n",
        "\n",
        "    # Load progress if exists, or initialize\n",
        "    progress_path = '/content/drive/MyDrive/training_progress.csv'\n",
        "    if not os.path.exists(progress_path):\n",
        "        progress_df = pd.DataFrame(columns=['iteration', 'reward', 'valid_fraction', 'active_fraction'])\n",
        "    else:\n",
        "        progress_df = pd.read_csv(progress_path)\n",
        "        rewards = progress_df['reward'].tolist()\n",
        "        valid_fractions = progress_df['valid_fraction'].tolist()\n",
        "        active_fractions = progress_df['active_fraction'].tolist()\n",
        "\n",
        "    if n_fine_tune is None:\n",
        "        n_fine_tune = n_iterations\n",
        "\n",
        "    if seed is not None:\n",
        "        np.random.seed(seed)\n",
        "        torch.manual_seed(seed)\n",
        "\n",
        "    gen_data_path = '/content/rl_experiments/data/chembl_22_clean_1576904_sorted_std_final.smi'\n",
        "    tokens = [' ', '<', '>', '#', '%', ')', '(', '+', '-', '/', '.', '1', '0', '3', '2', '5', '4',\n",
        "              '7', '6', '9', '8', '=', 'a', '@', 'C', 'B', 'F', 'I', 'H', 'O', 'N', 'P', 'S', '[', ']',\n",
        "              '\\\\', 'c', 'e', 'i', 'l', 'o', 'n', 'p', 's', 'r']\n",
        "    global gen_data\n",
        "    gen_data = GeneratorData(gen_data_path, delimiter='\\t',\n",
        "                             cols_to_read=[0], keep_header=True, tokens=tokens)\n",
        "\n",
        "    hidden_size = 1500\n",
        "    stack_width = 1500\n",
        "    stack_depth = 200\n",
        "    layer_type = 'GRU'\n",
        "    optimizer = torch.optim.SGD\n",
        "    lr = 0.0002\n",
        "    generator = StackAugmentedRNN(input_size=gen_data.n_characters, hidden_size=hidden_size,\n",
        "                                  output_size=gen_data.n_characters, layer_type=layer_type,\n",
        "                                  n_layers=1, is_bidirectional=False, has_stack=True,\n",
        "                                  stack_width=stack_width, stack_depth=stack_depth,\n",
        "                                  use_cuda=torch.cuda.is_available(), optimizer_instance=optimizer, lr=lr)\n",
        "    weights = torch.load(primed_path, map_location=lambda storage, loc: storage.cuda() if torch.cuda.is_available() else storage.cpu())\n",
        "    generator.load_state_dict(weights)\n",
        "\n",
        "    model_instance = RFC\n",
        "    model_params = {'n_estimators': 250, 'n_jobs': 10}\n",
        "    predictor = VanillaQSAR(model_instance=model_instance,\n",
        "                            model_params=model_params,\n",
        "                            model_type='classifier')\n",
        "    predictor.load_model('/content/drive/MyDrive/egfr_rfc')\n",
        "\n",
        "    def get_reward(smiles, predictor, threshold, invalid_reward=1.0, get_features=get_fp):\n",
        "        mol, prop, nan_smiles = predictor.predict([smiles], get_features=get_features)\n",
        "        if len(nan_smiles) == 1:\n",
        "            return invalid_reward\n",
        "        if prop[0] >= threshold:\n",
        "            return 10.0\n",
        "        else:\n",
        "            return invalid_reward\n",
        "\n",
        "    RL_model = Reinforcement(generator, predictor, get_reward)\n",
        "\n",
        "    rl_losses = []\n",
        "    rewards = []\n",
        "    valid_fractions = []\n",
        "    active_fractions = []\n",
        "    thresholds = []\n",
        "    n_to_generate = 50\n",
        "    threshold = 0.05\n",
        "    start = time.time()\n",
        "\n",
        "    for i in range(n_iterations):\n",
        "        print(f\"{i + 1} Training on replay instances...\")\n",
        "        thresholds.append(threshold)\n",
        "\n",
        "        for j in trange(n_policy, desc=f\" {i + 1} Policy gradient...\"):\n",
        "            cur_reward, cur_loss = RL_model.policy_gradient(gen_data, threshold=threshold)\n",
        "            rewards.append(simple_moving_average(rewards, cur_reward))\n",
        "            rl_losses.append(simple_moving_average(rl_losses, cur_loss))\n",
        "\n",
        "        smiles_cur, prediction_cur, metrics = estimate_and_update(RL_model.generator,\n",
        "                                                                  RL_model.predictor,\n",
        "                                                                  n_to_generate,\n",
        "                                                                  batch_size=batch_size,\n",
        "                                                                  threshold=0.75,\n",
        "                                                                  plot_counts=False,\n",
        "                                                                  return_metrics=True)\n",
        "        valid_fractions.append(metrics['valid_fraction'])\n",
        "        active_fractions.append(metrics['active_fraction'])\n",
        "\n",
        "        new_row = pd.DataFrame([{\n",
        "            'iteration': i + 1,\n",
        "            'reward': rewards[-1],\n",
        "            'valid_fraction': valid_fractions[-1],\n",
        "            'active_fraction': active_fractions[-1]\n",
        "        }])\n",
        "        progress_df = pd.concat([progress_df, new_row], ignore_index=True)\n",
        "\n",
        "        progress_df.to_csv(progress_path, index=False)\n",
        "\n",
        "        threshold = update_threshold(threshold, prediction_cur)\n",
        "\n",
        "    duration = time.time() - start\n",
        "    print(f\"Training duration: {duration} seconds\")\n",
        "\n",
        "    plt.figure(figsize=(12, 6))\n",
        "    plt.plot(rewards, label='Rewards')\n",
        "    plt.title('Rewards Over Iterations')\n",
        "    plt.xlabel('Iterations')\n",
        "    plt.ylabel('Reward')\n",
        "    plt.legend()\n",
        "    plt.show()\n",
        "\n",
        "    plt.figure(figsize=(12, 6))\n",
        "    plt.plot(valid_fractions, label='Valid Fractions')\n",
        "    plt.plot(active_fractions, label='Active Fractions')\n",
        "    plt.plot(thresholds, label='Thresholds')\n",
        "    plt.title('Fractions and Threshold Over Iterations')\n",
        "    plt.xlabel('Iterations')\n",
        "    plt.ylabel('Fraction / Threshold')\n",
        "    plt.legend()\n",
        "    plt.show()\n",
        "\n",
        "if __name__ == '__main__':\n",
        "    main(n_iterations=300)\n",
        "\n"
      ]
    },
    {
      "cell_type": "code",
      "execution_count": 3,
      "id": "Lhe1LTD1w0it",
      "metadata": {
        "colab": {
          "base_uri": "https://localhost:8080/",
          "height": 1000
        },
        "id": "Lhe1LTD1w0it",
        "outputId": "7759d4f9-ad2f-44b1-ca37-0db1c89d1818"
      },
      "outputs": [
        {
          "name": "stdout",
          "output_type": "stream",
          "text": [
            "Mounted at /content/drive\n"
          ]
        },
        {
          "data": {
            "image/png": "[encoded data removed]",
            "text/plain": [
              "<Figure size 1200x600 with 1 Axes>"
            ]
          },
          "metadata": {},
          "output_type": "display_data"
        },
        {
          "data": {
            "image/png": "[encoded data removed]",
            "text/plain": [
              "<Figure size 1200x600 with 1 Axes>"
            ]
          },
          "metadata": {},
          "output_type": "display_data"
        }
      ],
      "source": [
        "import os\n",
        "import pandas as pd\n",
        "import matplotlib.pyplot as plt\n",
        "\n",
        "from google.colab import drive\n",
        "drive.mount('/content/drive')\n",
        "\n",
        "\n",
        "# Define path to the CSV file\n",
        "progress_path = '/content/drive/MyDrive/training_progress.csv'\n",
        "\n",
        "# Check if the CSV file exists and load it\n",
        "if os.path.exists(progress_path):\n",
        "    progress_df = pd.read_csv(progress_path)\n",
        "\n",
        "    # Extract data from DataFrame\n",
        "    iterations = progress_df['iteration'].tolist()\n",
        "    rewards = progress_df['reward'].tolist()\n",
        "    valid_fractions = progress_df['valid_fraction'].tolist()\n",
        "    active_fractions = progress_df['active_fraction'].tolist()\n",
        "\n",
        "    # Plot Rewards over Iterations\n",
        "    plt.figure(figsize=(12, 6))\n",
        "    plt.plot(iterations, rewards, label='Rewards')\n",
        "    plt.title('Rewards Over Iterations', fontsize=20)\n",
        "    plt.xlabel('Iterations', fontsize=16)\n",
        "    plt.ylabel('Reward', fontsize=16)\n",
        "    plt.legend()\n",
        "    plt.show()\n",
        "\n",
        "    # Plot Valid and Active Fractions along with Thresholds over Iterations\n",
        "    plt.figure(figsize=(12, 6))\n",
        "    plt.plot(iterations, valid_fractions, label='Valid Fractions')\n",
        "    plt.plot(iterations, active_fractions, label='Active Fractions')\n",
        "\n",
        "    # Assuming you have threshold data in your CSV\n",
        "    if 'threshold' in progress_df.columns:\n",
        "        thresholds = progress_df['threshold'].tolist()\n",
        "        plt.plot(iterations, thresholds, label='Thresholds')\n",
        "\n",
        "    plt.title('Fractions and Threshold Over Iterations', fontsize=20)\n",
        "    plt.xlabel('Iterations', fontsize=16)\n",
        "    plt.ylabel('Fraction / Threshold', fontsize=16)\n",
        "    plt.legend()\n",
        "    plt.show()\n",
        "\n",
        "else:\n",
        "    print(\"The specified progress file does not exist.\")\n"
      ]
    },
    {
      "cell_type": "markdown",
      "id": "WwvaV62762kU",
      "metadata": {
        "id": "WwvaV62762kU"
      },
      "source": [
        "# **With replay and dynamic threshold**"
      ]
    },
    {
      "cell_type": "code",
      "execution_count": null,
      "id": "8tANVdfz67UX",
      "metadata": {
        "colab": {
          "base_uri": "https://localhost:8080/",
          "height": 1000
        },
        "id": "8tANVdfz67UX",
        "outputId": "3bea547d-d218-4c88-818f-6abb08fd1761"
      },
      "outputs": [
        {
          "name": "stderr",
          "output_type": "stream",
          "text": [
            "<ipython-input-13-75ca225501ea>:122: FutureWarning: You are using `torch.load` with `weights_only=False` (the current default value), which uses the default pickle module implicitly. It is possible to construct malicious pickle data which will execute arbitrary code during unpickling (See https://github.com/pytorch/pytorch/blob/main/SECURITY.md#untrusted-models for more details). In a future release, the default value for `weights_only` will be flipped to `True`. This limits the functions that could be executed during unpickling. Arbitrary objects will no longer be allowed to be loaded via this mode unless they are explicitly allowlisted by the user via `torch.serialization.add_safe_globals`. We recommend you start setting `weights_only=True` for any use case where you don't have full control of the loaded file. Please open an issue on GitHub for any issues related to this experimental feature.\n",
            "  weights = torch.load(primed_path, map_location=lambda storage, loc: storage.cuda() if torch.cuda.is_available() else storage.cpu())\n"
          ]
        },
        {
          "name": "stdout",
          "output_type": "stream",
          "text": [
            "1 Training on replay instances...\n"
          ]
        },
        {
          "name": "stderr",
          "output_type": "stream",
          "text": [
            " 1 Policy gradient with replay...: 100%|██████████| 15/15 [00:47<00:00,  3.20s/it]\n",
            "Generating molecules...: 100%|██████████| 50/50 [00:08<00:00,  5.59it/s]\n",
            "<ipython-input-13-75ca225501ea>:194: FutureWarning: The behavior of DataFrame concatenation with empty or all-NA entries is deprecated. In a future version, this will no longer exclude empty or all-NA columns when determining the result dtypes. To retain the old behavior, exclude the relevant entries before the concat operation.\n",
            "  progress_df = pd.concat([progress_df, new_row], ignore_index=True)\n"
          ]
        },
        {
          "name": "stdout",
          "output_type": "stream",
          "text": [
            "2 Training on replay instances...\n"
          ]
        },
        {
          "name": "stderr",
          "output_type": "stream",
          "text": [
            " 2 Policy gradient with replay...: 100%|██████████| 15/15 [00:48<00:00,  3.25s/it]\n",
            "Generating molecules...: 100%|██████████| 50/50 [00:08<00:00,  5.97it/s]\n"
          ]
        },
        {
          "name": "stdout",
          "output_type": "stream",
          "text": [
            "3 Training on replay instances...\n"
          ]
        },
        {
          "name": "stderr",
          "output_type": "stream",
          "text": [
            " 3 Policy gradient with replay...: 100%|██████████| 15/15 [00:47<00:00,  3.19s/it]\n",
            "Generating molecules...: 100%|██████████| 50/50 [00:08<00:00,  5.96it/s]\n"
          ]
        },
        {
          "name": "stdout",
          "output_type": "stream",
          "text": [
            "4 Training on replay instances...\n"
          ]
        },
        {
          "name": "stderr",
          "output_type": "stream",
          "text": [
            " 4 Policy gradient with replay...: 100%|██████████| 15/15 [00:48<00:00,  3.20s/it]\n",
            "Generating molecules...: 100%|██████████| 50/50 [00:08<00:00,  5.91it/s]\n"
          ]
        },
        {
          "name": "stdout",
          "output_type": "stream",
          "text": [
            "5 Training on replay instances...\n"
          ]
        },
        {
          "name": "stderr",
          "output_type": "stream",
          "text": [
            " 5 Policy gradient with replay...: 100%|██████████| 15/15 [00:48<00:00,  3.23s/it]\n",
            "Generating molecules...: 100%|██████████| 50/50 [00:08<00:00,  5.91it/s]\n"
          ]
        },
        {
          "name": "stdout",
          "output_type": "stream",
          "text": [
            "6 Training on replay instances...\n"
          ]
        },
        {
          "name": "stderr",
          "output_type": "stream",
          "text": [
            " 6 Policy gradient with replay...: 100%|██████████| 15/15 [00:48<00:00,  3.22s/it]\n",
            "Generating molecules...: 100%|██████████| 50/50 [00:08<00:00,  5.93it/s]\n"
          ]
        },
        {
          "name": "stdout",
          "output_type": "stream",
          "text": [
            "7 Training on replay instances...\n"
          ]
        },
        {
          "name": "stderr",
          "output_type": "stream",
          "text": [
            " 7 Policy gradient with replay...: 100%|██████████| 15/15 [00:49<00:00,  3.29s/it]\n",
            "Generating molecules...: 100%|██████████| 50/50 [00:08<00:00,  5.95it/s]\n"
          ]
        },
        {
          "name": "stdout",
          "output_type": "stream",
          "text": [
            "8 Training on replay instances...\n"
          ]
        },
        {
          "name": "stderr",
          "output_type": "stream",
          "text": [
            " 8 Policy gradient with replay...: 100%|██████████| 15/15 [00:47<00:00,  3.19s/it]\n",
            "Generating molecules...: 100%|██████████| 50/50 [00:08<00:00,  5.88it/s]\n"
          ]
        },
        {
          "name": "stdout",
          "output_type": "stream",
          "text": [
            "9 Training on replay instances...\n"
          ]
        },
        {
          "name": "stderr",
          "output_type": "stream",
          "text": [
            " 9 Policy gradient with replay...: 100%|██████████| 15/15 [00:47<00:00,  3.19s/it]\n",
            "Generating molecules...: 100%|██████████| 50/50 [00:08<00:00,  5.92it/s]\n"
          ]
        },
        {
          "name": "stdout",
          "output_type": "stream",
          "text": [
            "10 Training on replay instances...\n"
          ]
        },
        {
          "name": "stderr",
          "output_type": "stream",
          "text": [
            " 10 Policy gradient with replay...: 100%|██████████| 15/15 [00:48<00:00,  3.20s/it]\n",
            "Generating molecules...: 100%|██████████| 50/50 [00:08<00:00,  5.93it/s]\n"
          ]
        },
        {
          "name": "stdout",
          "output_type": "stream",
          "text": [
            "11 Training on replay instances...\n"
          ]
        },
        {
          "name": "stderr",
          "output_type": "stream",
          "text": [
            " 11 Policy gradient with replay...: 100%|██████████| 15/15 [00:47<00:00,  3.18s/it]\n",
            "Generating molecules...: 100%|██████████| 50/50 [00:08<00:00,  5.90it/s]\n"
          ]
        },
        {
          "name": "stdout",
          "output_type": "stream",
          "text": [
            "12 Training on replay instances...\n"
          ]
        },
        {
          "name": "stderr",
          "output_type": "stream",
          "text": [
            " 12 Policy gradient with replay...: 100%|██████████| 15/15 [00:47<00:00,  3.16s/it]\n",
            "Generating molecules...: 100%|██████████| 50/50 [00:08<00:00,  5.89it/s]\n"
          ]
        },
        {
          "name": "stdout",
          "output_type": "stream",
          "text": [
            "13 Training on replay instances...\n"
          ]
        },
        {
          "name": "stderr",
          "output_type": "stream",
          "text": [
            " 13 Policy gradient with replay...: 100%|██████████| 15/15 [00:48<00:00,  3.24s/it]\n",
            "Generating molecules...: 100%|██████████| 50/50 [00:08<00:00,  5.91it/s]\n"
          ]
        },
        {
          "name": "stdout",
          "output_type": "stream",
          "text": [
            "14 Training on replay instances...\n"
          ]
        },
        {
          "name": "stderr",
          "output_type": "stream",
          "text": [
            " 14 Policy gradient with replay...: 100%|██████████| 15/15 [00:48<00:00,  3.21s/it]\n",
            "Generating molecules...: 100%|██████████| 50/50 [00:08<00:00,  5.89it/s]\n"
          ]
        },
        {
          "name": "stdout",
          "output_type": "stream",
          "text": [
            "15 Training on replay instances...\n"
          ]
        },
        {
          "name": "stderr",
          "output_type": "stream",
          "text": [
            " 15 Policy gradient with replay...: 100%|██████████| 15/15 [00:48<00:00,  3.21s/it]\n",
            "Generating molecules...: 100%|██████████| 50/50 [00:08<00:00,  5.84it/s]\n"
          ]
        },
        {
          "name": "stdout",
          "output_type": "stream",
          "text": [
            "16 Training on replay instances...\n"
          ]
        },
        {
          "name": "stderr",
          "output_type": "stream",
          "text": [
            " 16 Policy gradient with replay...: 100%|██████████| 15/15 [00:47<00:00,  3.17s/it]\n",
            "Generating molecules...: 100%|██████████| 50/50 [00:08<00:00,  5.81it/s]\n"
          ]
        },
        {
          "name": "stdout",
          "output_type": "stream",
          "text": [
            "17 Training on replay instances...\n"
          ]
        },
        {
          "name": "stderr",
          "output_type": "stream",
          "text": [
            " 17 Policy gradient with replay...: 100%|██████████| 15/15 [00:48<00:00,  3.21s/it]\n",
            "Generating molecules...: 100%|██████████| 50/50 [00:08<00:00,  5.84it/s]\n"
          ]
        },
        {
          "name": "stdout",
          "output_type": "stream",
          "text": [
            "18 Training on replay instances...\n"
          ]
        },
        {
          "name": "stderr",
          "output_type": "stream",
          "text": [
            " 18 Policy gradient with replay...: 100%|██████████| 15/15 [00:47<00:00,  3.16s/it]\n",
            "Generating molecules...: 100%|██████████| 50/50 [00:08<00:00,  5.84it/s]\n"
          ]
        },
        {
          "name": "stdout",
          "output_type": "stream",
          "text": [
            "19 Training on replay instances...\n"
          ]
        },
        {
          "name": "stderr",
          "output_type": "stream",
          "text": [
            " 19 Policy gradient with replay...: 100%|██████████| 15/15 [00:48<00:00,  3.21s/it]\n",
            "Generating molecules...: 100%|██████████| 50/50 [00:08<00:00,  5.88it/s]\n"
          ]
        },
        {
          "name": "stdout",
          "output_type": "stream",
          "text": [
            "20 Training on replay instances...\n"
          ]
        },
        {
          "name": "stderr",
          "output_type": "stream",
          "text": [
            " 20 Policy gradient with replay...: 100%|██████████| 15/15 [00:47<00:00,  3.15s/it]\n",
            "Generating molecules...: 100%|██████████| 50/50 [00:08<00:00,  5.88it/s]\n"
          ]
        },
        {
          "name": "stdout",
          "output_type": "stream",
          "text": [
            "21 Training on replay instances...\n"
          ]
        },
        {
          "name": "stderr",
          "output_type": "stream",
          "text": [
            " 21 Policy gradient with replay...: 100%|██████████| 15/15 [00:49<00:00,  3.27s/it]\n",
            "Generating molecules...: 100%|██████████| 50/50 [00:08<00:00,  5.92it/s]\n"
          ]
        },
        {
          "name": "stdout",
          "output_type": "stream",
          "text": [
            "22 Training on replay instances...\n"
          ]
        },
        {
          "name": "stderr",
          "output_type": "stream",
          "text": [
            " 22 Policy gradient with replay...: 100%|██████████| 15/15 [00:47<00:00,  3.16s/it]\n",
            "Generating molecules...: 100%|██████████| 50/50 [00:08<00:00,  5.88it/s]\n"
          ]
        },
        {
          "name": "stdout",
          "output_type": "stream",
          "text": [
            "23 Training on replay instances...\n"
          ]
        },
        {
          "name": "stderr",
          "output_type": "stream",
          "text": [
            " 23 Policy gradient with replay...: 100%|██████████| 15/15 [00:48<00:00,  3.24s/it]\n",
            "Generating molecules...: 100%|██████████| 50/50 [00:08<00:00,  5.81it/s]\n"
          ]
        },
        {
          "name": "stdout",
          "output_type": "stream",
          "text": [
            "24 Training on replay instances...\n"
          ]
        },
        {
          "name": "stderr",
          "output_type": "stream",
          "text": [
            " 24 Policy gradient with replay...: 100%|██████████| 15/15 [00:47<00:00,  3.19s/it]\n",
            "Generating molecules...: 100%|██████████| 50/50 [00:08<00:00,  5.82it/s]\n"
          ]
        },
        {
          "name": "stdout",
          "output_type": "stream",
          "text": [
            "25 Training on replay instances...\n"
          ]
        },
        {
          "name": "stderr",
          "output_type": "stream",
          "text": [
            " 25 Policy gradient with replay...: 100%|██████████| 15/15 [00:48<00:00,  3.20s/it]\n",
            "Generating molecules...: 100%|██████████| 50/50 [00:08<00:00,  5.85it/s]\n"
          ]
        },
        {
          "name": "stdout",
          "output_type": "stream",
          "text": [
            "26 Training on replay instances...\n"
          ]
        },
        {
          "name": "stderr",
          "output_type": "stream",
          "text": [
            " 26 Policy gradient with replay...: 100%|██████████| 15/15 [00:49<00:00,  3.28s/it]\n",
            "Generating molecules...: 100%|██████████| 50/50 [00:08<00:00,  5.87it/s]\n"
          ]
        },
        {
          "name": "stdout",
          "output_type": "stream",
          "text": [
            "27 Training on replay instances...\n"
          ]
        },
        {
          "name": "stderr",
          "output_type": "stream",
          "text": [
            " 27 Policy gradient with replay...: 100%|██████████| 15/15 [00:49<00:00,  3.29s/it]\n",
            "Generating molecules...: 100%|██████████| 50/50 [00:08<00:00,  5.87it/s]\n"
          ]
        },
        {
          "name": "stdout",
          "output_type": "stream",
          "text": [
            "Threshold increased to: 0.06\n",
            "28 Training on replay instances...\n"
          ]
        },
        {
          "name": "stderr",
          "output_type": "stream",
          "text": [
            " 28 Policy gradient with replay...: 100%|██████████| 15/15 [00:48<00:00,  3.25s/it]\n",
            "Generating molecules...: 100%|██████████| 50/50 [00:08<00:00,  5.84it/s]\n"
          ]
        },
        {
          "name": "stdout",
          "output_type": "stream",
          "text": [
            "29 Training on replay instances...\n"
          ]
        },
        {
          "name": "stderr",
          "output_type": "stream",
          "text": [
            " 29 Policy gradient with replay...: 100%|██████████| 15/15 [00:49<00:00,  3.28s/it]\n",
            "Generating molecules...: 100%|██████████| 50/50 [00:08<00:00,  5.90it/s]\n"
          ]
        },
        {
          "name": "stdout",
          "output_type": "stream",
          "text": [
            "30 Training on replay instances...\n"
          ]
        },
        {
          "name": "stderr",
          "output_type": "stream",
          "text": [
            " 30 Policy gradient with replay...: 100%|██████████| 15/15 [00:47<00:00,  3.16s/it]\n",
            "Generating molecules...: 100%|██████████| 50/50 [00:08<00:00,  5.91it/s]\n"
          ]
        },
        {
          "name": "stdout",
          "output_type": "stream",
          "text": [
            "31 Training on replay instances...\n"
          ]
        },
        {
          "name": "stderr",
          "output_type": "stream",
          "text": [
            " 31 Policy gradient with replay...: 100%|██████████| 15/15 [00:48<00:00,  3.22s/it]\n",
            "Generating molecules...: 100%|██████████| 50/50 [00:08<00:00,  5.87it/s]\n"
          ]
        },
        {
          "name": "stdout",
          "output_type": "stream",
          "text": [
            "32 Training on replay instances...\n"
          ]
        },
        {
          "name": "stderr",
          "output_type": "stream",
          "text": [
            " 32 Policy gradient with replay...: 100%|██████████| 15/15 [00:47<00:00,  3.16s/it]\n",
            "Generating molecules...: 100%|██████████| 50/50 [00:08<00:00,  5.87it/s]\n"
          ]
        },
        {
          "name": "stdout",
          "output_type": "stream",
          "text": [
            "Threshold increased to: 0.06\n",
            "33 Training on replay instances...\n"
          ]
        },
        {
          "name": "stderr",
          "output_type": "stream",
          "text": [
            " 33 Policy gradient with replay...: 100%|██████████| 15/15 [00:48<00:00,  3.24s/it]\n",
            "Generating molecules...: 100%|██████████| 50/50 [00:08<00:00,  5.82it/s]\n"
          ]
        },
        {
          "name": "stdout",
          "output_type": "stream",
          "text": [
            "Threshold increased to: 0.07\n",
            "34 Training on replay instances...\n"
          ]
        },
        {
          "name": "stderr",
          "output_type": "stream",
          "text": [
            " 34 Policy gradient with replay...: 100%|██████████| 15/15 [00:47<00:00,  3.15s/it]\n",
            "Generating molecules...: 100%|██████████| 50/50 [00:09<00:00,  5.38it/s]\n"
          ]
        },
        {
          "name": "stdout",
          "output_type": "stream",
          "text": [
            "Threshold increased to: 0.07\n",
            "35 Training on replay instances...\n"
          ]
        },
        {
          "name": "stderr",
          "output_type": "stream",
          "text": [
            " 35 Policy gradient with replay...: 100%|██████████| 15/15 [00:47<00:00,  3.18s/it]\n",
            "Generating molecules...: 100%|██████████| 50/50 [00:08<00:00,  5.85it/s]\n"
          ]
        },
        {
          "name": "stdout",
          "output_type": "stream",
          "text": [
            "Threshold increased to: 0.08\n",
            "36 Training on replay instances...\n"
          ]
        },
        {
          "name": "stderr",
          "output_type": "stream",
          "text": [
            " 36 Policy gradient with replay...: 100%|██████████| 15/15 [00:47<00:00,  3.17s/it]\n",
            "Generating molecules...: 100%|██████████| 50/50 [00:08<00:00,  5.86it/s]\n"
          ]
        },
        {
          "name": "stdout",
          "output_type": "stream",
          "text": [
            "Threshold increased to: 0.08\n",
            "37 Training on replay instances...\n"
          ]
        },
        {
          "name": "stderr",
          "output_type": "stream",
          "text": [
            " 37 Policy gradient with replay...: 100%|██████████| 15/15 [00:48<00:00,  3.25s/it]\n",
            "Generating molecules...: 100%|██████████| 50/50 [00:08<00:00,  5.86it/s]\n"
          ]
        },
        {
          "name": "stdout",
          "output_type": "stream",
          "text": [
            "Threshold increased to: 0.09\n",
            "38 Training on replay instances...\n"
          ]
        },
        {
          "name": "stderr",
          "output_type": "stream",
          "text": [
            " 38 Policy gradient with replay...: 100%|██████████| 15/15 [00:48<00:00,  3.21s/it]\n",
            "Generating molecules...: 100%|██████████| 50/50 [00:08<00:00,  5.88it/s]\n"
          ]
        },
        {
          "name": "stdout",
          "output_type": "stream",
          "text": [
            "39 Training on replay instances...\n"
          ]
        },
        {
          "name": "stderr",
          "output_type": "stream",
          "text": [
            " 39 Policy gradient with replay...: 100%|██████████| 15/15 [00:47<00:00,  3.20s/it]\n",
            "Generating molecules...: 100%|██████████| 50/50 [00:08<00:00,  5.84it/s]\n"
          ]
        },
        {
          "name": "stdout",
          "output_type": "stream",
          "text": [
            "40 Training on replay instances...\n"
          ]
        },
        {
          "name": "stderr",
          "output_type": "stream",
          "text": [
            " 40 Policy gradient with replay...: 100%|██████████| 15/15 [00:47<00:00,  3.16s/it]\n",
            "Generating molecules...: 100%|██████████| 50/50 [00:08<00:00,  5.89it/s]\n"
          ]
        },
        {
          "name": "stdout",
          "output_type": "stream",
          "text": [
            "41 Training on replay instances...\n"
          ]
        },
        {
          "name": "stderr",
          "output_type": "stream",
          "text": [
            " 41 Policy gradient with replay...: 100%|██████████| 15/15 [00:48<00:00,  3.26s/it]\n",
            "Generating molecules...: 100%|██████████| 50/50 [00:08<00:00,  5.91it/s]\n"
          ]
        },
        {
          "name": "stdout",
          "output_type": "stream",
          "text": [
            "Threshold increased to: 0.09\n",
            "42 Training on replay instances...\n"
          ]
        },
        {
          "name": "stderr",
          "output_type": "stream",
          "text": [
            " 42 Policy gradient with replay...: 100%|██████████| 15/15 [00:47<00:00,  3.17s/it]\n",
            "Generating molecules...: 100%|██████████| 50/50 [00:08<00:00,  5.85it/s]\n"
          ]
        },
        {
          "name": "stdout",
          "output_type": "stream",
          "text": [
            "Threshold increased to: 0.10\n",
            "43 Training on replay instances...\n"
          ]
        },
        {
          "name": "stderr",
          "output_type": "stream",
          "text": [
            " 43 Policy gradient with replay...: 100%|██████████| 15/15 [00:48<00:00,  3.22s/it]\n",
            "Generating molecules...: 100%|██████████| 50/50 [00:08<00:00,  5.92it/s]\n"
          ]
        },
        {
          "name": "stdout",
          "output_type": "stream",
          "text": [
            "44 Training on replay instances...\n"
          ]
        },
        {
          "name": "stderr",
          "output_type": "stream",
          "text": [
            " 44 Policy gradient with replay...: 100%|██████████| 15/15 [00:47<00:00,  3.15s/it]\n",
            "Generating molecules...: 100%|██████████| 50/50 [00:08<00:00,  5.93it/s]\n"
          ]
        },
        {
          "name": "stdout",
          "output_type": "stream",
          "text": [
            "Threshold increased to: 0.10\n",
            "45 Training on replay instances...\n"
          ]
        },
        {
          "name": "stderr",
          "output_type": "stream",
          "text": [
            " 45 Policy gradient with replay...: 100%|██████████| 15/15 [00:47<00:00,  3.18s/it]\n",
            "Generating molecules...: 100%|██████████| 50/50 [00:08<00:00,  5.91it/s]\n"
          ]
        },
        {
          "name": "stdout",
          "output_type": "stream",
          "text": [
            "Threshold increased to: 0.11\n",
            "46 Training on replay instances...\n"
          ]
        },
        {
          "name": "stderr",
          "output_type": "stream",
          "text": [
            " 46 Policy gradient with replay...: 100%|██████████| 15/15 [00:48<00:00,  3.23s/it]\n",
            "Generating molecules...: 100%|██████████| 50/50 [00:08<00:00,  5.92it/s]\n"
          ]
        },
        {
          "name": "stdout",
          "output_type": "stream",
          "text": [
            "Threshold increased to: 0.11\n",
            "47 Training on replay instances...\n"
          ]
        },
        {
          "name": "stderr",
          "output_type": "stream",
          "text": [
            " 47 Policy gradient with replay...: 100%|██████████| 15/15 [00:48<00:00,  3.20s/it]\n",
            "Generating molecules...: 100%|██████████| 50/50 [00:08<00:00,  5.91it/s]\n"
          ]
        },
        {
          "name": "stdout",
          "output_type": "stream",
          "text": [
            "Threshold increased to: 0.12\n",
            "48 Training on replay instances...\n"
          ]
        },
        {
          "name": "stderr",
          "output_type": "stream",
          "text": [
            " 48 Policy gradient with replay...: 100%|██████████| 15/15 [00:47<00:00,  3.18s/it]\n",
            "Generating molecules...: 100%|██████████| 50/50 [00:08<00:00,  5.87it/s]\n"
          ]
        },
        {
          "name": "stdout",
          "output_type": "stream",
          "text": [
            "Threshold increased to: 0.12\n",
            "49 Training on replay instances...\n"
          ]
        },
        {
          "name": "stderr",
          "output_type": "stream",
          "text": [
            " 49 Policy gradient with replay...: 100%|██████████| 15/15 [00:46<00:00,  3.11s/it]\n",
            "Generating molecules...: 100%|██████████| 50/50 [00:08<00:00,  5.91it/s]\n"
          ]
        },
        {
          "name": "stdout",
          "output_type": "stream",
          "text": [
            "Threshold increased to: 0.13\n",
            "50 Training on replay instances...\n"
          ]
        },
        {
          "name": "stderr",
          "output_type": "stream",
          "text": [
            " 50 Policy gradient with replay...: 100%|██████████| 15/15 [00:47<00:00,  3.16s/it]\n",
            "Generating molecules...: 100%|██████████| 50/50 [00:08<00:00,  5.89it/s]\n"
          ]
        },
        {
          "name": "stdout",
          "output_type": "stream",
          "text": [
            "Threshold increased to: 0.13\n",
            "51 Training on replay instances...\n"
          ]
        },
        {
          "name": "stderr",
          "output_type": "stream",
          "text": [
            " 51 Policy gradient with replay...: 100%|██████████| 15/15 [00:49<00:00,  3.30s/it]\n",
            "Generating molecules...: 100%|██████████| 50/50 [00:08<00:00,  5.87it/s]\n"
          ]
        },
        {
          "name": "stdout",
          "output_type": "stream",
          "text": [
            "Threshold increased to: 0.14\n",
            "52 Training on replay instances...\n"
          ]
        },
        {
          "name": "stderr",
          "output_type": "stream",
          "text": [
            " 52 Policy gradient with replay...: 100%|██████████| 15/15 [00:48<00:00,  3.24s/it]\n",
            "Generating molecules...: 100%|██████████| 50/50 [00:08<00:00,  5.89it/s]\n"
          ]
        },
        {
          "name": "stdout",
          "output_type": "stream",
          "text": [
            "Threshold increased to: 0.14\n",
            "53 Training on replay instances...\n"
          ]
        },
        {
          "name": "stderr",
          "output_type": "stream",
          "text": [
            " 53 Policy gradient with replay...: 100%|██████████| 15/15 [00:46<00:00,  3.08s/it]\n",
            "Generating molecules...: 100%|██████████| 50/50 [00:08<00:00,  5.89it/s]\n"
          ]
        },
        {
          "name": "stdout",
          "output_type": "stream",
          "text": [
            "Threshold increased to: 0.15\n",
            "54 Training on replay instances...\n"
          ]
        },
        {
          "name": "stderr",
          "output_type": "stream",
          "text": [
            " 54 Policy gradient with replay...: 100%|██████████| 15/15 [00:48<00:00,  3.24s/it]\n",
            "Generating molecules...: 100%|██████████| 50/50 [00:08<00:00,  5.90it/s]\n"
          ]
        },
        {
          "name": "stdout",
          "output_type": "stream",
          "text": [
            "Threshold increased to: 0.15\n",
            "55 Training on replay instances...\n"
          ]
        },
        {
          "name": "stderr",
          "output_type": "stream",
          "text": [
            " 55 Policy gradient with replay...: 100%|██████████| 15/15 [00:46<00:00,  3.12s/it]\n",
            "Generating molecules...: 100%|██████████| 50/50 [00:08<00:00,  5.92it/s]\n"
          ]
        },
        {
          "name": "stdout",
          "output_type": "stream",
          "text": [
            "Threshold increased to: 0.16\n",
            "56 Training on replay instances...\n"
          ]
        },
        {
          "name": "stderr",
          "output_type": "stream",
          "text": [
            " 56 Policy gradient with replay...: 100%|██████████| 15/15 [00:47<00:00,  3.17s/it]\n",
            "Generating molecules...: 100%|██████████| 50/50 [00:08<00:00,  5.87it/s]\n"
          ]
        },
        {
          "name": "stdout",
          "output_type": "stream",
          "text": [
            "57 Training on replay instances...\n"
          ]
        },
        {
          "name": "stderr",
          "output_type": "stream",
          "text": [
            " 57 Policy gradient with replay...: 100%|██████████| 15/15 [00:48<00:00,  3.25s/it]\n",
            "Generating molecules...: 100%|██████████| 50/50 [00:08<00:00,  5.90it/s]\n"
          ]
        },
        {
          "name": "stdout",
          "output_type": "stream",
          "text": [
            "Threshold increased to: 0.16\n",
            "58 Training on replay instances...\n"
          ]
        },
        {
          "name": "stderr",
          "output_type": "stream",
          "text": [
            " 58 Policy gradient with replay...: 100%|██████████| 15/15 [00:47<00:00,  3.18s/it]\n",
            "Generating molecules...: 100%|██████████| 50/50 [00:08<00:00,  5.86it/s]\n"
          ]
        },
        {
          "name": "stdout",
          "output_type": "stream",
          "text": [
            "Threshold increased to: 0.17\n",
            "59 Training on replay instances...\n"
          ]
        },
        {
          "name": "stderr",
          "output_type": "stream",
          "text": [
            " 59 Policy gradient with replay...: 100%|██████████| 15/15 [00:47<00:00,  3.16s/it]\n",
            "Generating molecules...: 100%|██████████| 50/50 [00:08<00:00,  5.85it/s]\n"
          ]
        },
        {
          "name": "stdout",
          "output_type": "stream",
          "text": [
            "Threshold increased to: 0.17\n",
            "60 Training on replay instances...\n"
          ]
        },
        {
          "name": "stderr",
          "output_type": "stream",
          "text": [
            " 60 Policy gradient with replay...: 100%|██████████| 15/15 [00:49<00:00,  3.28s/it]\n",
            "Generating molecules...: 100%|██████████| 50/50 [00:08<00:00,  5.80it/s]\n"
          ]
        },
        {
          "name": "stdout",
          "output_type": "stream",
          "text": [
            "Threshold increased to: 0.18\n",
            "61 Training on replay instances...\n"
          ]
        },
        {
          "name": "stderr",
          "output_type": "stream",
          "text": [
            " 61 Policy gradient with replay...: 100%|██████████| 15/15 [00:48<00:00,  3.20s/it]\n",
            "Generating molecules...: 100%|██████████| 50/50 [00:08<00:00,  5.85it/s]\n"
          ]
        },
        {
          "name": "stdout",
          "output_type": "stream",
          "text": [
            "Threshold increased to: 0.18\n",
            "62 Training on replay instances...\n"
          ]
        },
        {
          "name": "stderr",
          "output_type": "stream",
          "text": [
            " 62 Policy gradient with replay...: 100%|██████████| 15/15 [00:47<00:00,  3.19s/it]\n",
            "Generating molecules...: 100%|██████████| 50/50 [00:08<00:00,  5.80it/s]\n"
          ]
        },
        {
          "name": "stdout",
          "output_type": "stream",
          "text": [
            "Threshold increased to: 0.19\n",
            "63 Training on replay instances...\n"
          ]
        },
        {
          "name": "stderr",
          "output_type": "stream",
          "text": [
            " 63 Policy gradient with replay...: 100%|██████████| 15/15 [00:48<00:00,  3.26s/it]\n",
            "Generating molecules...: 100%|██████████| 50/50 [00:08<00:00,  5.79it/s]\n"
          ]
        },
        {
          "name": "stdout",
          "output_type": "stream",
          "text": [
            "Threshold increased to: 0.19\n",
            "64 Training on replay instances...\n"
          ]
        },
        {
          "name": "stderr",
          "output_type": "stream",
          "text": [
            " 64 Policy gradient with replay...: 100%|██████████| 15/15 [00:48<00:00,  3.25s/it]\n",
            "Generating molecules...: 100%|██████████| 50/50 [00:08<00:00,  5.81it/s]\n"
          ]
        },
        {
          "name": "stdout",
          "output_type": "stream",
          "text": [
            "Threshold increased to: 0.20\n",
            "65 Training on replay instances...\n"
          ]
        },
        {
          "name": "stderr",
          "output_type": "stream",
          "text": [
            " 65 Policy gradient with replay...: 100%|██████████| 15/15 [00:48<00:00,  3.22s/it]\n",
            "Generating molecules...: 100%|██████████| 50/50 [00:08<00:00,  5.87it/s]\n"
          ]
        },
        {
          "name": "stdout",
          "output_type": "stream",
          "text": [
            "Threshold increased to: 0.20\n",
            "66 Training on replay instances...\n"
          ]
        },
        {
          "name": "stderr",
          "output_type": "stream",
          "text": [
            " 66 Policy gradient with replay...: 100%|██████████| 15/15 [00:49<00:00,  3.29s/it]\n",
            "Generating molecules...: 100%|██████████| 50/50 [00:08<00:00,  5.83it/s]\n"
          ]
        },
        {
          "name": "stdout",
          "output_type": "stream",
          "text": [
            "Threshold increased to: 0.21\n",
            "67 Training on replay instances...\n"
          ]
        },
        {
          "name": "stderr",
          "output_type": "stream",
          "text": [
            " 67 Policy gradient with replay...: 100%|██████████| 15/15 [00:46<00:00,  3.13s/it]\n",
            "Generating molecules...: 100%|██████████| 50/50 [00:08<00:00,  5.82it/s]\n"
          ]
        },
        {
          "name": "stdout",
          "output_type": "stream",
          "text": [
            "68 Training on replay instances...\n"
          ]
        },
        {
          "name": "stderr",
          "output_type": "stream",
          "text": [
            " 68 Policy gradient with replay...: 100%|██████████| 15/15 [00:47<00:00,  3.16s/it]\n",
            "Generating molecules...: 100%|██████████| 50/50 [00:08<00:00,  5.84it/s]\n"
          ]
        },
        {
          "name": "stdout",
          "output_type": "stream",
          "text": [
            "69 Training on replay instances...\n"
          ]
        },
        {
          "name": "stderr",
          "output_type": "stream",
          "text": [
            " 69 Policy gradient with replay...: 100%|██████████| 15/15 [00:49<00:00,  3.28s/it]\n",
            "Generating molecules...: 100%|██████████| 50/50 [00:08<00:00,  5.77it/s]\n"
          ]
        },
        {
          "name": "stdout",
          "output_type": "stream",
          "text": [
            "70 Training on replay instances...\n"
          ]
        },
        {
          "name": "stderr",
          "output_type": "stream",
          "text": [
            " 70 Policy gradient with replay...: 100%|██████████| 15/15 [00:47<00:00,  3.19s/it]\n",
            "Generating molecules...: 100%|██████████| 50/50 [00:08<00:00,  5.83it/s]\n"
          ]
        },
        {
          "name": "stdout",
          "output_type": "stream",
          "text": [
            "71 Training on replay instances...\n"
          ]
        },
        {
          "name": "stderr",
          "output_type": "stream",
          "text": [
            " 71 Policy gradient with replay...: 100%|██████████| 15/15 [00:47<00:00,  3.17s/it]\n",
            "Generating molecules...: 100%|██████████| 50/50 [00:08<00:00,  5.82it/s]\n"
          ]
        },
        {
          "name": "stdout",
          "output_type": "stream",
          "text": [
            "72 Training on replay instances...\n"
          ]
        },
        {
          "name": "stderr",
          "output_type": "stream",
          "text": [
            " 72 Policy gradient with replay...: 100%|██████████| 15/15 [00:48<00:00,  3.22s/it]\n",
            "Generating molecules...: 100%|██████████| 50/50 [00:08<00:00,  5.83it/s]\n"
          ]
        },
        {
          "name": "stdout",
          "output_type": "stream",
          "text": [
            "73 Training on replay instances...\n"
          ]
        },
        {
          "name": "stderr",
          "output_type": "stream",
          "text": [
            " 73 Policy gradient with replay...: 100%|██████████| 15/15 [00:48<00:00,  3.23s/it]\n",
            "Generating molecules...: 100%|██████████| 50/50 [00:08<00:00,  5.82it/s]\n"
          ]
        },
        {
          "name": "stdout",
          "output_type": "stream",
          "text": [
            "Threshold increased to: 0.21\n",
            "74 Training on replay instances...\n"
          ]
        },
        {
          "name": "stderr",
          "output_type": "stream",
          "text": [
            " 74 Policy gradient with replay...: 100%|██████████| 15/15 [00:47<00:00,  3.20s/it]\n",
            "Generating molecules...: 100%|██████████| 50/50 [00:08<00:00,  5.84it/s]\n"
          ]
        },
        {
          "name": "stdout",
          "output_type": "stream",
          "text": [
            "75 Training on replay instances...\n"
          ]
        },
        {
          "name": "stderr",
          "output_type": "stream",
          "text": [
            " 75 Policy gradient with replay...: 100%|██████████| 15/15 [00:48<00:00,  3.23s/it]\n",
            "Generating molecules...: 100%|██████████| 50/50 [00:08<00:00,  5.83it/s]\n"
          ]
        },
        {
          "name": "stdout",
          "output_type": "stream",
          "text": [
            "76 Training on replay instances...\n"
          ]
        },
        {
          "name": "stderr",
          "output_type": "stream",
          "text": [
            " 76 Policy gradient with replay...: 100%|██████████| 15/15 [00:47<00:00,  3.18s/it]\n",
            "Generating molecules...: 100%|██████████| 50/50 [00:08<00:00,  5.84it/s]\n"
          ]
        },
        {
          "name": "stdout",
          "output_type": "stream",
          "text": [
            "77 Training on replay instances...\n"
          ]
        },
        {
          "name": "stderr",
          "output_type": "stream",
          "text": [
            " 77 Policy gradient with replay...: 100%|██████████| 15/15 [00:49<00:00,  3.27s/it]\n",
            "Generating molecules...: 100%|██████████| 50/50 [00:08<00:00,  5.84it/s]\n"
          ]
        },
        {
          "name": "stdout",
          "output_type": "stream",
          "text": [
            "Threshold increased to: 0.22\n",
            "78 Training on replay instances...\n"
          ]
        },
        {
          "name": "stderr",
          "output_type": "stream",
          "text": [
            " 78 Policy gradient with replay...: 100%|██████████| 15/15 [00:46<00:00,  3.13s/it]\n",
            "Generating molecules...: 100%|██████████| 50/50 [00:08<00:00,  5.79it/s]\n"
          ]
        },
        {
          "name": "stdout",
          "output_type": "stream",
          "text": [
            "Threshold increased to: 0.22\n",
            "79 Training on replay instances...\n"
          ]
        },
        {
          "name": "stderr",
          "output_type": "stream",
          "text": [
            " 79 Policy gradient with replay...: 100%|██████████| 15/15 [00:47<00:00,  3.19s/it]\n",
            "Generating molecules...: 100%|██████████| 50/50 [00:08<00:00,  5.84it/s]\n"
          ]
        },
        {
          "name": "stdout",
          "output_type": "stream",
          "text": [
            "Threshold increased to: 0.23\n",
            "80 Training on replay instances...\n"
          ]
        },
        {
          "name": "stderr",
          "output_type": "stream",
          "text": [
            " 80 Policy gradient with replay...: 100%|██████████| 15/15 [00:47<00:00,  3.19s/it]\n",
            "Generating molecules...: 100%|██████████| 50/50 [00:08<00:00,  5.82it/s]\n"
          ]
        },
        {
          "name": "stdout",
          "output_type": "stream",
          "text": [
            "Threshold increased to: 0.23\n",
            "81 Training on replay instances...\n"
          ]
        },
        {
          "name": "stderr",
          "output_type": "stream",
          "text": [
            " 81 Policy gradient with replay...: 100%|██████████| 15/15 [00:49<00:00,  3.28s/it]\n",
            "Generating molecules...: 100%|██████████| 50/50 [00:08<00:00,  5.89it/s]\n"
          ]
        },
        {
          "name": "stdout",
          "output_type": "stream",
          "text": [
            "Threshold increased to: 0.24\n",
            "82 Training on replay instances...\n"
          ]
        },
        {
          "name": "stderr",
          "output_type": "stream",
          "text": [
            " 82 Policy gradient with replay...: 100%|██████████| 15/15 [00:47<00:00,  3.15s/it]\n",
            "Generating molecules...: 100%|██████████| 50/50 [00:08<00:00,  5.82it/s]\n"
          ]
        },
        {
          "name": "stdout",
          "output_type": "stream",
          "text": [
            "Threshold increased to: 0.24\n",
            "83 Training on replay instances...\n"
          ]
        },
        {
          "name": "stderr",
          "output_type": "stream",
          "text": [
            " 83 Policy gradient with replay...: 100%|██████████| 15/15 [00:48<00:00,  3.21s/it]\n",
            "Generating molecules...: 100%|██████████| 50/50 [00:08<00:00,  5.81it/s]\n"
          ]
        },
        {
          "name": "stdout",
          "output_type": "stream",
          "text": [
            "Threshold increased to: 0.25\n",
            "84 Training on replay instances...\n"
          ]
        },
        {
          "name": "stderr",
          "output_type": "stream",
          "text": [
            " 84 Policy gradient with replay...: 100%|██████████| 15/15 [00:48<00:00,  3.21s/it]\n",
            "Generating molecules...: 100%|██████████| 50/50 [00:08<00:00,  5.86it/s]\n"
          ]
        },
        {
          "name": "stdout",
          "output_type": "stream",
          "text": [
            "Threshold increased to: 0.25\n",
            "85 Training on replay instances...\n"
          ]
        },
        {
          "name": "stderr",
          "output_type": "stream",
          "text": [
            " 85 Policy gradient with replay...: 100%|██████████| 15/15 [00:48<00:00,  3.24s/it]\n",
            "Generating molecules...: 100%|██████████| 50/50 [00:08<00:00,  5.82it/s]\n"
          ]
        },
        {
          "name": "stdout",
          "output_type": "stream",
          "text": [
            "Threshold increased to: 0.26\n",
            "86 Training on replay instances...\n"
          ]
        },
        {
          "name": "stderr",
          "output_type": "stream",
          "text": [
            " 86 Policy gradient with replay...: 100%|██████████| 15/15 [00:48<00:00,  3.21s/it]\n",
            "Generating molecules...: 100%|██████████| 50/50 [00:08<00:00,  5.84it/s]\n"
          ]
        },
        {
          "name": "stdout",
          "output_type": "stream",
          "text": [
            "Threshold increased to: 0.26\n",
            "87 Training on replay instances...\n"
          ]
        },
        {
          "name": "stderr",
          "output_type": "stream",
          "text": [
            " 87 Policy gradient with replay...: 100%|██████████| 15/15 [00:47<00:00,  3.18s/it]\n",
            "Generating molecules...: 100%|██████████| 50/50 [00:08<00:00,  5.82it/s]\n"
          ]
        },
        {
          "name": "stdout",
          "output_type": "stream",
          "text": [
            "Threshold increased to: 0.27\n",
            "88 Training on replay instances...\n"
          ]
        },
        {
          "name": "stderr",
          "output_type": "stream",
          "text": [
            " 88 Policy gradient with replay...: 100%|██████████| 15/15 [00:48<00:00,  3.21s/it]\n",
            "Generating molecules...: 100%|██████████| 50/50 [00:08<00:00,  5.82it/s]\n"
          ]
        },
        {
          "name": "stdout",
          "output_type": "stream",
          "text": [
            "Threshold increased to: 0.27\n",
            "89 Training on replay instances...\n"
          ]
        },
        {
          "name": "stderr",
          "output_type": "stream",
          "text": [
            " 89 Policy gradient with replay...: 100%|██████████| 15/15 [00:49<00:00,  3.29s/it]\n",
            "Generating molecules...: 100%|██████████| 50/50 [00:08<00:00,  5.87it/s]\n"
          ]
        },
        {
          "name": "stdout",
          "output_type": "stream",
          "text": [
            "Threshold increased to: 0.28\n",
            "90 Training on replay instances...\n"
          ]
        },
        {
          "name": "stderr",
          "output_type": "stream",
          "text": [
            " 90 Policy gradient with replay...: 100%|██████████| 15/15 [00:48<00:00,  3.22s/it]\n",
            "Generating molecules...: 100%|██████████| 50/50 [00:08<00:00,  5.85it/s]\n"
          ]
        },
        {
          "name": "stdout",
          "output_type": "stream",
          "text": [
            "Threshold increased to: 0.28\n",
            "91 Training on replay instances...\n"
          ]
        },
        {
          "name": "stderr",
          "output_type": "stream",
          "text": [
            " 91 Policy gradient with replay...: 100%|██████████| 15/15 [00:48<00:00,  3.24s/it]\n",
            "Generating molecules...: 100%|██████████| 50/50 [00:08<00:00,  5.86it/s]\n"
          ]
        },
        {
          "name": "stdout",
          "output_type": "stream",
          "text": [
            "92 Training on replay instances...\n"
          ]
        },
        {
          "name": "stderr",
          "output_type": "stream",
          "text": [
            " 92 Policy gradient with replay...: 100%|██████████| 15/15 [00:46<00:00,  3.09s/it]\n",
            "Generating molecules...: 100%|██████████| 50/50 [00:08<00:00,  5.82it/s]\n"
          ]
        },
        {
          "name": "stdout",
          "output_type": "stream",
          "text": [
            "Threshold increased to: 0.29\n",
            "93 Training on replay instances...\n"
          ]
        },
        {
          "name": "stderr",
          "output_type": "stream",
          "text": [
            " 93 Policy gradient with replay...: 100%|██████████| 15/15 [00:49<00:00,  3.30s/it]\n",
            "Generating molecules...: 100%|██████████| 50/50 [00:08<00:00,  5.90it/s]\n"
          ]
        },
        {
          "name": "stdout",
          "output_type": "stream",
          "text": [
            "Threshold increased to: 0.29\n",
            "94 Training on replay instances...\n"
          ]
        },
        {
          "name": "stderr",
          "output_type": "stream",
          "text": [
            " 94 Policy gradient with replay...: 100%|██████████| 15/15 [00:48<00:00,  3.20s/it]\n",
            "Generating molecules...: 100%|██████████| 50/50 [00:08<00:00,  5.81it/s]\n"
          ]
        },
        {
          "name": "stdout",
          "output_type": "stream",
          "text": [
            "Threshold increased to: 0.30\n",
            "95 Training on replay instances...\n"
          ]
        },
        {
          "name": "stderr",
          "output_type": "stream",
          "text": [
            " 95 Policy gradient with replay...: 100%|██████████| 15/15 [00:46<00:00,  3.12s/it]\n",
            "Generating molecules...: 100%|██████████| 50/50 [00:08<00:00,  5.82it/s]\n"
          ]
        },
        {
          "name": "stdout",
          "output_type": "stream",
          "text": [
            "96 Training on replay instances...\n"
          ]
        },
        {
          "name": "stderr",
          "output_type": "stream",
          "text": [
            " 96 Policy gradient with replay...: 100%|██████████| 15/15 [00:48<00:00,  3.20s/it]\n",
            "Generating molecules...: 100%|██████████| 50/50 [00:08<00:00,  5.85it/s]\n"
          ]
        },
        {
          "name": "stdout",
          "output_type": "stream",
          "text": [
            "Threshold increased to: 0.30\n",
            "97 Training on replay instances...\n"
          ]
        },
        {
          "name": "stderr",
          "output_type": "stream",
          "text": [
            " 97 Policy gradient with replay...: 100%|██████████| 15/15 [00:47<00:00,  3.17s/it]\n",
            "Generating molecules...: 100%|██████████| 50/50 [00:08<00:00,  5.85it/s]\n"
          ]
        },
        {
          "name": "stdout",
          "output_type": "stream",
          "text": [
            "Threshold increased to: 0.31\n",
            "98 Training on replay instances...\n"
          ]
        },
        {
          "name": "stderr",
          "output_type": "stream",
          "text": [
            " 98 Policy gradient with replay...: 100%|██████████| 15/15 [00:49<00:00,  3.29s/it]\n",
            "Generating molecules...: 100%|██████████| 50/50 [00:08<00:00,  5.85it/s]\n"
          ]
        },
        {
          "name": "stdout",
          "output_type": "stream",
          "text": [
            "Threshold increased to: 0.31\n",
            "99 Training on replay instances...\n"
          ]
        },
        {
          "name": "stderr",
          "output_type": "stream",
          "text": [
            " 99 Policy gradient with replay...: 100%|██████████| 15/15 [00:48<00:00,  3.21s/it]\n",
            "Generating molecules...: 100%|██████████| 50/50 [00:08<00:00,  5.85it/s]\n"
          ]
        },
        {
          "name": "stdout",
          "output_type": "stream",
          "text": [
            "100 Training on replay instances...\n"
          ]
        },
        {
          "name": "stderr",
          "output_type": "stream",
          "text": [
            " 100 Policy gradient with replay...: 100%|██████████| 15/15 [00:46<00:00,  3.11s/it]\n",
            "Generating molecules...: 100%|██████████| 50/50 [00:08<00:00,  5.82it/s]\n"
          ]
        },
        {
          "name": "stdout",
          "output_type": "stream",
          "text": [
            "Threshold increased to: 0.32\n",
            "101 Training on replay instances...\n"
          ]
        },
        {
          "name": "stderr",
          "output_type": "stream",
          "text": [
            " 101 Policy gradient with replay...: 100%|██████████| 15/15 [00:48<00:00,  3.21s/it]\n",
            "Generating molecules...: 100%|██████████| 50/50 [00:08<00:00,  5.83it/s]\n"
          ]
        },
        {
          "name": "stdout",
          "output_type": "stream",
          "text": [
            "Threshold increased to: 0.32\n",
            "102 Training on replay instances...\n"
          ]
        },
        {
          "name": "stderr",
          "output_type": "stream",
          "text": [
            " 102 Policy gradient with replay...: 100%|██████████| 15/15 [00:47<00:00,  3.16s/it]\n",
            "Generating molecules...: 100%|██████████| 50/50 [00:08<00:00,  5.87it/s]\n"
          ]
        },
        {
          "name": "stdout",
          "output_type": "stream",
          "text": [
            "Threshold increased to: 0.33\n",
            "103 Training on replay instances...\n"
          ]
        },
        {
          "name": "stderr",
          "output_type": "stream",
          "text": [
            " 103 Policy gradient with replay...: 100%|██████████| 15/15 [00:48<00:00,  3.26s/it]\n",
            "Generating molecules...: 100%|██████████| 50/50 [00:08<00:00,  5.89it/s]\n"
          ]
        },
        {
          "name": "stdout",
          "output_type": "stream",
          "text": [
            "Threshold increased to: 0.33\n",
            "104 Training on replay instances...\n"
          ]
        },
        {
          "name": "stderr",
          "output_type": "stream",
          "text": [
            " 104 Policy gradient with replay...: 100%|██████████| 15/15 [00:47<00:00,  3.17s/it]\n",
            "Generating molecules...: 100%|██████████| 50/50 [00:08<00:00,  5.83it/s]\n"
          ]
        },
        {
          "name": "stdout",
          "output_type": "stream",
          "text": [
            "Threshold increased to: 0.34\n",
            "105 Training on replay instances...\n"
          ]
        },
        {
          "name": "stderr",
          "output_type": "stream",
          "text": [
            " 105 Policy gradient with replay...: 100%|██████████| 15/15 [00:47<00:00,  3.18s/it]\n",
            "Generating molecules...: 100%|██████████| 50/50 [00:08<00:00,  5.86it/s]\n"
          ]
        },
        {
          "name": "stdout",
          "output_type": "stream",
          "text": [
            "Threshold increased to: 0.34\n",
            "106 Training on replay instances...\n"
          ]
        },
        {
          "name": "stderr",
          "output_type": "stream",
          "text": [
            " 106 Policy gradient with replay...: 100%|██████████| 15/15 [00:48<00:00,  3.24s/it]\n",
            "Generating molecules...: 100%|██████████| 50/50 [00:08<00:00,  5.84it/s]\n"
          ]
        },
        {
          "name": "stdout",
          "output_type": "stream",
          "text": [
            "Threshold increased to: 0.35\n",
            "107 Training on replay instances...\n"
          ]
        },
        {
          "name": "stderr",
          "output_type": "stream",
          "text": [
            " 107 Policy gradient with replay...: 100%|██████████| 15/15 [00:47<00:00,  3.19s/it]\n",
            "Generating molecules...: 100%|██████████| 50/50 [00:08<00:00,  5.81it/s]\n"
          ]
        },
        {
          "name": "stdout",
          "output_type": "stream",
          "text": [
            "Threshold increased to: 0.35\n",
            "108 Training on replay instances...\n"
          ]
        },
        {
          "name": "stderr",
          "output_type": "stream",
          "text": [
            " 108 Policy gradient with replay...: 100%|██████████| 15/15 [00:50<00:00,  3.34s/it]\n",
            "Generating molecules...: 100%|██████████| 50/50 [00:08<00:00,  5.83it/s]\n"
          ]
        },
        {
          "name": "stdout",
          "output_type": "stream",
          "text": [
            "Threshold increased to: 0.36\n",
            "109 Training on replay instances...\n"
          ]
        },
        {
          "name": "stderr",
          "output_type": "stream",
          "text": [
            " 109 Policy gradient with replay...: 100%|██████████| 15/15 [00:47<00:00,  3.16s/it]\n",
            "Generating molecules...: 100%|██████████| 50/50 [00:08<00:00,  5.85it/s]\n"
          ]
        },
        {
          "name": "stdout",
          "output_type": "stream",
          "text": [
            "110 Training on replay instances...\n"
          ]
        },
        {
          "name": "stderr",
          "output_type": "stream",
          "text": [
            " 110 Policy gradient with replay...: 100%|██████████| 15/15 [00:47<00:00,  3.20s/it]\n",
            "Generating molecules...: 100%|██████████| 50/50 [00:08<00:00,  5.82it/s]\n"
          ]
        },
        {
          "name": "stdout",
          "output_type": "stream",
          "text": [
            "111 Training on replay instances...\n"
          ]
        },
        {
          "name": "stderr",
          "output_type": "stream",
          "text": [
            " 111 Policy gradient with replay...: 100%|██████████| 15/15 [00:46<00:00,  3.12s/it]\n",
            "Generating molecules...: 100%|██████████| 50/50 [00:08<00:00,  5.82it/s]\n"
          ]
        },
        {
          "name": "stdout",
          "output_type": "stream",
          "text": [
            "112 Training on replay instances...\n"
          ]
        },
        {
          "name": "stderr",
          "output_type": "stream",
          "text": [
            " 112 Policy gradient with replay...: 100%|██████████| 15/15 [00:47<00:00,  3.16s/it]\n",
            "Generating molecules...: 100%|██████████| 50/50 [00:08<00:00,  5.83it/s]\n"
          ]
        },
        {
          "name": "stdout",
          "output_type": "stream",
          "text": [
            "Threshold increased to: 0.36\n",
            "113 Training on replay instances...\n"
          ]
        },
        {
          "name": "stderr",
          "output_type": "stream",
          "text": [
            " 113 Policy gradient with replay...: 100%|██████████| 15/15 [00:48<00:00,  3.25s/it]\n",
            "Generating molecules...: 100%|██████████| 50/50 [00:08<00:00,  5.86it/s]\n"
          ]
        },
        {
          "name": "stdout",
          "output_type": "stream",
          "text": [
            "Threshold increased to: 0.37\n",
            "114 Training on replay instances...\n"
          ]
        },
        {
          "name": "stderr",
          "output_type": "stream",
          "text": [
            " 114 Policy gradient with replay...: 100%|██████████| 15/15 [00:48<00:00,  3.25s/it]\n",
            "Generating molecules...: 100%|██████████| 50/50 [00:08<00:00,  5.83it/s]\n"
          ]
        },
        {
          "name": "stdout",
          "output_type": "stream",
          "text": [
            "Threshold increased to: 0.37\n",
            "115 Training on replay instances...\n"
          ]
        },
        {
          "name": "stderr",
          "output_type": "stream",
          "text": [
            " 115 Policy gradient with replay...: 100%|██████████| 15/15 [00:47<00:00,  3.15s/it]\n",
            "Generating molecules...: 100%|██████████| 50/50 [00:08<00:00,  5.80it/s]\n"
          ]
        },
        {
          "name": "stdout",
          "output_type": "stream",
          "text": [
            "Threshold increased to: 0.38\n",
            "116 Training on replay instances...\n"
          ]
        },
        {
          "name": "stderr",
          "output_type": "stream",
          "text": [
            " 116 Policy gradient with replay...: 100%|██████████| 15/15 [00:47<00:00,  3.18s/it]\n",
            "Generating molecules...: 100%|██████████| 50/50 [00:08<00:00,  5.85it/s]\n"
          ]
        },
        {
          "name": "stdout",
          "output_type": "stream",
          "text": [
            "Threshold increased to: 0.38\n",
            "117 Training on replay instances...\n"
          ]
        },
        {
          "name": "stderr",
          "output_type": "stream",
          "text": [
            " 117 Policy gradient with replay...: 100%|██████████| 15/15 [00:47<00:00,  3.13s/it]\n",
            "Generating molecules...: 100%|██████████| 50/50 [00:08<00:00,  5.87it/s]\n"
          ]
        },
        {
          "name": "stdout",
          "output_type": "stream",
          "text": [
            "Threshold increased to: 0.39\n",
            "118 Training on replay instances...\n"
          ]
        },
        {
          "name": "stderr",
          "output_type": "stream",
          "text": [
            " 118 Policy gradient with replay...: 100%|██████████| 15/15 [00:48<00:00,  3.22s/it]\n",
            "Generating molecules...: 100%|██████████| 50/50 [00:08<00:00,  5.86it/s]\n"
          ]
        },
        {
          "name": "stdout",
          "output_type": "stream",
          "text": [
            "Threshold increased to: 0.39\n",
            "119 Training on replay instances...\n"
          ]
        },
        {
          "name": "stderr",
          "output_type": "stream",
          "text": [
            " 119 Policy gradient with replay...: 100%|██████████| 15/15 [00:49<00:00,  3.32s/it]\n",
            "Generating molecules...: 100%|██████████| 50/50 [00:08<00:00,  5.83it/s]\n"
          ]
        },
        {
          "name": "stdout",
          "output_type": "stream",
          "text": [
            "Threshold increased to: 0.40\n",
            "120 Training on replay instances...\n"
          ]
        },
        {
          "name": "stderr",
          "output_type": "stream",
          "text": [
            " 120 Policy gradient with replay...: 100%|██████████| 15/15 [00:47<00:00,  3.18s/it]\n",
            "Generating molecules...: 100%|██████████| 50/50 [00:08<00:00,  5.79it/s]\n"
          ]
        },
        {
          "name": "stdout",
          "output_type": "stream",
          "text": [
            "Threshold increased to: 0.40\n",
            "121 Training on replay instances...\n"
          ]
        },
        {
          "name": "stderr",
          "output_type": "stream",
          "text": [
            " 121 Policy gradient with replay...: 100%|██████████| 15/15 [00:47<00:00,  3.18s/it]\n",
            "Generating molecules...: 100%|██████████| 50/50 [00:08<00:00,  5.83it/s]\n"
          ]
        },
        {
          "name": "stdout",
          "output_type": "stream",
          "text": [
            "Threshold increased to: 0.41\n",
            "122 Training on replay instances...\n"
          ]
        },
        {
          "name": "stderr",
          "output_type": "stream",
          "text": [
            " 122 Policy gradient with replay...: 100%|██████████| 15/15 [00:47<00:00,  3.18s/it]\n",
            "Generating molecules...: 100%|██████████| 50/50 [00:08<00:00,  5.82it/s]\n"
          ]
        },
        {
          "name": "stdout",
          "output_type": "stream",
          "text": [
            "Threshold increased to: 0.41\n",
            "123 Training on replay instances...\n"
          ]
        },
        {
          "name": "stderr",
          "output_type": "stream",
          "text": [
            " 123 Policy gradient with replay...: 100%|██████████| 15/15 [00:48<00:00,  3.22s/it]\n",
            "Generating molecules...: 100%|██████████| 50/50 [00:08<00:00,  5.82it/s]\n"
          ]
        },
        {
          "name": "stdout",
          "output_type": "stream",
          "text": [
            "Threshold increased to: 0.42\n",
            "124 Training on replay instances...\n"
          ]
        },
        {
          "name": "stderr",
          "output_type": "stream",
          "text": [
            " 124 Policy gradient with replay...: 100%|██████████| 15/15 [00:47<00:00,  3.19s/it]\n",
            "Generating molecules...: 100%|██████████| 50/50 [00:08<00:00,  5.82it/s]\n"
          ]
        },
        {
          "name": "stdout",
          "output_type": "stream",
          "text": [
            "Threshold increased to: 0.42\n",
            "125 Training on replay instances...\n"
          ]
        },
        {
          "name": "stderr",
          "output_type": "stream",
          "text": [
            " 125 Policy gradient with replay...: 100%|██████████| 15/15 [00:50<00:00,  3.36s/it]\n",
            "Generating molecules...: 100%|██████████| 50/50 [00:08<00:00,  5.81it/s]\n"
          ]
        },
        {
          "name": "stdout",
          "output_type": "stream",
          "text": [
            "126 Training on replay instances...\n"
          ]
        },
        {
          "name": "stderr",
          "output_type": "stream",
          "text": [
            " 126 Policy gradient with replay...: 100%|██████████| 15/15 [00:47<00:00,  3.20s/it]\n",
            "Generating molecules...: 100%|██████████| 50/50 [00:08<00:00,  5.84it/s]\n"
          ]
        },
        {
          "name": "stdout",
          "output_type": "stream",
          "text": [
            "Threshold increased to: 0.43\n",
            "127 Training on replay instances...\n"
          ]
        },
        {
          "name": "stderr",
          "output_type": "stream",
          "text": [
            " 127 Policy gradient with replay...: 100%|██████████| 15/15 [00:47<00:00,  3.18s/it]\n",
            "Generating molecules...: 100%|██████████| 50/50 [00:08<00:00,  5.85it/s]\n"
          ]
        },
        {
          "name": "stdout",
          "output_type": "stream",
          "text": [
            "128 Training on replay instances...\n"
          ]
        },
        {
          "name": "stderr",
          "output_type": "stream",
          "text": [
            " 128 Policy gradient with replay...: 100%|██████████| 15/15 [00:48<00:00,  3.22s/it]\n",
            "Generating molecules...: 100%|██████████| 50/50 [00:08<00:00,  5.80it/s]\n"
          ]
        },
        {
          "name": "stdout",
          "output_type": "stream",
          "text": [
            "129 Training on replay instances...\n"
          ]
        },
        {
          "name": "stderr",
          "output_type": "stream",
          "text": [
            " 129 Policy gradient with replay...: 100%|██████████| 15/15 [00:47<00:00,  3.14s/it]\n",
            "Generating molecules...: 100%|██████████| 50/50 [00:08<00:00,  5.83it/s]\n"
          ]
        },
        {
          "name": "stdout",
          "output_type": "stream",
          "text": [
            "Threshold increased to: 0.43\n",
            "130 Training on replay instances...\n"
          ]
        },
        {
          "name": "stderr",
          "output_type": "stream",
          "text": [
            " 130 Policy gradient with replay...: 100%|██████████| 15/15 [00:48<00:00,  3.24s/it]\n",
            "Generating molecules...: 100%|██████████| 50/50 [00:08<00:00,  5.82it/s]\n"
          ]
        },
        {
          "name": "stdout",
          "output_type": "stream",
          "text": [
            "Threshold increased to: 0.44\n",
            "131 Training on replay instances...\n"
          ]
        },
        {
          "name": "stderr",
          "output_type": "stream",
          "text": [
            " 131 Policy gradient with replay...: 100%|██████████| 15/15 [00:50<00:00,  3.40s/it]\n",
            "Generating molecules...: 100%|██████████| 50/50 [00:08<00:00,  5.82it/s]\n"
          ]
        },
        {
          "name": "stdout",
          "output_type": "stream",
          "text": [
            "Threshold increased to: 0.44\n",
            "132 Training on replay instances...\n"
          ]
        },
        {
          "name": "stderr",
          "output_type": "stream",
          "text": [
            " 132 Policy gradient with replay...: 100%|██████████| 15/15 [00:47<00:00,  3.19s/it]\n",
            "Generating molecules...: 100%|██████████| 50/50 [00:08<00:00,  5.87it/s]\n"
          ]
        },
        {
          "name": "stdout",
          "output_type": "stream",
          "text": [
            "Threshold increased to: 0.45\n",
            "133 Training on replay instances...\n"
          ]
        },
        {
          "name": "stderr",
          "output_type": "stream",
          "text": [
            " 133 Policy gradient with replay...: 100%|██████████| 15/15 [00:48<00:00,  3.23s/it]\n",
            "Generating molecules...: 100%|██████████| 50/50 [00:08<00:00,  5.77it/s]\n"
          ]
        },
        {
          "name": "stdout",
          "output_type": "stream",
          "text": [
            "Threshold increased to: 0.45\n",
            "134 Training on replay instances...\n"
          ]
        },
        {
          "name": "stderr",
          "output_type": "stream",
          "text": [
            " 134 Policy gradient with replay...: 100%|██████████| 15/15 [00:48<00:00,  3.24s/it]\n",
            "Generating molecules...: 100%|██████████| 50/50 [00:08<00:00,  5.82it/s]\n"
          ]
        },
        {
          "name": "stdout",
          "output_type": "stream",
          "text": [
            "Threshold increased to: 0.46\n",
            "135 Training on replay instances...\n"
          ]
        },
        {
          "name": "stderr",
          "output_type": "stream",
          "text": [
            " 135 Policy gradient with replay...: 100%|██████████| 15/15 [00:47<00:00,  3.19s/it]\n",
            "Generating molecules...: 100%|██████████| 50/50 [00:08<00:00,  5.83it/s]\n"
          ]
        },
        {
          "name": "stdout",
          "output_type": "stream",
          "text": [
            "Threshold increased to: 0.46\n",
            "136 Training on replay instances...\n"
          ]
        },
        {
          "name": "stderr",
          "output_type": "stream",
          "text": [
            " 136 Policy gradient with replay...: 100%|██████████| 15/15 [00:47<00:00,  3.19s/it]\n",
            "Generating molecules...: 100%|██████████| 50/50 [00:08<00:00,  5.86it/s]\n"
          ]
        },
        {
          "name": "stdout",
          "output_type": "stream",
          "text": [
            "Threshold increased to: 0.47\n",
            "137 Training on replay instances...\n"
          ]
        },
        {
          "name": "stderr",
          "output_type": "stream",
          "text": [
            " 137 Policy gradient with replay...: 100%|██████████| 15/15 [00:50<00:00,  3.37s/it]\n",
            "Generating molecules...: 100%|██████████| 50/50 [00:08<00:00,  5.82it/s]\n"
          ]
        },
        {
          "name": "stdout",
          "output_type": "stream",
          "text": [
            "Threshold increased to: 0.47\n",
            "138 Training on replay instances...\n"
          ]
        },
        {
          "name": "stderr",
          "output_type": "stream",
          "text": [
            " 138 Policy gradient with replay...: 100%|██████████| 15/15 [00:47<00:00,  3.16s/it]\n",
            "Generating molecules...: 100%|██████████| 50/50 [00:08<00:00,  5.83it/s]\n"
          ]
        },
        {
          "name": "stdout",
          "output_type": "stream",
          "text": [
            "Threshold increased to: 0.48\n",
            "139 Training on replay instances...\n"
          ]
        },
        {
          "name": "stderr",
          "output_type": "stream",
          "text": [
            " 139 Policy gradient with replay...: 100%|██████████| 15/15 [00:47<00:00,  3.19s/it]\n",
            "Generating molecules...: 100%|██████████| 50/50 [00:08<00:00,  5.81it/s]\n"
          ]
        },
        {
          "name": "stdout",
          "output_type": "stream",
          "text": [
            "Threshold increased to: 0.48\n",
            "140 Training on replay instances...\n"
          ]
        },
        {
          "name": "stderr",
          "output_type": "stream",
          "text": [
            " 140 Policy gradient with replay...: 100%|██████████| 15/15 [00:48<00:00,  3.21s/it]\n",
            "Generating molecules...: 100%|██████████| 50/50 [00:08<00:00,  5.82it/s]\n"
          ]
        },
        {
          "name": "stdout",
          "output_type": "stream",
          "text": [
            "Threshold increased to: 0.49\n",
            "141 Training on replay instances...\n"
          ]
        },
        {
          "name": "stderr",
          "output_type": "stream",
          "text": [
            " 141 Policy gradient with replay...: 100%|██████████| 15/15 [00:48<00:00,  3.23s/it]\n",
            "Generating molecules...: 100%|██████████| 50/50 [00:08<00:00,  5.77it/s]\n"
          ]
        },
        {
          "name": "stdout",
          "output_type": "stream",
          "text": [
            "Threshold increased to: 0.49\n",
            "142 Training on replay instances...\n"
          ]
        },
        {
          "name": "stderr",
          "output_type": "stream",
          "text": [
            " 142 Policy gradient with replay...: 100%|██████████| 15/15 [00:48<00:00,  3.23s/it]\n",
            "Generating molecules...: 100%|██████████| 50/50 [00:08<00:00,  5.78it/s]\n"
          ]
        },
        {
          "name": "stdout",
          "output_type": "stream",
          "text": [
            "143 Training on replay instances...\n"
          ]
        },
        {
          "name": "stderr",
          "output_type": "stream",
          "text": [
            " 143 Policy gradient with replay...: 100%|██████████| 15/15 [00:48<00:00,  3.21s/it]\n",
            "Generating molecules...: 100%|██████████| 50/50 [00:08<00:00,  5.81it/s]\n"
          ]
        },
        {
          "name": "stdout",
          "output_type": "stream",
          "text": [
            "Threshold increased to: 0.50\n",
            "144 Training on replay instances...\n"
          ]
        },
        {
          "name": "stderr",
          "output_type": "stream",
          "text": [
            " 144 Policy gradient with replay...: 100%|██████████| 15/15 [00:50<00:00,  3.37s/it]\n",
            "Generating molecules...: 100%|██████████| 50/50 [00:08<00:00,  5.79it/s]\n"
          ]
        },
        {
          "name": "stdout",
          "output_type": "stream",
          "text": [
            "Threshold increased to: 0.50\n",
            "145 Training on replay instances...\n"
          ]
        },
        {
          "name": "stderr",
          "output_type": "stream",
          "text": [
            " 145 Policy gradient with replay...: 100%|██████████| 15/15 [00:47<00:00,  3.19s/it]\n",
            "Generating molecules...: 100%|██████████| 50/50 [00:08<00:00,  5.83it/s]\n"
          ]
        },
        {
          "name": "stdout",
          "output_type": "stream",
          "text": [
            "146 Training on replay instances...\n"
          ]
        },
        {
          "name": "stderr",
          "output_type": "stream",
          "text": [
            " 146 Policy gradient with replay...: 100%|██████████| 15/15 [00:48<00:00,  3.22s/it]\n",
            "Generating molecules...: 100%|██████████| 50/50 [00:08<00:00,  5.80it/s]\n"
          ]
        },
        {
          "name": "stdout",
          "output_type": "stream",
          "text": [
            "Threshold increased to: 0.51\n",
            "147 Training on replay instances...\n"
          ]
        },
        {
          "name": "stderr",
          "output_type": "stream",
          "text": [
            " 147 Policy gradient with replay...: 100%|██████████| 15/15 [00:46<00:00,  3.10s/it]\n",
            "Generating molecules...: 100%|██████████| 50/50 [00:08<00:00,  5.82it/s]\n"
          ]
        },
        {
          "name": "stdout",
          "output_type": "stream",
          "text": [
            "Threshold increased to: 0.51\n",
            "148 Training on replay instances...\n"
          ]
        },
        {
          "name": "stderr",
          "output_type": "stream",
          "text": [
            " 148 Policy gradient with replay...: 100%|██████████| 15/15 [00:47<00:00,  3.20s/it]\n",
            "Generating molecules...: 100%|██████████| 50/50 [00:08<00:00,  5.77it/s]\n"
          ]
        },
        {
          "name": "stdout",
          "output_type": "stream",
          "text": [
            "Threshold increased to: 0.52\n",
            "149 Training on replay instances...\n"
          ]
        },
        {
          "name": "stderr",
          "output_type": "stream",
          "text": [
            " 149 Policy gradient with replay...: 100%|██████████| 15/15 [00:48<00:00,  3.21s/it]\n",
            "Generating molecules...: 100%|██████████| 50/50 [00:08<00:00,  5.81it/s]\n"
          ]
        },
        {
          "name": "stdout",
          "output_type": "stream",
          "text": [
            "Threshold increased to: 0.52\n",
            "150 Training on replay instances...\n"
          ]
        },
        {
          "name": "stderr",
          "output_type": "stream",
          "text": [
            " 150 Policy gradient with replay...: 100%|██████████| 15/15 [00:47<00:00,  3.17s/it]\n",
            "Generating molecules...: 100%|██████████| 50/50 [00:08<00:00,  5.83it/s]\n"
          ]
        },
        {
          "name": "stdout",
          "output_type": "stream",
          "text": [
            "Threshold increased to: 0.53\n",
            "151 Training on replay instances...\n"
          ]
        },
        {
          "name": "stderr",
          "output_type": "stream",
          "text": [
            " 151 Policy gradient with replay...: 100%|██████████| 15/15 [00:50<00:00,  3.38s/it]\n",
            "Generating molecules...: 100%|██████████| 50/50 [00:08<00:00,  5.87it/s]\n"
          ]
        },
        {
          "name": "stdout",
          "output_type": "stream",
          "text": [
            "Threshold increased to: 0.53\n",
            "152 Training on replay instances...\n"
          ]
        },
        {
          "name": "stderr",
          "output_type": "stream",
          "text": [
            " 152 Policy gradient with replay...: 100%|██████████| 15/15 [00:47<00:00,  3.19s/it]\n",
            "Generating molecules...: 100%|██████████| 50/50 [00:08<00:00,  5.85it/s]\n"
          ]
        },
        {
          "name": "stdout",
          "output_type": "stream",
          "text": [
            "Threshold increased to: 0.54\n",
            "153 Training on replay instances...\n"
          ]
        },
        {
          "name": "stderr",
          "output_type": "stream",
          "text": [
            " 153 Policy gradient with replay...: 100%|██████████| 15/15 [00:48<00:00,  3.22s/it]\n",
            "Generating molecules...: 100%|██████████| 50/50 [00:08<00:00,  5.85it/s]\n"
          ]
        },
        {
          "name": "stdout",
          "output_type": "stream",
          "text": [
            "Threshold increased to: 0.54\n",
            "154 Training on replay instances...\n"
          ]
        },
        {
          "name": "stderr",
          "output_type": "stream",
          "text": [
            " 154 Policy gradient with replay...: 100%|██████████| 15/15 [00:46<00:00,  3.13s/it]\n",
            "Generating molecules...: 100%|██████████| 50/50 [00:08<00:00,  5.88it/s]\n"
          ]
        },
        {
          "name": "stdout",
          "output_type": "stream",
          "text": [
            "Threshold increased to: 0.55\n",
            "155 Training on replay instances...\n"
          ]
        },
        {
          "name": "stderr",
          "output_type": "stream",
          "text": [
            " 155 Policy gradient with replay...: 100%|██████████| 15/15 [00:48<00:00,  3.22s/it]\n",
            "Generating molecules...: 100%|██████████| 50/50 [00:08<00:00,  5.85it/s]\n"
          ]
        },
        {
          "name": "stdout",
          "output_type": "stream",
          "text": [
            "Threshold increased to: 0.55\n",
            "156 Training on replay instances...\n"
          ]
        },
        {
          "name": "stderr",
          "output_type": "stream",
          "text": [
            " 156 Policy gradient with replay...: 100%|██████████| 15/15 [00:47<00:00,  3.16s/it]\n",
            "Generating molecules...: 100%|██████████| 50/50 [00:08<00:00,  5.80it/s]\n"
          ]
        },
        {
          "name": "stdout",
          "output_type": "stream",
          "text": [
            "157 Training on replay instances...\n"
          ]
        },
        {
          "name": "stderr",
          "output_type": "stream",
          "text": [
            " 157 Policy gradient with replay...: 100%|██████████| 15/15 [00:48<00:00,  3.24s/it]\n",
            "Generating molecules...: 100%|██████████| 50/50 [00:08<00:00,  5.78it/s]\n"
          ]
        },
        {
          "name": "stdout",
          "output_type": "stream",
          "text": [
            "Threshold increased to: 0.56\n",
            "158 Training on replay instances...\n"
          ]
        },
        {
          "name": "stderr",
          "output_type": "stream",
          "text": [
            " 158 Policy gradient with replay...: 100%|██████████| 15/15 [00:49<00:00,  3.33s/it]\n",
            "Generating molecules...: 100%|██████████| 50/50 [00:08<00:00,  5.77it/s]\n"
          ]
        },
        {
          "name": "stdout",
          "output_type": "stream",
          "text": [
            "Threshold increased to: 0.56\n",
            "159 Training on replay instances...\n"
          ]
        },
        {
          "name": "stderr",
          "output_type": "stream",
          "text": [
            " 159 Policy gradient with replay...: 100%|██████████| 15/15 [00:47<00:00,  3.13s/it]\n",
            "Generating molecules...: 100%|██████████| 50/50 [00:08<00:00,  5.83it/s]\n"
          ]
        },
        {
          "name": "stdout",
          "output_type": "stream",
          "text": [
            "Threshold increased to: 0.57\n",
            "160 Training on replay instances...\n"
          ]
        },
        {
          "name": "stderr",
          "output_type": "stream",
          "text": [
            " 160 Policy gradient with replay...: 100%|██████████| 15/15 [00:46<00:00,  3.11s/it]\n",
            "Generating molecules...: 100%|██████████| 50/50 [00:08<00:00,  5.85it/s]\n"
          ]
        },
        {
          "name": "stdout",
          "output_type": "stream",
          "text": [
            "Threshold increased to: 0.57\n",
            "161 Training on replay instances...\n"
          ]
        },
        {
          "name": "stderr",
          "output_type": "stream",
          "text": [
            " 161 Policy gradient with replay...: 100%|██████████| 15/15 [00:46<00:00,  3.13s/it]\n",
            "Generating molecules...: 100%|██████████| 50/50 [00:08<00:00,  5.84it/s]\n"
          ]
        },
        {
          "name": "stdout",
          "output_type": "stream",
          "text": [
            "Threshold increased to: 0.58\n",
            "162 Training on replay instances...\n"
          ]
        },
        {
          "name": "stderr",
          "output_type": "stream",
          "text": [
            " 162 Policy gradient with replay...: 100%|██████████| 15/15 [00:48<00:00,  3.25s/it]\n",
            "Generating molecules...: 100%|██████████| 50/50 [00:08<00:00,  5.83it/s]\n"
          ]
        },
        {
          "name": "stdout",
          "output_type": "stream",
          "text": [
            "Threshold increased to: 0.58\n",
            "163 Training on replay instances...\n"
          ]
        },
        {
          "name": "stderr",
          "output_type": "stream",
          "text": [
            " 163 Policy gradient with replay...: 100%|██████████| 15/15 [00:47<00:00,  3.15s/it]\n",
            "Generating molecules...: 100%|██████████| 50/50 [00:08<00:00,  5.86it/s]\n"
          ]
        },
        {
          "name": "stdout",
          "output_type": "stream",
          "text": [
            "Threshold increased to: 0.59\n",
            "164 Training on replay instances...\n"
          ]
        },
        {
          "name": "stderr",
          "output_type": "stream",
          "text": [
            " 164 Policy gradient with replay...: 100%|██████████| 15/15 [00:47<00:00,  3.16s/it]\n",
            "Generating molecules...: 100%|██████████| 50/50 [00:08<00:00,  5.79it/s]\n"
          ]
        },
        {
          "name": "stdout",
          "output_type": "stream",
          "text": [
            "Threshold increased to: 0.59\n",
            "165 Training on replay instances...\n"
          ]
        },
        {
          "name": "stderr",
          "output_type": "stream",
          "text": [
            " 165 Policy gradient with replay...: 100%|██████████| 15/15 [00:47<00:00,  3.19s/it]\n",
            "Generating molecules...: 100%|██████████| 50/50 [00:08<00:00,  5.84it/s]\n"
          ]
        },
        {
          "name": "stdout",
          "output_type": "stream",
          "text": [
            "Threshold increased to: 0.60\n",
            "166 Training on replay instances...\n"
          ]
        },
        {
          "name": "stderr",
          "output_type": "stream",
          "text": [
            " 166 Policy gradient with replay...: 100%|██████████| 15/15 [00:51<00:00,  3.45s/it]\n",
            "Generating molecules...: 100%|██████████| 50/50 [00:08<00:00,  5.84it/s]\n"
          ]
        },
        {
          "name": "stdout",
          "output_type": "stream",
          "text": [
            "167 Training on replay instances...\n"
          ]
        },
        {
          "name": "stderr",
          "output_type": "stream",
          "text": [
            " 167 Policy gradient with replay...: 100%|██████████| 15/15 [00:48<00:00,  3.24s/it]\n",
            "Generating molecules...: 100%|██████████| 50/50 [00:08<00:00,  5.81it/s]\n"
          ]
        },
        {
          "name": "stdout",
          "output_type": "stream",
          "text": [
            "Threshold increased to: 0.60\n",
            "168 Training on replay instances...\n"
          ]
        },
        {
          "name": "stderr",
          "output_type": "stream",
          "text": [
            " 168 Policy gradient with replay...: 100%|██████████| 15/15 [00:47<00:00,  3.16s/it]\n",
            "Generating molecules...: 100%|██████████| 50/50 [00:08<00:00,  5.83it/s]\n"
          ]
        },
        {
          "name": "stdout",
          "output_type": "stream",
          "text": [
            "Threshold increased to: 0.61\n",
            "169 Training on replay instances...\n"
          ]
        },
        {
          "name": "stderr",
          "output_type": "stream",
          "text": [
            " 169 Policy gradient with replay...: 100%|██████████| 15/15 [00:47<00:00,  3.17s/it]\n",
            "Generating molecules...: 100%|██████████| 50/50 [00:08<00:00,  5.81it/s]\n"
          ]
        },
        {
          "name": "stdout",
          "output_type": "stream",
          "text": [
            "Threshold increased to: 0.61\n",
            "170 Training on replay instances...\n"
          ]
        },
        {
          "name": "stderr",
          "output_type": "stream",
          "text": [
            " 170 Policy gradient with replay...: 100%|██████████| 15/15 [00:48<00:00,  3.23s/it]\n",
            "Generating molecules...: 100%|██████████| 50/50 [00:08<00:00,  5.80it/s]\n"
          ]
        },
        {
          "name": "stdout",
          "output_type": "stream",
          "text": [
            "Threshold increased to: 0.62\n",
            "171 Training on replay instances...\n"
          ]
        },
        {
          "name": "stderr",
          "output_type": "stream",
          "text": [
            " 171 Policy gradient with replay...: 100%|██████████| 15/15 [00:47<00:00,  3.18s/it]\n",
            "Generating molecules...: 100%|██████████| 50/50 [00:08<00:00,  5.81it/s]\n"
          ]
        },
        {
          "name": "stdout",
          "output_type": "stream",
          "text": [
            "Threshold increased to: 0.62\n",
            "172 Training on replay instances...\n"
          ]
        },
        {
          "name": "stderr",
          "output_type": "stream",
          "text": [
            " 172 Policy gradient with replay...: 100%|██████████| 15/15 [00:48<00:00,  3.22s/it]\n",
            "Generating molecules...: 100%|██████████| 50/50 [00:08<00:00,  5.80it/s]\n"
          ]
        },
        {
          "name": "stdout",
          "output_type": "stream",
          "text": [
            "Threshold increased to: 0.63\n",
            "173 Training on replay instances...\n"
          ]
        },
        {
          "name": "stderr",
          "output_type": "stream",
          "text": [
            " 173 Policy gradient with replay...: 100%|██████████| 15/15 [00:51<00:00,  3.42s/it]\n",
            "Generating molecules...: 100%|██████████| 50/50 [00:08<00:00,  5.76it/s]\n"
          ]
        },
        {
          "name": "stdout",
          "output_type": "stream",
          "text": [
            "Threshold increased to: 0.63\n",
            "174 Training on replay instances...\n"
          ]
        },
        {
          "name": "stderr",
          "output_type": "stream",
          "text": [
            " 174 Policy gradient with replay...: 100%|██████████| 15/15 [00:48<00:00,  3.24s/it]\n",
            "Generating molecules...: 100%|██████████| 50/50 [00:08<00:00,  5.77it/s]\n"
          ]
        },
        {
          "name": "stdout",
          "output_type": "stream",
          "text": [
            "Threshold increased to: 0.64\n",
            "175 Training on replay instances...\n"
          ]
        },
        {
          "name": "stderr",
          "output_type": "stream",
          "text": [
            " 175 Policy gradient with replay...: 100%|██████████| 15/15 [00:48<00:00,  3.24s/it]\n",
            "Generating molecules...: 100%|██████████| 50/50 [00:08<00:00,  5.77it/s]\n"
          ]
        },
        {
          "name": "stdout",
          "output_type": "stream",
          "text": [
            "176 Training on replay instances...\n"
          ]
        },
        {
          "name": "stderr",
          "output_type": "stream",
          "text": [
            " 176 Policy gradient with replay...: 100%|██████████| 15/15 [00:48<00:00,  3.20s/it]\n",
            "Generating molecules...: 100%|██████████| 50/50 [00:08<00:00,  5.82it/s]\n"
          ]
        },
        {
          "name": "stdout",
          "output_type": "stream",
          "text": [
            "Threshold increased to: 0.64\n",
            "177 Training on replay instances...\n"
          ]
        },
        {
          "name": "stderr",
          "output_type": "stream",
          "text": [
            " 177 Policy gradient with replay...: 100%|██████████| 15/15 [00:49<00:00,  3.31s/it]\n",
            "Generating molecules...: 100%|██████████| 50/50 [00:08<00:00,  5.84it/s]\n"
          ]
        },
        {
          "name": "stdout",
          "output_type": "stream",
          "text": [
            "Threshold increased to: 0.65\n",
            "178 Training on replay instances...\n"
          ]
        },
        {
          "name": "stderr",
          "output_type": "stream",
          "text": [
            " 178 Policy gradient with replay...: 100%|██████████| 15/15 [00:47<00:00,  3.16s/it]\n",
            "Generating molecules...: 100%|██████████| 50/50 [00:08<00:00,  5.80it/s]\n"
          ]
        },
        {
          "name": "stdout",
          "output_type": "stream",
          "text": [
            "Threshold increased to: 0.65\n",
            "179 Training on replay instances...\n"
          ]
        },
        {
          "name": "stderr",
          "output_type": "stream",
          "text": [
            " 179 Policy gradient with replay...: 100%|██████████| 15/15 [00:47<00:00,  3.17s/it]\n",
            "Generating molecules...: 100%|██████████| 50/50 [00:08<00:00,  5.80it/s]\n"
          ]
        },
        {
          "name": "stdout",
          "output_type": "stream",
          "text": [
            "180 Training on replay instances...\n"
          ]
        },
        {
          "name": "stderr",
          "output_type": "stream",
          "text": [
            " 180 Policy gradient with replay...: 100%|██████████| 15/15 [00:48<00:00,  3.22s/it]\n",
            "Generating molecules...: 100%|██████████| 50/50 [00:08<00:00,  5.82it/s]\n"
          ]
        },
        {
          "name": "stdout",
          "output_type": "stream",
          "text": [
            "Threshold increased to: 0.66\n",
            "181 Training on replay instances...\n"
          ]
        },
        {
          "name": "stderr",
          "output_type": "stream",
          "text": [
            " 181 Policy gradient with replay...: 100%|██████████| 15/15 [00:48<00:00,  3.23s/it]\n",
            "Generating molecules...: 100%|██████████| 50/50 [00:08<00:00,  5.81it/s]\n"
          ]
        },
        {
          "name": "stdout",
          "output_type": "stream",
          "text": [
            "Threshold increased to: 0.66\n",
            "182 Training on replay instances...\n"
          ]
        },
        {
          "name": "stderr",
          "output_type": "stream",
          "text": [
            " 182 Policy gradient with replay...: 100%|██████████| 15/15 [00:51<00:00,  3.45s/it]\n",
            "Generating molecules...: 100%|██████████| 50/50 [00:08<00:00,  5.78it/s]\n"
          ]
        },
        {
          "name": "stdout",
          "output_type": "stream",
          "text": [
            "Threshold increased to: 0.67\n",
            "183 Training on replay instances...\n"
          ]
        },
        {
          "name": "stderr",
          "output_type": "stream",
          "text": [
            " 183 Policy gradient with replay...: 100%|██████████| 15/15 [00:47<00:00,  3.17s/it]\n",
            "Generating molecules...: 100%|██████████| 50/50 [00:08<00:00,  5.77it/s]\n"
          ]
        },
        {
          "name": "stdout",
          "output_type": "stream",
          "text": [
            "Threshold increased to: 0.67\n",
            "184 Training on replay instances...\n"
          ]
        },
        {
          "name": "stderr",
          "output_type": "stream",
          "text": [
            " 184 Policy gradient with replay...: 100%|██████████| 15/15 [00:47<00:00,  3.19s/it]\n",
            "Generating molecules...: 100%|██████████| 50/50 [00:08<00:00,  5.83it/s]\n"
          ]
        },
        {
          "name": "stdout",
          "output_type": "stream",
          "text": [
            "Threshold increased to: 0.68\n",
            "185 Training on replay instances...\n"
          ]
        },
        {
          "name": "stderr",
          "output_type": "stream",
          "text": [
            " 185 Policy gradient with replay...: 100%|██████████| 15/15 [00:47<00:00,  3.19s/it]\n",
            "Generating molecules...: 100%|██████████| 50/50 [00:08<00:00,  5.80it/s]\n"
          ]
        },
        {
          "name": "stdout",
          "output_type": "stream",
          "text": [
            "Threshold increased to: 0.68\n",
            "186 Training on replay instances...\n"
          ]
        },
        {
          "name": "stderr",
          "output_type": "stream",
          "text": [
            " 186 Policy gradient with replay...: 100%|██████████| 15/15 [00:47<00:00,  3.20s/it]\n",
            "Generating molecules...: 100%|██████████| 50/50 [00:08<00:00,  5.85it/s]\n"
          ]
        },
        {
          "name": "stdout",
          "output_type": "stream",
          "text": [
            "Threshold increased to: 0.69\n",
            "187 Training on replay instances...\n"
          ]
        },
        {
          "name": "stderr",
          "output_type": "stream",
          "text": [
            " 187 Policy gradient with replay...: 100%|██████████| 15/15 [00:47<00:00,  3.19s/it]\n",
            "Generating molecules...: 100%|██████████| 50/50 [00:08<00:00,  5.81it/s]\n"
          ]
        },
        {
          "name": "stdout",
          "output_type": "stream",
          "text": [
            "Threshold increased to: 0.69\n",
            "188 Training on replay instances...\n"
          ]
        },
        {
          "name": "stderr",
          "output_type": "stream",
          "text": [
            " 188 Policy gradient with replay...: 100%|██████████| 15/15 [00:47<00:00,  3.16s/it]\n",
            "Generating molecules...: 100%|██████████| 50/50 [00:08<00:00,  5.80it/s]\n"
          ]
        },
        {
          "name": "stdout",
          "output_type": "stream",
          "text": [
            "Threshold increased to: 0.70\n",
            "189 Training on replay instances...\n"
          ]
        },
        {
          "name": "stderr",
          "output_type": "stream",
          "text": [
            " 189 Policy gradient with replay...: 100%|██████████| 15/15 [00:47<00:00,  3.16s/it]\n",
            "Generating molecules...: 100%|██████████| 50/50 [00:08<00:00,  5.82it/s]\n"
          ]
        },
        {
          "name": "stdout",
          "output_type": "stream",
          "text": [
            "Threshold increased to: 0.70\n",
            "190 Training on replay instances...\n"
          ]
        },
        {
          "name": "stderr",
          "output_type": "stream",
          "text": [
            " 190 Policy gradient with replay...: 100%|██████████| 15/15 [00:50<00:00,  3.37s/it]\n",
            "Generating molecules...: 100%|██████████| 50/50 [00:08<00:00,  5.81it/s]\n"
          ]
        },
        {
          "name": "stdout",
          "output_type": "stream",
          "text": [
            "Threshold increased to: 0.71\n",
            "191 Training on replay instances...\n"
          ]
        },
        {
          "name": "stderr",
          "output_type": "stream",
          "text": [
            " 191 Policy gradient with replay...: 100%|██████████| 15/15 [00:48<00:00,  3.22s/it]\n",
            "Generating molecules...: 100%|██████████| 50/50 [00:08<00:00,  5.74it/s]\n"
          ]
        },
        {
          "name": "stdout",
          "output_type": "stream",
          "text": [
            "Threshold increased to: 0.71\n",
            "192 Training on replay instances...\n"
          ]
        },
        {
          "name": "stderr",
          "output_type": "stream",
          "text": [
            " 192 Policy gradient with replay...: 100%|██████████| 15/15 [00:48<00:00,  3.23s/it]\n",
            "Generating molecules...: 100%|██████████| 50/50 [00:08<00:00,  5.82it/s]\n"
          ]
        },
        {
          "name": "stdout",
          "output_type": "stream",
          "text": [
            "Threshold increased to: 0.72\n",
            "193 Training on replay instances...\n"
          ]
        },
        {
          "name": "stderr",
          "output_type": "stream",
          "text": [
            " 193 Policy gradient with replay...: 100%|██████████| 15/15 [00:47<00:00,  3.19s/it]\n",
            "Generating molecules...: 100%|██████████| 50/50 [00:08<00:00,  5.82it/s]\n"
          ]
        },
        {
          "name": "stdout",
          "output_type": "stream",
          "text": [
            "Threshold increased to: 0.72\n",
            "194 Training on replay instances...\n"
          ]
        },
        {
          "name": "stderr",
          "output_type": "stream",
          "text": [
            " 194 Policy gradient with replay...: 100%|██████████| 15/15 [00:48<00:00,  3.26s/it]\n",
            "Generating molecules...: 100%|██████████| 50/50 [00:08<00:00,  5.79it/s]\n"
          ]
        },
        {
          "name": "stdout",
          "output_type": "stream",
          "text": [
            "Threshold increased to: 0.73\n",
            "195 Training on replay instances...\n"
          ]
        },
        {
          "name": "stderr",
          "output_type": "stream",
          "text": [
            " 195 Policy gradient with replay...: 100%|██████████| 15/15 [00:48<00:00,  3.22s/it]\n",
            "Generating molecules...: 100%|██████████| 50/50 [00:08<00:00,  5.77it/s]\n"
          ]
        },
        {
          "name": "stdout",
          "output_type": "stream",
          "text": [
            "Threshold increased to: 0.73\n",
            "196 Training on replay instances...\n"
          ]
        },
        {
          "name": "stderr",
          "output_type": "stream",
          "text": [
            " 196 Policy gradient with replay...: 100%|██████████| 15/15 [00:47<00:00,  3.18s/it]\n",
            "Generating molecules...: 100%|██████████| 50/50 [00:08<00:00,  5.82it/s]\n"
          ]
        },
        {
          "name": "stdout",
          "output_type": "stream",
          "text": [
            "Threshold increased to: 0.74\n",
            "197 Training on replay instances...\n"
          ]
        },
        {
          "name": "stderr",
          "output_type": "stream",
          "text": [
            " 197 Policy gradient with replay...: 100%|██████████| 15/15 [00:48<00:00,  3.26s/it]\n",
            "Generating molecules...: 100%|██████████| 50/50 [00:08<00:00,  5.80it/s]\n"
          ]
        },
        {
          "name": "stdout",
          "output_type": "stream",
          "text": [
            "Threshold increased to: 0.74\n",
            "198 Training on replay instances...\n"
          ]
        },
        {
          "name": "stderr",
          "output_type": "stream",
          "text": [
            " 198 Policy gradient with replay...: 100%|██████████| 15/15 [00:48<00:00,  3.26s/it]\n",
            "Generating molecules...: 100%|██████████| 50/50 [00:08<00:00,  5.81it/s]\n"
          ]
        },
        {
          "name": "stdout",
          "output_type": "stream",
          "text": [
            "Threshold increased to: 0.75\n",
            "199 Training on replay instances...\n"
          ]
        },
        {
          "name": "stderr",
          "output_type": "stream",
          "text": [
            " 199 Policy gradient with replay...: 100%|██████████| 15/15 [00:51<00:00,  3.43s/it]\n",
            "Generating molecules...: 100%|██████████| 50/50 [00:08<00:00,  5.77it/s]\n"
          ]
        },
        {
          "name": "stdout",
          "output_type": "stream",
          "text": [
            "Threshold increased to: 0.75\n",
            "200 Training on replay instances...\n"
          ]
        },
        {
          "name": "stderr",
          "output_type": "stream",
          "text": [
            " 200 Policy gradient with replay...: 100%|██████████| 15/15 [00:48<00:00,  3.20s/it]\n",
            "Generating molecules...: 100%|██████████| 50/50 [00:08<00:00,  5.78it/s]\n"
          ]
        },
        {
          "name": "stdout",
          "output_type": "stream",
          "text": [
            "Threshold increased to: 0.76\n",
            "201 Training on replay instances...\n"
          ]
        },
        {
          "name": "stderr",
          "output_type": "stream",
          "text": [
            " 201 Policy gradient with replay...: 100%|██████████| 15/15 [00:47<00:00,  3.15s/it]\n",
            "Generating molecules...: 100%|██████████| 50/50 [00:08<00:00,  5.84it/s]\n"
          ]
        },
        {
          "name": "stdout",
          "output_type": "stream",
          "text": [
            "Threshold increased to: 0.76\n",
            "202 Training on replay instances...\n"
          ]
        },
        {
          "name": "stderr",
          "output_type": "stream",
          "text": [
            " 202 Policy gradient with replay...: 100%|██████████| 15/15 [00:46<00:00,  3.13s/it]\n",
            "Generating molecules...: 100%|██████████| 50/50 [00:08<00:00,  5.80it/s]\n"
          ]
        },
        {
          "name": "stdout",
          "output_type": "stream",
          "text": [
            "Threshold increased to: 0.77\n",
            "203 Training on replay instances...\n"
          ]
        },
        {
          "name": "stderr",
          "output_type": "stream",
          "text": [
            " 203 Policy gradient with replay...: 100%|██████████| 15/15 [00:47<00:00,  3.18s/it]\n",
            "Generating molecules...: 100%|██████████| 50/50 [00:08<00:00,  5.84it/s]\n"
          ]
        },
        {
          "name": "stdout",
          "output_type": "stream",
          "text": [
            "204 Training on replay instances...\n"
          ]
        },
        {
          "name": "stderr",
          "output_type": "stream",
          "text": [
            " 204 Policy gradient with replay...: 100%|██████████| 15/15 [00:47<00:00,  3.19s/it]\n",
            "Generating molecules...: 100%|██████████| 50/50 [00:08<00:00,  5.79it/s]\n"
          ]
        },
        {
          "name": "stdout",
          "output_type": "stream",
          "text": [
            "Threshold increased to: 0.77\n",
            "205 Training on replay instances...\n"
          ]
        },
        {
          "name": "stderr",
          "output_type": "stream",
          "text": [
            " 205 Policy gradient with replay...: 100%|██████████| 15/15 [00:48<00:00,  3.21s/it]\n",
            "Generating molecules...: 100%|██████████| 50/50 [00:08<00:00,  5.82it/s]\n"
          ]
        },
        {
          "name": "stdout",
          "output_type": "stream",
          "text": [
            "Threshold increased to: 0.78\n",
            "206 Training on replay instances...\n"
          ]
        },
        {
          "name": "stderr",
          "output_type": "stream",
          "text": [
            " 206 Policy gradient with replay...: 100%|██████████| 15/15 [00:48<00:00,  3.21s/it]\n",
            "Generating molecules...: 100%|██████████| 50/50 [00:08<00:00,  5.78it/s]\n"
          ]
        },
        {
          "name": "stdout",
          "output_type": "stream",
          "text": [
            "Threshold increased to: 0.78\n",
            "207 Training on replay instances...\n"
          ]
        },
        {
          "name": "stderr",
          "output_type": "stream",
          "text": [
            " 207 Policy gradient with replay...: 100%|██████████| 15/15 [00:47<00:00,  3.19s/it]\n",
            "Generating molecules...: 100%|██████████| 50/50 [00:08<00:00,  5.80it/s]\n"
          ]
        },
        {
          "name": "stdout",
          "output_type": "stream",
          "text": [
            "208 Training on replay instances...\n"
          ]
        },
        {
          "name": "stderr",
          "output_type": "stream",
          "text": [
            " 208 Policy gradient with replay...: 100%|██████████| 15/15 [00:47<00:00,  3.20s/it]\n",
            "Generating molecules...: 100%|██████████| 50/50 [00:08<00:00,  5.77it/s]\n"
          ]
        },
        {
          "name": "stdout",
          "output_type": "stream",
          "text": [
            "Threshold increased to: 0.79\n",
            "209 Training on replay instances...\n"
          ]
        },
        {
          "name": "stderr",
          "output_type": "stream",
          "text": [
            " 209 Policy gradient with replay...: 100%|██████████| 15/15 [00:51<00:00,  3.44s/it]\n",
            "Generating molecules...: 100%|██████████| 50/50 [00:08<00:00,  5.77it/s]\n"
          ]
        },
        {
          "name": "stdout",
          "output_type": "stream",
          "text": [
            "Threshold increased to: 0.79\n",
            "210 Training on replay instances...\n"
          ]
        },
        {
          "name": "stderr",
          "output_type": "stream",
          "text": [
            " 210 Policy gradient with replay...: 100%|██████████| 15/15 [00:47<00:00,  3.19s/it]\n",
            "Generating molecules...: 100%|██████████| 50/50 [00:08<00:00,  5.74it/s]\n"
          ]
        },
        {
          "name": "stdout",
          "output_type": "stream",
          "text": [
            "Threshold increased to: 0.80\n",
            "211 Training on replay instances...\n"
          ]
        },
        {
          "name": "stderr",
          "output_type": "stream",
          "text": [
            " 211 Policy gradient with replay...: 100%|██████████| 15/15 [00:47<00:00,  3.18s/it]\n",
            "Generating molecules...: 100%|██████████| 50/50 [00:08<00:00,  5.76it/s]\n"
          ]
        },
        {
          "name": "stdout",
          "output_type": "stream",
          "text": [
            "Threshold increased to: 0.80\n",
            "212 Training on replay instances...\n"
          ]
        },
        {
          "name": "stderr",
          "output_type": "stream",
          "text": [
            " 212 Policy gradient with replay...: 100%|██████████| 15/15 [00:47<00:00,  3.17s/it]\n",
            "Generating molecules...: 100%|██████████| 50/50 [00:08<00:00,  5.77it/s]\n"
          ]
        },
        {
          "name": "stdout",
          "output_type": "stream",
          "text": [
            "Threshold increased to: 0.80\n",
            "213 Training on replay instances...\n"
          ]
        },
        {
          "name": "stderr",
          "output_type": "stream",
          "text": [
            " 213 Policy gradient with replay...: 100%|██████████| 15/15 [00:48<00:00,  3.21s/it]\n",
            "Generating molecules...: 100%|██████████| 50/50 [00:08<00:00,  5.78it/s]\n"
          ]
        },
        {
          "name": "stdout",
          "output_type": "stream",
          "text": [
            "Threshold increased to: 0.80\n",
            "214 Training on replay instances...\n"
          ]
        },
        {
          "name": "stderr",
          "output_type": "stream",
          "text": [
            " 214 Policy gradient with replay...: 100%|██████████| 15/15 [00:49<00:00,  3.30s/it]\n",
            "Generating molecules...: 100%|██████████| 50/50 [00:08<00:00,  5.83it/s]\n"
          ]
        },
        {
          "name": "stdout",
          "output_type": "stream",
          "text": [
            "Threshold increased to: 0.80\n",
            "215 Training on replay instances...\n"
          ]
        },
        {
          "name": "stderr",
          "output_type": "stream",
          "text": [
            " 215 Policy gradient with replay...: 100%|██████████| 15/15 [00:49<00:00,  3.27s/it]\n",
            "Generating molecules...: 100%|██████████| 50/50 [00:08<00:00,  5.80it/s]\n"
          ]
        },
        {
          "name": "stdout",
          "output_type": "stream",
          "text": [
            "Threshold increased to: 0.80\n",
            "216 Training on replay instances...\n"
          ]
        },
        {
          "name": "stderr",
          "output_type": "stream",
          "text": [
            " 216 Policy gradient with replay...: 100%|██████████| 15/15 [00:48<00:00,  3.22s/it]\n",
            "Generating molecules...: 100%|██████████| 50/50 [00:08<00:00,  5.80it/s]\n"
          ]
        },
        {
          "name": "stdout",
          "output_type": "stream",
          "text": [
            "Threshold increased to: 0.80\n",
            "217 Training on replay instances...\n"
          ]
        },
        {
          "name": "stderr",
          "output_type": "stream",
          "text": [
            " 217 Policy gradient with replay...: 100%|██████████| 15/15 [00:46<00:00,  3.11s/it]\n",
            "Generating molecules...: 100%|██████████| 50/50 [00:08<00:00,  5.82it/s]\n"
          ]
        },
        {
          "name": "stdout",
          "output_type": "stream",
          "text": [
            "Threshold increased to: 0.80\n",
            "218 Training on replay instances...\n"
          ]
        },
        {
          "name": "stderr",
          "output_type": "stream",
          "text": [
            " 218 Policy gradient with replay...: 100%|██████████| 15/15 [00:47<00:00,  3.14s/it]\n",
            "Generating molecules...: 100%|██████████| 50/50 [00:08<00:00,  5.78it/s]\n"
          ]
        },
        {
          "name": "stdout",
          "output_type": "stream",
          "text": [
            "Threshold increased to: 0.80\n",
            "219 Training on replay instances...\n"
          ]
        },
        {
          "name": "stderr",
          "output_type": "stream",
          "text": [
            " 219 Policy gradient with replay...: 100%|██████████| 15/15 [00:52<00:00,  3.48s/it]\n",
            "Generating molecules...: 100%|██████████| 50/50 [00:08<00:00,  5.78it/s]\n"
          ]
        },
        {
          "name": "stdout",
          "output_type": "stream",
          "text": [
            "Threshold increased to: 0.80\n",
            "220 Training on replay instances...\n"
          ]
        },
        {
          "name": "stderr",
          "output_type": "stream",
          "text": [
            " 220 Policy gradient with replay...: 100%|██████████| 15/15 [00:48<00:00,  3.26s/it]\n",
            "Generating molecules...: 100%|██████████| 50/50 [00:08<00:00,  5.76it/s]\n"
          ]
        },
        {
          "name": "stdout",
          "output_type": "stream",
          "text": [
            "Threshold increased to: 0.80\n",
            "221 Training on replay instances...\n"
          ]
        },
        {
          "name": "stderr",
          "output_type": "stream",
          "text": [
            " 221 Policy gradient with replay...: 100%|██████████| 15/15 [00:48<00:00,  3.24s/it]\n",
            "Generating molecules...: 100%|██████████| 50/50 [00:08<00:00,  5.81it/s]\n"
          ]
        },
        {
          "name": "stdout",
          "output_type": "stream",
          "text": [
            "222 Training on replay instances...\n"
          ]
        },
        {
          "name": "stderr",
          "output_type": "stream",
          "text": [
            " 222 Policy gradient with replay...: 100%|██████████| 15/15 [00:47<00:00,  3.16s/it]\n",
            "Generating molecules...: 100%|██████████| 50/50 [00:08<00:00,  5.82it/s]\n"
          ]
        },
        {
          "name": "stdout",
          "output_type": "stream",
          "text": [
            "Threshold increased to: 0.80\n",
            "223 Training on replay instances...\n"
          ]
        },
        {
          "name": "stderr",
          "output_type": "stream",
          "text": [
            " 223 Policy gradient with replay...: 100%|██████████| 15/15 [00:48<00:00,  3.22s/it]\n",
            "Generating molecules...: 100%|██████████| 50/50 [00:08<00:00,  5.70it/s]\n"
          ]
        },
        {
          "name": "stdout",
          "output_type": "stream",
          "text": [
            "Threshold increased to: 0.80\n",
            "224 Training on replay instances...\n"
          ]
        },
        {
          "name": "stderr",
          "output_type": "stream",
          "text": [
            " 224 Policy gradient with replay...: 100%|██████████| 15/15 [00:48<00:00,  3.20s/it]\n",
            "Generating molecules...: 100%|██████████| 50/50 [00:08<00:00,  5.77it/s]\n"
          ]
        },
        {
          "name": "stdout",
          "output_type": "stream",
          "text": [
            "Threshold increased to: 0.80\n",
            "225 Training on replay instances...\n"
          ]
        },
        {
          "name": "stderr",
          "output_type": "stream",
          "text": [
            " 225 Policy gradient with replay...: 100%|██████████| 15/15 [00:47<00:00,  3.19s/it]\n",
            "Generating molecules...: 100%|██████████| 50/50 [00:08<00:00,  5.84it/s]\n"
          ]
        },
        {
          "name": "stdout",
          "output_type": "stream",
          "text": [
            "Threshold increased to: 0.80\n",
            "226 Training on replay instances...\n"
          ]
        },
        {
          "name": "stderr",
          "output_type": "stream",
          "text": [
            " 226 Policy gradient with replay...: 100%|██████████| 15/15 [00:47<00:00,  3.18s/it]\n",
            "Generating molecules...: 100%|██████████| 50/50 [00:08<00:00,  5.76it/s]\n"
          ]
        },
        {
          "name": "stdout",
          "output_type": "stream",
          "text": [
            "Threshold increased to: 0.80\n",
            "227 Training on replay instances...\n"
          ]
        },
        {
          "name": "stderr",
          "output_type": "stream",
          "text": [
            " 227 Policy gradient with replay...: 100%|██████████| 15/15 [00:47<00:00,  3.19s/it]\n",
            "Generating molecules...: 100%|██████████| 50/50 [00:08<00:00,  5.82it/s]\n"
          ]
        },
        {
          "name": "stdout",
          "output_type": "stream",
          "text": [
            "Threshold increased to: 0.80\n",
            "228 Training on replay instances...\n"
          ]
        },
        {
          "name": "stderr",
          "output_type": "stream",
          "text": [
            " 228 Policy gradient with replay...: 100%|██████████| 15/15 [00:48<00:00,  3.21s/it]\n",
            "Generating molecules...: 100%|██████████| 50/50 [00:08<00:00,  5.84it/s]\n"
          ]
        },
        {
          "name": "stdout",
          "output_type": "stream",
          "text": [
            "Threshold increased to: 0.80\n",
            "229 Training on replay instances...\n"
          ]
        },
        {
          "name": "stderr",
          "output_type": "stream",
          "text": [
            " 229 Policy gradient with replay...: 100%|██████████| 15/15 [00:51<00:00,  3.43s/it]\n",
            "Generating molecules...: 100%|██████████| 50/50 [00:08<00:00,  5.80it/s]\n"
          ]
        },
        {
          "name": "stdout",
          "output_type": "stream",
          "text": [
            "Threshold increased to: 0.80\n",
            "230 Training on replay instances...\n"
          ]
        },
        {
          "name": "stderr",
          "output_type": "stream",
          "text": [
            " 230 Policy gradient with replay...: 100%|██████████| 15/15 [00:47<00:00,  3.20s/it]\n",
            "Generating molecules...: 100%|██████████| 50/50 [00:08<00:00,  5.80it/s]\n"
          ]
        },
        {
          "name": "stdout",
          "output_type": "stream",
          "text": [
            "Threshold increased to: 0.80\n",
            "231 Training on replay instances...\n"
          ]
        },
        {
          "name": "stderr",
          "output_type": "stream",
          "text": [
            " 231 Policy gradient with replay...: 100%|██████████| 15/15 [00:47<00:00,  3.17s/it]\n",
            "Generating molecules...: 100%|██████████| 50/50 [00:08<00:00,  5.76it/s]\n"
          ]
        },
        {
          "name": "stdout",
          "output_type": "stream",
          "text": [
            "Threshold increased to: 0.80\n",
            "232 Training on replay instances...\n"
          ]
        },
        {
          "name": "stderr",
          "output_type": "stream",
          "text": [
            " 232 Policy gradient with replay...: 100%|██████████| 15/15 [00:49<00:00,  3.28s/it]\n",
            "Generating molecules...: 100%|██████████| 50/50 [00:08<00:00,  5.83it/s]\n"
          ]
        },
        {
          "name": "stdout",
          "output_type": "stream",
          "text": [
            "Threshold increased to: 0.80\n",
            "233 Training on replay instances...\n"
          ]
        },
        {
          "name": "stderr",
          "output_type": "stream",
          "text": [
            " 233 Policy gradient with replay...: 100%|██████████| 15/15 [00:48<00:00,  3.25s/it]\n",
            "Generating molecules...: 100%|██████████| 50/50 [00:08<00:00,  5.80it/s]\n"
          ]
        },
        {
          "name": "stdout",
          "output_type": "stream",
          "text": [
            "Threshold increased to: 0.80\n",
            "234 Training on replay instances...\n"
          ]
        },
        {
          "name": "stderr",
          "output_type": "stream",
          "text": [
            " 234 Policy gradient with replay...: 100%|██████████| 15/15 [00:47<00:00,  3.19s/it]\n",
            "Generating molecules...: 100%|██████████| 50/50 [00:08<00:00,  5.82it/s]\n"
          ]
        },
        {
          "name": "stdout",
          "output_type": "stream",
          "text": [
            "Threshold increased to: 0.80\n",
            "235 Training on replay instances...\n"
          ]
        },
        {
          "name": "stderr",
          "output_type": "stream",
          "text": [
            " 235 Policy gradient with replay...: 100%|██████████| 15/15 [00:49<00:00,  3.28s/it]\n",
            "Generating molecules...: 100%|██████████| 50/50 [00:08<00:00,  5.75it/s]\n"
          ]
        },
        {
          "name": "stdout",
          "output_type": "stream",
          "text": [
            "Threshold increased to: 0.80\n",
            "236 Training on replay instances...\n"
          ]
        },
        {
          "name": "stderr",
          "output_type": "stream",
          "text": [
            " 236 Policy gradient with replay...: 100%|██████████| 15/15 [00:48<00:00,  3.22s/it]\n",
            "Generating molecules...: 100%|██████████| 50/50 [00:08<00:00,  5.83it/s]\n"
          ]
        },
        {
          "name": "stdout",
          "output_type": "stream",
          "text": [
            "Threshold increased to: 0.80\n",
            "237 Training on replay instances...\n"
          ]
        },
        {
          "name": "stderr",
          "output_type": "stream",
          "text": [
            " 237 Policy gradient with replay...: 100%|██████████| 15/15 [00:47<00:00,  3.17s/it]\n",
            "Generating molecules...: 100%|██████████| 50/50 [00:08<00:00,  5.79it/s]\n"
          ]
        },
        {
          "name": "stdout",
          "output_type": "stream",
          "text": [
            "Threshold increased to: 0.80\n",
            "238 Training on replay instances...\n"
          ]
        },
        {
          "name": "stderr",
          "output_type": "stream",
          "text": [
            " 238 Policy gradient with replay...: 100%|██████████| 15/15 [00:48<00:00,  3.22s/it]\n",
            "Generating molecules...: 100%|██████████| 50/50 [00:08<00:00,  5.79it/s]\n"
          ]
        },
        {
          "name": "stdout",
          "output_type": "stream",
          "text": [
            "Threshold increased to: 0.80\n",
            "239 Training on replay instances...\n"
          ]
        },
        {
          "name": "stderr",
          "output_type": "stream",
          "text": [
            " 239 Policy gradient with replay...: 100%|██████████| 15/15 [00:47<00:00,  3.17s/it]\n",
            "Generating molecules...: 100%|██████████| 50/50 [00:08<00:00,  5.83it/s]\n"
          ]
        },
        {
          "name": "stdout",
          "output_type": "stream",
          "text": [
            "Threshold increased to: 0.80\n",
            "240 Training on replay instances...\n"
          ]
        },
        {
          "name": "stderr",
          "output_type": "stream",
          "text": [
            " 240 Policy gradient with replay...: 100%|██████████| 15/15 [00:51<00:00,  3.43s/it]\n",
            "Generating molecules...: 100%|██████████| 50/50 [00:08<00:00,  5.79it/s]\n"
          ]
        },
        {
          "name": "stdout",
          "output_type": "stream",
          "text": [
            "Threshold increased to: 0.80\n",
            "241 Training on replay instances...\n"
          ]
        },
        {
          "name": "stderr",
          "output_type": "stream",
          "text": [
            " 241 Policy gradient with replay...: 100%|██████████| 15/15 [00:48<00:00,  3.27s/it]\n",
            "Generating molecules...: 100%|██████████| 50/50 [00:08<00:00,  5.73it/s]\n"
          ]
        },
        {
          "name": "stdout",
          "output_type": "stream",
          "text": [
            "Threshold increased to: 0.80\n",
            "242 Training on replay instances...\n"
          ]
        },
        {
          "name": "stderr",
          "output_type": "stream",
          "text": [
            " 242 Policy gradient with replay...: 100%|██████████| 15/15 [00:47<00:00,  3.15s/it]\n",
            "Generating molecules...: 100%|██████████| 50/50 [00:08<00:00,  5.73it/s]\n"
          ]
        },
        {
          "name": "stdout",
          "output_type": "stream",
          "text": [
            "Threshold increased to: 0.80\n",
            "243 Training on replay instances...\n"
          ]
        },
        {
          "name": "stderr",
          "output_type": "stream",
          "text": [
            " 243 Policy gradient with replay...: 100%|██████████| 15/15 [00:48<00:00,  3.24s/it]\n",
            "Generating molecules...: 100%|██████████| 50/50 [00:08<00:00,  5.80it/s]\n"
          ]
        },
        {
          "name": "stdout",
          "output_type": "stream",
          "text": [
            "Threshold increased to: 0.80\n",
            "244 Training on replay instances...\n"
          ]
        },
        {
          "name": "stderr",
          "output_type": "stream",
          "text": [
            " 244 Policy gradient with replay...: 100%|██████████| 15/15 [00:47<00:00,  3.20s/it]\n",
            "Generating molecules...: 100%|██████████| 50/50 [00:08<00:00,  5.78it/s]\n"
          ]
        },
        {
          "name": "stdout",
          "output_type": "stream",
          "text": [
            "Threshold increased to: 0.80\n",
            "245 Training on replay instances...\n"
          ]
        },
        {
          "name": "stderr",
          "output_type": "stream",
          "text": [
            " 245 Policy gradient with replay...: 100%|██████████| 15/15 [00:47<00:00,  3.18s/it]\n",
            "Generating molecules...: 100%|██████████| 50/50 [00:08<00:00,  5.76it/s]\n"
          ]
        },
        {
          "name": "stdout",
          "output_type": "stream",
          "text": [
            "Threshold increased to: 0.80\n",
            "246 Training on replay instances...\n"
          ]
        },
        {
          "name": "stderr",
          "output_type": "stream",
          "text": [
            " 246 Policy gradient with replay...: 100%|██████████| 15/15 [00:48<00:00,  3.22s/it]\n",
            "Generating molecules...: 100%|██████████| 50/50 [00:08<00:00,  5.81it/s]\n"
          ]
        },
        {
          "name": "stdout",
          "output_type": "stream",
          "text": [
            "Threshold increased to: 0.80\n",
            "247 Training on replay instances...\n"
          ]
        },
        {
          "name": "stderr",
          "output_type": "stream",
          "text": [
            " 247 Policy gradient with replay...: 100%|██████████| 15/15 [00:48<00:00,  3.23s/it]\n",
            "Generating molecules...: 100%|██████████| 50/50 [00:08<00:00,  5.78it/s]\n"
          ]
        },
        {
          "name": "stdout",
          "output_type": "stream",
          "text": [
            "Threshold increased to: 0.80\n",
            "248 Training on replay instances...\n"
          ]
        },
        {
          "name": "stderr",
          "output_type": "stream",
          "text": [
            " 248 Policy gradient with replay...: 100%|██████████| 15/15 [00:48<00:00,  3.22s/it]\n",
            "Generating molecules...: 100%|██████████| 50/50 [00:08<00:00,  5.79it/s]\n"
          ]
        },
        {
          "name": "stdout",
          "output_type": "stream",
          "text": [
            "Threshold increased to: 0.80\n",
            "249 Training on replay instances...\n"
          ]
        },
        {
          "name": "stderr",
          "output_type": "stream",
          "text": [
            " 249 Policy gradient with replay...: 100%|██████████| 15/15 [00:47<00:00,  3.13s/it]\n",
            "Generating molecules...: 100%|██████████| 50/50 [00:08<00:00,  5.80it/s]\n"
          ]
        },
        {
          "name": "stdout",
          "output_type": "stream",
          "text": [
            "Threshold increased to: 0.80\n",
            "250 Training on replay instances...\n"
          ]
        },
        {
          "name": "stderr",
          "output_type": "stream",
          "text": [
            " 250 Policy gradient with replay...: 100%|██████████| 15/15 [00:48<00:00,  3.24s/it]\n",
            "Generating molecules...: 100%|██████████| 50/50 [00:08<00:00,  5.80it/s]\n"
          ]
        },
        {
          "name": "stdout",
          "output_type": "stream",
          "text": [
            "Threshold increased to: 0.80\n",
            "251 Training on replay instances...\n"
          ]
        },
        {
          "name": "stderr",
          "output_type": "stream",
          "text": [
            " 251 Policy gradient with replay...: 100%|██████████| 15/15 [00:52<00:00,  3.47s/it]\n",
            "Generating molecules...: 100%|██████████| 50/50 [00:08<00:00,  5.77it/s]\n"
          ]
        },
        {
          "name": "stdout",
          "output_type": "stream",
          "text": [
            "Threshold increased to: 0.80\n",
            "252 Training on replay instances...\n"
          ]
        },
        {
          "name": "stderr",
          "output_type": "stream",
          "text": [
            " 252 Policy gradient with replay...: 100%|██████████| 15/15 [00:48<00:00,  3.20s/it]\n",
            "Generating molecules...: 100%|██████████| 50/50 [00:08<00:00,  5.82it/s]\n"
          ]
        },
        {
          "name": "stdout",
          "output_type": "stream",
          "text": [
            "Threshold increased to: 0.80\n",
            "253 Training on replay instances...\n"
          ]
        },
        {
          "name": "stderr",
          "output_type": "stream",
          "text": [
            " 253 Policy gradient with replay...: 100%|██████████| 15/15 [00:48<00:00,  3.20s/it]\n",
            "Generating molecules...: 100%|██████████| 50/50 [00:08<00:00,  5.80it/s]\n"
          ]
        },
        {
          "name": "stdout",
          "output_type": "stream",
          "text": [
            "Threshold increased to: 0.80\n",
            "254 Training on replay instances...\n"
          ]
        },
        {
          "name": "stderr",
          "output_type": "stream",
          "text": [
            " 254 Policy gradient with replay...: 100%|██████████| 15/15 [00:47<00:00,  3.19s/it]\n",
            "Generating molecules...: 100%|██████████| 50/50 [00:08<00:00,  5.82it/s]\n"
          ]
        },
        {
          "name": "stdout",
          "output_type": "stream",
          "text": [
            "Threshold increased to: 0.80\n",
            "255 Training on replay instances...\n"
          ]
        },
        {
          "name": "stderr",
          "output_type": "stream",
          "text": [
            " 255 Policy gradient with replay...: 100%|██████████| 15/15 [00:48<00:00,  3.26s/it]\n",
            "Generating molecules...: 100%|██████████| 50/50 [00:08<00:00,  5.81it/s]\n"
          ]
        },
        {
          "name": "stdout",
          "output_type": "stream",
          "text": [
            "Threshold increased to: 0.80\n",
            "256 Training on replay instances...\n"
          ]
        },
        {
          "name": "stderr",
          "output_type": "stream",
          "text": [
            " 256 Policy gradient with replay...: 100%|██████████| 15/15 [00:48<00:00,  3.23s/it]\n",
            "Generating molecules...: 100%|██████████| 50/50 [00:08<00:00,  5.83it/s]\n"
          ]
        },
        {
          "name": "stdout",
          "output_type": "stream",
          "text": [
            "Threshold increased to: 0.80\n",
            "257 Training on replay instances...\n"
          ]
        },
        {
          "name": "stderr",
          "output_type": "stream",
          "text": [
            " 257 Policy gradient with replay...: 100%|██████████| 15/15 [00:48<00:00,  3.26s/it]\n",
            "Generating molecules...: 100%|██████████| 50/50 [00:08<00:00,  5.87it/s]\n"
          ]
        },
        {
          "name": "stdout",
          "output_type": "stream",
          "text": [
            "Threshold increased to: 0.80\n",
            "258 Training on replay instances...\n"
          ]
        },
        {
          "name": "stderr",
          "output_type": "stream",
          "text": [
            " 258 Policy gradient with replay...: 100%|██████████| 15/15 [00:48<00:00,  3.20s/it]\n",
            "Generating molecules...: 100%|██████████| 50/50 [00:08<00:00,  5.79it/s]\n"
          ]
        },
        {
          "name": "stdout",
          "output_type": "stream",
          "text": [
            "Threshold increased to: 0.80\n",
            "259 Training on replay instances...\n"
          ]
        },
        {
          "name": "stderr",
          "output_type": "stream",
          "text": [
            " 259 Policy gradient with replay...: 100%|██████████| 15/15 [00:48<00:00,  3.24s/it]\n",
            "Generating molecules...: 100%|██████████| 50/50 [00:08<00:00,  5.79it/s]\n"
          ]
        },
        {
          "name": "stdout",
          "output_type": "stream",
          "text": [
            "Threshold increased to: 0.80\n",
            "260 Training on replay instances...\n"
          ]
        },
        {
          "name": "stderr",
          "output_type": "stream",
          "text": [
            " 260 Policy gradient with replay...: 100%|██████████| 15/15 [00:48<00:00,  3.20s/it]\n",
            "Generating molecules...: 100%|██████████| 50/50 [00:08<00:00,  5.84it/s]\n"
          ]
        },
        {
          "name": "stdout",
          "output_type": "stream",
          "text": [
            "Threshold increased to: 0.80\n",
            "261 Training on replay instances...\n"
          ]
        },
        {
          "name": "stderr",
          "output_type": "stream",
          "text": [
            " 261 Policy gradient with replay...: 100%|██████████| 15/15 [00:47<00:00,  3.17s/it]\n",
            "Generating molecules...: 100%|██████████| 50/50 [00:08<00:00,  5.82it/s]\n"
          ]
        },
        {
          "name": "stdout",
          "output_type": "stream",
          "text": [
            "Threshold increased to: 0.80\n",
            "262 Training on replay instances...\n"
          ]
        },
        {
          "name": "stderr",
          "output_type": "stream",
          "text": [
            " 262 Policy gradient with replay...: 100%|██████████| 15/15 [00:46<00:00,  3.12s/it]\n",
            "Generating molecules...: 100%|██████████| 50/50 [00:08<00:00,  5.83it/s]\n"
          ]
        },
        {
          "name": "stdout",
          "output_type": "stream",
          "text": [
            "Threshold increased to: 0.80\n",
            "263 Training on replay instances...\n"
          ]
        },
        {
          "name": "stderr",
          "output_type": "stream",
          "text": [
            " 263 Policy gradient with replay...: 100%|██████████| 15/15 [00:52<00:00,  3.48s/it]\n",
            "Generating molecules...: 100%|██████████| 50/50 [00:08<00:00,  5.75it/s]\n"
          ]
        },
        {
          "name": "stdout",
          "output_type": "stream",
          "text": [
            "Threshold increased to: 0.80\n",
            "264 Training on replay instances...\n"
          ]
        },
        {
          "name": "stderr",
          "output_type": "stream",
          "text": [
            " 264 Policy gradient with replay...: 100%|██████████| 15/15 [00:48<00:00,  3.25s/it]\n",
            "Generating molecules...: 100%|██████████| 50/50 [00:08<00:00,  5.77it/s]\n"
          ]
        },
        {
          "name": "stdout",
          "output_type": "stream",
          "text": [
            "Threshold increased to: 0.80\n",
            "265 Training on replay instances...\n"
          ]
        },
        {
          "name": "stderr",
          "output_type": "stream",
          "text": [
            " 265 Policy gradient with replay...: 100%|██████████| 15/15 [00:48<00:00,  3.20s/it]\n",
            "Generating molecules...: 100%|██████████| 50/50 [00:08<00:00,  5.75it/s]\n"
          ]
        },
        {
          "name": "stdout",
          "output_type": "stream",
          "text": [
            "Threshold increased to: 0.80\n",
            "266 Training on replay instances...\n"
          ]
        },
        {
          "name": "stderr",
          "output_type": "stream",
          "text": [
            " 266 Policy gradient with replay...: 100%|██████████| 15/15 [00:47<00:00,  3.19s/it]\n",
            "Generating molecules...: 100%|██████████| 50/50 [00:08<00:00,  5.84it/s]\n"
          ]
        },
        {
          "name": "stdout",
          "output_type": "stream",
          "text": [
            "Threshold increased to: 0.80\n",
            "267 Training on replay instances...\n"
          ]
        },
        {
          "name": "stderr",
          "output_type": "stream",
          "text": [
            " 267 Policy gradient with replay...: 100%|██████████| 15/15 [00:48<00:00,  3.24s/it]\n",
            "Generating molecules...: 100%|██████████| 50/50 [00:08<00:00,  5.87it/s]\n"
          ]
        },
        {
          "name": "stdout",
          "output_type": "stream",
          "text": [
            "Threshold increased to: 0.80\n",
            "268 Training on replay instances...\n"
          ]
        },
        {
          "name": "stderr",
          "output_type": "stream",
          "text": [
            " 268 Policy gradient with replay...: 100%|██████████| 15/15 [00:48<00:00,  3.21s/it]\n",
            "Generating molecules...: 100%|██████████| 50/50 [00:08<00:00,  5.82it/s]\n"
          ]
        },
        {
          "name": "stdout",
          "output_type": "stream",
          "text": [
            "Threshold increased to: 0.80\n",
            "269 Training on replay instances...\n"
          ]
        },
        {
          "name": "stderr",
          "output_type": "stream",
          "text": [
            " 269 Policy gradient with replay...: 100%|██████████| 15/15 [00:48<00:00,  3.21s/it]\n",
            "Generating molecules...: 100%|██████████| 50/50 [00:08<00:00,  5.84it/s]\n"
          ]
        },
        {
          "name": "stdout",
          "output_type": "stream",
          "text": [
            "Threshold increased to: 0.80\n",
            "270 Training on replay instances...\n"
          ]
        },
        {
          "name": "stderr",
          "output_type": "stream",
          "text": [
            " 270 Policy gradient with replay...: 100%|██████████| 15/15 [00:48<00:00,  3.22s/it]\n",
            "Generating molecules...: 100%|██████████| 50/50 [00:08<00:00,  5.77it/s]\n"
          ]
        },
        {
          "name": "stdout",
          "output_type": "stream",
          "text": [
            "Threshold increased to: 0.80\n",
            "271 Training on replay instances...\n"
          ]
        },
        {
          "name": "stderr",
          "output_type": "stream",
          "text": [
            " 271 Policy gradient with replay...: 100%|██████████| 15/15 [00:48<00:00,  3.24s/it]\n",
            "Generating molecules...: 100%|██████████| 50/50 [00:08<00:00,  5.77it/s]\n"
          ]
        },
        {
          "name": "stdout",
          "output_type": "stream",
          "text": [
            "Threshold increased to: 0.80\n",
            "272 Training on replay instances...\n"
          ]
        },
        {
          "name": "stderr",
          "output_type": "stream",
          "text": [
            " 272 Policy gradient with replay...: 100%|██████████| 15/15 [00:47<00:00,  3.20s/it]\n",
            "Generating molecules...: 100%|██████████| 50/50 [00:08<00:00,  5.81it/s]\n"
          ]
        },
        {
          "name": "stdout",
          "output_type": "stream",
          "text": [
            "Threshold increased to: 0.80\n",
            "273 Training on replay instances...\n"
          ]
        },
        {
          "name": "stderr",
          "output_type": "stream",
          "text": [
            " 273 Policy gradient with replay...: 100%|██████████| 15/15 [00:48<00:00,  3.20s/it]\n",
            "Generating molecules...: 100%|██████████| 50/50 [00:08<00:00,  5.78it/s]\n"
          ]
        },
        {
          "name": "stdout",
          "output_type": "stream",
          "text": [
            "Threshold increased to: 0.80\n",
            "274 Training on replay instances...\n"
          ]
        },
        {
          "name": "stderr",
          "output_type": "stream",
          "text": [
            " 274 Policy gradient with replay...: 100%|██████████| 15/15 [00:47<00:00,  3.14s/it]\n",
            "Generating molecules...: 100%|██████████| 50/50 [00:08<00:00,  5.78it/s]\n"
          ]
        },
        {
          "name": "stdout",
          "output_type": "stream",
          "text": [
            "Threshold increased to: 0.80\n",
            "275 Training on replay instances...\n"
          ]
        },
        {
          "name": "stderr",
          "output_type": "stream",
          "text": [
            " 275 Policy gradient with replay...: 100%|██████████| 15/15 [00:52<00:00,  3.50s/it]\n",
            "Generating molecules...: 100%|██████████| 50/50 [00:08<00:00,  5.71it/s]\n"
          ]
        },
        {
          "name": "stdout",
          "output_type": "stream",
          "text": [
            "Threshold increased to: 0.80\n",
            "276 Training on replay instances...\n"
          ]
        },
        {
          "name": "stderr",
          "output_type": "stream",
          "text": [
            " 276 Policy gradient with replay...: 100%|██████████| 15/15 [00:48<00:00,  3.26s/it]\n",
            "Generating molecules...: 100%|██████████| 50/50 [00:08<00:00,  5.74it/s]\n"
          ]
        },
        {
          "name": "stdout",
          "output_type": "stream",
          "text": [
            "Threshold increased to: 0.80\n",
            "277 Training on replay instances...\n"
          ]
        },
        {
          "name": "stderr",
          "output_type": "stream",
          "text": [
            " 277 Policy gradient with replay...: 100%|██████████| 15/15 [00:47<00:00,  3.16s/it]\n",
            "Generating molecules...: 100%|██████████| 50/50 [00:08<00:00,  5.77it/s]\n"
          ]
        },
        {
          "name": "stdout",
          "output_type": "stream",
          "text": [
            "Threshold increased to: 0.80\n",
            "278 Training on replay instances...\n"
          ]
        },
        {
          "name": "stderr",
          "output_type": "stream",
          "text": [
            " 278 Policy gradient with replay...: 100%|██████████| 15/15 [00:47<00:00,  3.16s/it]\n",
            "Generating molecules...: 100%|██████████| 50/50 [00:08<00:00,  5.80it/s]\n"
          ]
        },
        {
          "name": "stdout",
          "output_type": "stream",
          "text": [
            "Threshold increased to: 0.80\n",
            "279 Training on replay instances...\n"
          ]
        },
        {
          "name": "stderr",
          "output_type": "stream",
          "text": [
            " 279 Policy gradient with replay...: 100%|██████████| 15/15 [00:49<00:00,  3.30s/it]\n",
            "Generating molecules...: 100%|██████████| 50/50 [00:08<00:00,  5.78it/s]\n"
          ]
        },
        {
          "name": "stdout",
          "output_type": "stream",
          "text": [
            "Threshold increased to: 0.80\n",
            "280 Training on replay instances...\n"
          ]
        },
        {
          "name": "stderr",
          "output_type": "stream",
          "text": [
            " 280 Policy gradient with replay...: 100%|██████████| 15/15 [00:48<00:00,  3.22s/it]\n",
            "Generating molecules...: 100%|██████████| 50/50 [00:08<00:00,  5.82it/s]\n"
          ]
        },
        {
          "name": "stdout",
          "output_type": "stream",
          "text": [
            "Threshold increased to: 0.80\n",
            "281 Training on replay instances...\n"
          ]
        },
        {
          "name": "stderr",
          "output_type": "stream",
          "text": [
            " 281 Policy gradient with replay...: 100%|██████████| 15/15 [00:47<00:00,  3.17s/it]\n",
            "Generating molecules...: 100%|██████████| 50/50 [00:08<00:00,  5.79it/s]\n"
          ]
        },
        {
          "name": "stdout",
          "output_type": "stream",
          "text": [
            "Threshold increased to: 0.80\n",
            "282 Training on replay instances...\n"
          ]
        },
        {
          "name": "stderr",
          "output_type": "stream",
          "text": [
            " 282 Policy gradient with replay...: 100%|██████████| 15/15 [00:47<00:00,  3.16s/it]\n",
            "Generating molecules...: 100%|██████████| 50/50 [00:08<00:00,  5.83it/s]\n"
          ]
        },
        {
          "name": "stdout",
          "output_type": "stream",
          "text": [
            "Threshold increased to: 0.80\n",
            "283 Training on replay instances...\n"
          ]
        },
        {
          "name": "stderr",
          "output_type": "stream",
          "text": [
            " 283 Policy gradient with replay...: 100%|██████████| 15/15 [00:48<00:00,  3.21s/it]\n",
            "Generating molecules...: 100%|██████████| 50/50 [00:08<00:00,  5.82it/s]\n"
          ]
        },
        {
          "name": "stdout",
          "output_type": "stream",
          "text": [
            "Threshold increased to: 0.80\n",
            "284 Training on replay instances...\n"
          ]
        },
        {
          "name": "stderr",
          "output_type": "stream",
          "text": [
            " 284 Policy gradient with replay...: 100%|██████████| 15/15 [00:47<00:00,  3.18s/it]\n",
            "Generating molecules...: 100%|██████████| 50/50 [00:08<00:00,  5.82it/s]\n"
          ]
        },
        {
          "name": "stdout",
          "output_type": "stream",
          "text": [
            "Threshold increased to: 0.80\n",
            "285 Training on replay instances...\n"
          ]
        },
        {
          "name": "stderr",
          "output_type": "stream",
          "text": [
            " 285 Policy gradient with replay...: 100%|██████████| 15/15 [00:47<00:00,  3.18s/it]\n",
            "Generating molecules...: 100%|██████████| 50/50 [00:08<00:00,  5.84it/s]\n"
          ]
        },
        {
          "name": "stdout",
          "output_type": "stream",
          "text": [
            "Threshold increased to: 0.80\n",
            "286 Training on replay instances...\n"
          ]
        },
        {
          "name": "stderr",
          "output_type": "stream",
          "text": [
            " 286 Policy gradient with replay...: 100%|██████████| 15/15 [00:47<00:00,  3.20s/it]\n",
            "Generating molecules...: 100%|██████████| 50/50 [00:08<00:00,  5.81it/s]\n"
          ]
        },
        {
          "name": "stdout",
          "output_type": "stream",
          "text": [
            "Threshold increased to: 0.80\n",
            "287 Training on replay instances...\n"
          ]
        },
        {
          "name": "stderr",
          "output_type": "stream",
          "text": [
            " 287 Policy gradient with replay...: 100%|██████████| 15/15 [00:47<00:00,  3.16s/it]\n",
            "Generating molecules...: 100%|██████████| 50/50 [00:08<00:00,  5.82it/s]\n"
          ]
        },
        {
          "name": "stdout",
          "output_type": "stream",
          "text": [
            "Threshold increased to: 0.80\n",
            "288 Training on replay instances...\n"
          ]
        },
        {
          "name": "stderr",
          "output_type": "stream",
          "text": [
            " 288 Policy gradient with replay...: 100%|██████████| 15/15 [00:53<00:00,  3.54s/it]\n",
            "Generating molecules...: 100%|██████████| 50/50 [00:08<00:00,  5.80it/s]\n"
          ]
        },
        {
          "name": "stdout",
          "output_type": "stream",
          "text": [
            "Threshold increased to: 0.80\n",
            "289 Training on replay instances...\n"
          ]
        },
        {
          "name": "stderr",
          "output_type": "stream",
          "text": [
            " 289 Policy gradient with replay...: 100%|██████████| 15/15 [00:48<00:00,  3.25s/it]\n",
            "Generating molecules...: 100%|██████████| 50/50 [00:08<00:00,  5.83it/s]\n"
          ]
        },
        {
          "name": "stdout",
          "output_type": "stream",
          "text": [
            "Threshold increased to: 0.80\n",
            "290 Training on replay instances...\n"
          ]
        },
        {
          "name": "stderr",
          "output_type": "stream",
          "text": [
            " 290 Policy gradient with replay...: 100%|██████████| 15/15 [00:48<00:00,  3.21s/it]\n",
            "Generating molecules...: 100%|██████████| 50/50 [00:08<00:00,  5.77it/s]\n"
          ]
        },
        {
          "name": "stdout",
          "output_type": "stream",
          "text": [
            "Threshold increased to: 0.80\n",
            "291 Training on replay instances...\n"
          ]
        },
        {
          "name": "stderr",
          "output_type": "stream",
          "text": [
            " 291 Policy gradient with replay...: 100%|██████████| 15/15 [00:48<00:00,  3.20s/it]\n",
            "Generating molecules...: 100%|██████████| 50/50 [00:08<00:00,  5.75it/s]\n"
          ]
        },
        {
          "name": "stdout",
          "output_type": "stream",
          "text": [
            "Threshold increased to: 0.80\n",
            "292 Training on replay instances...\n"
          ]
        },
        {
          "name": "stderr",
          "output_type": "stream",
          "text": [
            " 292 Policy gradient with replay...: 100%|██████████| 15/15 [00:47<00:00,  3.19s/it]\n",
            "Generating molecules...: 100%|██████████| 50/50 [00:08<00:00,  5.77it/s]\n"
          ]
        },
        {
          "name": "stdout",
          "output_type": "stream",
          "text": [
            "Threshold increased to: 0.80\n",
            "293 Training on replay instances...\n"
          ]
        },
        {
          "name": "stderr",
          "output_type": "stream",
          "text": [
            " 293 Policy gradient with replay...: 100%|██████████| 15/15 [00:47<00:00,  3.16s/it]\n",
            "Generating molecules...: 100%|██████████| 50/50 [00:08<00:00,  5.76it/s]\n"
          ]
        },
        {
          "name": "stdout",
          "output_type": "stream",
          "text": [
            "Threshold increased to: 0.80\n",
            "294 Training on replay instances...\n"
          ]
        },
        {
          "name": "stderr",
          "output_type": "stream",
          "text": [
            " 294 Policy gradient with replay...: 100%|██████████| 15/15 [00:48<00:00,  3.21s/it]\n",
            "Generating molecules...: 100%|██████████| 50/50 [00:08<00:00,  5.84it/s]\n"
          ]
        },
        {
          "name": "stdout",
          "output_type": "stream",
          "text": [
            "Threshold increased to: 0.80\n",
            "295 Training on replay instances...\n"
          ]
        },
        {
          "name": "stderr",
          "output_type": "stream",
          "text": [
            " 295 Policy gradient with replay...: 100%|██████████| 15/15 [00:48<00:00,  3.20s/it]\n",
            "Generating molecules...: 100%|██████████| 50/50 [00:08<00:00,  5.82it/s]\n"
          ]
        },
        {
          "name": "stdout",
          "output_type": "stream",
          "text": [
            "Threshold increased to: 0.80\n",
            "296 Training on replay instances...\n"
          ]
        },
        {
          "name": "stderr",
          "output_type": "stream",
          "text": [
            " 296 Policy gradient with replay...: 100%|██████████| 15/15 [00:48<00:00,  3.21s/it]\n",
            "Generating molecules...: 100%|██████████| 50/50 [00:08<00:00,  5.81it/s]\n"
          ]
        },
        {
          "name": "stdout",
          "output_type": "stream",
          "text": [
            "Threshold increased to: 0.80\n",
            "297 Training on replay instances...\n"
          ]
        },
        {
          "name": "stderr",
          "output_type": "stream",
          "text": [
            " 297 Policy gradient with replay...: 100%|██████████| 15/15 [00:48<00:00,  3.24s/it]\n",
            "Generating molecules...: 100%|██████████| 50/50 [00:08<00:00,  5.85it/s]\n"
          ]
        },
        {
          "name": "stdout",
          "output_type": "stream",
          "text": [
            "Threshold increased to: 0.80\n",
            "298 Training on replay instances...\n"
          ]
        },
        {
          "name": "stderr",
          "output_type": "stream",
          "text": [
            " 298 Policy gradient with replay...: 100%|██████████| 15/15 [00:48<00:00,  3.25s/it]\n",
            "Generating molecules...: 100%|██████████| 50/50 [00:08<00:00,  5.84it/s]\n"
          ]
        },
        {
          "name": "stdout",
          "output_type": "stream",
          "text": [
            "Threshold increased to: 0.80\n",
            "299 Training on replay instances...\n"
          ]
        },
        {
          "name": "stderr",
          "output_type": "stream",
          "text": [
            " 299 Policy gradient with replay...: 100%|██████████| 15/15 [00:47<00:00,  3.15s/it]\n",
            "Generating molecules...: 100%|██████████| 50/50 [00:08<00:00,  5.82it/s]\n"
          ]
        },
        {
          "name": "stdout",
          "output_type": "stream",
          "text": [
            "Threshold increased to: 0.80\n",
            "300 Training on replay instances...\n"
          ]
        },
        {
          "name": "stderr",
          "output_type": "stream",
          "text": [
            " 300 Policy gradient with replay...: 100%|██████████| 15/15 [00:48<00:00,  3.26s/it]\n",
            "Generating molecules...: 100%|██████████| 50/50 [00:08<00:00,  5.79it/s]\n"
          ]
        },
        {
          "name": "stdout",
          "output_type": "stream",
          "text": [
            "Threshold increased to: 0.80\n",
            "Training duration: 17283.443663597107 seconds\n"
          ]
        },
        {
          "data": {
            "image/png": "[encoded data removed]",
            "text/plain": [
              "<Figure size 1200x600 with 1 Axes>"
            ]
          },
          "metadata": {},
          "output_type": "display_data"
        },
        {
          "data": {
            "image/png": "[encoded data removed]",
            "text/plain": [
              "<Figure size 1200x600 with 1 Axes>"
            ]
          },
          "metadata": {},
          "output_type": "display_data"
        }
      ],
      "source": [
        "import os\n",
        "import sys\n",
        "import torch\n",
        "import numpy as np\n",
        "import pandas as pd\n",
        "import matplotlib.pyplot as plt\n",
        "from tqdm import tqdm, trange\n",
        "from rdkit import Chem, DataStructs\n",
        "from sklearn.ensemble import RandomForestClassifier as RFC\n",
        "from utils import canonical_smiles, get_fp\n",
        "from stackRNN import StackAugmentedRNN\n",
        "from data import GeneratorData\n",
        "from predictor import VanillaQSAR\n",
        "from reinforcement import Reinforcement\n",
        "import time\n",
        "import contextlib\n",
        "from collections import deque\n",
        "from rdkit import RDLogger\n",
        "\n",
        "# Suppress RDKit warnings and errors\n",
        "RDLogger.DisableLog('rdApp.*')\n",
        "\n",
        "# A function to suppress stderr (error messages)\n",
        "@contextlib.contextmanager\n",
        "def suppress_stderr():\n",
        "    with open(os.devnull, 'w') as devnull:\n",
        "        old_stderr = sys.stderr\n",
        "        sys.stderr = devnull\n",
        "        try:\n",
        "            yield\n",
        "        finally:\n",
        "            sys.stderr = old_stderr\n",
        "\n",
        "def estimate_and_update(generator, predictor, n_to_generate, threshold=None, batch_size=16,\n",
        "                        plot_counts=False, plot=False, return_metrics=False, **kwargs):\n",
        "    generated = []\n",
        "    pbar = tqdm(range(n_to_generate))\n",
        "    for i in pbar:\n",
        "        pbar.set_description(\"Generating molecules...\")\n",
        "        with suppress_stderr():\n",
        "            generated += generator.evaluate(gen_data, predict_len=120, batch_size=batch_size)\n",
        "\n",
        "    with suppress_stderr():\n",
        "        sanitized = canonical_smiles(generated, sanitize=False, throw_warning=False)[:-1]\n",
        "    unique_smiles, counts = np.unique(sanitized, return_counts=True)\n",
        "    unique_smiles, counts = list(unique_smiles)[1:], counts[1:]\n",
        "\n",
        "    smiles, prediction, nan_smiles = predictor.predict(unique_smiles, get_features=get_fp)\n",
        "\n",
        "    if plot_counts and plot:\n",
        "        plt.hist(counts)\n",
        "        plt.gca().set_yscale('log')\n",
        "        plt.title('Distribution of counts of generated smiles')\n",
        "        plt.xlabel('Counts observed')\n",
        "        plt.show()\n",
        "\n",
        "    valid_fraction = len(prediction) / len(generated)\n",
        "    active_fraction = np.mean(prediction >= threshold)\n",
        "    metrics = {'valid_fraction': valid_fraction, 'active_fraction': active_fraction}\n",
        "\n",
        "    if return_metrics:\n",
        "        return smiles, prediction, metrics\n",
        "    else:\n",
        "        return smiles, prediction\n",
        "\n",
        "def update_threshold(cur_threshold, prediction, proportion=0.15, step=0.005):\n",
        "    if (prediction >= cur_threshold).mean() >= proportion:\n",
        "        new_threshold = min(cur_threshold + step, 0.8)\n",
        "        print(f\"Threshold increased to: {new_threshold:.2f}\")\n",
        "        return new_threshold\n",
        "    else:\n",
        "        return cur_threshold\n",
        "\n",
        "def simple_moving_average(prev_values, new_value, ma_window_size=10):\n",
        "    ma_value = sum(prev_values[-(ma_window_size - 1):]) + new_value\n",
        "    ma_value = ma_value / (len(prev_values[-(ma_window_size - 1):]) + 1.)\n",
        "    return ma_value\n",
        "\n",
        "def main(n_iterations=300, n_policy=10, n_policy_replay=15, batch_size=16, n_fine_tune=None,\n",
        "         seed=None, replay_data_path='/content/rl_experiments/data/gen_actives.smi',\n",
        "         primed_path='/content/rl_experiments/checkpoints/generator/checkpoint_batch_training',\n",
        "         save_path=None, use_replay=True):\n",
        "\n",
        "    # Load progress if exists, or initialize\n",
        "    progress_path = '/content/drive/MyDrive/training_progress_replay.csv'\n",
        "    if not os.path.exists(progress_path):\n",
        "        progress_df = pd.DataFrame(columns=['iteration', 'reward', 'valid_fraction', 'active_fraction'])\n",
        "    else:\n",
        "        progress_df = pd.read_csv(progress_path)\n",
        "        rewards = progress_df['reward'].tolist()\n",
        "        valid_fractions = progress_df['valid_fraction'].tolist()\n",
        "        active_fractions = progress_df['active_fraction'].tolist()\n",
        "\n",
        "    if n_fine_tune is None:\n",
        "        n_fine_tune = n_iterations\n",
        "\n",
        "    if seed is not None:\n",
        "        np.random.seed(seed)\n",
        "        torch.manual_seed(seed)\n",
        "\n",
        "    # Load generator data and tokens\n",
        "    gen_data_path = '/content/rl_experiments/data/chembl_22_clean_1576904_sorted_std_final.smi'\n",
        "    tokens = [' ', '<', '>', '#', '%', ')', '(', '+', '-', '/', '.', '1', '0', '3', '2', '5', '4',\n",
        "              '7', '6', '9', '8', '=', 'a', '@', 'C', 'B', 'F', 'I', 'H', 'O', 'N', 'P', 'S', '[', ']',\n",
        "              '\\\\', 'c', 'e', 'i', 'l', 'o', 'n', 'p', 's', 'r']\n",
        "    global gen_data\n",
        "    gen_data = GeneratorData(gen_data_path, delimiter='\\t',\n",
        "                             cols_to_read=[0], keep_header=True, tokens=tokens)\n",
        "\n",
        "    # Initialize Generator and Predictor\n",
        "    hidden_size = 1500\n",
        "    stack_width = 1500\n",
        "    stack_depth = 200\n",
        "    layer_type = 'GRU'\n",
        "    optimizer = torch.optim.SGD\n",
        "    lr = 0.0002\n",
        "    generator = StackAugmentedRNN(input_size=gen_data.n_characters, hidden_size=hidden_size,\n",
        "                                  output_size=gen_data.n_characters, layer_type=layer_type,\n",
        "                                  n_layers=1, is_bidirectional=False, has_stack=True,\n",
        "                                  stack_width=stack_width, stack_depth=stack_depth,\n",
        "                                  use_cuda=torch.cuda.is_available(), optimizer_instance=optimizer, lr=lr)\n",
        "    weights = torch.load(primed_path, map_location=lambda storage, loc: storage.cuda() if torch.cuda.is_available() else storage.cpu())\n",
        "    generator.load_state_dict(weights)\n",
        "\n",
        "    # Load replay data if replay is enabled\n",
        "    if use_replay:\n",
        "        with open(replay_data_path, 'r') as file:\n",
        "            replay_data = [line.strip() for line in file.readlines()]\n",
        "    else:\n",
        "        replay_data = None\n",
        "\n",
        "    # Define Predictor\n",
        "    model_instance = RFC\n",
        "    model_params = {'n_estimators': 250, 'n_jobs': 10}\n",
        "    predictor = VanillaQSAR(model_instance=model_instance,\n",
        "                            model_params=model_params,\n",
        "                            model_type='classifier')\n",
        "    predictor.load_model('/content/drive/MyDrive/egfr_rfc')\n",
        "\n",
        "    # Define reward function\n",
        "    def get_reward(smiles, predictor, threshold, invalid_reward=1.0, get_features=get_fp):\n",
        "        mol, prop, nan_smiles = predictor.predict([smiles], get_features=get_features)\n",
        "        if len(nan_smiles) == 1:\n",
        "            return invalid_reward\n",
        "        if prop[0] >= threshold:\n",
        "            return 10.0\n",
        "        else:\n",
        "            return invalid_reward\n",
        "\n",
        "    RL_model = Reinforcement(generator, predictor, get_reward)\n",
        "\n",
        "    # Initialize metrics lists\n",
        "    rl_losses = []\n",
        "    rewards = []\n",
        "    valid_fractions = []\n",
        "    active_fractions = []\n",
        "    thresholds = []\n",
        "    n_to_generate = 50\n",
        "    threshold = 0.05\n",
        "    start = time.time()\n",
        "\n",
        "    for i in range(n_iterations):\n",
        "        print(f\"{i + 1} Training on replay instances...\")\n",
        "        thresholds.append(threshold)\n",
        "\n",
        "        # Use policy gradient with replay data\n",
        "        if use_replay and replay_data is not None:\n",
        "            for j in trange(n_policy_replay, desc=f\" {i + 1} Policy gradient with replay...\"):\n",
        "                cur_reward, cur_loss = RL_model.policy_gradient(gen_data, replay=True, replay_data=replay_data, threshold=threshold)\n",
        "                rewards.append(simple_moving_average(rewards, cur_reward))\n",
        "                rl_losses.append(simple_moving_average(rl_losses, cur_loss))\n",
        "        else:\n",
        "            for j in trange(n_policy, desc=f\" {i + 1} Policy gradient...\"):\n",
        "                cur_reward, cur_loss = RL_model.policy_gradient(gen_data, replay=False, threshold=threshold)\n",
        "                rewards.append(simple_moving_average(rewards, cur_reward))\n",
        "                rl_losses.append(simple_moving_average(rl_losses, cur_loss))\n",
        "\n",
        "        smiles_cur, prediction_cur, metrics = estimate_and_update(RL_model.generator,\n",
        "                                                                  RL_model.predictor,\n",
        "                                                                  n_to_generate,\n",
        "                                                                  batch_size=batch_size,\n",
        "                                                                  threshold=0.75,\n",
        "                                                                  plot_counts=False,\n",
        "                                                                  return_metrics=True)\n",
        "        valid_fractions.append(metrics['valid_fraction'])\n",
        "        active_fractions.append(metrics['active_fraction'])\n",
        "\n",
        "        new_row = pd.DataFrame([{\n",
        "            'iteration': i + 1,\n",
        "            'reward': rewards[-1],\n",
        "            'valid_fraction': valid_fractions[-1],\n",
        "            'active_fraction': active_fractions[-1]\n",
        "        }])\n",
        "        progress_df = pd.concat([progress_df, new_row], ignore_index=True)\n",
        "\n",
        "        progress_df.to_csv(progress_path, index=False)\n",
        "\n",
        "        threshold = update_threshold(threshold, prediction_cur)\n",
        "\n",
        "    duration = time.time() - start\n",
        "    print(f\"Training duration: {duration} seconds\")\n",
        "\n",
        "    plt.figure(figsize=(12, 6))\n",
        "    plt.plot(rewards, label='Rewards')\n",
        "    plt.title('Rewards Over Iterations')\n",
        "    plt.xlabel('Iterations')\n",
        "    plt.ylabel('Reward')\n",
        "    plt.legend()\n",
        "    plt.show()\n",
        "\n",
        "    plt.figure(figsize=(12, 6))\n",
        "    plt.plot(valid_fractions, label='Valid Fractions')\n",
        "    plt.plot(active_fractions, label='Active Fractions')\n",
        "    plt.plot(thresholds, label='Thresholds')\n",
        "    plt.title('Fractions and Threshold Over Iterations')\n",
        "    plt.xlabel('Iterations')\n",
        "    plt.ylabel('Fraction / Threshold')\n",
        "    plt.legend()\n",
        "    plt.show()\n",
        "\n",
        "if __name__ == '__main__':\n",
        "    main(n_iterations=300)\n"
      ]
    }
  ],
  "metadata": {
    "colab": {
      "provenance": []
    },
    "kernelspec": {
      "display_name": "Python 3",
      "name": "python3"
    },
    "language_info": {
      "codemirror_mode": {
        "name": "ipython",
        "version": 3
      },
      "file_extension": ".py",
      "mimetype": "text/x-python",
      "name": "python",
      "nbconvert_exporter": "python",
      "pygments_lexer": "ipython3",
      "version": "3.8.10"
    }
  },
  "nbformat": 4,
  "nbformat_minor": 5
}
