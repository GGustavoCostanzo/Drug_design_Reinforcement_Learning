{
  "cells": [
    {
      "cell_type": "code",
      "execution_count": null,
      "id": "rtGyA99XR5WG",
      "metadata": {
        "colab": {
          "base_uri": "https://localhost:8080/"
        },
        "id": "rtGyA99XR5WG",
        "outputId": "b7cddb22-a4ec-4b74-878b-456ec0ef0d7e"
      },
      "outputs": [
        {
          "name": "stdout",
          "output_type": "stream",
          "text": [
            "Mounted at /content/drive\n"
          ]
        }
      ],
      "source": [
        "from google.colab import drive\n",
        "drive.mount('/content/drive')"
      ]
    },
    {
      "cell_type": "code",
      "execution_count": null,
      "id": "-_54X-Eb9p9o",
      "metadata": {
        "id": "-_54X-Eb9p9o"
      },
      "outputs": [],
      "source": [
        "!rm -rf rl_experiments/\n"
      ]
    },
    {
      "cell_type": "code",
      "execution_count": null,
      "id": "Bw8uA-OQ9r1X",
      "metadata": {
        "colab": {
          "base_uri": "https://localhost:8080/"
        },
        "id": "Bw8uA-OQ9r1X",
        "outputId": "34fff484-8f0d-4aa6-bac8-b4e633c5e7e3"
      },
      "outputs": [
        {
          "name": "stdout",
          "output_type": "stream",
          "text": [
            "Cloning into 'rl_experiments'...\n",
            "remote: Enumerating objects: 95, done.\u001b[K\n",
            "remote: Total 95 (delta 0), reused 0 (delta 0), pack-reused 95 (from 1)\u001b[K\n",
            "Receiving objects: 100% (95/95), 445.13 MiB | 40.54 MiB/s, done.\n",
            "Resolving deltas: 100% (32/32), done.\n",
            "Updating files: 100% (58/58), done.\n"
          ]
        }
      ],
      "source": [
        "!GIT_LFS_SKIP_SMUDGE=1 git clone https://github.com/isayevlab/rl_experiments.git\n"
      ]
    },
    {
      "cell_type": "code",
      "execution_count": null,
      "id": "hZgZvEf3B6yG",
      "metadata": {
        "colab": {
          "base_uri": "https://localhost:8080/"
        },
        "id": "hZgZvEf3B6yG",
        "outputId": "8708f691-678b-44f8-9e4b-056d425d9014"
      },
      "outputs": [
        {
          "name": "stdout",
          "output_type": "stream",
          "text": [
            "Collecting rdkit-pypi\n",
            "  Downloading rdkit_pypi-2022.9.5-cp310-cp310-manylinux_2_17_x86_64.manylinux2014_x86_64.whl.metadata (3.9 kB)\n",
            "Requirement already satisfied: torch in /usr/local/lib/python3.10/dist-packages (2.5.0+cu121)\n",
            "Requirement already satisfied: torchvision in /usr/local/lib/python3.10/dist-packages (0.20.0+cu121)\n",
            "Requirement already satisfied: pandas in /usr/local/lib/python3.10/dist-packages (2.2.2)\n",
            "Requirement already satisfied: matplotlib in /usr/local/lib/python3.10/dist-packages (3.7.1)\n",
            "Requirement already satisfied: numpy in /usr/local/lib/python3.10/dist-packages (from rdkit-pypi) (1.26.4)\n",
            "Requirement already satisfied: Pillow in /usr/local/lib/python3.10/dist-packages (from rdkit-pypi) (10.4.0)\n",
            "Requirement already satisfied: filelock in /usr/local/lib/python3.10/dist-packages (from torch) (3.16.1)\n",
            "Requirement already satisfied: typing-extensions>=4.8.0 in /usr/local/lib/python3.10/dist-packages (from torch) (4.12.2)\n",
            "Requirement already satisfied: networkx in /usr/local/lib/python3.10/dist-packages (from torch) (3.4.2)\n",
            "Requirement already satisfied: jinja2 in /usr/local/lib/python3.10/dist-packages (from torch) (3.1.4)\n",
            "Requirement already satisfied: fsspec in /usr/local/lib/python3.10/dist-packages (from torch) (2024.6.1)\n",
            "Requirement already satisfied: sympy==1.13.1 in /usr/local/lib/python3.10/dist-packages (from torch) (1.13.1)\n",
            "Requirement already satisfied: mpmath<1.4,>=1.1.0 in /usr/local/lib/python3.10/dist-packages (from sympy==1.13.1->torch) (1.3.0)\n",
            "Requirement already satisfied: python-dateutil>=2.8.2 in /usr/local/lib/python3.10/dist-packages (from pandas) (2.8.2)\n",
            "Requirement already satisfied: pytz>=2020.1 in /usr/local/lib/python3.10/dist-packages (from pandas) (2024.2)\n",
            "Requirement already satisfied: tzdata>=2022.7 in /usr/local/lib/python3.10/dist-packages (from pandas) (2024.2)\n",
            "Requirement already satisfied: contourpy>=1.0.1 in /usr/local/lib/python3.10/dist-packages (from matplotlib) (1.3.0)\n",
            "Requirement already satisfied: cycler>=0.10 in /usr/local/lib/python3.10/dist-packages (from matplotlib) (0.12.1)\n",
            "Requirement already satisfied: fonttools>=4.22.0 in /usr/local/lib/python3.10/dist-packages (from matplotlib) (4.54.1)\n",
            "Requirement already satisfied: kiwisolver>=1.0.1 in /usr/local/lib/python3.10/dist-packages (from matplotlib) (1.4.7)\n",
            "Requirement already satisfied: packaging>=20.0 in /usr/local/lib/python3.10/dist-packages (from matplotlib) (24.1)\n",
            "Requirement already satisfied: pyparsing>=2.3.1 in /usr/local/lib/python3.10/dist-packages (from matplotlib) (3.2.0)\n",
            "Requirement already satisfied: six>=1.5 in /usr/local/lib/python3.10/dist-packages (from python-dateutil>=2.8.2->pandas) (1.16.0)\n",
            "Requirement already satisfied: MarkupSafe>=2.0 in /usr/local/lib/python3.10/dist-packages (from jinja2->torch) (3.0.2)\n",
            "Downloading rdkit_pypi-2022.9.5-cp310-cp310-manylinux_2_17_x86_64.manylinux2014_x86_64.whl (29.4 MB)\n",
            "\u001b[2K   \u001b[90m━━━━━━━━━━━━━━━━━━━━━━━━━━━━━━━━━━━━━━━━\u001b[0m \u001b[32m29.4/29.4 MB\u001b[0m \u001b[31m72.1 MB/s\u001b[0m eta \u001b[36m0:00:00\u001b[0m\n",
            "\u001b[?25hInstalling collected packages: rdkit-pypi\n",
            "Successfully installed rdkit-pypi-2022.9.5\n"
          ]
        }
      ],
      "source": [
        "!pip install rdkit-pypi torch torchvision pandas matplotlib\n"
      ]
    },
    {
      "cell_type": "code",
      "execution_count": null,
      "id": "jjXF9rZ1C_Gl",
      "metadata": {
        "colab": {
          "base_uri": "https://localhost:8080/"
        },
        "id": "jjXF9rZ1C_Gl",
        "outputId": "afdacbf8-05ad-4190-fd56-dcb85e52e815"
      },
      "outputs": [
        {
          "name": "stdout",
          "output_type": "stream",
          "text": [
            "Requirement already satisfied: joblib in /usr/local/lib/python3.10/dist-packages (1.4.2)\n"
          ]
        }
      ],
      "source": [
        "!pip install joblib\n"
      ]
    },
    {
      "cell_type": "code",
      "execution_count": null,
      "id": "9dGMPJXXpZfR",
      "metadata": {
        "colab": {
          "base_uri": "https://localhost:8080/"
        },
        "id": "9dGMPJXXpZfR",
        "outputId": "756c5882-411e-4e9e-e785-0a37afdd4ab9"
      },
      "outputs": [
        {
          "name": "stdout",
          "output_type": "stream",
          "text": [
            "True\n"
          ]
        }
      ],
      "source": [
        "import torch\n",
        "print(torch.cuda.is_available())  # Should return True if GPU is available\n"
      ]
    },
    {
      "cell_type": "code",
      "execution_count": null,
      "id": "Gea5x0UNpdcu",
      "metadata": {
        "colab": {
          "base_uri": "https://localhost:8080/"
        },
        "id": "Gea5x0UNpdcu",
        "outputId": "6907304e-ff02-4bcd-9184-49b839c21da6"
      },
      "outputs": [
        {
          "name": "stdout",
          "output_type": "stream",
          "text": [
            "Looking in indexes: https://pypi.org/simple, https://download.pytorch.org/whl/cu113\n",
            "Requirement already satisfied: torch in /usr/local/lib/python3.10/dist-packages (2.5.0+cu121)\n",
            "Requirement already satisfied: torchvision in /usr/local/lib/python3.10/dist-packages (0.20.0+cu121)\n",
            "Requirement already satisfied: torchaudio in /usr/local/lib/python3.10/dist-packages (2.5.0+cu121)\n",
            "Requirement already satisfied: filelock in /usr/local/lib/python3.10/dist-packages (from torch) (3.16.1)\n",
            "Requirement already satisfied: typing-extensions>=4.8.0 in /usr/local/lib/python3.10/dist-packages (from torch) (4.12.2)\n",
            "Requirement already satisfied: networkx in /usr/local/lib/python3.10/dist-packages (from torch) (3.4.2)\n",
            "Requirement already satisfied: jinja2 in /usr/local/lib/python3.10/dist-packages (from torch) (3.1.4)\n",
            "Requirement already satisfied: fsspec in /usr/local/lib/python3.10/dist-packages (from torch) (2024.6.1)\n",
            "Requirement already satisfied: sympy==1.13.1 in /usr/local/lib/python3.10/dist-packages (from torch) (1.13.1)\n",
            "Requirement already satisfied: mpmath<1.4,>=1.1.0 in /usr/local/lib/python3.10/dist-packages (from sympy==1.13.1->torch) (1.3.0)\n",
            "Requirement already satisfied: numpy in /usr/local/lib/python3.10/dist-packages (from torchvision) (1.26.4)\n",
            "Requirement already satisfied: pillow!=8.3.*,>=5.3.0 in /usr/local/lib/python3.10/dist-packages (from torchvision) (10.4.0)\n",
            "Requirement already satisfied: MarkupSafe>=2.0 in /usr/local/lib/python3.10/dist-packages (from jinja2->torch) (3.0.2)\n"
          ]
        }
      ],
      "source": [
        "!pip install torch torchvision torchaudio --extra-index-url https://download.pytorch.org/whl/cu113\n"
      ]
    },
    {
      "cell_type": "code",
      "execution_count": null,
      "id": "VmGl6cJLpoei",
      "metadata": {
        "colab": {
          "base_uri": "https://localhost:8080/"
        },
        "id": "VmGl6cJLpoei",
        "outputId": "1d7ee0d0-74a4-443b-b123-bd8fcc1f72a5"
      },
      "outputs": [
        {
          "name": "stdout",
          "output_type": "stream",
          "text": [
            "True\n"
          ]
        }
      ],
      "source": [
        "import torch\n",
        "print(torch.cuda.is_available())  # Should return True if GPU is available"
      ]
    },
    {
      "cell_type": "code",
      "execution_count": null,
      "id": "TjDJPx_dpxtz",
      "metadata": {
        "colab": {
          "base_uri": "https://localhost:8080/"
        },
        "id": "TjDJPx_dpxtz",
        "outputId": "ff21ca3a-4bc5-4a5c-af1b-564d99f7004d"
      },
      "outputs": [
        {
          "name": "stdout",
          "output_type": "stream",
          "text": [
            "nvcc: NVIDIA (R) Cuda compiler driver\n",
            "Copyright (c) 2005-2023 NVIDIA Corporation\n",
            "Built on Tue_Aug_15_22:02:13_PDT_2023\n",
            "Cuda compilation tools, release 12.2, V12.2.140\n",
            "Build cuda_12.2.r12.2/compiler.33191640_0\n"
          ]
        }
      ],
      "source": [
        "!nvcc --version\n"
      ]
    },
    {
      "cell_type": "code",
      "execution_count": null,
      "id": "IU1a40JrBkj_",
      "metadata": {
        "id": "IU1a40JrBkj_"
      },
      "outputs": [],
      "source": [
        "import sys\n",
        "sys.path.append('/content/rl_experiments/release')\n"
      ]
    },
    {
      "cell_type": "code",
      "execution_count": null,
      "id": "3fa1ed46",
      "metadata": {
        "id": "3fa1ed46"
      },
      "outputs": [],
      "source": [
        "import os\n",
        "os.environ['CUDA_VISIBLE_DEVICES'] = '1'\n",
        "import sys\n",
        "sys.path.append('../release')"
      ]
    },
    {
      "cell_type": "code",
      "execution_count": null,
      "id": "105d79bb",
      "metadata": {
        "id": "105d79bb"
      },
      "outputs": [],
      "source": [
        "import numpy as np\n",
        "import pandas as pd\n",
        "from tqdm import trange\n",
        "import torch\n",
        "use_cuda = torch.cuda.is_available()"
      ]
    },
    {
      "cell_type": "code",
      "execution_count": null,
      "id": "Qk64FXHMkcfg",
      "metadata": {
        "colab": {
          "base_uri": "https://localhost:8080/"
        },
        "id": "Qk64FXHMkcfg",
        "outputId": "582e78e3-2cbd-4e62-9d4a-3c37c228045c"
      },
      "outputs": [
        {
          "name": "stdout",
          "output_type": "stream",
          "text": [
            "/content\n"
          ]
        }
      ],
      "source": [
        "import os\n",
        "print(os.getcwd())\n"
      ]
    },
    {
      "cell_type": "code",
      "execution_count": null,
      "id": "c6555db4",
      "metadata": {
        "id": "c6555db4"
      },
      "outputs": [],
      "source": [
        "from data import GeneratorData, PredictorData\n",
        "from stackRNN import StackAugmentedRNN\n",
        "from utils import get_fp\n",
        "from reinforcement import Reinforcement"
      ]
    },
    {
      "cell_type": "code",
      "execution_count": null,
      "id": "7a537893",
      "metadata": {
        "id": "7a537893"
      },
      "outputs": [],
      "source": [
        "import joblib\n",
        "from sklearn.ensemble import RandomForestClassifier as RFC\n",
        "from predictor import VanillaQSAR"
      ]
    },
    {
      "cell_type": "markdown",
      "id": "50ef9271",
      "metadata": {
        "id": "50ef9271"
      },
      "source": [
        "# Training the predictor"
      ]
    },
    {
      "cell_type": "code",
      "execution_count": null,
      "id": "413f20d9",
      "metadata": {
        "id": "413f20d9"
      },
      "outputs": [],
      "source": [
        "from rdkit import RDLogger\n",
        "\n",
        "# Disable RDKit warnings\n",
        "RDLogger.DisableLog('rdApp.*')\n",
        "\n",
        "np.random.seed(42)\n",
        "\n",
        "pred_data = PredictorData('rl_experiments/data/egfr_with_pubchem.csv', get_features=get_fp)\n",
        "model_instance = RFC\n",
        "model_params = {'n_estimators': 250,\n",
        "                'n_jobs': 10}\n",
        "my_predictor = VanillaQSAR(model_instance=model_instance,\n",
        "                           model_params=model_params,\n",
        "                           ensemble_size=10)"
      ]
    },
    {
      "cell_type": "code",
      "execution_count": null,
      "id": "U4BN_XQdvywV",
      "metadata": {
        "colab": {
          "background_save": true
        },
        "id": "U4BN_XQdvywV"
      },
      "outputs": [],
      "source": [
        "# Train the model and retrieve metrics\n",
        "results, metrics_type = my_predictor.fit_model(pred_data, cv_split='random')\n",
        "\n"
      ]
    },
    {
      "cell_type": "code",
      "execution_count": null,
      "id": "1nVTnaJX6xKo",
      "metadata": {
        "colab": {
          "background_save": true,
          "base_uri": "https://localhost:8080/"
        },
        "id": "1nVTnaJX6xKo",
        "outputId": "05a2cb98-8d01-4c18-e942-9d93ef9d275d"
      },
      "outputs": [
        {
          "name": "stdout",
          "output_type": "stream",
          "text": [
            "Metrics Type: F1 score\n",
            "Fold 1: F1 score = 0.8571\n",
            "Fold 2: F1 score = 0.8301\n",
            "Fold 3: F1 score = 0.8549\n",
            "Fold 4: F1 score = 0.8525\n",
            "Fold 5: F1 score = 0.8350\n",
            "Fold 6: F1 score = 0.8465\n",
            "Fold 7: F1 score = 0.8343\n",
            "Fold 8: F1 score = 0.8540\n",
            "Fold 9: F1 score = 0.8505\n",
            "Fold 10: F1 score = 0.8357\n",
            "Average F1 score: 0.8451\n"
          ]
        }
      ],
      "source": [
        "# Print out the results and calculate the average F1 score\n",
        "print(f\"Metrics Type: {metrics_type}\")\n",
        "for i, metric in enumerate(results):\n",
        "    print(f\"Fold {i+1}: {metrics_type} = {metric:.4f}\")\n",
        "\n",
        "# Calculate and print the average F1 score\n",
        "average_f1 = np.mean(results)\n",
        "print(f\"Average {metrics_type}: {average_f1:.4f}\")\n"
      ]
    },
    {
      "cell_type": "code",
      "execution_count": null,
      "id": "ef78f406",
      "metadata": {
        "id": "ef78f406"
      },
      "outputs": [],
      "source": [
        "# uncomment to train predictor model...\n",
        "my_predictor.fit_model(pred_data, cv_split='random')\n",
        "my_predictor.save_model('/content/drive/MyDrive/egfr_rfc')"
      ]
    },
    {
      "cell_type": "code",
      "execution_count": null,
      "id": "a635078d",
      "metadata": {
        "id": "a635078d"
      },
      "outputs": [],
      "source": [
        "# ...or use pretrained model\n",
        "my_predictor.load_model('/content/drive/MyDrive/egfr_rfc')"
      ]
    },
    {
      "cell_type": "markdown",
      "id": "b9782d5f",
      "metadata": {},
      "source": [
        "# Dynamic threshold Original (steps: 0.005 and max= 1)"
      ]
    },
    {
      "cell_type": "code",
      "execution_count": null,
      "id": "qVGNMXTsbRXX",
      "metadata": {
        "colab": {
          "base_uri": "https://localhost:8080/"
        },
        "id": "qVGNMXTsbRXX",
        "outputId": "59d1ffdc-5e21-4729-b7e0-ef21ccba60a8"
      },
      "outputs": [
        {
          "name": "stderr",
          "output_type": "stream",
          "text": [
            "<ipython-input-13-8492074f9397>:136: FutureWarning: You are using `torch.load` with `weights_only=False` (the current default value), which uses the default pickle module implicitly. It is possible to construct malicious pickle data which will execute arbitrary code during unpickling (See https://github.com/pytorch/pytorch/blob/main/SECURITY.md#untrusted-models for more details). In a future release, the default value for `weights_only` will be flipped to `True`. This limits the functions that could be executed during unpickling. Arbitrary objects will no longer be allowed to be loaded via this mode unless they are explicitly allowlisted by the user via `torch.serialization.add_safe_globals`. We recommend you start setting `weights_only=True` for any use case where you don't have full control of the loaded file. Please open an issue on GitHub for any issues related to this experimental feature.\n",
            "  weights = torch.load(primed_path, map_location=lambda storage, loc: storage.cuda() if torch.cuda.is_available() else storage.cpu())\n"
          ]
        },
        {
          "name": "stdout",
          "output_type": "stream",
          "text": [
            "1 Training on replay instances...\n"
          ]
        },
        {
          "name": "stderr",
          "output_type": "stream",
          "text": [
            " 1 Policy gradient...: 100%|██████████| 10/10 [00:40<00:00,  4.10s/it]\n",
            "Generating molecules...: 100%|██████████| 50/50 [00:08<00:00,  5.85it/s]\n"
          ]
        },
        {
          "name": "stdout",
          "output_type": "stream",
          "text": [
            "Mean value of predictions: 0.0\n",
            "Proportion of valid SMILES: 0.7826633165829145\n",
            "2 Training on replay instances...\n"
          ]
        },
        {
          "name": "stderr",
          "output_type": "stream",
          "text": [
            " 2 Policy gradient...: 100%|██████████| 10/10 [00:39<00:00,  3.97s/it]\n",
            "Generating molecules...: 100%|██████████| 50/50 [00:08<00:00,  6.04it/s]\n"
          ]
        },
        {
          "name": "stdout",
          "output_type": "stream",
          "text": [
            "Mean value of predictions: 0.0\n",
            "Proportion of valid SMILES: 0.7735849056603774\n",
            "3 Training on replay instances...\n"
          ]
        },
        {
          "name": "stderr",
          "output_type": "stream",
          "text": [
            " 3 Policy gradient...: 100%|██████████| 10/10 [00:40<00:00,  4.02s/it]\n",
            "Generating molecules...: 100%|██████████| 50/50 [00:08<00:00,  5.98it/s]\n"
          ]
        },
        {
          "name": "stdout",
          "output_type": "stream",
          "text": [
            "Mean value of predictions: 0.0\n",
            "Proportion of valid SMILES: 0.8120300751879699\n",
            "4 Training on replay instances...\n"
          ]
        },
        {
          "name": "stderr",
          "output_type": "stream",
          "text": [
            " 4 Policy gradient...: 100%|██████████| 10/10 [00:39<00:00,  3.92s/it]\n",
            "Generating molecules...: 100%|██████████| 50/50 [00:08<00:00,  6.02it/s]\n"
          ]
        },
        {
          "name": "stdout",
          "output_type": "stream",
          "text": [
            "Mean value of predictions: 0.0015797789\n",
            "Proportion of valid SMILES: 0.793233082706767\n",
            "5 Training on replay instances...\n"
          ]
        },
        {
          "name": "stderr",
          "output_type": "stream",
          "text": [
            " 5 Policy gradient...: 100%|██████████| 10/10 [00:39<00:00,  3.91s/it]\n",
            "Generating molecules...: 100%|██████████| 50/50 [00:08<00:00,  6.08it/s]\n"
          ]
        },
        {
          "name": "stdout",
          "output_type": "stream",
          "text": [
            "Mean value of predictions: 0.00063191156\n",
            "Proportion of valid SMILES: 0.793233082706767\n",
            "6 Training on replay instances...\n"
          ]
        },
        {
          "name": "stderr",
          "output_type": "stream",
          "text": [
            " 6 Policy gradient...: 100%|██████████| 10/10 [00:40<00:00,  4.01s/it]\n",
            "Generating molecules...: 100%|██████████| 50/50 [00:08<00:00,  5.92it/s]\n"
          ]
        },
        {
          "name": "stdout",
          "output_type": "stream",
          "text": [
            "Mean value of predictions: 0.001610306\n",
            "Proportion of valid SMILES: 0.7781954887218046\n",
            "7 Training on replay instances...\n"
          ]
        },
        {
          "name": "stderr",
          "output_type": "stream",
          "text": [
            " 7 Policy gradient...: 100%|██████████| 10/10 [00:38<00:00,  3.88s/it]\n",
            "Generating molecules...: 100%|██████████| 50/50 [00:08<00:00,  6.01it/s]\n"
          ]
        },
        {
          "name": "stdout",
          "output_type": "stream",
          "text": [
            "Mean value of predictions: 0.0009852217\n",
            "Proportion of valid SMILES: 0.76125\n",
            "8 Training on replay instances...\n"
          ]
        },
        {
          "name": "stderr",
          "output_type": "stream",
          "text": [
            " 8 Policy gradient...: 100%|██████████| 10/10 [00:39<00:00,  3.96s/it]\n",
            "Generating molecules...: 100%|██████████| 50/50 [00:08<00:00,  5.96it/s]\n"
          ]
        },
        {
          "name": "stdout",
          "output_type": "stream",
          "text": [
            "Mean value of predictions: 0.0034591195\n",
            "Proportion of valid SMILES: 0.7959949937421777\n",
            "9 Training on replay instances...\n"
          ]
        },
        {
          "name": "stderr",
          "output_type": "stream",
          "text": [
            " 9 Policy gradient...: 100%|██████████| 10/10 [00:40<00:00,  4.05s/it]\n",
            "Generating molecules...: 100%|██████████| 50/50 [00:08<00:00,  5.93it/s]\n"
          ]
        },
        {
          "name": "stdout",
          "output_type": "stream",
          "text": [
            "Mean value of predictions: 0.0\n",
            "Proportion of valid SMILES: 0.8105395232120451\n",
            "10 Training on replay instances...\n"
          ]
        },
        {
          "name": "stderr",
          "output_type": "stream",
          "text": [
            " 10 Policy gradient...: 100%|██████████| 10/10 [00:38<00:00,  3.83s/it]\n",
            "Generating molecules...: 100%|██████████| 50/50 [00:08<00:00,  5.99it/s]\n"
          ]
        },
        {
          "name": "stdout",
          "output_type": "stream",
          "text": [
            "Mean value of predictions: 0.0\n",
            "Proportion of valid SMILES: 0.8005018820577164\n",
            "11 Training on replay instances...\n"
          ]
        },
        {
          "name": "stderr",
          "output_type": "stream",
          "text": [
            " 11 Policy gradient...: 100%|██████████| 10/10 [00:37<00:00,  3.77s/it]\n",
            "Generating molecules...: 100%|██████████| 50/50 [00:08<00:00,  5.93it/s]\n"
          ]
        },
        {
          "name": "stdout",
          "output_type": "stream",
          "text": [
            "Mean value of predictions: 0.0\n",
            "Proportion of valid SMILES: 0.8080301129234629\n",
            "12 Training on replay instances...\n"
          ]
        },
        {
          "name": "stderr",
          "output_type": "stream",
          "text": [
            " 12 Policy gradient...: 100%|██████████| 10/10 [00:40<00:00,  4.04s/it]\n",
            "Generating molecules...: 100%|██████████| 50/50 [00:08<00:00,  5.93it/s]\n"
          ]
        },
        {
          "name": "stdout",
          "output_type": "stream",
          "text": [
            "Mean value of predictions: 0.0\n",
            "Proportion of valid SMILES: 0.7809762202753442\n",
            "13 Training on replay instances...\n"
          ]
        },
        {
          "name": "stderr",
          "output_type": "stream",
          "text": [
            " 13 Policy gradient...: 100%|██████████| 10/10 [00:38<00:00,  3.87s/it]\n",
            "Generating molecules...: 100%|██████████| 50/50 [00:08<00:00,  5.93it/s]\n"
          ]
        },
        {
          "name": "stdout",
          "output_type": "stream",
          "text": [
            "Mean value of predictions: 0.00063593005\n",
            "Proportion of valid SMILES: 0.7882205513784462\n",
            "14 Training on replay instances...\n"
          ]
        },
        {
          "name": "stderr",
          "output_type": "stream",
          "text": [
            " 14 Policy gradient...: 100%|██████████| 10/10 [00:38<00:00,  3.89s/it]\n",
            "Generating molecules...: 100%|██████████| 50/50 [00:08<00:00,  5.93it/s]\n"
          ]
        },
        {
          "name": "stdout",
          "output_type": "stream",
          "text": [
            "Mean value of predictions: 0.0\n",
            "Proportion of valid SMILES: 0.7816813048933501\n",
            "15 Training on replay instances...\n"
          ]
        },
        {
          "name": "stderr",
          "output_type": "stream",
          "text": [
            " 15 Policy gradient...: 100%|██████████| 10/10 [00:39<00:00,  3.92s/it]\n",
            "Generating molecules...: 100%|██████████| 50/50 [00:08<00:00,  5.90it/s]\n"
          ]
        },
        {
          "name": "stdout",
          "output_type": "stream",
          "text": [
            "Mean value of predictions: 0.00032467532\n",
            "Proportion of valid SMILES: 0.7709637046307884\n",
            "16 Training on replay instances...\n"
          ]
        },
        {
          "name": "stderr",
          "output_type": "stream",
          "text": [
            " 16 Policy gradient...: 100%|██████████| 10/10 [00:38<00:00,  3.90s/it]\n",
            "Generating molecules...: 100%|██████████| 50/50 [00:08<00:00,  5.70it/s]\n"
          ]
        },
        {
          "name": "stdout",
          "output_type": "stream",
          "text": [
            "Mean value of predictions: 0.0\n",
            "Proportion of valid SMILES: 0.7484355444305382\n",
            "17 Training on replay instances...\n"
          ]
        },
        {
          "name": "stderr",
          "output_type": "stream",
          "text": [
            " 17 Policy gradient...: 100%|██████████| 10/10 [00:37<00:00,  3.78s/it]\n",
            "Generating molecules...: 100%|██████████| 50/50 [00:08<00:00,  5.94it/s]\n"
          ]
        },
        {
          "name": "stdout",
          "output_type": "stream",
          "text": [
            "Mean value of predictions: 0.0\n",
            "Proportion of valid SMILES: 0.7716436637390214\n",
            "18 Training on replay instances...\n"
          ]
        },
        {
          "name": "stderr",
          "output_type": "stream",
          "text": [
            " 18 Policy gradient...: 100%|██████████| 10/10 [00:37<00:00,  3.77s/it]\n",
            "Generating molecules...: 100%|██████████| 50/50 [00:08<00:00,  5.96it/s]\n"
          ]
        },
        {
          "name": "stdout",
          "output_type": "stream",
          "text": [
            "Mean value of predictions: 0.0\n",
            "Proportion of valid SMILES: 0.7875\n",
            "19 Training on replay instances...\n"
          ]
        },
        {
          "name": "stderr",
          "output_type": "stream",
          "text": [
            " 19 Policy gradient...: 100%|██████████| 10/10 [00:39<00:00,  3.94s/it]\n",
            "Generating molecules...: 100%|██████████| 50/50 [00:08<00:00,  5.71it/s]\n"
          ]
        },
        {
          "name": "stdout",
          "output_type": "stream",
          "text": [
            "Mean value of predictions: 0.0\n",
            "Proportion of valid SMILES: 0.7917189460476788\n",
            "20 Training on replay instances...\n"
          ]
        },
        {
          "name": "stderr",
          "output_type": "stream",
          "text": [
            " 20 Policy gradient...: 100%|██████████| 10/10 [00:39<00:00,  3.94s/it]\n",
            "Generating molecules...: 100%|██████████| 50/50 [00:08<00:00,  5.87it/s]\n"
          ]
        },
        {
          "name": "stdout",
          "output_type": "stream",
          "text": [
            "Mean value of predictions: 0.0\n",
            "Proportion of valid SMILES: 0.7959949937421777\n",
            "21 Training on replay instances...\n"
          ]
        },
        {
          "name": "stderr",
          "output_type": "stream",
          "text": [
            " 21 Policy gradient...: 100%|██████████| 10/10 [00:40<00:00,  4.07s/it]\n",
            "Generating molecules...: 100%|██████████| 50/50 [00:08<00:00,  5.91it/s]\n"
          ]
        },
        {
          "name": "stdout",
          "output_type": "stream",
          "text": [
            "Mean value of predictions: 0.0\n",
            "Proportion of valid SMILES: 0.80375\n",
            "22 Training on replay instances...\n"
          ]
        },
        {
          "name": "stderr",
          "output_type": "stream",
          "text": [
            " 22 Policy gradient...: 100%|██████████| 10/10 [00:38<00:00,  3.86s/it]\n",
            "Generating molecules...: 100%|██████████| 50/50 [00:08<00:00,  5.87it/s]\n"
          ]
        },
        {
          "name": "stdout",
          "output_type": "stream",
          "text": [
            "Mean value of predictions: 0.0015128592\n",
            "Proportion of valid SMILES: 0.8293601003764115\n",
            "23 Training on replay instances...\n"
          ]
        },
        {
          "name": "stderr",
          "output_type": "stream",
          "text": [
            " 23 Policy gradient...: 100%|██████████| 10/10 [00:39<00:00,  3.92s/it]\n",
            "Generating molecules...: 100%|██████████| 50/50 [00:08<00:00,  5.86it/s]\n"
          ]
        },
        {
          "name": "stdout",
          "output_type": "stream",
          "text": [
            "Mean value of predictions: 0.0\n",
            "Proportion of valid SMILES: 0.8297872340425532\n",
            "24 Training on replay instances...\n"
          ]
        },
        {
          "name": "stderr",
          "output_type": "stream",
          "text": [
            " 24 Policy gradient...: 100%|██████████| 10/10 [00:38<00:00,  3.89s/it]\n",
            "Generating molecules...: 100%|██████████| 50/50 [00:08<00:00,  5.80it/s]\n"
          ]
        },
        {
          "name": "stdout",
          "output_type": "stream",
          "text": [
            "Mean value of predictions: 0.0005961252\n",
            "Proportion of valid SMILES: 0.83875\n",
            "25 Training on replay instances...\n"
          ]
        },
        {
          "name": "stderr",
          "output_type": "stream",
          "text": [
            " 25 Policy gradient...: 100%|██████████| 10/10 [00:37<00:00,  3.79s/it]\n",
            "Generating molecules...: 100%|██████████| 50/50 [00:08<00:00,  5.82it/s]\n"
          ]
        },
        {
          "name": "stdout",
          "output_type": "stream",
          "text": [
            "Mean value of predictions: 0.0\n",
            "Proportion of valid SMILES: 0.8435544430538173\n",
            "26 Training on replay instances...\n"
          ]
        },
        {
          "name": "stderr",
          "output_type": "stream",
          "text": [
            " 26 Policy gradient...: 100%|██████████| 10/10 [00:38<00:00,  3.84s/it]\n",
            "Generating molecules...: 100%|██████████| 50/50 [00:08<00:00,  5.80it/s]\n"
          ]
        },
        {
          "name": "stdout",
          "output_type": "stream",
          "text": [
            "Mean value of predictions: 0.0\n",
            "Proportion of valid SMILES: 0.82375\n",
            "27 Training on replay instances...\n"
          ]
        },
        {
          "name": "stderr",
          "output_type": "stream",
          "text": [
            " 27 Policy gradient...: 100%|██████████| 10/10 [00:39<00:00,  3.97s/it]\n",
            "Generating molecules...: 100%|██████████| 50/50 [00:08<00:00,  5.83it/s]\n"
          ]
        },
        {
          "name": "stdout",
          "output_type": "stream",
          "text": [
            "Mean value of predictions: 0.0\n",
            "Proportion of valid SMILES: 0.8020050125313283\n",
            "28 Training on replay instances...\n"
          ]
        },
        {
          "name": "stderr",
          "output_type": "stream",
          "text": [
            " 28 Policy gradient...: 100%|██████████| 10/10 [00:39<00:00,  3.96s/it]\n",
            "Generating molecules...: 100%|██████████| 50/50 [00:08<00:00,  5.81it/s]\n"
          ]
        },
        {
          "name": "stdout",
          "output_type": "stream",
          "text": [
            "Mean value of predictions: 0.0\n",
            "Proportion of valid SMILES: 0.8210262828535669\n",
            "29 Training on replay instances...\n"
          ]
        },
        {
          "name": "stderr",
          "output_type": "stream",
          "text": [
            " 29 Policy gradient...: 100%|██████████| 10/10 [00:38<00:00,  3.81s/it]\n",
            "Generating molecules...: 100%|██████████| 50/50 [00:08<00:00,  5.83it/s]\n"
          ]
        },
        {
          "name": "stdout",
          "output_type": "stream",
          "text": [
            "Mean value of predictions: 0.00155521\n",
            "Proportion of valid SMILES: 0.804755944931164\n",
            "30 Training on replay instances...\n"
          ]
        },
        {
          "name": "stderr",
          "output_type": "stream",
          "text": [
            " 30 Policy gradient...: 100%|██████████| 10/10 [00:38<00:00,  3.88s/it]\n",
            "Generating molecules...: 100%|██████████| 50/50 [00:08<00:00,  5.86it/s]\n"
          ]
        },
        {
          "name": "stdout",
          "output_type": "stream",
          "text": [
            "Mean value of predictions: 0.0\n",
            "Proportion of valid SMILES: 0.8197747183979975\n",
            "31 Training on replay instances...\n"
          ]
        },
        {
          "name": "stderr",
          "output_type": "stream",
          "text": [
            " 31 Policy gradient...: 100%|██████████| 10/10 [00:39<00:00,  3.93s/it]\n",
            "Generating molecules...: 100%|██████████| 50/50 [00:08<00:00,  5.88it/s]\n"
          ]
        },
        {
          "name": "stdout",
          "output_type": "stream",
          "text": [
            "Mean value of predictions: 0.0\n",
            "Proportion of valid SMILES: 0.8057644110275689\n",
            "32 Training on replay instances...\n"
          ]
        },
        {
          "name": "stderr",
          "output_type": "stream",
          "text": [
            " 32 Policy gradient...: 100%|██████████| 10/10 [00:39<00:00,  3.94s/it]\n",
            "Generating molecules...: 100%|██████████| 50/50 [00:08<00:00,  5.74it/s]\n"
          ]
        },
        {
          "name": "stdout",
          "output_type": "stream",
          "text": [
            "Mean value of predictions: 0.0015503876\n",
            "Proportion of valid SMILES: 0.8103015075376885\n",
            "33 Training on replay instances...\n"
          ]
        },
        {
          "name": "stderr",
          "output_type": "stream",
          "text": [
            " 33 Policy gradient...: 100%|██████████| 10/10 [00:39<00:00,  3.99s/it]\n",
            "Generating molecules...: 100%|██████████| 50/50 [00:08<00:00,  5.84it/s]\n"
          ]
        },
        {
          "name": "stdout",
          "output_type": "stream",
          "text": [
            "Mean value of predictions: 0.0\n",
            "Proportion of valid SMILES: 0.8264150943396227\n",
            "34 Training on replay instances...\n"
          ]
        },
        {
          "name": "stderr",
          "output_type": "stream",
          "text": [
            " 34 Policy gradient...: 100%|██████████| 10/10 [00:38<00:00,  3.89s/it]\n",
            "Generating molecules...: 100%|██████████| 50/50 [00:08<00:00,  5.82it/s]\n"
          ]
        },
        {
          "name": "stdout",
          "output_type": "stream",
          "text": [
            "Mean value of predictions: 0.0\n",
            "Proportion of valid SMILES: 0.8368883312421581\n",
            "35 Training on replay instances...\n"
          ]
        },
        {
          "name": "stderr",
          "output_type": "stream",
          "text": [
            " 35 Policy gradient...: 100%|██████████| 10/10 [00:39<00:00,  3.91s/it]\n",
            "Generating molecules...: 100%|██████████| 50/50 [00:08<00:00,  5.82it/s]\n"
          ]
        },
        {
          "name": "stdout",
          "output_type": "stream",
          "text": [
            "Mean value of predictions: 0.0\n",
            "Proportion of valid SMILES: 0.853566958698373\n",
            "36 Training on replay instances...\n"
          ]
        },
        {
          "name": "stderr",
          "output_type": "stream",
          "text": [
            " 36 Policy gradient...: 100%|██████████| 10/10 [00:38<00:00,  3.88s/it]\n",
            "Generating molecules...: 100%|██████████| 50/50 [00:08<00:00,  5.88it/s]\n"
          ]
        },
        {
          "name": "stdout",
          "output_type": "stream",
          "text": [
            "Mean value of predictions: 0.0\n",
            "Proportion of valid SMILES: 0.8870765370138017\n",
            "37 Training on replay instances...\n"
          ]
        },
        {
          "name": "stderr",
          "output_type": "stream",
          "text": [
            " 37 Policy gradient...: 100%|██████████| 10/10 [00:39<00:00,  3.91s/it]\n",
            "Generating molecules...: 100%|██████████| 50/50 [00:08<00:00,  5.87it/s]\n"
          ]
        },
        {
          "name": "stdout",
          "output_type": "stream",
          "text": [
            "Mean value of predictions: 0.0\n",
            "Proportion of valid SMILES: 0.871859296482412\n",
            "38 Training on replay instances...\n"
          ]
        },
        {
          "name": "stderr",
          "output_type": "stream",
          "text": [
            " 38 Policy gradient...: 100%|██████████| 10/10 [00:38<00:00,  3.88s/it]\n",
            "Generating molecules...: 100%|██████████| 50/50 [00:08<00:00,  5.87it/s]\n"
          ]
        },
        {
          "name": "stdout",
          "output_type": "stream",
          "text": [
            "Mean value of predictions: 0.0\n",
            "Proportion of valid SMILES: 0.853566958698373\n",
            "39 Training on replay instances...\n"
          ]
        },
        {
          "name": "stderr",
          "output_type": "stream",
          "text": [
            " 39 Policy gradient...: 100%|██████████| 10/10 [00:38<00:00,  3.89s/it]\n",
            "Generating molecules...: 100%|██████████| 50/50 [00:08<00:00,  5.72it/s]\n"
          ]
        },
        {
          "name": "stdout",
          "output_type": "stream",
          "text": [
            "Mean value of predictions: 0.0\n",
            "Proportion of valid SMILES: 0.8325\n",
            "40 Training on replay instances...\n"
          ]
        },
        {
          "name": "stderr",
          "output_type": "stream",
          "text": [
            " 40 Policy gradient...: 100%|██████████| 10/10 [00:37<00:00,  3.80s/it]\n",
            "Generating molecules...: 100%|██████████| 50/50 [00:08<00:00,  5.80it/s]\n"
          ]
        },
        {
          "name": "stdout",
          "output_type": "stream",
          "text": [
            "Mean value of predictions: 0.0005738881\n",
            "Proportion of valid SMILES: 0.8723404255319149\n",
            "41 Training on replay instances...\n"
          ]
        },
        {
          "name": "stderr",
          "output_type": "stream",
          "text": [
            " 41 Policy gradient...: 100%|██████████| 10/10 [00:40<00:00,  4.03s/it]\n",
            "Generating molecules...: 100%|██████████| 50/50 [00:08<00:00,  5.82it/s]\n"
          ]
        },
        {
          "name": "stdout",
          "output_type": "stream",
          "text": [
            "Mean value of predictions: 0.0\n",
            "Proportion of valid SMILES: 0.885\n",
            "42 Training on replay instances...\n"
          ]
        },
        {
          "name": "stderr",
          "output_type": "stream",
          "text": [
            " 42 Policy gradient...: 100%|██████████| 10/10 [00:39<00:00,  3.98s/it]\n",
            "Generating molecules...: 100%|██████████| 50/50 [00:08<00:00,  5.77it/s]\n"
          ]
        },
        {
          "name": "stdout",
          "output_type": "stream",
          "text": [
            "Mean value of predictions: 0.0\n",
            "Proportion of valid SMILES: 0.85625\n",
            "43 Training on replay instances...\n"
          ]
        },
        {
          "name": "stderr",
          "output_type": "stream",
          "text": [
            " 43 Policy gradient...: 100%|██████████| 10/10 [00:39<00:00,  3.98s/it]\n",
            "Generating molecules...: 100%|██████████| 50/50 [00:08<00:00,  5.84it/s]\n"
          ]
        },
        {
          "name": "stdout",
          "output_type": "stream",
          "text": [
            "Mean value of predictions: 0.0\n",
            "Proportion of valid SMILES: 0.8853904282115869\n",
            "44 Training on replay instances...\n"
          ]
        },
        {
          "name": "stderr",
          "output_type": "stream",
          "text": [
            " 44 Policy gradient...: 100%|██████████| 10/10 [00:38<00:00,  3.86s/it]\n",
            "Generating molecules...: 100%|██████████| 50/50 [00:08<00:00,  5.84it/s]\n"
          ]
        },
        {
          "name": "stdout",
          "output_type": "stream",
          "text": [
            "Mean value of predictions: 0.0\n",
            "Proportion of valid SMILES: 0.9133165829145728\n",
            "45 Training on replay instances...\n"
          ]
        },
        {
          "name": "stderr",
          "output_type": "stream",
          "text": [
            " 45 Policy gradient...: 100%|██████████| 10/10 [00:39<00:00,  3.94s/it]\n",
            "Generating molecules...: 100%|██████████| 50/50 [00:08<00:00,  5.84it/s]\n"
          ]
        },
        {
          "name": "stdout",
          "output_type": "stream",
          "text": [
            "Mean value of predictions: 0.0\n",
            "Proportion of valid SMILES: 0.918444165621079\n",
            "46 Training on replay instances...\n"
          ]
        },
        {
          "name": "stderr",
          "output_type": "stream",
          "text": [
            " 46 Policy gradient...: 100%|██████████| 10/10 [00:39<00:00,  4.00s/it]\n",
            "Generating molecules...: 100%|██████████| 50/50 [00:08<00:00,  5.86it/s]\n"
          ]
        },
        {
          "name": "stdout",
          "output_type": "stream",
          "text": [
            "Mean value of predictions: 0.0\n",
            "Proportion of valid SMILES: 0.9042821158690176\n",
            "47 Training on replay instances...\n"
          ]
        },
        {
          "name": "stderr",
          "output_type": "stream",
          "text": [
            " 47 Policy gradient...: 100%|██████████| 10/10 [00:40<00:00,  4.03s/it]\n",
            "Generating molecules...: 100%|██████████| 50/50 [00:08<00:00,  5.86it/s]\n"
          ]
        },
        {
          "name": "stdout",
          "output_type": "stream",
          "text": [
            "Mean value of predictions: 0.0002805049\n",
            "Proportion of valid SMILES: 0.8946047678795483\n",
            "48 Training on replay instances...\n"
          ]
        },
        {
          "name": "stderr",
          "output_type": "stream",
          "text": [
            " 48 Policy gradient...: 100%|██████████| 10/10 [00:40<00:00,  4.03s/it]\n",
            "Generating molecules...: 100%|██████████| 50/50 [00:08<00:00,  5.82it/s]\n"
          ]
        },
        {
          "name": "stdout",
          "output_type": "stream",
          "text": [
            "Mean value of predictions: 0.0\n",
            "Proportion of valid SMILES: 0.9082914572864321\n",
            "49 Training on replay instances...\n"
          ]
        },
        {
          "name": "stderr",
          "output_type": "stream",
          "text": [
            " 49 Policy gradient...: 100%|██████████| 10/10 [00:40<00:00,  4.03s/it]\n",
            "Generating molecules...: 100%|██████████| 50/50 [00:08<00:00,  5.86it/s]\n"
          ]
        },
        {
          "name": "stdout",
          "output_type": "stream",
          "text": [
            "Mean value of predictions: 0.0\n",
            "Proportion of valid SMILES: 0.9096612296110415\n",
            "50 Training on replay instances...\n"
          ]
        },
        {
          "name": "stderr",
          "output_type": "stream",
          "text": [
            " 50 Policy gradient...: 100%|██████████| 10/10 [00:39<00:00,  3.95s/it]\n",
            "Generating molecules...: 100%|██████████| 50/50 [00:08<00:00,  5.84it/s]\n"
          ]
        },
        {
          "name": "stdout",
          "output_type": "stream",
          "text": [
            "Mean value of predictions: 0.0\n",
            "Proportion of valid SMILES: 0.9146800501882058\n",
            "51 Training on replay instances...\n"
          ]
        },
        {
          "name": "stderr",
          "output_type": "stream",
          "text": [
            " 51 Policy gradient...: 100%|██████████| 10/10 [00:40<00:00,  4.02s/it]\n",
            "Generating molecules...: 100%|██████████| 50/50 [00:08<00:00,  5.86it/s]\n"
          ]
        },
        {
          "name": "stdout",
          "output_type": "stream",
          "text": [
            "Mean value of predictions: 0.0014326648\n",
            "Proportion of valid SMILES: 0.8735919899874843\n",
            "52 Training on replay instances...\n"
          ]
        },
        {
          "name": "stderr",
          "output_type": "stream",
          "text": [
            " 52 Policy gradient...: 100%|██████████| 10/10 [00:40<00:00,  4.00s/it]\n",
            "Generating molecules...: 100%|██████████| 50/50 [00:08<00:00,  5.85it/s]\n"
          ]
        },
        {
          "name": "stdout",
          "output_type": "stream",
          "text": [
            "Mean value of predictions: 0.0\n",
            "Proportion of valid SMILES: 0.8884711779448622\n",
            "53 Training on replay instances...\n"
          ]
        },
        {
          "name": "stderr",
          "output_type": "stream",
          "text": [
            " 53 Policy gradient...: 100%|██████████| 10/10 [00:39<00:00,  3.95s/it]\n",
            "Generating molecules...: 100%|██████████| 50/50 [00:08<00:00,  5.85it/s]\n"
          ]
        },
        {
          "name": "stdout",
          "output_type": "stream",
          "text": [
            "Mean value of predictions: 0.0\n",
            "Proportion of valid SMILES: 0.8571428571428571\n",
            "54 Training on replay instances...\n"
          ]
        },
        {
          "name": "stderr",
          "output_type": "stream",
          "text": [
            " 54 Policy gradient...: 100%|██████████| 10/10 [00:38<00:00,  3.88s/it]\n",
            "Generating molecules...: 100%|██████████| 50/50 [00:08<00:00,  5.83it/s]\n"
          ]
        },
        {
          "name": "stdout",
          "output_type": "stream",
          "text": [
            "Mean value of predictions: 0.0\n",
            "Proportion of valid SMILES: 0.8782936010037641\n",
            "55 Training on replay instances...\n"
          ]
        },
        {
          "name": "stderr",
          "output_type": "stream",
          "text": [
            " 55 Policy gradient...: 100%|██████████| 10/10 [00:37<00:00,  3.78s/it]\n",
            "Generating molecules...: 100%|██████████| 50/50 [00:08<00:00,  5.85it/s]\n"
          ]
        },
        {
          "name": "stdout",
          "output_type": "stream",
          "text": [
            "Mean value of predictions: 0.0\n",
            "Proportion of valid SMILES: 0.8836045056320401\n",
            "56 Training on replay instances...\n"
          ]
        },
        {
          "name": "stderr",
          "output_type": "stream",
          "text": [
            " 56 Policy gradient...: 100%|██████████| 10/10 [00:37<00:00,  3.74s/it]\n",
            "Generating molecules...: 100%|██████████| 50/50 [00:08<00:00,  5.83it/s]\n"
          ]
        },
        {
          "name": "stdout",
          "output_type": "stream",
          "text": [
            "Mean value of predictions: 0.0\n",
            "Proportion of valid SMILES: 0.8621553884711779\n",
            "57 Training on replay instances...\n"
          ]
        },
        {
          "name": "stderr",
          "output_type": "stream",
          "text": [
            " 57 Policy gradient...: 100%|██████████| 10/10 [00:37<00:00,  3.75s/it]\n",
            "Generating molecules...: 100%|██████████| 50/50 [00:08<00:00,  5.83it/s]\n"
          ]
        },
        {
          "name": "stdout",
          "output_type": "stream",
          "text": [
            "Mean value of predictions: 0.0014641288\n",
            "Proportion of valid SMILES: 0.8569636135508155\n",
            "58 Training on replay instances...\n"
          ]
        },
        {
          "name": "stderr",
          "output_type": "stream",
          "text": [
            " 58 Policy gradient...: 100%|██████████| 10/10 [00:37<00:00,  3.77s/it]\n",
            "Generating molecules...: 100%|██████████| 50/50 [00:08<00:00,  5.81it/s]\n"
          ]
        },
        {
          "name": "stdout",
          "output_type": "stream",
          "text": [
            "Mean value of predictions: 0.0\n",
            "Proportion of valid SMILES: 0.8085106382978723\n",
            "59 Training on replay instances...\n"
          ]
        },
        {
          "name": "stderr",
          "output_type": "stream",
          "text": [
            " 59 Policy gradient...: 100%|██████████| 10/10 [00:38<00:00,  3.88s/it]\n",
            "Generating molecules...: 100%|██████████| 50/50 [00:08<00:00,  5.90it/s]\n"
          ]
        },
        {
          "name": "stdout",
          "output_type": "stream",
          "text": [
            "Mean value of predictions: 0.0\n",
            "Proportion of valid SMILES: 0.8275\n",
            "60 Training on replay instances...\n"
          ]
        },
        {
          "name": "stderr",
          "output_type": "stream",
          "text": [
            " 60 Policy gradient...: 100%|██████████| 10/10 [00:38<00:00,  3.87s/it]\n",
            "Generating molecules...: 100%|██████████| 50/50 [00:08<00:00,  5.87it/s]\n"
          ]
        },
        {
          "name": "stdout",
          "output_type": "stream",
          "text": [
            "Mean value of predictions: 0.0\n",
            "Proportion of valid SMILES: 0.8375\n",
            "61 Training on replay instances...\n"
          ]
        },
        {
          "name": "stderr",
          "output_type": "stream",
          "text": [
            " 61 Policy gradient...: 100%|██████████| 10/10 [00:37<00:00,  3.72s/it]\n",
            "Generating molecules...: 100%|██████████| 50/50 [00:08<00:00,  5.77it/s]\n"
          ]
        },
        {
          "name": "stdout",
          "output_type": "stream",
          "text": [
            "Mean value of predictions: 0.0012232416\n",
            "Proportion of valid SMILES: 0.818523153942428\n",
            "62 Training on replay instances...\n"
          ]
        },
        {
          "name": "stderr",
          "output_type": "stream",
          "text": [
            " 62 Policy gradient...: 100%|██████████| 10/10 [00:38<00:00,  3.84s/it]\n",
            "Generating molecules...: 100%|██████████| 50/50 [00:08<00:00,  5.79it/s]\n"
          ]
        },
        {
          "name": "stdout",
          "output_type": "stream",
          "text": [
            "Mean value of predictions: 0.0\n",
            "Proportion of valid SMILES: 0.8406524466750314\n",
            "63 Training on replay instances...\n"
          ]
        },
        {
          "name": "stderr",
          "output_type": "stream",
          "text": [
            " 63 Policy gradient...: 100%|██████████| 10/10 [00:37<00:00,  3.73s/it]\n",
            "Generating molecules...: 100%|██████████| 50/50 [00:08<00:00,  5.85it/s]\n"
          ]
        },
        {
          "name": "stdout",
          "output_type": "stream",
          "text": [
            "Mean value of predictions: 0.0\n",
            "Proportion of valid SMILES: 0.8295739348370927\n",
            "64 Training on replay instances...\n"
          ]
        },
        {
          "name": "stderr",
          "output_type": "stream",
          "text": [
            " 64 Policy gradient...: 100%|██████████| 10/10 [00:38<00:00,  3.89s/it]\n",
            "Generating molecules...: 100%|██████████| 50/50 [00:08<00:00,  5.87it/s]\n"
          ]
        },
        {
          "name": "stdout",
          "output_type": "stream",
          "text": [
            "Mean value of predictions: 0.000896861\n",
            "Proportion of valid SMILES: 0.83729662077597\n",
            "65 Training on replay instances...\n"
          ]
        },
        {
          "name": "stderr",
          "output_type": "stream",
          "text": [
            " 65 Policy gradient...: 100%|██████████| 10/10 [00:37<00:00,  3.73s/it]\n",
            "Generating molecules...: 100%|██████████| 50/50 [00:08<00:00,  5.79it/s]\n"
          ]
        },
        {
          "name": "stdout",
          "output_type": "stream",
          "text": [
            "Mean value of predictions: 0.0\n",
            "Proportion of valid SMILES: 0.82625\n",
            "66 Training on replay instances...\n"
          ]
        },
        {
          "name": "stderr",
          "output_type": "stream",
          "text": [
            " 66 Policy gradient...: 100%|██████████| 10/10 [00:38<00:00,  3.86s/it]\n",
            "Generating molecules...: 100%|██████████| 50/50 [00:08<00:00,  5.85it/s]\n"
          ]
        },
        {
          "name": "stdout",
          "output_type": "stream",
          "text": [
            "Mean value of predictions: 0.00059970014\n",
            "Proportion of valid SMILES: 0.8347934918648311\n",
            "67 Training on replay instances...\n"
          ]
        },
        {
          "name": "stderr",
          "output_type": "stream",
          "text": [
            " 67 Policy gradient...: 100%|██████████| 10/10 [00:38<00:00,  3.81s/it]\n",
            "Generating molecules...: 100%|██████████| 50/50 [00:08<00:00,  5.88it/s]\n"
          ]
        },
        {
          "name": "stdout",
          "output_type": "stream",
          "text": [
            "Mean value of predictions: 0.0\n",
            "Proportion of valid SMILES: 0.825\n",
            "68 Training on replay instances...\n"
          ]
        },
        {
          "name": "stderr",
          "output_type": "stream",
          "text": [
            " 68 Policy gradient...: 100%|██████████| 10/10 [00:37<00:00,  3.77s/it]\n",
            "Generating molecules...: 100%|██████████| 50/50 [00:08<00:00,  5.86it/s]\n"
          ]
        },
        {
          "name": "stdout",
          "output_type": "stream",
          "text": [
            "Mean value of predictions: 0.0\n",
            "Proportion of valid SMILES: 0.845\n",
            "69 Training on replay instances...\n"
          ]
        },
        {
          "name": "stderr",
          "output_type": "stream",
          "text": [
            " 69 Policy gradient...: 100%|██████████| 10/10 [00:38<00:00,  3.89s/it]\n",
            "Generating molecules...: 100%|██████████| 50/50 [00:08<00:00,  5.85it/s]\n"
          ]
        },
        {
          "name": "stdout",
          "output_type": "stream",
          "text": [
            "Mean value of predictions: 0.0\n",
            "Proportion of valid SMILES: 0.7556390977443609\n",
            "70 Training on replay instances...\n"
          ]
        },
        {
          "name": "stderr",
          "output_type": "stream",
          "text": [
            " 70 Policy gradient...: 100%|██████████| 10/10 [00:36<00:00,  3.67s/it]\n",
            "Generating molecules...: 100%|██████████| 50/50 [00:08<00:00,  5.85it/s]\n"
          ]
        },
        {
          "name": "stdout",
          "output_type": "stream",
          "text": [
            "Mean value of predictions: 0.002739726\n",
            "Proportion of valid SMILES: 0.73\n",
            "71 Training on replay instances...\n"
          ]
        },
        {
          "name": "stderr",
          "output_type": "stream",
          "text": [
            " 71 Policy gradient...: 100%|██████████| 10/10 [00:36<00:00,  3.61s/it]\n",
            "Generating molecules...: 100%|██████████| 50/50 [00:08<00:00,  5.85it/s]\n"
          ]
        },
        {
          "name": "stdout",
          "output_type": "stream",
          "text": [
            "Mean value of predictions: 0.0014209591\n",
            "Proportion of valid SMILES: 0.704630788485607\n",
            "72 Training on replay instances...\n"
          ]
        },
        {
          "name": "stderr",
          "output_type": "stream",
          "text": [
            " 72 Policy gradient...: 100%|██████████| 10/10 [00:36<00:00,  3.69s/it]\n",
            "Generating molecules...: 100%|██████████| 50/50 [00:08<00:00,  5.84it/s]\n"
          ]
        },
        {
          "name": "stdout",
          "output_type": "stream",
          "text": [
            "Mean value of predictions: 0.0018518518\n",
            "Proportion of valid SMILES: 0.6758448060075094\n",
            "73 Training on replay instances...\n"
          ]
        },
        {
          "name": "stderr",
          "output_type": "stream",
          "text": [
            " 73 Policy gradient...: 100%|██████████| 10/10 [00:36<00:00,  3.66s/it]\n",
            "Generating molecules...: 100%|██████████| 50/50 [00:08<00:00,  5.85it/s]\n"
          ]
        },
        {
          "name": "stdout",
          "output_type": "stream",
          "text": [
            "Mean value of predictions: 0.0036231885\n",
            "Proportion of valid SMILES: 0.6943396226415094\n",
            "74 Training on replay instances...\n"
          ]
        },
        {
          "name": "stderr",
          "output_type": "stream",
          "text": [
            " 74 Policy gradient...: 100%|██████████| 10/10 [00:36<00:00,  3.63s/it]\n",
            "Generating molecules...: 100%|██████████| 50/50 [00:08<00:00,  5.85it/s]\n"
          ]
        },
        {
          "name": "stdout",
          "output_type": "stream",
          "text": [
            "Mean value of predictions: 0.0018083183\n",
            "Proportion of valid SMILES: 0.69125\n",
            "75 Training on replay instances...\n"
          ]
        },
        {
          "name": "stderr",
          "output_type": "stream",
          "text": [
            " 75 Policy gradient...: 100%|██████████| 10/10 [00:35<00:00,  3.52s/it]\n",
            "Generating molecules...: 100%|██████████| 50/50 [00:08<00:00,  5.88it/s]\n"
          ]
        },
        {
          "name": "stdout",
          "output_type": "stream",
          "text": [
            "Mean value of predictions: 0.0047524753\n",
            "Proportion of valid SMILES: 0.6320400500625782\n",
            "76 Training on replay instances...\n"
          ]
        },
        {
          "name": "stderr",
          "output_type": "stream",
          "text": [
            " 76 Policy gradient...: 100%|██████████| 10/10 [00:35<00:00,  3.57s/it]\n",
            "Generating molecules...: 100%|██████████| 50/50 [00:08<00:00,  5.81it/s]\n"
          ]
        },
        {
          "name": "stdout",
          "output_type": "stream",
          "text": [
            "Mean value of predictions: 0.006690141\n",
            "Proportion of valid SMILES: 0.71\n",
            "77 Training on replay instances...\n"
          ]
        },
        {
          "name": "stderr",
          "output_type": "stream",
          "text": [
            " 77 Policy gradient...: 100%|██████████| 10/10 [00:36<00:00,  3.61s/it]\n",
            "Generating molecules...: 100%|██████████| 50/50 [00:08<00:00,  5.80it/s]\n"
          ]
        },
        {
          "name": "stdout",
          "output_type": "stream",
          "text": [
            "Mean value of predictions: 0.013095237\n",
            "Proportion of valid SMILES: 0.6307884856070087\n",
            "78 Training on replay instances...\n"
          ]
        },
        {
          "name": "stderr",
          "output_type": "stream",
          "text": [
            " 78 Policy gradient...: 100%|██████████| 10/10 [00:35<00:00,  3.53s/it]\n",
            "Generating molecules...: 100%|██████████| 50/50 [00:08<00:00,  5.78it/s]\n"
          ]
        },
        {
          "name": "stdout",
          "output_type": "stream",
          "text": [
            "Mean value of predictions: 0.009465021\n",
            "Proportion of valid SMILES: 0.6090225563909775\n",
            "79 Training on replay instances...\n"
          ]
        },
        {
          "name": "stderr",
          "output_type": "stream",
          "text": [
            " 79 Policy gradient...: 100%|██████████| 10/10 [00:33<00:00,  3.36s/it]\n",
            "Generating molecules...: 100%|██████████| 50/50 [00:08<00:00,  5.85it/s]\n"
          ]
        },
        {
          "name": "stdout",
          "output_type": "stream",
          "text": [
            "Mean value of predictions: 0.009016394\n",
            "Proportion of valid SMILES: 0.6146095717884131\n",
            "80 Training on replay instances...\n"
          ]
        },
        {
          "name": "stderr",
          "output_type": "stream",
          "text": [
            " 80 Policy gradient...: 100%|██████████| 10/10 [00:34<00:00,  3.46s/it]\n",
            "Generating molecules...: 100%|██████████| 50/50 [00:08<00:00,  5.81it/s]\n"
          ]
        },
        {
          "name": "stdout",
          "output_type": "stream",
          "text": [
            "Mean value of predictions: 0.010526315\n",
            "Proportion of valid SMILES: 0.6190476190476191\n",
            "81 Training on replay instances...\n"
          ]
        },
        {
          "name": "stderr",
          "output_type": "stream",
          "text": [
            " 81 Policy gradient...: 100%|██████████| 10/10 [00:37<00:00,  3.71s/it]\n",
            "Generating molecules...: 100%|██████████| 50/50 [00:08<00:00,  5.85it/s]\n"
          ]
        },
        {
          "name": "stdout",
          "output_type": "stream",
          "text": [
            "Mean value of predictions: 0.007434944\n",
            "Proportion of valid SMILES: 0.6741854636591479\n",
            "82 Training on replay instances...\n"
          ]
        },
        {
          "name": "stderr",
          "output_type": "stream",
          "text": [
            " 82 Policy gradient...: 100%|██████████| 10/10 [00:34<00:00,  3.49s/it]\n",
            "Generating molecules...: 100%|██████████| 50/50 [00:08<00:00,  5.81it/s]\n"
          ]
        },
        {
          "name": "stdout",
          "output_type": "stream",
          "text": [
            "Mean value of predictions: 0.012830189\n",
            "Proportion of valid SMILES: 0.6633291614518148\n",
            "83 Training on replay instances...\n"
          ]
        },
        {
          "name": "stderr",
          "output_type": "stream",
          "text": [
            " 83 Policy gradient...: 100%|██████████| 10/10 [00:35<00:00,  3.50s/it]\n",
            "Generating molecules...: 100%|██████████| 50/50 [00:08<00:00,  5.80it/s]\n"
          ]
        },
        {
          "name": "stdout",
          "output_type": "stream",
          "text": [
            "Mean value of predictions: 0.007827789\n",
            "Proportion of valid SMILES: 0.6403508771929824\n",
            "84 Training on replay instances...\n"
          ]
        },
        {
          "name": "stderr",
          "output_type": "stream",
          "text": [
            " 84 Policy gradient...: 100%|██████████| 10/10 [00:34<00:00,  3.40s/it]\n",
            "Generating molecules...: 100%|██████████| 50/50 [00:08<00:00,  5.81it/s]\n"
          ]
        },
        {
          "name": "stdout",
          "output_type": "stream",
          "text": [
            "Mean value of predictions: 0.003960396\n",
            "Proportion of valid SMILES: 0.6320400500625782\n",
            "85 Training on replay instances...\n"
          ]
        },
        {
          "name": "stderr",
          "output_type": "stream",
          "text": [
            " 85 Policy gradient...: 100%|██████████| 10/10 [00:35<00:00,  3.58s/it]\n",
            "Generating molecules...: 100%|██████████| 50/50 [00:09<00:00,  5.28it/s]\n"
          ]
        },
        {
          "name": "stdout",
          "output_type": "stream",
          "text": [
            "Mean value of predictions: 0.0060362173\n",
            "Proportion of valid SMILES: 0.6220275344180225\n",
            "86 Training on replay instances...\n"
          ]
        },
        {
          "name": "stderr",
          "output_type": "stream",
          "text": [
            " 86 Policy gradient...: 100%|██████████| 10/10 [00:34<00:00,  3.50s/it]\n",
            "Generating molecules...: 100%|██████████| 50/50 [00:08<00:00,  5.77it/s]\n"
          ]
        },
        {
          "name": "stdout",
          "output_type": "stream",
          "text": [
            "Mean value of predictions: 0.009643606\n",
            "Proportion of valid SMILES: 0.5977443609022557\n",
            "87 Training on replay instances...\n"
          ]
        },
        {
          "name": "stderr",
          "output_type": "stream",
          "text": [
            " 87 Policy gradient...: 100%|██████████| 10/10 [00:34<00:00,  3.48s/it]\n",
            "Generating molecules...: 100%|██████████| 50/50 [00:08<00:00,  5.79it/s]\n"
          ]
        },
        {
          "name": "stdout",
          "output_type": "stream",
          "text": [
            "Mean value of predictions: 0.0074226805\n",
            "Proportion of valid SMILES: 0.6070087609511889\n",
            "88 Training on replay instances...\n"
          ]
        },
        {
          "name": "stderr",
          "output_type": "stream",
          "text": [
            " 88 Policy gradient...: 100%|██████████| 10/10 [00:34<00:00,  3.48s/it]\n",
            "Generating molecules...: 100%|██████████| 50/50 [00:08<00:00,  5.80it/s]\n"
          ]
        },
        {
          "name": "stdout",
          "output_type": "stream",
          "text": [
            "Mean value of predictions: 0.021559631\n",
            "Proportion of valid SMILES: 0.545\n",
            "89 Training on replay instances...\n"
          ]
        },
        {
          "name": "stderr",
          "output_type": "stream",
          "text": [
            " 89 Policy gradient...: 100%|██████████| 10/10 [00:32<00:00,  3.28s/it]\n",
            "Generating molecules...: 100%|██████████| 50/50 [00:08<00:00,  5.77it/s]\n"
          ]
        },
        {
          "name": "stdout",
          "output_type": "stream",
          "text": [
            "Mean value of predictions: 0.02206235\n",
            "Proportion of valid SMILES: 0.5219023779724656\n",
            "90 Training on replay instances...\n"
          ]
        },
        {
          "name": "stderr",
          "output_type": "stream",
          "text": [
            " 90 Policy gradient...: 100%|██████████| 10/10 [00:32<00:00,  3.28s/it]\n",
            "Generating molecules...: 100%|██████████| 50/50 [00:08<00:00,  5.83it/s]\n"
          ]
        },
        {
          "name": "stdout",
          "output_type": "stream",
          "text": [
            "Mean value of predictions: 0.02948718\n",
            "Proportion of valid SMILES: 0.5857321652065082\n",
            "91 Training on replay instances...\n"
          ]
        },
        {
          "name": "stderr",
          "output_type": "stream",
          "text": [
            " 91 Policy gradient...: 100%|██████████| 10/10 [00:35<00:00,  3.51s/it]\n",
            "Generating molecules...: 100%|██████████| 50/50 [00:08<00:00,  5.82it/s]\n"
          ]
        },
        {
          "name": "stdout",
          "output_type": "stream",
          "text": [
            "Mean value of predictions: 0.034177218\n",
            "Proportion of valid SMILES: 0.5932415519399249\n",
            "92 Training on replay instances...\n"
          ]
        },
        {
          "name": "stderr",
          "output_type": "stream",
          "text": [
            " 92 Policy gradient...: 100%|██████████| 10/10 [00:33<00:00,  3.37s/it]\n",
            "Generating molecules...: 100%|██████████| 50/50 [00:08<00:00,  5.81it/s]\n"
          ]
        },
        {
          "name": "stdout",
          "output_type": "stream",
          "text": [
            "Mean value of predictions: 0.029831933\n",
            "Proportion of valid SMILES: 0.595\n",
            "93 Training on replay instances...\n"
          ]
        },
        {
          "name": "stderr",
          "output_type": "stream",
          "text": [
            " 93 Policy gradient...: 100%|██████████| 10/10 [00:34<00:00,  3.45s/it]\n",
            "Generating molecules...: 100%|██████████| 50/50 [00:08<00:00,  5.82it/s]\n"
          ]
        },
        {
          "name": "stdout",
          "output_type": "stream",
          "text": [
            "Mean value of predictions: 0.04474273\n",
            "Proportion of valid SMILES: 0.55875\n",
            "94 Training on replay instances...\n"
          ]
        },
        {
          "name": "stderr",
          "output_type": "stream",
          "text": [
            " 94 Policy gradient...: 100%|██████████| 10/10 [00:34<00:00,  3.41s/it]\n",
            "Generating molecules...: 100%|██████████| 50/50 [00:08<00:00,  5.85it/s]\n"
          ]
        },
        {
          "name": "stdout",
          "output_type": "stream",
          "text": [
            "Mean value of predictions: 0.03291667\n",
            "Proportion of valid SMILES: 0.6\n",
            "95 Training on replay instances...\n"
          ]
        },
        {
          "name": "stderr",
          "output_type": "stream",
          "text": [
            " 95 Policy gradient...: 100%|██████████| 10/10 [00:33<00:00,  3.37s/it]\n",
            "Generating molecules...: 100%|██████████| 50/50 [00:08<00:00,  5.81it/s]\n"
          ]
        },
        {
          "name": "stdout",
          "output_type": "stream",
          "text": [
            "Mean value of predictions: 0.05882353\n",
            "Proportion of valid SMILES: 0.5525\n",
            "96 Training on replay instances...\n"
          ]
        },
        {
          "name": "stderr",
          "output_type": "stream",
          "text": [
            " 96 Policy gradient...: 100%|██████████| 10/10 [00:34<00:00,  3.46s/it]\n",
            "Generating molecules...: 100%|██████████| 50/50 [00:08<00:00,  5.73it/s]\n"
          ]
        },
        {
          "name": "stdout",
          "output_type": "stream",
          "text": [
            "Mean value of predictions: 0.056837607\n",
            "Proportion of valid SMILES: 0.5857321652065082\n",
            "97 Training on replay instances...\n"
          ]
        },
        {
          "name": "stderr",
          "output_type": "stream",
          "text": [
            " 97 Policy gradient...: 100%|██████████| 10/10 [00:33<00:00,  3.38s/it]\n",
            "Generating molecules...: 100%|██████████| 50/50 [00:08<00:00,  5.83it/s]\n"
          ]
        },
        {
          "name": "stdout",
          "output_type": "stream",
          "text": [
            "Mean value of predictions: 0.03915094\n",
            "Proportion of valid SMILES: 0.53\n",
            "98 Training on replay instances...\n"
          ]
        },
        {
          "name": "stderr",
          "output_type": "stream",
          "text": [
            " 98 Policy gradient...: 100%|██████████| 10/10 [00:34<00:00,  3.40s/it]\n",
            "Generating molecules...: 100%|██████████| 50/50 [00:08<00:00,  5.82it/s]\n"
          ]
        },
        {
          "name": "stdout",
          "output_type": "stream",
          "text": [
            "Mean value of predictions: 0.09342404\n",
            "Proportion of valid SMILES: 0.55125\n",
            "99 Training on replay instances...\n"
          ]
        },
        {
          "name": "stderr",
          "output_type": "stream",
          "text": [
            " 99 Policy gradient...: 100%|██████████| 10/10 [00:35<00:00,  3.54s/it]\n",
            "Generating molecules...: 100%|██████████| 50/50 [00:08<00:00,  5.88it/s]\n"
          ]
        },
        {
          "name": "stdout",
          "output_type": "stream",
          "text": [
            "Mean value of predictions: 0.099781185\n",
            "Proportion of valid SMILES: 0.57125\n",
            "100 Training on replay instances...\n"
          ]
        },
        {
          "name": "stderr",
          "output_type": "stream",
          "text": [
            " 100 Policy gradient...: 100%|██████████| 10/10 [00:33<00:00,  3.36s/it]\n",
            "Generating molecules...: 100%|██████████| 50/50 [00:08<00:00,  5.90it/s]\n"
          ]
        },
        {
          "name": "stdout",
          "output_type": "stream",
          "text": [
            "Mean value of predictions: 0.11298701\n",
            "Proportion of valid SMILES: 0.5775\n",
            "101 Training on replay instances...\n"
          ]
        },
        {
          "name": "stderr",
          "output_type": "stream",
          "text": [
            " 101 Policy gradient...: 100%|██████████| 10/10 [00:34<00:00,  3.41s/it]\n",
            "Generating molecules...: 100%|██████████| 50/50 [00:08<00:00,  5.93it/s]\n"
          ]
        },
        {
          "name": "stdout",
          "output_type": "stream",
          "text": [
            "Mean value of predictions: 0.1447983\n",
            "Proportion of valid SMILES: 0.58875\n",
            "Threshold increased to: 0.10\n",
            "102 Training on replay instances...\n"
          ]
        },
        {
          "name": "stderr",
          "output_type": "stream",
          "text": [
            " 102 Policy gradient...: 100%|██████████| 10/10 [00:36<00:00,  3.65s/it]\n",
            "Generating molecules...: 100%|██████████| 50/50 [00:08<00:00,  5.88it/s]\n"
          ]
        },
        {
          "name": "stdout",
          "output_type": "stream",
          "text": [
            "Mean value of predictions: 0.11775281\n",
            "Proportion of valid SMILES: 0.55625\n",
            "Threshold increased to: 0.15\n",
            "103 Training on replay instances...\n"
          ]
        },
        {
          "name": "stderr",
          "output_type": "stream",
          "text": [
            " 103 Policy gradient...: 100%|██████████| 10/10 [00:36<00:00,  3.61s/it]\n",
            "Generating molecules...: 100%|██████████| 50/50 [00:08<00:00,  5.81it/s]\n"
          ]
        },
        {
          "name": "stdout",
          "output_type": "stream",
          "text": [
            "Mean value of predictions: 0.17004609\n",
            "Proportion of valid SMILES: 0.5425\n",
            "Threshold increased to: 0.20\n",
            "104 Training on replay instances...\n"
          ]
        },
        {
          "name": "stderr",
          "output_type": "stream",
          "text": [
            " 104 Policy gradient...: 100%|██████████| 10/10 [00:35<00:00,  3.57s/it]\n",
            "Generating molecules...: 100%|██████████| 50/50 [00:08<00:00,  5.89it/s]\n"
          ]
        },
        {
          "name": "stdout",
          "output_type": "stream",
          "text": [
            "Mean value of predictions: 0.19383885\n",
            "Proportion of valid SMILES: 0.5281602002503129\n",
            "Threshold increased to: 0.25\n",
            "105 Training on replay instances...\n"
          ]
        },
        {
          "name": "stderr",
          "output_type": "stream",
          "text": [
            " 105 Policy gradient...: 100%|██████████| 10/10 [00:36<00:00,  3.64s/it]\n",
            "Generating molecules...: 100%|██████████| 50/50 [00:08<00:00,  5.91it/s]\n"
          ]
        },
        {
          "name": "stdout",
          "output_type": "stream",
          "text": [
            "Mean value of predictions: 0.24869975\n",
            "Proportion of valid SMILES: 0.5294117647058824\n",
            "Threshold increased to: 0.30\n",
            "106 Training on replay instances...\n"
          ]
        },
        {
          "name": "stderr",
          "output_type": "stream",
          "text": [
            " 106 Policy gradient...: 100%|██████████| 10/10 [00:36<00:00,  3.69s/it]\n",
            "Generating molecules...: 100%|██████████| 50/50 [00:08<00:00,  5.81it/s]\n"
          ]
        },
        {
          "name": "stdout",
          "output_type": "stream",
          "text": [
            "Mean value of predictions: 0.24508928\n",
            "Proportion of valid SMILES: 0.56\n",
            "Threshold increased to: 0.35\n",
            "107 Training on replay instances...\n"
          ]
        },
        {
          "name": "stderr",
          "output_type": "stream",
          "text": [
            " 107 Policy gradient...: 100%|██████████| 10/10 [00:37<00:00,  3.73s/it]\n",
            "Generating molecules...: 100%|██████████| 50/50 [00:08<00:00,  5.83it/s]\n"
          ]
        },
        {
          "name": "stdout",
          "output_type": "stream",
          "text": [
            "Mean value of predictions: 0.2716279\n",
            "Proportion of valid SMILES: 0.5375\n",
            "Threshold increased to: 0.40\n",
            "108 Training on replay instances...\n"
          ]
        },
        {
          "name": "stderr",
          "output_type": "stream",
          "text": [
            " 108 Policy gradient...: 100%|██████████| 10/10 [00:35<00:00,  3.58s/it]\n",
            "Generating molecules...: 100%|██████████| 50/50 [00:08<00:00,  5.86it/s]\n"
          ]
        },
        {
          "name": "stdout",
          "output_type": "stream",
          "text": [
            "Mean value of predictions: 0.2829897\n",
            "Proportion of valid SMILES: 0.4856070087609512\n",
            "Threshold increased to: 0.45\n",
            "109 Training on replay instances...\n"
          ]
        },
        {
          "name": "stderr",
          "output_type": "stream",
          "text": [
            " 109 Policy gradient...: 100%|██████████| 10/10 [00:38<00:00,  3.84s/it]\n",
            "Generating molecules...: 100%|██████████| 50/50 [00:08<00:00,  5.86it/s]\n"
          ]
        },
        {
          "name": "stdout",
          "output_type": "stream",
          "text": [
            "Mean value of predictions: 0.2973684\n",
            "Proportion of valid SMILES: 0.475\n",
            "Threshold increased to: 0.50\n",
            "110 Training on replay instances...\n"
          ]
        },
        {
          "name": "stderr",
          "output_type": "stream",
          "text": [
            " 110 Policy gradient...: 100%|██████████| 10/10 [00:37<00:00,  3.76s/it]\n",
            "Generating molecules...: 100%|██████████| 50/50 [00:08<00:00,  5.87it/s]\n"
          ]
        },
        {
          "name": "stdout",
          "output_type": "stream",
          "text": [
            "Mean value of predictions: 0.30459183\n",
            "Proportion of valid SMILES: 0.49\n",
            "Threshold increased to: 0.55\n",
            "111 Training on replay instances...\n"
          ]
        },
        {
          "name": "stderr",
          "output_type": "stream",
          "text": [
            " 111 Policy gradient...: 100%|██████████| 10/10 [00:37<00:00,  3.71s/it]\n",
            "Generating molecules...: 100%|██████████| 50/50 [00:08<00:00,  5.80it/s]\n"
          ]
        },
        {
          "name": "stdout",
          "output_type": "stream",
          "text": [
            "Mean value of predictions: 0.37008798\n",
            "Proportion of valid SMILES: 0.42625\n",
            "Threshold increased to: 0.60\n",
            "112 Training on replay instances...\n"
          ]
        },
        {
          "name": "stderr",
          "output_type": "stream",
          "text": [
            " 112 Policy gradient...: 100%|██████████| 10/10 [00:40<00:00,  4.04s/it]\n",
            "Generating molecules...: 100%|██████████| 50/50 [00:08<00:00,  5.85it/s]\n"
          ]
        },
        {
          "name": "stdout",
          "output_type": "stream",
          "text": [
            "Mean value of predictions: 0.37682927\n",
            "Proportion of valid SMILES: 0.41\n",
            "Threshold increased to: 0.65\n",
            "113 Training on replay instances...\n"
          ]
        },
        {
          "name": "stderr",
          "output_type": "stream",
          "text": [
            " 113 Policy gradient...: 100%|██████████| 10/10 [00:38<00:00,  3.88s/it]\n",
            "Generating molecules...: 100%|██████████| 50/50 [00:08<00:00,  5.85it/s]\n"
          ]
        },
        {
          "name": "stdout",
          "output_type": "stream",
          "text": [
            "Mean value of predictions: 0.42542955\n",
            "Proportion of valid SMILES: 0.36375\n",
            "Threshold increased to: 0.70\n",
            "114 Training on replay instances...\n"
          ]
        },
        {
          "name": "stderr",
          "output_type": "stream",
          "text": [
            " 114 Policy gradient...: 100%|██████████| 10/10 [00:37<00:00,  3.79s/it]\n",
            "Generating molecules...: 100%|██████████| 50/50 [00:08<00:00,  5.84it/s]\n"
          ]
        },
        {
          "name": "stdout",
          "output_type": "stream",
          "text": [
            "Mean value of predictions: 0.3677419\n",
            "Proportion of valid SMILES: 0.31\n",
            "Threshold increased to: 0.75\n",
            "115 Training on replay instances...\n"
          ]
        },
        {
          "name": "stderr",
          "output_type": "stream",
          "text": [
            " 115 Policy gradient...: 100%|██████████| 10/10 [00:39<00:00,  3.96s/it]\n",
            "Generating molecules...: 100%|██████████| 50/50 [00:08<00:00,  5.83it/s]\n"
          ]
        },
        {
          "name": "stdout",
          "output_type": "stream",
          "text": [
            "Mean value of predictions: 0.4458182\n",
            "Proportion of valid SMILES: 0.34375\n",
            "Threshold increased to: 0.80\n",
            "116 Training on replay instances...\n"
          ]
        },
        {
          "name": "stderr",
          "output_type": "stream",
          "text": [
            " 116 Policy gradient...: 100%|██████████| 10/10 [00:40<00:00,  4.04s/it]\n",
            "Generating molecules...: 100%|██████████| 50/50 [00:08<00:00,  5.82it/s]\n"
          ]
        },
        {
          "name": "stdout",
          "output_type": "stream",
          "text": [
            "Mean value of predictions: 0.4478261\n",
            "Proportion of valid SMILES: 0.2875\n",
            "Threshold increased to: 0.85\n",
            "117 Training on replay instances...\n"
          ]
        },
        {
          "name": "stderr",
          "output_type": "stream",
          "text": [
            " 117 Policy gradient...: 100%|██████████| 10/10 [00:40<00:00,  4.07s/it]\n",
            "Generating molecules...: 100%|██████████| 50/50 [00:08<00:00,  5.83it/s]\n"
          ]
        },
        {
          "name": "stdout",
          "output_type": "stream",
          "text": [
            "Mean value of predictions: 0.4735294\n",
            "Proportion of valid SMILES: 0.2553191489361702\n",
            "Threshold increased to: 0.90\n",
            "118 Training on replay instances...\n"
          ]
        },
        {
          "name": "stderr",
          "output_type": "stream",
          "text": [
            " 118 Policy gradient...: 100%|██████████| 10/10 [00:40<00:00,  4.01s/it]\n",
            "Generating molecules...: 100%|██████████| 50/50 [00:08<00:00,  5.81it/s]\n"
          ]
        },
        {
          "name": "stdout",
          "output_type": "stream",
          "text": [
            "Mean value of predictions: 0.50173414\n",
            "Proportion of valid SMILES: 0.2165206508135169\n",
            "Threshold increased to: 0.95\n",
            "119 Training on replay instances...\n"
          ]
        },
        {
          "name": "stderr",
          "output_type": "stream",
          "text": [
            " 119 Policy gradient...: 100%|██████████| 10/10 [00:38<00:00,  3.86s/it]\n",
            "Generating molecules...: 100%|██████████| 50/50 [00:08<00:00,  5.82it/s]\n"
          ]
        },
        {
          "name": "stdout",
          "output_type": "stream",
          "text": [
            "Mean value of predictions: 0.4345679\n",
            "Proportion of valid SMILES: 0.2025\n",
            "Threshold increased to: 1.00\n",
            "120 Training on replay instances...\n"
          ]
        },
        {
          "name": "stderr",
          "output_type": "stream",
          "text": [
            " 120 Policy gradient...: 100%|██████████| 10/10 [00:39<00:00,  3.99s/it]\n",
            "Generating molecules...: 100%|██████████| 50/50 [00:08<00:00,  5.83it/s]\n"
          ]
        },
        {
          "name": "stdout",
          "output_type": "stream",
          "text": [
            "Mean value of predictions: 0.4695122\n",
            "Proportion of valid SMILES: 0.205\n",
            "Threshold increased to: 1.00\n",
            "121 Training on replay instances...\n"
          ]
        },
        {
          "name": "stderr",
          "output_type": "stream",
          "text": [
            " 121 Policy gradient...: 100%|██████████| 10/10 [00:40<00:00,  4.04s/it]\n",
            "Generating molecules...: 100%|██████████| 50/50 [00:08<00:00,  5.86it/s]\n"
          ]
        },
        {
          "name": "stdout",
          "output_type": "stream",
          "text": [
            "Mean value of predictions: 0.45801526\n",
            "Proportion of valid SMILES: 0.16375\n",
            "Threshold increased to: 1.00\n",
            "122 Training on replay instances...\n"
          ]
        },
        {
          "name": "stderr",
          "output_type": "stream",
          "text": [
            " 122 Policy gradient...: 100%|██████████| 10/10 [00:41<00:00,  4.11s/it]\n",
            "Generating molecules...: 100%|██████████| 50/50 [00:08<00:00,  5.88it/s]\n"
          ]
        },
        {
          "name": "stdout",
          "output_type": "stream",
          "text": [
            "Mean value of predictions: 0.37818182\n",
            "Proportion of valid SMILES: 0.20625\n",
            "Threshold increased to: 1.00\n",
            "123 Training on replay instances...\n"
          ]
        },
        {
          "name": "stderr",
          "output_type": "stream",
          "text": [
            " 123 Policy gradient...: 100%|██████████| 10/10 [00:40<00:00,  4.05s/it]\n",
            "Generating molecules...: 100%|██████████| 50/50 [00:08<00:00,  5.85it/s]\n"
          ]
        },
        {
          "name": "stdout",
          "output_type": "stream",
          "text": [
            "Mean value of predictions: 0.52093023\n",
            "Proportion of valid SMILES: 0.16125\n",
            "Threshold increased to: 1.00\n",
            "124 Training on replay instances...\n"
          ]
        },
        {
          "name": "stderr",
          "output_type": "stream",
          "text": [
            " 124 Policy gradient...: 100%|██████████| 10/10 [00:39<00:00,  3.95s/it]\n",
            "Generating molecules...: 100%|██████████| 50/50 [00:08<00:00,  5.74it/s]\n"
          ]
        },
        {
          "name": "stdout",
          "output_type": "stream",
          "text": [
            "Mean value of predictions: 0.5509804\n",
            "Proportion of valid SMILES: 0.1275\n",
            "Threshold increased to: 1.00\n",
            "125 Training on replay instances...\n"
          ]
        },
        {
          "name": "stderr",
          "output_type": "stream",
          "text": [
            " 125 Policy gradient...: 100%|██████████| 10/10 [00:40<00:00,  4.08s/it]\n",
            "Generating molecules...: 100%|██████████| 50/50 [00:08<00:00,  5.76it/s]\n"
          ]
        },
        {
          "name": "stdout",
          "output_type": "stream",
          "text": [
            "Mean value of predictions: 0.5578947\n",
            "Proportion of valid SMILES: 0.1425\n",
            "Threshold increased to: 1.00\n",
            "126 Training on replay instances...\n"
          ]
        },
        {
          "name": "stderr",
          "output_type": "stream",
          "text": [
            " 126 Policy gradient...: 100%|██████████| 10/10 [00:40<00:00,  4.05s/it]\n",
            "Generating molecules...: 100%|██████████| 50/50 [00:08<00:00,  5.71it/s]\n"
          ]
        },
        {
          "name": "stdout",
          "output_type": "stream",
          "text": [
            "Mean value of predictions: 0.47428575\n",
            "Proportion of valid SMILES: 0.13125\n",
            "Threshold increased to: 1.00\n",
            "127 Training on replay instances...\n"
          ]
        },
        {
          "name": "stderr",
          "output_type": "stream",
          "text": [
            " 127 Policy gradient...: 100%|██████████| 10/10 [00:40<00:00,  4.04s/it]\n",
            "Generating molecules...: 100%|██████████| 50/50 [00:09<00:00,  5.01it/s]\n"
          ]
        },
        {
          "name": "stdout",
          "output_type": "stream",
          "text": [
            "Mean value of predictions: 0.5705263\n",
            "Proportion of valid SMILES: 0.11875\n",
            "Threshold increased to: 1.00\n",
            "128 Training on replay instances...\n"
          ]
        },
        {
          "name": "stderr",
          "output_type": "stream",
          "text": [
            " 128 Policy gradient...: 100%|██████████| 10/10 [00:41<00:00,  4.19s/it]\n",
            "Generating molecules...: 100%|██████████| 50/50 [00:08<00:00,  5.81it/s]\n"
          ]
        },
        {
          "name": "stdout",
          "output_type": "stream",
          "text": [
            "Mean value of predictions: 0.5326087\n",
            "Proportion of valid SMILES: 0.11514392991239049\n",
            "Threshold increased to: 1.00\n",
            "129 Training on replay instances...\n"
          ]
        },
        {
          "name": "stderr",
          "output_type": "stream",
          "text": [
            " 129 Policy gradient...: 100%|██████████| 10/10 [00:40<00:00,  4.05s/it]\n",
            "Generating molecules...: 100%|██████████| 50/50 [00:08<00:00,  5.72it/s]\n"
          ]
        },
        {
          "name": "stdout",
          "output_type": "stream",
          "text": [
            "Mean value of predictions: 0.5434343\n",
            "Proportion of valid SMILES: 0.12375\n",
            "Threshold increased to: 1.00\n",
            "130 Training on replay instances...\n"
          ]
        },
        {
          "name": "stderr",
          "output_type": "stream",
          "text": [
            " 130 Policy gradient...: 100%|██████████| 10/10 [00:41<00:00,  4.14s/it]\n",
            "Generating molecules...: 100%|██████████| 50/50 [00:08<00:00,  5.73it/s]\n"
          ]
        },
        {
          "name": "stdout",
          "output_type": "stream",
          "text": [
            "Mean value of predictions: 0.47157893\n",
            "Proportion of valid SMILES: 0.11875\n",
            "Threshold increased to: 1.00\n",
            "131 Training on replay instances...\n"
          ]
        },
        {
          "name": "stderr",
          "output_type": "stream",
          "text": [
            " 131 Policy gradient...: 100%|██████████| 10/10 [00:41<00:00,  4.11s/it]\n",
            "Generating molecules...: 100%|██████████| 50/50 [00:08<00:00,  5.70it/s]\n"
          ]
        },
        {
          "name": "stdout",
          "output_type": "stream",
          "text": [
            "Mean value of predictions: 0.51827955\n",
            "Proportion of valid SMILES: 0.11625\n",
            "Threshold increased to: 1.00\n",
            "132 Training on replay instances...\n"
          ]
        },
        {
          "name": "stderr",
          "output_type": "stream",
          "text": [
            " 132 Policy gradient...: 100%|██████████| 10/10 [00:40<00:00,  4.01s/it]\n",
            "Generating molecules...: 100%|██████████| 50/50 [00:08<00:00,  5.70it/s]\n"
          ]
        },
        {
          "name": "stdout",
          "output_type": "stream",
          "text": [
            "Mean value of predictions: 0.44827586\n",
            "Proportion of valid SMILES: 0.10875\n",
            "Threshold increased to: 1.00\n",
            "133 Training on replay instances...\n"
          ]
        },
        {
          "name": "stderr",
          "output_type": "stream",
          "text": [
            " 133 Policy gradient...: 100%|██████████| 10/10 [00:43<00:00,  4.31s/it]\n",
            "Generating molecules...: 100%|██████████| 50/50 [00:08<00:00,  5.63it/s]\n"
          ]
        },
        {
          "name": "stdout",
          "output_type": "stream",
          "text": [
            "Mean value of predictions: 0.4582278\n",
            "Proportion of valid SMILES: 0.09875\n",
            "Threshold increased to: 1.00\n",
            "134 Training on replay instances...\n"
          ]
        },
        {
          "name": "stderr",
          "output_type": "stream",
          "text": [
            " 134 Policy gradient...: 100%|██████████| 10/10 [00:41<00:00,  4.11s/it]\n",
            "Generating molecules...: 100%|██████████| 50/50 [00:08<00:00,  5.69it/s]\n"
          ]
        },
        {
          "name": "stdout",
          "output_type": "stream",
          "text": [
            "Mean value of predictions: 0.50793654\n",
            "Proportion of valid SMILES: 0.07875\n",
            "Threshold increased to: 1.00\n",
            "135 Training on replay instances...\n"
          ]
        },
        {
          "name": "stderr",
          "output_type": "stream",
          "text": [
            " 135 Policy gradient...: 100%|██████████| 10/10 [00:41<00:00,  4.16s/it]\n",
            "Generating molecules...: 100%|██████████| 50/50 [00:08<00:00,  5.68it/s]\n"
          ]
        },
        {
          "name": "stdout",
          "output_type": "stream",
          "text": [
            "Mean value of predictions: 0.564557\n",
            "Proportion of valid SMILES: 0.09875\n",
            "Threshold increased to: 1.00\n",
            "136 Training on replay instances...\n"
          ]
        },
        {
          "name": "stderr",
          "output_type": "stream",
          "text": [
            " 136 Policy gradient...: 100%|██████████| 10/10 [00:41<00:00,  4.19s/it]\n",
            "Generating molecules...: 100%|██████████| 50/50 [00:08<00:00,  5.66it/s]\n"
          ]
        },
        {
          "name": "stdout",
          "output_type": "stream",
          "text": [
            "Mean value of predictions: 0.5292308\n",
            "Proportion of valid SMILES: 0.08125\n",
            "Threshold increased to: 1.00\n",
            "137 Training on replay instances...\n"
          ]
        },
        {
          "name": "stderr",
          "output_type": "stream",
          "text": [
            " 137 Policy gradient...: 100%|██████████| 10/10 [00:41<00:00,  4.14s/it]\n",
            "Generating molecules...: 100%|██████████| 50/50 [00:08<00:00,  5.61it/s]\n"
          ]
        },
        {
          "name": "stdout",
          "output_type": "stream",
          "text": [
            "Mean value of predictions: 0.50508475\n",
            "Proportion of valid SMILES: 0.07375\n",
            "Threshold increased to: 1.00\n",
            "138 Training on replay instances...\n"
          ]
        },
        {
          "name": "stderr",
          "output_type": "stream",
          "text": [
            " 138 Policy gradient...: 100%|██████████| 10/10 [00:41<00:00,  4.19s/it]\n",
            "Generating molecules...: 100%|██████████| 50/50 [00:10<00:00,  4.94it/s]\n"
          ]
        },
        {
          "name": "stdout",
          "output_type": "stream",
          "text": [
            "Mean value of predictions: 0.49859157\n",
            "Proportion of valid SMILES: 0.08875\n",
            "Threshold increased to: 1.00\n",
            "139 Training on replay instances...\n"
          ]
        },
        {
          "name": "stderr",
          "output_type": "stream",
          "text": [
            " 139 Policy gradient...: 100%|██████████| 10/10 [00:42<00:00,  4.25s/it]\n",
            "Generating molecules...: 100%|██████████| 50/50 [00:08<00:00,  5.66it/s]\n"
          ]
        },
        {
          "name": "stdout",
          "output_type": "stream",
          "text": [
            "Mean value of predictions: 0.542029\n",
            "Proportion of valid SMILES: 0.08625\n",
            "Threshold increased to: 1.00\n",
            "140 Training on replay instances...\n"
          ]
        },
        {
          "name": "stderr",
          "output_type": "stream",
          "text": [
            " 140 Policy gradient...: 100%|██████████| 10/10 [00:41<00:00,  4.19s/it]\n",
            "Generating molecules...: 100%|██████████| 50/50 [00:08<00:00,  5.68it/s]\n"
          ]
        },
        {
          "name": "stdout",
          "output_type": "stream",
          "text": [
            "Mean value of predictions: 0.59999996\n",
            "Proportion of valid SMILES: 0.07625\n",
            "Threshold increased to: 1.00\n",
            "141 Training on replay instances...\n"
          ]
        },
        {
          "name": "stderr",
          "output_type": "stream",
          "text": [
            " 141 Policy gradient...: 100%|██████████| 10/10 [00:42<00:00,  4.24s/it]\n",
            "Generating molecules...: 100%|██████████| 50/50 [00:08<00:00,  5.71it/s]\n"
          ]
        },
        {
          "name": "stdout",
          "output_type": "stream",
          "text": [
            "Mean value of predictions: 0.562963\n",
            "Proportion of valid SMILES: 0.0675\n",
            "Threshold increased to: 1.00\n",
            "142 Training on replay instances...\n"
          ]
        },
        {
          "name": "stderr",
          "output_type": "stream",
          "text": [
            " 142 Policy gradient...: 100%|██████████| 10/10 [00:41<00:00,  4.19s/it]\n",
            "Generating molecules...: 100%|██████████| 50/50 [00:08<00:00,  5.68it/s]\n"
          ]
        },
        {
          "name": "stdout",
          "output_type": "stream",
          "text": [
            "Mean value of predictions: 0.6785714\n",
            "Proportion of valid SMILES: 0.07\n",
            "Threshold increased to: 1.00\n",
            "143 Training on replay instances...\n"
          ]
        },
        {
          "name": "stderr",
          "output_type": "stream",
          "text": [
            " 143 Policy gradient...: 100%|██████████| 10/10 [00:42<00:00,  4.24s/it]\n",
            "Generating molecules...: 100%|██████████| 50/50 [00:08<00:00,  5.72it/s]\n"
          ]
        },
        {
          "name": "stdout",
          "output_type": "stream",
          "text": [
            "Mean value of predictions: 0.625\n",
            "Proportion of valid SMILES: 0.06\n",
            "Threshold increased to: 1.00\n",
            "144 Training on replay instances...\n"
          ]
        },
        {
          "name": "stderr",
          "output_type": "stream",
          "text": [
            " 144 Policy gradient...: 100%|██████████| 10/10 [00:43<00:00,  4.36s/it]\n",
            "Generating molecules...: 100%|██████████| 50/50 [00:08<00:00,  5.61it/s]\n"
          ]
        },
        {
          "name": "stdout",
          "output_type": "stream",
          "text": [
            "Mean value of predictions: 0.4779661\n",
            "Proportion of valid SMILES: 0.07375\n",
            "Threshold increased to: 1.00\n",
            "145 Training on replay instances...\n"
          ]
        },
        {
          "name": "stderr",
          "output_type": "stream",
          "text": [
            " 145 Policy gradient...: 100%|██████████| 10/10 [00:42<00:00,  4.20s/it]\n",
            "Generating molecules...: 100%|██████████| 50/50 [00:08<00:00,  5.65it/s]\n"
          ]
        },
        {
          "name": "stdout",
          "output_type": "stream",
          "text": [
            "Mean value of predictions: 0.53846157\n",
            "Proportion of valid SMILES: 0.065\n",
            "Threshold increased to: 1.00\n",
            "146 Training on replay instances...\n"
          ]
        },
        {
          "name": "stderr",
          "output_type": "stream",
          "text": [
            " 146 Policy gradient...: 100%|██████████| 10/10 [00:42<00:00,  4.21s/it]\n",
            "Generating molecules...: 100%|██████████| 50/50 [00:08<00:00,  5.68it/s]\n"
          ]
        },
        {
          "name": "stdout",
          "output_type": "stream",
          "text": [
            "Mean value of predictions: 0.5655173\n",
            "Proportion of valid SMILES: 0.0725\n",
            "Threshold increased to: 1.00\n",
            "147 Training on replay instances...\n"
          ]
        },
        {
          "name": "stderr",
          "output_type": "stream",
          "text": [
            " 147 Policy gradient...: 100%|██████████| 10/10 [00:41<00:00,  4.15s/it]\n",
            "Generating molecules...: 100%|██████████| 50/50 [00:08<00:00,  5.69it/s]\n"
          ]
        },
        {
          "name": "stdout",
          "output_type": "stream",
          "text": [
            "Mean value of predictions: 0.530303\n",
            "Proportion of valid SMILES: 0.0825\n",
            "Threshold increased to: 1.00\n",
            "148 Training on replay instances...\n"
          ]
        },
        {
          "name": "stderr",
          "output_type": "stream",
          "text": [
            " 148 Policy gradient...: 100%|██████████| 10/10 [00:42<00:00,  4.23s/it]\n",
            "Generating molecules...: 100%|██████████| 50/50 [00:08<00:00,  5.64it/s]\n"
          ]
        },
        {
          "name": "stdout",
          "output_type": "stream",
          "text": [
            "Mean value of predictions: 0.5541667\n",
            "Proportion of valid SMILES: 0.06\n",
            "Threshold increased to: 1.00\n",
            "149 Training on replay instances...\n"
          ]
        },
        {
          "name": "stderr",
          "output_type": "stream",
          "text": [
            " 149 Policy gradient...: 100%|██████████| 10/10 [00:42<00:00,  4.25s/it]\n",
            "Generating molecules...: 100%|██████████| 50/50 [00:08<00:00,  5.67it/s]\n"
          ]
        },
        {
          "name": "stdout",
          "output_type": "stream",
          "text": [
            "Mean value of predictions: 0.6528302\n",
            "Proportion of valid SMILES: 0.06625\n",
            "Threshold increased to: 1.00\n",
            "150 Training on replay instances...\n"
          ]
        },
        {
          "name": "stderr",
          "output_type": "stream",
          "text": [
            " 150 Policy gradient...: 100%|██████████| 10/10 [00:43<00:00,  4.36s/it]\n",
            "Generating molecules...: 100%|██████████| 50/50 [00:08<00:00,  5.68it/s]\n"
          ]
        },
        {
          "name": "stdout",
          "output_type": "stream",
          "text": [
            "Mean value of predictions: 0.5659574\n",
            "Proportion of valid SMILES: 0.05875\n",
            "Threshold increased to: 1.00\n",
            "151 Training on replay instances...\n"
          ]
        },
        {
          "name": "stderr",
          "output_type": "stream",
          "text": [
            " 151 Policy gradient...: 100%|██████████| 10/10 [00:42<00:00,  4.21s/it]\n",
            "Generating molecules...: 100%|██████████| 50/50 [00:08<00:00,  5.83it/s]\n"
          ]
        },
        {
          "name": "stdout",
          "output_type": "stream",
          "text": [
            "Mean value of predictions: 0.5627907\n",
            "Proportion of valid SMILES: 0.05375\n",
            "Threshold increased to: 1.00\n",
            "152 Training on replay instances...\n"
          ]
        },
        {
          "name": "stderr",
          "output_type": "stream",
          "text": [
            " 152 Policy gradient...: 100%|██████████| 10/10 [00:41<00:00,  4.16s/it]\n",
            "Generating molecules...: 100%|██████████| 50/50 [00:08<00:00,  5.80it/s]\n"
          ]
        },
        {
          "name": "stdout",
          "output_type": "stream",
          "text": [
            "Mean value of predictions: 0.5709678\n",
            "Proportion of valid SMILES: 0.0775\n",
            "Threshold increased to: 1.00\n",
            "153 Training on replay instances...\n"
          ]
        },
        {
          "name": "stderr",
          "output_type": "stream",
          "text": [
            " 153 Policy gradient...: 100%|██████████| 10/10 [00:41<00:00,  4.15s/it]\n",
            "Generating molecules...: 100%|██████████| 50/50 [00:08<00:00,  5.85it/s]\n"
          ]
        },
        {
          "name": "stdout",
          "output_type": "stream",
          "text": [
            "Mean value of predictions: 0.59999996\n",
            "Proportion of valid SMILES: 0.0775\n",
            "Threshold increased to: 1.00\n",
            "154 Training on replay instances...\n"
          ]
        },
        {
          "name": "stderr",
          "output_type": "stream",
          "text": [
            " 154 Policy gradient...: 100%|██████████| 10/10 [00:41<00:00,  4.17s/it]\n",
            "Generating molecules...: 100%|██████████| 50/50 [00:08<00:00,  5.77it/s]\n"
          ]
        },
        {
          "name": "stdout",
          "output_type": "stream",
          "text": [
            "Mean value of predictions: 0.7130436\n",
            "Proportion of valid SMILES: 0.0575\n",
            "Threshold increased to: 1.00\n",
            "155 Training on replay instances...\n"
          ]
        },
        {
          "name": "stderr",
          "output_type": "stream",
          "text": [
            " 155 Policy gradient...: 100%|██████████| 10/10 [00:41<00:00,  4.16s/it]\n",
            "Generating molecules...: 100%|██████████| 50/50 [00:08<00:00,  5.78it/s]\n"
          ]
        },
        {
          "name": "stdout",
          "output_type": "stream",
          "text": [
            "Mean value of predictions: 0.67777777\n",
            "Proportion of valid SMILES: 0.045\n",
            "Threshold increased to: 1.00\n",
            "156 Training on replay instances...\n"
          ]
        },
        {
          "name": "stderr",
          "output_type": "stream",
          "text": [
            " 156 Policy gradient...: 100%|██████████| 10/10 [00:42<00:00,  4.26s/it]\n",
            "Generating molecules...: 100%|██████████| 50/50 [00:08<00:00,  5.73it/s]\n"
          ]
        },
        {
          "name": "stdout",
          "output_type": "stream",
          "text": [
            "Mean value of predictions: 0.6162162\n",
            "Proportion of valid SMILES: 0.04625\n",
            "Threshold increased to: 1.00\n",
            "157 Training on replay instances...\n"
          ]
        },
        {
          "name": "stderr",
          "output_type": "stream",
          "text": [
            " 157 Policy gradient...: 100%|██████████| 10/10 [00:41<00:00,  4.15s/it]\n",
            "Generating molecules...: 100%|██████████| 50/50 [00:08<00:00,  5.78it/s]\n"
          ]
        },
        {
          "name": "stdout",
          "output_type": "stream",
          "text": [
            "Mean value of predictions: 0.54090905\n",
            "Proportion of valid SMILES: 0.055\n",
            "Threshold increased to: 1.00\n",
            "158 Training on replay instances...\n"
          ]
        },
        {
          "name": "stderr",
          "output_type": "stream",
          "text": [
            " 158 Policy gradient...: 100%|██████████| 10/10 [00:41<00:00,  4.15s/it]\n",
            "Generating molecules...: 100%|██████████| 50/50 [00:08<00:00,  5.76it/s]\n"
          ]
        },
        {
          "name": "stdout",
          "output_type": "stream",
          "text": [
            "Mean value of predictions: 0.5541667\n",
            "Proportion of valid SMILES: 0.06\n",
            "Threshold increased to: 1.00\n",
            "159 Training on replay instances...\n"
          ]
        },
        {
          "name": "stderr",
          "output_type": "stream",
          "text": [
            " 159 Policy gradient...: 100%|██████████| 10/10 [00:41<00:00,  4.15s/it]\n",
            "Generating molecules...: 100%|██████████| 50/50 [00:08<00:00,  5.77it/s]\n"
          ]
        },
        {
          "name": "stdout",
          "output_type": "stream",
          "text": [
            "Mean value of predictions: 0.5921569\n",
            "Proportion of valid SMILES: 0.06375\n",
            "Threshold increased to: 1.00\n",
            "160 Training on replay instances...\n"
          ]
        },
        {
          "name": "stderr",
          "output_type": "stream",
          "text": [
            " 160 Policy gradient...: 100%|██████████| 10/10 [00:41<00:00,  4.13s/it]\n",
            "Generating molecules...: 100%|██████████| 50/50 [00:08<00:00,  5.82it/s]\n"
          ]
        },
        {
          "name": "stdout",
          "output_type": "stream",
          "text": [
            "Mean value of predictions: 0.62083334\n",
            "Proportion of valid SMILES: 0.06\n",
            "Threshold increased to: 1.00\n",
            "161 Training on replay instances...\n"
          ]
        },
        {
          "name": "stderr",
          "output_type": "stream",
          "text": [
            " 161 Policy gradient...: 100%|██████████| 10/10 [00:41<00:00,  4.16s/it]\n",
            "Generating molecules...: 100%|██████████| 50/50 [00:08<00:00,  5.76it/s]\n"
          ]
        },
        {
          "name": "stdout",
          "output_type": "stream",
          "text": [
            "Mean value of predictions: 0.55\n",
            "Proportion of valid SMILES: 0.05\n",
            "Threshold increased to: 1.00\n",
            "162 Training on replay instances...\n"
          ]
        },
        {
          "name": "stderr",
          "output_type": "stream",
          "text": [
            " 162 Policy gradient...: 100%|██████████| 10/10 [00:41<00:00,  4.18s/it]\n",
            "Generating molecules...: 100%|██████████| 50/50 [00:08<00:00,  5.78it/s]\n"
          ]
        },
        {
          "name": "stdout",
          "output_type": "stream",
          "text": [
            "Mean value of predictions: 0.6727273\n",
            "Proportion of valid SMILES: 0.04125\n",
            "Threshold increased to: 1.00\n",
            "163 Training on replay instances...\n"
          ]
        },
        {
          "name": "stderr",
          "output_type": "stream",
          "text": [
            " 163 Policy gradient...: 100%|██████████| 10/10 [00:43<00:00,  4.36s/it]\n",
            "Generating molecules...: 100%|██████████| 50/50 [00:08<00:00,  5.78it/s]\n"
          ]
        },
        {
          "name": "stdout",
          "output_type": "stream",
          "text": [
            "Mean value of predictions: 0.58857137\n",
            "Proportion of valid SMILES: 0.04380475594493116\n",
            "Threshold increased to: 1.00\n",
            "164 Training on replay instances...\n"
          ]
        },
        {
          "name": "stderr",
          "output_type": "stream",
          "text": [
            " 164 Policy gradient...: 100%|██████████| 10/10 [00:42<00:00,  4.22s/it]\n",
            "Generating molecules...: 100%|██████████| 50/50 [00:08<00:00,  5.80it/s]\n"
          ]
        },
        {
          "name": "stdout",
          "output_type": "stream",
          "text": [
            "Mean value of predictions: 0.65555555\n",
            "Proportion of valid SMILES: 0.045\n",
            "Threshold increased to: 1.00\n",
            "165 Training on replay instances...\n"
          ]
        },
        {
          "name": "stderr",
          "output_type": "stream",
          "text": [
            " 165 Policy gradient...: 100%|██████████| 10/10 [00:41<00:00,  4.15s/it]\n",
            "Generating molecules...: 100%|██████████| 50/50 [00:08<00:00,  5.77it/s]\n"
          ]
        },
        {
          "name": "stdout",
          "output_type": "stream",
          "text": [
            "Mean value of predictions: 0.6047619\n",
            "Proportion of valid SMILES: 0.0525\n",
            "Threshold increased to: 1.00\n",
            "166 Training on replay instances...\n"
          ]
        },
        {
          "name": "stderr",
          "output_type": "stream",
          "text": [
            " 166 Policy gradient...: 100%|██████████| 10/10 [00:41<00:00,  4.19s/it]\n",
            "Generating molecules...: 100%|██████████| 50/50 [00:08<00:00,  5.78it/s]\n"
          ]
        },
        {
          "name": "stdout",
          "output_type": "stream",
          "text": [
            "Mean value of predictions: 0.75135136\n",
            "Proportion of valid SMILES: 0.04625\n",
            "Threshold increased to: 1.00\n",
            "167 Training on replay instances...\n"
          ]
        },
        {
          "name": "stderr",
          "output_type": "stream",
          "text": [
            " 167 Policy gradient...: 100%|██████████| 10/10 [00:41<00:00,  4.13s/it]\n",
            "Generating molecules...: 100%|██████████| 50/50 [00:08<00:00,  5.82it/s]\n"
          ]
        },
        {
          "name": "stdout",
          "output_type": "stream",
          "text": [
            "Mean value of predictions: 0.6097561\n",
            "Proportion of valid SMILES: 0.05125\n",
            "Threshold increased to: 1.00\n",
            "168 Training on replay instances...\n"
          ]
        },
        {
          "name": "stderr",
          "output_type": "stream",
          "text": [
            " 168 Policy gradient...: 100%|██████████| 10/10 [00:41<00:00,  4.19s/it]\n",
            "Generating molecules...: 100%|██████████| 50/50 [00:08<00:00,  5.83it/s]\n"
          ]
        },
        {
          "name": "stdout",
          "output_type": "stream",
          "text": [
            "Mean value of predictions: 0.5395349\n",
            "Proportion of valid SMILES: 0.05375\n",
            "Threshold increased to: 1.00\n",
            "169 Training on replay instances...\n"
          ]
        },
        {
          "name": "stderr",
          "output_type": "stream",
          "text": [
            " 169 Policy gradient...: 100%|██████████| 10/10 [00:43<00:00,  4.32s/it]\n",
            "Generating molecules...: 100%|██████████| 50/50 [00:08<00:00,  5.82it/s]\n"
          ]
        },
        {
          "name": "stdout",
          "output_type": "stream",
          "text": [
            "Mean value of predictions: 0.7517241\n",
            "Proportion of valid SMILES: 0.03625\n",
            "Threshold increased to: 1.00\n",
            "170 Training on replay instances...\n"
          ]
        },
        {
          "name": "stderr",
          "output_type": "stream",
          "text": [
            " 170 Policy gradient...: 100%|██████████| 10/10 [00:41<00:00,  4.19s/it]\n",
            "Generating molecules...: 100%|██████████| 50/50 [00:08<00:00,  5.82it/s]\n"
          ]
        },
        {
          "name": "stdout",
          "output_type": "stream",
          "text": [
            "Mean value of predictions: 0.67741936\n",
            "Proportion of valid SMILES: 0.03875\n",
            "Threshold increased to: 1.00\n",
            "171 Training on replay instances...\n"
          ]
        },
        {
          "name": "stderr",
          "output_type": "stream",
          "text": [
            " 171 Policy gradient...: 100%|██████████| 10/10 [00:41<00:00,  4.12s/it]\n",
            "Generating molecules...: 100%|██████████| 50/50 [00:08<00:00,  5.82it/s]\n"
          ]
        },
        {
          "name": "stdout",
          "output_type": "stream",
          "text": [
            "Mean value of predictions: 0.6047619\n",
            "Proportion of valid SMILES: 0.0525\n",
            "Threshold increased to: 1.00\n",
            "172 Training on replay instances...\n"
          ]
        },
        {
          "name": "stderr",
          "output_type": "stream",
          "text": [
            " 172 Policy gradient...: 100%|██████████| 10/10 [00:41<00:00,  4.14s/it]\n",
            "Generating molecules...: 100%|██████████| 50/50 [00:08<00:00,  5.81it/s]\n"
          ]
        },
        {
          "name": "stdout",
          "output_type": "stream",
          "text": [
            "Mean value of predictions: 0.6296296\n",
            "Proportion of valid SMILES: 0.03375\n",
            "Threshold increased to: 1.00\n",
            "173 Training on replay instances...\n"
          ]
        },
        {
          "name": "stderr",
          "output_type": "stream",
          "text": [
            " 173 Policy gradient...: 100%|██████████| 10/10 [00:41<00:00,  4.18s/it]\n",
            "Generating molecules...: 100%|██████████| 50/50 [00:08<00:00,  5.79it/s]\n"
          ]
        },
        {
          "name": "stdout",
          "output_type": "stream",
          "text": [
            "Mean value of predictions: 0.6\n",
            "Proportion of valid SMILES: 0.04375\n",
            "Threshold increased to: 1.00\n",
            "174 Training on replay instances...\n"
          ]
        },
        {
          "name": "stderr",
          "output_type": "stream",
          "text": [
            " 174 Policy gradient...: 100%|██████████| 10/10 [00:41<00:00,  4.17s/it]\n",
            "Generating molecules...: 100%|██████████| 50/50 [00:08<00:00,  5.73it/s]\n"
          ]
        },
        {
          "name": "stdout",
          "output_type": "stream",
          "text": [
            "Mean value of predictions: 0.5944445\n",
            "Proportion of valid SMILES: 0.045\n",
            "Threshold increased to: 1.00\n",
            "175 Training on replay instances...\n"
          ]
        },
        {
          "name": "stderr",
          "output_type": "stream",
          "text": [
            " 175 Policy gradient...: 100%|██████████| 10/10 [00:41<00:00,  4.16s/it]\n",
            "Generating molecules...: 100%|██████████| 50/50 [00:08<00:00,  5.84it/s]\n"
          ]
        },
        {
          "name": "stdout",
          "output_type": "stream",
          "text": [
            "Mean value of predictions: 0.6944444\n",
            "Proportion of valid SMILES: 0.045\n",
            "Threshold increased to: 1.00\n",
            "176 Training on replay instances...\n"
          ]
        },
        {
          "name": "stderr",
          "output_type": "stream",
          "text": [
            " 176 Policy gradient...: 100%|██████████| 10/10 [00:43<00:00,  4.35s/it]\n",
            "Generating molecules...: 100%|██████████| 50/50 [00:08<00:00,  5.78it/s]\n"
          ]
        },
        {
          "name": "stdout",
          "output_type": "stream",
          "text": [
            "Mean value of predictions: 0.6615384\n",
            "Proportion of valid SMILES: 0.04875\n",
            "Threshold increased to: 1.00\n",
            "177 Training on replay instances...\n"
          ]
        },
        {
          "name": "stderr",
          "output_type": "stream",
          "text": [
            " 177 Policy gradient...: 100%|██████████| 10/10 [00:41<00:00,  4.20s/it]\n",
            "Generating molecules...: 100%|██████████| 50/50 [00:08<00:00,  5.79it/s]\n"
          ]
        },
        {
          "name": "stdout",
          "output_type": "stream",
          "text": [
            "Mean value of predictions: 0.63\n",
            "Proportion of valid SMILES: 0.05\n",
            "Threshold increased to: 1.00\n",
            "178 Training on replay instances...\n"
          ]
        },
        {
          "name": "stderr",
          "output_type": "stream",
          "text": [
            " 178 Policy gradient...: 100%|██████████| 10/10 [00:41<00:00,  4.14s/it]\n",
            "Generating molecules...: 100%|██████████| 50/50 [00:08<00:00,  5.83it/s]\n"
          ]
        },
        {
          "name": "stdout",
          "output_type": "stream",
          "text": [
            "Mean value of predictions: 0.6333334\n",
            "Proportion of valid SMILES: 0.045\n",
            "Threshold increased to: 1.00\n",
            "179 Training on replay instances...\n"
          ]
        },
        {
          "name": "stderr",
          "output_type": "stream",
          "text": [
            " 179 Policy gradient...: 100%|██████████| 10/10 [00:41<00:00,  4.14s/it]\n",
            "Generating molecules...: 100%|██████████| 50/50 [00:08<00:00,  5.75it/s]\n"
          ]
        },
        {
          "name": "stdout",
          "output_type": "stream",
          "text": [
            "Mean value of predictions: 0.62352943\n",
            "Proportion of valid SMILES: 0.0425\n",
            "Threshold increased to: 1.00\n",
            "180 Training on replay instances...\n"
          ]
        },
        {
          "name": "stderr",
          "output_type": "stream",
          "text": [
            " 180 Policy gradient...: 100%|██████████| 10/10 [00:41<00:00,  4.14s/it]\n",
            "Generating molecules...: 100%|██████████| 50/50 [00:08<00:00,  5.81it/s]\n"
          ]
        },
        {
          "name": "stdout",
          "output_type": "stream",
          "text": [
            "Mean value of predictions: 0.65599996\n",
            "Proportion of valid SMILES: 0.03125\n",
            "Threshold increased to: 1.00\n",
            "181 Training on replay instances...\n"
          ]
        },
        {
          "name": "stderr",
          "output_type": "stream",
          "text": [
            " 181 Policy gradient...: 100%|██████████| 10/10 [00:41<00:00,  4.20s/it]\n",
            "Generating molecules...: 100%|██████████| 50/50 [00:08<00:00,  5.82it/s]\n"
          ]
        },
        {
          "name": "stdout",
          "output_type": "stream",
          "text": [
            "Mean value of predictions: 0.78125\n",
            "Proportion of valid SMILES: 0.04\n",
            "Threshold increased to: 1.00\n",
            "182 Training on replay instances...\n"
          ]
        },
        {
          "name": "stderr",
          "output_type": "stream",
          "text": [
            " 182 Policy gradient...: 100%|██████████| 10/10 [00:41<00:00,  4.19s/it]\n",
            "Generating molecules...: 100%|██████████| 50/50 [00:08<00:00,  5.81it/s]\n"
          ]
        },
        {
          "name": "stdout",
          "output_type": "stream",
          "text": [
            "Mean value of predictions: 0.55714285\n",
            "Proportion of valid SMILES: 0.035\n",
            "Threshold increased to: 1.00\n",
            "183 Training on replay instances...\n"
          ]
        },
        {
          "name": "stderr",
          "output_type": "stream",
          "text": [
            " 183 Policy gradient...: 100%|██████████| 10/10 [00:43<00:00,  4.34s/it]\n",
            "Generating molecules...: 100%|██████████| 50/50 [00:08<00:00,  5.78it/s]\n"
          ]
        },
        {
          "name": "stdout",
          "output_type": "stream",
          "text": [
            "Mean value of predictions: 0.67741936\n",
            "Proportion of valid SMILES: 0.03875\n",
            "Threshold increased to: 1.00\n",
            "184 Training on replay instances...\n"
          ]
        },
        {
          "name": "stderr",
          "output_type": "stream",
          "text": [
            " 184 Policy gradient...: 100%|██████████| 10/10 [00:41<00:00,  4.17s/it]\n",
            "Generating molecules...: 100%|██████████| 50/50 [00:08<00:00,  5.80it/s]\n"
          ]
        },
        {
          "name": "stdout",
          "output_type": "stream",
          "text": [
            "Mean value of predictions: 0.59999996\n",
            "Proportion of valid SMILES: 0.03875\n",
            "Threshold increased to: 1.00\n",
            "185 Training on replay instances...\n"
          ]
        },
        {
          "name": "stderr",
          "output_type": "stream",
          "text": [
            " 185 Policy gradient...: 100%|██████████| 10/10 [00:41<00:00,  4.16s/it]\n",
            "Generating molecules...: 100%|██████████| 50/50 [00:08<00:00,  5.78it/s]\n"
          ]
        },
        {
          "name": "stdout",
          "output_type": "stream",
          "text": [
            "Mean value of predictions: 0.6648649\n",
            "Proportion of valid SMILES: 0.04625\n",
            "Threshold increased to: 1.00\n",
            "186 Training on replay instances...\n"
          ]
        },
        {
          "name": "stderr",
          "output_type": "stream",
          "text": [
            " 186 Policy gradient...: 100%|██████████| 10/10 [00:41<00:00,  4.12s/it]\n",
            "Generating molecules...: 100%|██████████| 50/50 [00:08<00:00,  5.81it/s]\n"
          ]
        },
        {
          "name": "stdout",
          "output_type": "stream",
          "text": [
            "Mean value of predictions: 0.63846153\n",
            "Proportion of valid SMILES: 0.0325\n",
            "Threshold increased to: 1.00\n",
            "187 Training on replay instances...\n"
          ]
        },
        {
          "name": "stderr",
          "output_type": "stream",
          "text": [
            " 187 Policy gradient...: 100%|██████████| 10/10 [00:41<00:00,  4.14s/it]\n",
            "Generating molecules...: 100%|██████████| 50/50 [00:08<00:00,  5.82it/s]\n"
          ]
        },
        {
          "name": "stdout",
          "output_type": "stream",
          "text": [
            "Mean value of predictions: 0.6114286\n",
            "Proportion of valid SMILES: 0.04375\n",
            "Threshold increased to: 1.00\n",
            "188 Training on replay instances...\n"
          ]
        },
        {
          "name": "stderr",
          "output_type": "stream",
          "text": [
            " 188 Policy gradient...: 100%|██████████| 10/10 [00:41<00:00,  4.17s/it]\n",
            "Generating molecules...: 100%|██████████| 50/50 [00:08<00:00,  5.81it/s]\n"
          ]
        },
        {
          "name": "stdout",
          "output_type": "stream",
          "text": [
            "Mean value of predictions: 0.5125\n",
            "Proportion of valid SMILES: 0.04\n",
            "Threshold increased to: 1.00\n",
            "189 Training on replay instances...\n"
          ]
        },
        {
          "name": "stderr",
          "output_type": "stream",
          "text": [
            " 189 Policy gradient...: 100%|██████████| 10/10 [00:41<00:00,  4.18s/it]\n",
            "Generating molecules...: 100%|██████████| 50/50 [00:08<00:00,  5.81it/s]\n"
          ]
        },
        {
          "name": "stdout",
          "output_type": "stream",
          "text": [
            "Mean value of predictions: 0.6580645\n",
            "Proportion of valid SMILES: 0.03875\n",
            "Threshold increased to: 1.00\n",
            "190 Training on replay instances...\n"
          ]
        },
        {
          "name": "stderr",
          "output_type": "stream",
          "text": [
            " 190 Policy gradient...: 100%|██████████| 10/10 [00:41<00:00,  4.17s/it]\n",
            "Generating molecules...: 100%|██████████| 50/50 [00:10<00:00,  4.83it/s]\n"
          ]
        },
        {
          "name": "stdout",
          "output_type": "stream",
          "text": [
            "Mean value of predictions: 0.59999996\n",
            "Proportion of valid SMILES: 0.04125\n",
            "Threshold increased to: 1.00\n",
            "191 Training on replay instances...\n"
          ]
        },
        {
          "name": "stderr",
          "output_type": "stream",
          "text": [
            " 191 Policy gradient...: 100%|██████████| 10/10 [00:41<00:00,  4.18s/it]\n",
            "Generating molecules...: 100%|██████████| 50/50 [00:08<00:00,  5.78it/s]\n"
          ]
        },
        {
          "name": "stdout",
          "output_type": "stream",
          "text": [
            "Mean value of predictions: 0.56363636\n",
            "Proportion of valid SMILES: 0.04125\n",
            "Threshold increased to: 1.00\n",
            "192 Training on replay instances...\n"
          ]
        },
        {
          "name": "stderr",
          "output_type": "stream",
          "text": [
            " 192 Policy gradient...: 100%|██████████| 10/10 [00:41<00:00,  4.16s/it]\n",
            "Generating molecules...: 100%|██████████| 50/50 [00:08<00:00,  5.78it/s]\n"
          ]
        },
        {
          "name": "stdout",
          "output_type": "stream",
          "text": [
            "Mean value of predictions: 0.7310345\n",
            "Proportion of valid SMILES: 0.03625\n",
            "Threshold increased to: 1.00\n",
            "193 Training on replay instances...\n"
          ]
        },
        {
          "name": "stderr",
          "output_type": "stream",
          "text": [
            " 193 Policy gradient...: 100%|██████████| 10/10 [00:41<00:00,  4.18s/it]\n",
            "Generating molecules...: 100%|██████████| 50/50 [00:08<00:00,  5.82it/s]\n"
          ]
        },
        {
          "name": "stdout",
          "output_type": "stream",
          "text": [
            "Mean value of predictions: 0.72\n",
            "Proportion of valid SMILES: 0.03125\n",
            "Threshold increased to: 1.00\n",
            "194 Training on replay instances...\n"
          ]
        },
        {
          "name": "stderr",
          "output_type": "stream",
          "text": [
            " 194 Policy gradient...: 100%|██████████| 10/10 [00:41<00:00,  4.17s/it]\n",
            "Generating molecules...: 100%|██████████| 50/50 [00:08<00:00,  5.77it/s]\n"
          ]
        },
        {
          "name": "stdout",
          "output_type": "stream",
          "text": [
            "Mean value of predictions: 0.62068963\n",
            "Proportion of valid SMILES: 0.03625\n",
            "Threshold increased to: 1.00\n",
            "195 Training on replay instances...\n"
          ]
        },
        {
          "name": "stderr",
          "output_type": "stream",
          "text": [
            " 195 Policy gradient...: 100%|██████████| 10/10 [00:41<00:00,  4.18s/it]\n",
            "Generating molecules...: 100%|██████████| 50/50 [00:08<00:00,  5.81it/s]\n"
          ]
        },
        {
          "name": "stdout",
          "output_type": "stream",
          "text": [
            "Mean value of predictions: 0.74615383\n",
            "Proportion of valid SMILES: 0.0325\n",
            "Threshold increased to: 1.00\n",
            "196 Training on replay instances...\n"
          ]
        },
        {
          "name": "stderr",
          "output_type": "stream",
          "text": [
            " 196 Policy gradient...: 100%|██████████| 10/10 [00:41<00:00,  4.16s/it]\n",
            "Generating molecules...: 100%|██████████| 50/50 [00:08<00:00,  5.72it/s]\n"
          ]
        },
        {
          "name": "stdout",
          "output_type": "stream",
          "text": [
            "Mean value of predictions: 0.68\n",
            "Proportion of valid SMILES: 0.0375\n",
            "Threshold increased to: 1.00\n",
            "197 Training on replay instances...\n"
          ]
        },
        {
          "name": "stderr",
          "output_type": "stream",
          "text": [
            " 197 Policy gradient...: 100%|██████████| 10/10 [00:42<00:00,  4.21s/it]\n",
            "Generating molecules...: 100%|██████████| 50/50 [00:08<00:00,  5.76it/s]\n"
          ]
        },
        {
          "name": "stdout",
          "output_type": "stream",
          "text": [
            "Mean value of predictions: 0.59310347\n",
            "Proportion of valid SMILES: 0.03625\n",
            "Threshold increased to: 1.00\n",
            "198 Training on replay instances...\n"
          ]
        },
        {
          "name": "stderr",
          "output_type": "stream",
          "text": [
            " 198 Policy gradient...: 100%|██████████| 10/10 [00:43<00:00,  4.38s/it]\n",
            "Generating molecules...: 100%|██████████| 50/50 [00:08<00:00,  5.75it/s]\n"
          ]
        },
        {
          "name": "stdout",
          "output_type": "stream",
          "text": [
            "Mean value of predictions: 0.6181818\n",
            "Proportion of valid SMILES: 0.04125\n",
            "Threshold increased to: 1.00\n",
            "199 Training on replay instances...\n"
          ]
        },
        {
          "name": "stderr",
          "output_type": "stream",
          "text": [
            " 199 Policy gradient...: 100%|██████████| 10/10 [00:42<00:00,  4.22s/it]\n",
            "Generating molecules...: 100%|██████████| 50/50 [00:08<00:00,  5.77it/s]\n"
          ]
        },
        {
          "name": "stdout",
          "output_type": "stream",
          "text": [
            "Mean value of predictions: 0.6097561\n",
            "Proportion of valid SMILES: 0.05125\n",
            "Threshold increased to: 1.00\n",
            "200 Training on replay instances...\n"
          ]
        },
        {
          "name": "stderr",
          "output_type": "stream",
          "text": [
            " 200 Policy gradient...: 100%|██████████| 10/10 [00:42<00:00,  4.21s/it]\n",
            "Generating molecules...: 100%|██████████| 50/50 [00:08<00:00,  5.78it/s]\n"
          ]
        },
        {
          "name": "stdout",
          "output_type": "stream",
          "text": [
            "Mean value of predictions: 0.67826086\n",
            "Proportion of valid SMILES: 0.02875\n",
            "Threshold increased to: 1.00\n",
            "201 Training on replay instances...\n"
          ]
        },
        {
          "name": "stderr",
          "output_type": "stream",
          "text": [
            " 201 Policy gradient...: 100%|██████████| 10/10 [00:41<00:00,  4.19s/it]\n",
            "Generating molecules...: 100%|██████████| 50/50 [00:08<00:00,  5.78it/s]\n"
          ]
        },
        {
          "name": "stdout",
          "output_type": "stream",
          "text": [
            "Mean value of predictions: 0.57575756\n",
            "Proportion of valid SMILES: 0.04125\n",
            "Threshold increased to: 1.00\n",
            "202 Training on replay instances...\n"
          ]
        },
        {
          "name": "stderr",
          "output_type": "stream",
          "text": [
            " 202 Policy gradient...: 100%|██████████| 10/10 [00:42<00:00,  4.20s/it]\n",
            "Generating molecules...: 100%|██████████| 50/50 [00:08<00:00,  5.73it/s]\n"
          ]
        },
        {
          "name": "stdout",
          "output_type": "stream",
          "text": [
            "Mean value of predictions: 0.6461538\n",
            "Proportion of valid SMILES: 0.0325\n",
            "Threshold increased to: 1.00\n",
            "203 Training on replay instances...\n"
          ]
        },
        {
          "name": "stderr",
          "output_type": "stream",
          "text": [
            " 203 Policy gradient...: 100%|██████████| 10/10 [00:41<00:00,  4.19s/it]\n",
            "Generating molecules...: 100%|██████████| 50/50 [00:08<00:00,  5.73it/s]\n"
          ]
        },
        {
          "name": "stdout",
          "output_type": "stream",
          "text": [
            "Mean value of predictions: 0.67333335\n",
            "Proportion of valid SMILES: 0.0375\n",
            "Threshold increased to: 1.00\n",
            "204 Training on replay instances...\n"
          ]
        },
        {
          "name": "stderr",
          "output_type": "stream",
          "text": [
            " 204 Policy gradient...: 100%|██████████| 10/10 [00:41<00:00,  4.18s/it]\n",
            "Generating molecules...: 100%|██████████| 50/50 [00:08<00:00,  5.76it/s]\n"
          ]
        },
        {
          "name": "stdout",
          "output_type": "stream",
          "text": [
            "Mean value of predictions: 0.54857147\n",
            "Proportion of valid SMILES: 0.04375\n",
            "Threshold increased to: 1.00\n",
            "205 Training on replay instances...\n"
          ]
        },
        {
          "name": "stderr",
          "output_type": "stream",
          "text": [
            " 205 Policy gradient...: 100%|██████████| 10/10 [00:41<00:00,  4.17s/it]\n",
            "Generating molecules...: 100%|██████████| 50/50 [00:08<00:00,  5.80it/s]\n"
          ]
        },
        {
          "name": "stdout",
          "output_type": "stream",
          "text": [
            "Mean value of predictions: 0.6740741\n",
            "Proportion of valid SMILES: 0.03375\n",
            "Threshold increased to: 1.00\n",
            "206 Training on replay instances...\n"
          ]
        },
        {
          "name": "stderr",
          "output_type": "stream",
          "text": [
            " 206 Policy gradient...: 100%|██████████| 10/10 [00:43<00:00,  4.37s/it]\n",
            "Generating molecules...: 100%|██████████| 50/50 [00:08<00:00,  5.75it/s]\n"
          ]
        },
        {
          "name": "stdout",
          "output_type": "stream",
          "text": [
            "Mean value of predictions: 0.6066667\n",
            "Proportion of valid SMILES: 0.0375\n",
            "Threshold increased to: 1.00\n",
            "207 Training on replay instances...\n"
          ]
        },
        {
          "name": "stderr",
          "output_type": "stream",
          "text": [
            " 207 Policy gradient...: 100%|██████████| 10/10 [00:42<00:00,  4.20s/it]\n",
            "Generating molecules...: 100%|██████████| 50/50 [00:08<00:00,  5.72it/s]\n"
          ]
        },
        {
          "name": "stdout",
          "output_type": "stream",
          "text": [
            "Mean value of predictions: 0.58571434\n",
            "Proportion of valid SMILES: 0.035\n",
            "Threshold increased to: 1.00\n",
            "208 Training on replay instances...\n"
          ]
        },
        {
          "name": "stderr",
          "output_type": "stream",
          "text": [
            " 208 Policy gradient...: 100%|██████████| 10/10 [00:41<00:00,  4.16s/it]\n",
            "Generating molecules...: 100%|██████████| 50/50 [00:08<00:00,  5.73it/s]\n"
          ]
        },
        {
          "name": "stdout",
          "output_type": "stream",
          "text": [
            "Mean value of predictions: 0.79230773\n",
            "Proportion of valid SMILES: 0.0325\n",
            "Threshold increased to: 1.00\n",
            "209 Training on replay instances...\n"
          ]
        },
        {
          "name": "stderr",
          "output_type": "stream",
          "text": [
            " 209 Policy gradient...: 100%|██████████| 10/10 [00:41<00:00,  4.18s/it]\n",
            "Generating molecules...: 100%|██████████| 50/50 [00:08<00:00,  5.79it/s]\n"
          ]
        },
        {
          "name": "stdout",
          "output_type": "stream",
          "text": [
            "Mean value of predictions: 0.6333333\n",
            "Proportion of valid SMILES: 0.03\n",
            "Threshold increased to: 1.00\n",
            "210 Training on replay instances...\n"
          ]
        },
        {
          "name": "stderr",
          "output_type": "stream",
          "text": [
            " 210 Policy gradient...: 100%|██████████| 10/10 [00:42<00:00,  4.21s/it]\n",
            "Generating molecules...: 100%|██████████| 50/50 [00:08<00:00,  5.80it/s]\n"
          ]
        },
        {
          "name": "stdout",
          "output_type": "stream",
          "text": [
            "Mean value of predictions: 0.75\n",
            "Proportion of valid SMILES: 0.03\n",
            "Threshold increased to: 1.00\n",
            "211 Training on replay instances...\n"
          ]
        },
        {
          "name": "stderr",
          "output_type": "stream",
          "text": [
            " 211 Policy gradient...: 100%|██████████| 10/10 [00:41<00:00,  4.17s/it]\n",
            "Generating molecules...: 100%|██████████| 50/50 [00:08<00:00,  5.74it/s]\n"
          ]
        },
        {
          "name": "stdout",
          "output_type": "stream",
          "text": [
            "Mean value of predictions: 0.8526316\n",
            "Proportion of valid SMILES: 0.02375\n",
            "Threshold increased to: 1.00\n",
            "212 Training on replay instances...\n"
          ]
        },
        {
          "name": "stderr",
          "output_type": "stream",
          "text": [
            " 212 Policy gradient...: 100%|██████████| 10/10 [00:42<00:00,  4.22s/it]\n",
            "Generating molecules...: 100%|██████████| 50/50 [00:08<00:00,  5.74it/s]\n"
          ]
        },
        {
          "name": "stdout",
          "output_type": "stream",
          "text": [
            "Mean value of predictions: 0.648\n",
            "Proportion of valid SMILES: 0.03125\n",
            "Threshold increased to: 1.00\n",
            "213 Training on replay instances...\n"
          ]
        },
        {
          "name": "stderr",
          "output_type": "stream",
          "text": [
            " 213 Policy gradient...: 100%|██████████| 10/10 [00:42<00:00,  4.20s/it]\n",
            "Generating molecules...: 100%|██████████| 50/50 [00:08<00:00,  5.80it/s]\n"
          ]
        },
        {
          "name": "stdout",
          "output_type": "stream",
          "text": [
            "Mean value of predictions: 0.6545454\n",
            "Proportion of valid SMILES: 0.0275\n",
            "Threshold increased to: 1.00\n",
            "214 Training on replay instances...\n"
          ]
        },
        {
          "name": "stderr",
          "output_type": "stream",
          "text": [
            " 214 Policy gradient...: 100%|██████████| 10/10 [00:43<00:00,  4.33s/it]\n",
            "Generating molecules...: 100%|██████████| 50/50 [00:08<00:00,  5.73it/s]\n"
          ]
        },
        {
          "name": "stdout",
          "output_type": "stream",
          "text": [
            "Mean value of predictions: 0.81904763\n",
            "Proportion of valid SMILES: 0.02625\n",
            "Threshold increased to: 1.00\n",
            "215 Training on replay instances...\n"
          ]
        },
        {
          "name": "stderr",
          "output_type": "stream",
          "text": [
            " 215 Policy gradient...: 100%|██████████| 10/10 [00:41<00:00,  4.19s/it]\n",
            "Generating molecules...: 100%|██████████| 50/50 [00:08<00:00,  5.75it/s]\n"
          ]
        },
        {
          "name": "stdout",
          "output_type": "stream",
          "text": [
            "Mean value of predictions: 0.69655174\n",
            "Proportion of valid SMILES: 0.03625\n",
            "Threshold increased to: 1.00\n",
            "216 Training on replay instances...\n"
          ]
        },
        {
          "name": "stderr",
          "output_type": "stream",
          "text": [
            " 216 Policy gradient...: 100%|██████████| 10/10 [00:41<00:00,  4.20s/it]\n",
            "Generating molecules...: 100%|██████████| 50/50 [00:08<00:00,  5.80it/s]\n"
          ]
        },
        {
          "name": "stdout",
          "output_type": "stream",
          "text": [
            "Mean value of predictions: 0.73636365\n",
            "Proportion of valid SMILES: 0.0275\n",
            "Threshold increased to: 1.00\n",
            "217 Training on replay instances...\n"
          ]
        },
        {
          "name": "stderr",
          "output_type": "stream",
          "text": [
            " 217 Policy gradient...: 100%|██████████| 10/10 [00:42<00:00,  4.23s/it]\n",
            "Generating molecules...: 100%|██████████| 50/50 [00:08<00:00,  5.76it/s]\n"
          ]
        },
        {
          "name": "stdout",
          "output_type": "stream",
          "text": [
            "Mean value of predictions: 0.85714287\n",
            "Proportion of valid SMILES: 0.0175\n",
            "Threshold increased to: 1.00\n",
            "218 Training on replay instances...\n"
          ]
        },
        {
          "name": "stderr",
          "output_type": "stream",
          "text": [
            " 218 Policy gradient...: 100%|██████████| 10/10 [00:41<00:00,  4.18s/it]\n",
            "Generating molecules...: 100%|██████████| 50/50 [00:08<00:00,  5.77it/s]\n"
          ]
        },
        {
          "name": "stdout",
          "output_type": "stream",
          "text": [
            "Mean value of predictions: 0.71999997\n",
            "Proportion of valid SMILES: 0.025\n",
            "Threshold increased to: 1.00\n",
            "219 Training on replay instances...\n"
          ]
        },
        {
          "name": "stderr",
          "output_type": "stream",
          "text": [
            " 219 Policy gradient...: 100%|██████████| 10/10 [00:42<00:00,  4.20s/it]\n",
            "Generating molecules...: 100%|██████████| 50/50 [00:08<00:00,  5.78it/s]\n"
          ]
        },
        {
          "name": "stdout",
          "output_type": "stream",
          "text": [
            "Mean value of predictions: 0.8230769\n",
            "Proportion of valid SMILES: 0.0325\n",
            "Threshold increased to: 1.00\n",
            "220 Training on replay instances...\n"
          ]
        },
        {
          "name": "stderr",
          "output_type": "stream",
          "text": [
            " 220 Policy gradient...: 100%|██████████| 10/10 [00:41<00:00,  4.19s/it]\n",
            "Generating molecules...: 100%|██████████| 50/50 [00:08<00:00,  5.75it/s]\n"
          ]
        },
        {
          "name": "stdout",
          "output_type": "stream",
          "text": [
            "Mean value of predictions: 0.6785714\n",
            "Proportion of valid SMILES: 0.035\n",
            "Threshold increased to: 1.00\n",
            "221 Training on replay instances...\n"
          ]
        },
        {
          "name": "stderr",
          "output_type": "stream",
          "text": [
            " 221 Policy gradient...: 100%|██████████| 10/10 [00:41<00:00,  4.19s/it]\n",
            "Generating molecules...: 100%|██████████| 50/50 [00:08<00:00,  5.75it/s]\n"
          ]
        },
        {
          "name": "stdout",
          "output_type": "stream",
          "text": [
            "Mean value of predictions: 0.6962963\n",
            "Proportion of valid SMILES: 0.03375\n",
            "Threshold increased to: 1.00\n",
            "222 Training on replay instances...\n"
          ]
        },
        {
          "name": "stderr",
          "output_type": "stream",
          "text": [
            " 222 Policy gradient...: 100%|██████████| 10/10 [00:42<00:00,  4.23s/it]\n",
            "Generating molecules...: 100%|██████████| 50/50 [00:08<00:00,  5.80it/s]\n"
          ]
        },
        {
          "name": "stdout",
          "output_type": "stream",
          "text": [
            "Mean value of predictions: 0.74444443\n",
            "Proportion of valid SMILES: 0.0225\n",
            "Threshold increased to: 1.00\n",
            "223 Training on replay instances...\n"
          ]
        },
        {
          "name": "stderr",
          "output_type": "stream",
          "text": [
            " 223 Policy gradient...: 100%|██████████| 10/10 [00:44<00:00,  4.42s/it]\n",
            "Generating molecules...: 100%|██████████| 50/50 [00:08<00:00,  5.74it/s]\n"
          ]
        },
        {
          "name": "stdout",
          "output_type": "stream",
          "text": [
            "Mean value of predictions: 0.85333335\n",
            "Proportion of valid SMILES: 0.01875\n",
            "Threshold increased to: 1.00\n",
            "224 Training on replay instances...\n"
          ]
        },
        {
          "name": "stderr",
          "output_type": "stream",
          "text": [
            " 224 Policy gradient...: 100%|██████████| 10/10 [00:42<00:00,  4.24s/it]\n",
            "Generating molecules...: 100%|██████████| 50/50 [00:08<00:00,  5.74it/s]\n"
          ]
        },
        {
          "name": "stdout",
          "output_type": "stream",
          "text": [
            "Mean value of predictions: 0.8\n",
            "Proportion of valid SMILES: 0.0275\n",
            "Threshold increased to: 1.00\n",
            "225 Training on replay instances...\n"
          ]
        },
        {
          "name": "stderr",
          "output_type": "stream",
          "text": [
            " 225 Policy gradient...: 100%|██████████| 10/10 [00:42<00:00,  4.21s/it]\n",
            "Generating molecules...: 100%|██████████| 50/50 [00:08<00:00,  5.76it/s]\n"
          ]
        },
        {
          "name": "stdout",
          "output_type": "stream",
          "text": [
            "Mean value of predictions: 0.7222222\n",
            "Proportion of valid SMILES: 0.0225\n",
            "Threshold increased to: 1.00\n",
            "226 Training on replay instances...\n"
          ]
        },
        {
          "name": "stderr",
          "output_type": "stream",
          "text": [
            " 226 Policy gradient...: 100%|██████████| 10/10 [00:42<00:00,  4.22s/it]\n",
            "Generating molecules...: 100%|██████████| 50/50 [00:08<00:00,  5.75it/s]\n"
          ]
        },
        {
          "name": "stdout",
          "output_type": "stream",
          "text": [
            "Mean value of predictions: 0.6666667\n",
            "Proportion of valid SMILES: 0.03\n",
            "Threshold increased to: 1.00\n",
            "227 Training on replay instances...\n"
          ]
        },
        {
          "name": "stderr",
          "output_type": "stream",
          "text": [
            " 227 Policy gradient...: 100%|██████████| 10/10 [00:42<00:00,  4.20s/it]\n",
            "Generating molecules...: 100%|██████████| 50/50 [00:08<00:00,  5.69it/s]\n"
          ]
        },
        {
          "name": "stdout",
          "output_type": "stream",
          "text": [
            "Mean value of predictions: 0.62857145\n",
            "Proportion of valid SMILES: 0.02625\n",
            "Threshold increased to: 1.00\n",
            "228 Training on replay instances...\n"
          ]
        },
        {
          "name": "stderr",
          "output_type": "stream",
          "text": [
            " 228 Policy gradient...: 100%|██████████| 10/10 [00:42<00:00,  4.23s/it]\n",
            "Generating molecules...: 100%|██████████| 50/50 [00:08<00:00,  5.77it/s]\n"
          ]
        },
        {
          "name": "stdout",
          "output_type": "stream",
          "text": [
            "Mean value of predictions: 0.74\n",
            "Proportion of valid SMILES: 0.025\n",
            "Threshold increased to: 1.00\n",
            "229 Training on replay instances...\n"
          ]
        },
        {
          "name": "stderr",
          "output_type": "stream",
          "text": [
            " 229 Policy gradient...: 100%|██████████| 10/10 [00:42<00:00,  4.23s/it]\n",
            "Generating molecules...: 100%|██████████| 50/50 [00:08<00:00,  5.77it/s]\n"
          ]
        },
        {
          "name": "stdout",
          "output_type": "stream",
          "text": [
            "Mean value of predictions: 0.6583333\n",
            "Proportion of valid SMILES: 0.03\n",
            "Threshold increased to: 1.00\n",
            "230 Training on replay instances...\n"
          ]
        },
        {
          "name": "stderr",
          "output_type": "stream",
          "text": [
            " 230 Policy gradient...: 100%|██████████| 10/10 [00:41<00:00,  4.19s/it]\n",
            "Generating molecules...: 100%|██████████| 50/50 [00:08<00:00,  5.78it/s]\n"
          ]
        },
        {
          "name": "stdout",
          "output_type": "stream",
          "text": [
            "Mean value of predictions: 0.6583333\n",
            "Proportion of valid SMILES: 0.03\n",
            "Threshold increased to: 1.00\n",
            "231 Training on replay instances...\n"
          ]
        },
        {
          "name": "stderr",
          "output_type": "stream",
          "text": [
            " 231 Policy gradient...: 100%|██████████| 10/10 [00:42<00:00,  4.23s/it]\n",
            "Generating molecules...: 100%|██████████| 50/50 [00:08<00:00,  5.75it/s]\n"
          ]
        },
        {
          "name": "stdout",
          "output_type": "stream",
          "text": [
            "Mean value of predictions: 0.67200005\n",
            "Proportion of valid SMILES: 0.03125\n",
            "Threshold increased to: 1.00\n",
            "232 Training on replay instances...\n"
          ]
        },
        {
          "name": "stderr",
          "output_type": "stream",
          "text": [
            " 232 Policy gradient...: 100%|██████████| 10/10 [00:43<00:00,  4.39s/it]\n",
            "Generating molecules...: 100%|██████████| 50/50 [00:08<00:00,  5.74it/s]\n"
          ]
        },
        {
          "name": "stdout",
          "output_type": "stream",
          "text": [
            "Mean value of predictions: 0.64444447\n",
            "Proportion of valid SMILES: 0.0225\n",
            "Threshold increased to: 1.00\n",
            "233 Training on replay instances...\n"
          ]
        },
        {
          "name": "stderr",
          "output_type": "stream",
          "text": [
            " 233 Policy gradient...: 100%|██████████| 10/10 [00:42<00:00,  4.21s/it]\n",
            "Generating molecules...: 100%|██████████| 50/50 [00:08<00:00,  5.75it/s]\n"
          ]
        },
        {
          "name": "stdout",
          "output_type": "stream",
          "text": [
            "Mean value of predictions: 0.7047619\n",
            "Proportion of valid SMILES: 0.02625\n",
            "Threshold increased to: 1.00\n",
            "234 Training on replay instances...\n"
          ]
        },
        {
          "name": "stderr",
          "output_type": "stream",
          "text": [
            " 234 Policy gradient...: 100%|██████████| 10/10 [00:42<00:00,  4.22s/it]\n",
            "Generating molecules...: 100%|██████████| 50/50 [00:08<00:00,  5.74it/s]\n"
          ]
        },
        {
          "name": "stdout",
          "output_type": "stream",
          "text": [
            "Mean value of predictions: 0.57272726\n",
            "Proportion of valid SMILES: 0.0275\n",
            "Threshold increased to: 1.00\n",
            "235 Training on replay instances...\n"
          ]
        },
        {
          "name": "stderr",
          "output_type": "stream",
          "text": [
            " 235 Policy gradient...: 100%|██████████| 10/10 [00:41<00:00,  4.19s/it]\n",
            "Generating molecules...: 100%|██████████| 50/50 [00:08<00:00,  5.73it/s]\n"
          ]
        },
        {
          "name": "stdout",
          "output_type": "stream",
          "text": [
            "Mean value of predictions: 0.72\n",
            "Proportion of valid SMILES: 0.01875\n",
            "Threshold increased to: 1.00\n",
            "236 Training on replay instances...\n"
          ]
        },
        {
          "name": "stderr",
          "output_type": "stream",
          "text": [
            " 236 Policy gradient...: 100%|██████████| 10/10 [00:41<00:00,  4.17s/it]\n",
            "Generating molecules...: 100%|██████████| 50/50 [00:08<00:00,  5.72it/s]\n"
          ]
        },
        {
          "name": "stdout",
          "output_type": "stream",
          "text": [
            "Mean value of predictions: 0.7777778\n",
            "Proportion of valid SMILES: 0.0225\n",
            "Threshold increased to: 1.00\n",
            "237 Training on replay instances...\n"
          ]
        },
        {
          "name": "stderr",
          "output_type": "stream",
          "text": [
            " 237 Policy gradient...: 100%|██████████| 10/10 [00:42<00:00,  4.22s/it]\n",
            "Generating molecules...: 100%|██████████| 50/50 [00:08<00:00,  5.75it/s]\n"
          ]
        },
        {
          "name": "stdout",
          "output_type": "stream",
          "text": [
            "Mean value of predictions: 0.568\n",
            "Proportion of valid SMILES: 0.03125\n",
            "Threshold increased to: 1.00\n",
            "238 Training on replay instances...\n"
          ]
        },
        {
          "name": "stderr",
          "output_type": "stream",
          "text": [
            " 238 Policy gradient...: 100%|██████████| 10/10 [00:42<00:00,  4.23s/it]\n",
            "Generating molecules...: 100%|██████████| 50/50 [00:08<00:00,  5.78it/s]\n"
          ]
        },
        {
          "name": "stdout",
          "output_type": "stream",
          "text": [
            "Mean value of predictions: 0.672\n",
            "Proportion of valid SMILES: 0.03128911138923655\n",
            "Threshold increased to: 1.00\n",
            "239 Training on replay instances...\n"
          ]
        },
        {
          "name": "stderr",
          "output_type": "stream",
          "text": [
            " 239 Policy gradient...: 100%|██████████| 10/10 [00:41<00:00,  4.19s/it]\n",
            "Generating molecules...: 100%|██████████| 50/50 [00:08<00:00,  5.74it/s]\n"
          ]
        },
        {
          "name": "stdout",
          "output_type": "stream",
          "text": [
            "Mean value of predictions: 0.64\n",
            "Proportion of valid SMILES: 0.025\n",
            "Threshold increased to: 1.00\n",
            "240 Training on replay instances...\n"
          ]
        },
        {
          "name": "stderr",
          "output_type": "stream",
          "text": [
            " 240 Policy gradient...: 100%|██████████| 10/10 [00:42<00:00,  4.22s/it]\n",
            "Generating molecules...: 100%|██████████| 50/50 [00:08<00:00,  5.77it/s]\n"
          ]
        },
        {
          "name": "stdout",
          "output_type": "stream",
          "text": [
            "Mean value of predictions: 0.64\n",
            "Proportion of valid SMILES: 0.025\n",
            "Threshold increased to: 1.00\n",
            "241 Training on replay instances...\n"
          ]
        },
        {
          "name": "stderr",
          "output_type": "stream",
          "text": [
            " 241 Policy gradient...: 100%|██████████| 10/10 [00:44<00:00,  4.46s/it]\n",
            "Generating molecules...: 100%|██████████| 50/50 [00:08<00:00,  5.72it/s]\n"
          ]
        },
        {
          "name": "stdout",
          "output_type": "stream",
          "text": [
            "Mean value of predictions: 0.8375\n",
            "Proportion of valid SMILES: 0.02\n",
            "Threshold increased to: 1.00\n",
            "242 Training on replay instances...\n"
          ]
        },
        {
          "name": "stderr",
          "output_type": "stream",
          "text": [
            " 242 Policy gradient...: 100%|██████████| 10/10 [00:42<00:00,  4.23s/it]\n",
            "Generating molecules...: 100%|██████████| 50/50 [00:08<00:00,  5.78it/s]\n"
          ]
        },
        {
          "name": "stdout",
          "output_type": "stream",
          "text": [
            "Mean value of predictions: 0.69\n",
            "Proportion of valid SMILES: 0.025\n",
            "Threshold increased to: 1.00\n",
            "243 Training on replay instances...\n"
          ]
        },
        {
          "name": "stderr",
          "output_type": "stream",
          "text": [
            " 243 Policy gradient...: 100%|██████████| 10/10 [00:42<00:00,  4.22s/it]\n",
            "Generating molecules...: 100%|██████████| 50/50 [00:08<00:00,  5.76it/s]\n"
          ]
        },
        {
          "name": "stdout",
          "output_type": "stream",
          "text": [
            "Mean value of predictions: 0.7368421\n",
            "Proportion of valid SMILES: 0.02375\n",
            "Threshold increased to: 1.00\n",
            "244 Training on replay instances...\n"
          ]
        },
        {
          "name": "stderr",
          "output_type": "stream",
          "text": [
            " 244 Policy gradient...: 100%|██████████| 10/10 [00:41<00:00,  4.17s/it]\n",
            "Generating molecules...: 100%|██████████| 50/50 [00:08<00:00,  5.78it/s]\n"
          ]
        },
        {
          "name": "stdout",
          "output_type": "stream",
          "text": [
            "Mean value of predictions: 0.81176466\n",
            "Proportion of valid SMILES: 0.02125\n",
            "Threshold increased to: 1.00\n",
            "245 Training on replay instances...\n"
          ]
        },
        {
          "name": "stderr",
          "output_type": "stream",
          "text": [
            " 245 Policy gradient...: 100%|██████████| 10/10 [00:42<00:00,  4.21s/it]\n",
            "Generating molecules...: 100%|██████████| 50/50 [00:08<00:00,  5.73it/s]\n"
          ]
        },
        {
          "name": "stdout",
          "output_type": "stream",
          "text": [
            "Mean value of predictions: 0.71304345\n",
            "Proportion of valid SMILES: 0.02875\n",
            "Threshold increased to: 1.00\n",
            "246 Training on replay instances...\n"
          ]
        },
        {
          "name": "stderr",
          "output_type": "stream",
          "text": [
            " 246 Policy gradient...: 100%|██████████| 10/10 [00:41<00:00,  4.18s/it]\n",
            "Generating molecules...: 100%|██████████| 50/50 [00:08<00:00,  5.73it/s]\n"
          ]
        },
        {
          "name": "stdout",
          "output_type": "stream",
          "text": [
            "Mean value of predictions: 0.74285716\n",
            "Proportion of valid SMILES: 0.02625\n",
            "Threshold increased to: 1.00\n",
            "247 Training on replay instances...\n"
          ]
        },
        {
          "name": "stderr",
          "output_type": "stream",
          "text": [
            " 247 Policy gradient...: 100%|██████████| 10/10 [00:41<00:00,  4.15s/it]\n",
            "Generating molecules...: 100%|██████████| 50/50 [00:08<00:00,  5.77it/s]\n"
          ]
        },
        {
          "name": "stdout",
          "output_type": "stream",
          "text": [
            "Mean value of predictions: 0.62352943\n",
            "Proportion of valid SMILES: 0.02125\n",
            "Threshold increased to: 1.00\n",
            "248 Training on replay instances...\n"
          ]
        },
        {
          "name": "stderr",
          "output_type": "stream",
          "text": [
            " 248 Policy gradient...: 100%|██████████| 10/10 [00:42<00:00,  4.21s/it]\n",
            "Generating molecules...: 100%|██████████| 50/50 [00:08<00:00,  5.79it/s]\n"
          ]
        },
        {
          "name": "stdout",
          "output_type": "stream",
          "text": [
            "Mean value of predictions: 0.66315794\n",
            "Proportion of valid SMILES: 0.02375\n",
            "Threshold increased to: 1.00\n",
            "249 Training on replay instances...\n"
          ]
        },
        {
          "name": "stderr",
          "output_type": "stream",
          "text": [
            " 249 Policy gradient...: 100%|██████████| 10/10 [00:41<00:00,  4.19s/it]\n",
            "Generating molecules...: 100%|██████████| 50/50 [00:08<00:00,  5.79it/s]\n"
          ]
        },
        {
          "name": "stdout",
          "output_type": "stream",
          "text": [
            "Mean value of predictions: 0.7125\n",
            "Proportion of valid SMILES: 0.02\n",
            "Threshold increased to: 1.00\n",
            "250 Training on replay instances...\n"
          ]
        },
        {
          "name": "stderr",
          "output_type": "stream",
          "text": [
            " 250 Policy gradient...: 100%|██████████| 10/10 [00:41<00:00,  4.17s/it]\n",
            "Generating molecules...: 100%|██████████| 50/50 [00:08<00:00,  5.71it/s]\n"
          ]
        },
        {
          "name": "stdout",
          "output_type": "stream",
          "text": [
            "Mean value of predictions: 0.6857143\n",
            "Proportion of valid SMILES: 0.02625\n",
            "Threshold increased to: 1.00\n",
            "251 Training on replay instances...\n"
          ]
        },
        {
          "name": "stderr",
          "output_type": "stream",
          "text": [
            " 251 Policy gradient...: 100%|██████████| 10/10 [00:44<00:00,  4.45s/it]\n",
            "Generating molecules...: 100%|██████████| 50/50 [00:08<00:00,  5.69it/s]\n"
          ]
        },
        {
          "name": "stdout",
          "output_type": "stream",
          "text": [
            "Mean value of predictions: 0.65000004\n",
            "Proportion of valid SMILES: 0.015\n",
            "Threshold increased to: 1.00\n",
            "252 Training on replay instances...\n"
          ]
        },
        {
          "name": "stderr",
          "output_type": "stream",
          "text": [
            " 252 Policy gradient...: 100%|██████████| 10/10 [00:42<00:00,  4.21s/it]\n",
            "Generating molecules...: 100%|██████████| 50/50 [00:08<00:00,  5.76it/s]\n"
          ]
        },
        {
          "name": "stdout",
          "output_type": "stream",
          "text": [
            "Mean value of predictions: 0.68888885\n",
            "Proportion of valid SMILES: 0.0225\n",
            "Threshold increased to: 1.00\n",
            "253 Training on replay instances...\n"
          ]
        },
        {
          "name": "stderr",
          "output_type": "stream",
          "text": [
            " 253 Policy gradient...: 100%|██████████| 10/10 [00:41<00:00,  4.20s/it]\n",
            "Generating molecules...: 100%|██████████| 50/50 [00:08<00:00,  5.73it/s]\n"
          ]
        },
        {
          "name": "stdout",
          "output_type": "stream",
          "text": [
            "Mean value of predictions: 0.6761905\n",
            "Proportion of valid SMILES: 0.02625\n",
            "Threshold increased to: 1.00\n",
            "254 Training on replay instances...\n"
          ]
        },
        {
          "name": "stderr",
          "output_type": "stream",
          "text": [
            " 254 Policy gradient...: 100%|██████████| 10/10 [00:41<00:00,  4.19s/it]\n",
            "Generating molecules...: 100%|██████████| 50/50 [00:08<00:00,  5.74it/s]\n"
          ]
        },
        {
          "name": "stdout",
          "output_type": "stream",
          "text": [
            "Mean value of predictions: 0.876923\n",
            "Proportion of valid SMILES: 0.01625\n",
            "Threshold increased to: 1.00\n",
            "255 Training on replay instances...\n"
          ]
        },
        {
          "name": "stderr",
          "output_type": "stream",
          "text": [
            " 255 Policy gradient...: 100%|██████████| 10/10 [00:42<00:00,  4.22s/it]\n",
            "Generating molecules...: 100%|██████████| 50/50 [00:08<00:00,  5.77it/s]\n"
          ]
        },
        {
          "name": "stdout",
          "output_type": "stream",
          "text": [
            "Mean value of predictions: 0.58947366\n",
            "Proportion of valid SMILES: 0.02375\n",
            "Threshold increased to: 1.00\n",
            "256 Training on replay instances...\n"
          ]
        },
        {
          "name": "stderr",
          "output_type": "stream",
          "text": [
            " 256 Policy gradient...: 100%|██████████| 10/10 [00:42<00:00,  4.23s/it]\n",
            "Generating molecules...: 100%|██████████| 50/50 [00:08<00:00,  5.69it/s]\n"
          ]
        },
        {
          "name": "stdout",
          "output_type": "stream",
          "text": [
            "Mean value of predictions: 0.5466667\n",
            "Proportion of valid SMILES: 0.0375\n",
            "Threshold increased to: 1.00\n",
            "257 Training on replay instances...\n"
          ]
        },
        {
          "name": "stderr",
          "output_type": "stream",
          "text": [
            " 257 Policy gradient...: 100%|██████████| 10/10 [00:42<00:00,  4.20s/it]\n",
            "Generating molecules...: 100%|██████████| 50/50 [00:08<00:00,  5.77it/s]\n"
          ]
        },
        {
          "name": "stdout",
          "output_type": "stream",
          "text": [
            "Mean value of predictions: 0.8333333\n",
            "Proportion of valid SMILES: 0.0225\n",
            "Threshold increased to: 1.00\n",
            "258 Training on replay instances...\n"
          ]
        },
        {
          "name": "stderr",
          "output_type": "stream",
          "text": [
            " 258 Policy gradient...: 100%|██████████| 10/10 [00:41<00:00,  4.19s/it]\n",
            "Generating molecules...: 100%|██████████| 50/50 [00:08<00:00,  5.75it/s]\n"
          ]
        },
        {
          "name": "stdout",
          "output_type": "stream",
          "text": [
            "Mean value of predictions: 0.76666665\n",
            "Proportion of valid SMILES: 0.0225\n",
            "Threshold increased to: 1.00\n",
            "259 Training on replay instances...\n"
          ]
        },
        {
          "name": "stderr",
          "output_type": "stream",
          "text": [
            " 259 Policy gradient...: 100%|██████████| 10/10 [00:42<00:00,  4.22s/it]\n",
            "Generating molecules...: 100%|██████████| 50/50 [00:08<00:00,  5.73it/s]\n"
          ]
        },
        {
          "name": "stdout",
          "output_type": "stream",
          "text": [
            "Mean value of predictions: 0.6636364\n",
            "Proportion of valid SMILES: 0.0275\n",
            "Threshold increased to: 1.00\n",
            "260 Training on replay instances...\n"
          ]
        },
        {
          "name": "stderr",
          "output_type": "stream",
          "text": [
            " 260 Policy gradient...: 100%|██████████| 10/10 [00:44<00:00,  4.46s/it]\n",
            "Generating molecules...: 100%|██████████| 50/50 [00:08<00:00,  5.71it/s]\n"
          ]
        },
        {
          "name": "stdout",
          "output_type": "stream",
          "text": [
            "Mean value of predictions: 0.70666665\n",
            "Proportion of valid SMILES: 0.01875\n",
            "Threshold increased to: 1.00\n",
            "261 Training on replay instances...\n"
          ]
        },
        {
          "name": "stderr",
          "output_type": "stream",
          "text": [
            " 261 Policy gradient...: 100%|██████████| 10/10 [00:42<00:00,  4.20s/it]\n",
            "Generating molecules...: 100%|██████████| 50/50 [00:08<00:00,  5.74it/s]\n"
          ]
        },
        {
          "name": "stdout",
          "output_type": "stream",
          "text": [
            "Mean value of predictions: 0.70000005\n",
            "Proportion of valid SMILES: 0.02\n",
            "Threshold increased to: 1.00\n",
            "262 Training on replay instances...\n"
          ]
        },
        {
          "name": "stderr",
          "output_type": "stream",
          "text": [
            " 262 Policy gradient...: 100%|██████████| 10/10 [00:42<00:00,  4.20s/it]\n",
            "Generating molecules...: 100%|██████████| 50/50 [00:08<00:00,  5.76it/s]\n"
          ]
        },
        {
          "name": "stdout",
          "output_type": "stream",
          "text": [
            "Mean value of predictions: 0.93333334\n",
            "Proportion of valid SMILES: 0.01875\n",
            "Threshold increased to: 1.00\n",
            "263 Training on replay instances...\n"
          ]
        },
        {
          "name": "stderr",
          "output_type": "stream",
          "text": [
            " 263 Policy gradient...: 100%|██████████| 10/10 [00:41<00:00,  4.19s/it]\n",
            "Generating molecules...: 100%|██████████| 50/50 [00:08<00:00,  5.72it/s]\n"
          ]
        },
        {
          "name": "stdout",
          "output_type": "stream",
          "text": [
            "Mean value of predictions: 0.8\n",
            "Proportion of valid SMILES: 0.01875\n",
            "Threshold increased to: 1.00\n",
            "264 Training on replay instances...\n"
          ]
        },
        {
          "name": "stderr",
          "output_type": "stream",
          "text": [
            " 264 Policy gradient...: 100%|██████████| 10/10 [00:42<00:00,  4.21s/it]\n",
            "Generating molecules...: 100%|██████████| 50/50 [00:08<00:00,  5.74it/s]\n"
          ]
        },
        {
          "name": "stdout",
          "output_type": "stream",
          "text": [
            "Mean value of predictions: 0.7428571\n",
            "Proportion of valid SMILES: 0.0175\n",
            "Threshold increased to: 1.00\n",
            "265 Training on replay instances...\n"
          ]
        },
        {
          "name": "stderr",
          "output_type": "stream",
          "text": [
            " 265 Policy gradient...: 100%|██████████| 10/10 [00:42<00:00,  4.21s/it]\n",
            "Generating molecules...: 100%|██████████| 50/50 [00:08<00:00,  5.70it/s]\n"
          ]
        },
        {
          "name": "stdout",
          "output_type": "stream",
          "text": [
            "Mean value of predictions: 0.7647059\n",
            "Proportion of valid SMILES: 0.02125\n",
            "Threshold increased to: 1.00\n",
            "266 Training on replay instances...\n"
          ]
        },
        {
          "name": "stderr",
          "output_type": "stream",
          "text": [
            " 266 Policy gradient...: 100%|██████████| 10/10 [00:41<00:00,  4.20s/it]\n",
            "Generating molecules...: 100%|██████████| 50/50 [00:08<00:00,  5.74it/s]\n"
          ]
        },
        {
          "name": "stdout",
          "output_type": "stream",
          "text": [
            "Mean value of predictions: 0.6181818\n",
            "Proportion of valid SMILES: 0.0275\n",
            "Threshold increased to: 1.00\n",
            "267 Training on replay instances...\n"
          ]
        },
        {
          "name": "stderr",
          "output_type": "stream",
          "text": [
            " 267 Policy gradient...: 100%|██████████| 10/10 [00:42<00:00,  4.20s/it]\n",
            "Generating molecules...: 100%|██████████| 50/50 [00:08<00:00,  5.74it/s]\n"
          ]
        },
        {
          "name": "stdout",
          "output_type": "stream",
          "text": [
            "Mean value of predictions: 0.6588235\n",
            "Proportion of valid SMILES: 0.02125\n",
            "Threshold increased to: 1.00\n",
            "268 Training on replay instances...\n"
          ]
        },
        {
          "name": "stderr",
          "output_type": "stream",
          "text": [
            " 268 Policy gradient...: 100%|██████████| 10/10 [00:41<00:00,  4.19s/it]\n",
            "Generating molecules...: 100%|██████████| 50/50 [00:08<00:00,  5.81it/s]\n"
          ]
        },
        {
          "name": "stdout",
          "output_type": "stream",
          "text": [
            "Mean value of predictions: 0.75555557\n",
            "Proportion of valid SMILES: 0.0225\n",
            "Threshold increased to: 1.00\n",
            "269 Training on replay instances...\n"
          ]
        },
        {
          "name": "stderr",
          "output_type": "stream",
          "text": [
            " 269 Policy gradient...: 100%|██████████| 10/10 [00:42<00:00,  4.22s/it]\n",
            "Generating molecules...: 100%|██████████| 50/50 [00:08<00:00,  5.76it/s]\n"
          ]
        },
        {
          "name": "stdout",
          "output_type": "stream",
          "text": [
            "Mean value of predictions: 0.7647059\n",
            "Proportion of valid SMILES: 0.02125\n",
            "Threshold increased to: 1.00\n",
            "270 Training on replay instances...\n"
          ]
        },
        {
          "name": "stderr",
          "output_type": "stream",
          "text": [
            " 270 Policy gradient...: 100%|██████████| 10/10 [00:42<00:00,  4.21s/it]\n",
            "Generating molecules...: 100%|██████████| 50/50 [00:11<00:00,  4.52it/s]\n"
          ]
        },
        {
          "name": "stdout",
          "output_type": "stream",
          "text": [
            "Mean value of predictions: 0.78571427\n",
            "Proportion of valid SMILES: 0.0175\n",
            "Threshold increased to: 1.00\n",
            "271 Training on replay instances...\n"
          ]
        },
        {
          "name": "stderr",
          "output_type": "stream",
          "text": [
            " 271 Policy gradient...: 100%|██████████| 10/10 [00:42<00:00,  4.23s/it]\n",
            "Generating molecules...: 100%|██████████| 50/50 [00:08<00:00,  5.72it/s]\n"
          ]
        },
        {
          "name": "stdout",
          "output_type": "stream",
          "text": [
            "Mean value of predictions: 0.74545455\n",
            "Proportion of valid SMILES: 0.01375\n",
            "Threshold increased to: 1.00\n",
            "272 Training on replay instances...\n"
          ]
        },
        {
          "name": "stderr",
          "output_type": "stream",
          "text": [
            " 272 Policy gradient...: 100%|██████████| 10/10 [00:42<00:00,  4.21s/it]\n",
            "Generating molecules...: 100%|██████████| 50/50 [00:08<00:00,  5.71it/s]\n"
          ]
        },
        {
          "name": "stdout",
          "output_type": "stream",
          "text": [
            "Mean value of predictions: 0.78095233\n",
            "Proportion of valid SMILES: 0.02625\n",
            "Threshold increased to: 1.00\n",
            "273 Training on replay instances...\n"
          ]
        },
        {
          "name": "stderr",
          "output_type": "stream",
          "text": [
            " 273 Policy gradient...: 100%|██████████| 10/10 [00:42<00:00,  4.25s/it]\n",
            "Generating molecules...: 100%|██████████| 50/50 [00:08<00:00,  5.76it/s]\n"
          ]
        },
        {
          "name": "stdout",
          "output_type": "stream",
          "text": [
            "Mean value of predictions: 0.92\n",
            "Proportion of valid SMILES: 0.01875\n",
            "Threshold increased to: 1.00\n",
            "274 Training on replay instances...\n"
          ]
        },
        {
          "name": "stderr",
          "output_type": "stream",
          "text": [
            " 274 Policy gradient...: 100%|██████████| 10/10 [00:42<00:00,  4.21s/it]\n",
            "Generating molecules...: 100%|██████████| 50/50 [00:08<00:00,  5.71it/s]\n"
          ]
        },
        {
          "name": "stdout",
          "output_type": "stream",
          "text": [
            "Mean value of predictions: 0.7411765\n",
            "Proportion of valid SMILES: 0.02125\n",
            "Threshold increased to: 1.00\n",
            "275 Training on replay instances...\n"
          ]
        },
        {
          "name": "stderr",
          "output_type": "stream",
          "text": [
            " 275 Policy gradient...: 100%|██████████| 10/10 [00:41<00:00,  4.19s/it]\n",
            "Generating molecules...: 100%|██████████| 50/50 [00:08<00:00,  5.71it/s]\n"
          ]
        },
        {
          "name": "stdout",
          "output_type": "stream",
          "text": [
            "Mean value of predictions: 0.72380954\n",
            "Proportion of valid SMILES: 0.02625\n",
            "Threshold increased to: 1.00\n",
            "276 Training on replay instances...\n"
          ]
        },
        {
          "name": "stderr",
          "output_type": "stream",
          "text": [
            " 276 Policy gradient...: 100%|██████████| 10/10 [00:42<00:00,  4.20s/it]\n",
            "Generating molecules...: 100%|██████████| 50/50 [00:08<00:00,  5.72it/s]\n"
          ]
        },
        {
          "name": "stdout",
          "output_type": "stream",
          "text": [
            "Mean value of predictions: 0.7714286\n",
            "Proportion of valid SMILES: 0.0175\n",
            "Threshold increased to: 1.00\n",
            "277 Training on replay instances...\n"
          ]
        },
        {
          "name": "stderr",
          "output_type": "stream",
          "text": [
            " 277 Policy gradient...: 100%|██████████| 10/10 [00:41<00:00,  4.19s/it]\n",
            "Generating molecules...: 100%|██████████| 50/50 [00:08<00:00,  5.72it/s]\n"
          ]
        },
        {
          "name": "stdout",
          "output_type": "stream",
          "text": [
            "Mean value of predictions: 0.68\n",
            "Proportion of valid SMILES: 0.01875\n",
            "Threshold increased to: 1.00\n",
            "278 Training on replay instances...\n"
          ]
        },
        {
          "name": "stderr",
          "output_type": "stream",
          "text": [
            " 278 Policy gradient...: 100%|██████████| 10/10 [00:41<00:00,  4.19s/it]\n",
            "Generating molecules...: 100%|██████████| 50/50 [00:08<00:00,  5.79it/s]\n"
          ]
        },
        {
          "name": "stdout",
          "output_type": "stream",
          "text": [
            "Mean value of predictions: 0.58181816\n",
            "Proportion of valid SMILES: 0.0275\n",
            "Threshold increased to: 1.00\n",
            "279 Training on replay instances...\n"
          ]
        },
        {
          "name": "stderr",
          "output_type": "stream",
          "text": [
            " 279 Policy gradient...: 100%|██████████| 10/10 [00:42<00:00,  4.21s/it]\n",
            "Generating molecules...: 100%|██████████| 50/50 [00:08<00:00,  5.77it/s]\n"
          ]
        },
        {
          "name": "stdout",
          "output_type": "stream",
          "text": [
            "Mean value of predictions: 0.6666667\n",
            "Proportion of valid SMILES: 0.02625\n",
            "Threshold increased to: 1.00\n",
            "280 Training on replay instances...\n"
          ]
        },
        {
          "name": "stderr",
          "output_type": "stream",
          "text": [
            " 280 Policy gradient...: 100%|██████████| 10/10 [00:42<00:00,  4.24s/it]\n",
            "Generating molecules...: 100%|██████████| 50/50 [00:08<00:00,  5.73it/s]\n"
          ]
        },
        {
          "name": "stdout",
          "output_type": "stream",
          "text": [
            "Mean value of predictions: 0.6090909\n",
            "Proportion of valid SMILES: 0.0275\n",
            "Threshold increased to: 1.00\n",
            "281 Training on replay instances...\n"
          ]
        },
        {
          "name": "stderr",
          "output_type": "stream",
          "text": [
            " 281 Policy gradient...: 100%|██████████| 10/10 [00:44<00:00,  4.46s/it]\n",
            "Generating molecules...: 100%|██████████| 50/50 [00:08<00:00,  5.71it/s]\n"
          ]
        },
        {
          "name": "stdout",
          "output_type": "stream",
          "text": [
            "Mean value of predictions: 0.7125\n",
            "Proportion of valid SMILES: 0.02\n",
            "Threshold increased to: 1.00\n",
            "282 Training on replay instances...\n"
          ]
        },
        {
          "name": "stderr",
          "output_type": "stream",
          "text": [
            " 282 Policy gradient...: 100%|██████████| 10/10 [00:42<00:00,  4.21s/it]\n",
            "Generating molecules...: 100%|██████████| 50/50 [00:08<00:00,  5.75it/s]\n"
          ]
        },
        {
          "name": "stdout",
          "output_type": "stream",
          "text": [
            "Mean value of predictions: 0.78571427\n",
            "Proportion of valid SMILES: 0.0175\n",
            "Threshold increased to: 1.00\n",
            "283 Training on replay instances...\n"
          ]
        },
        {
          "name": "stderr",
          "output_type": "stream",
          "text": [
            " 283 Policy gradient...: 100%|██████████| 10/10 [00:41<00:00,  4.18s/it]\n",
            "Generating molecules...: 100%|██████████| 50/50 [00:08<00:00,  5.76it/s]\n"
          ]
        },
        {
          "name": "stdout",
          "output_type": "stream",
          "text": [
            "Mean value of predictions: 0.75555557\n",
            "Proportion of valid SMILES: 0.0225\n",
            "Threshold increased to: 1.00\n",
            "284 Training on replay instances...\n"
          ]
        },
        {
          "name": "stderr",
          "output_type": "stream",
          "text": [
            " 284 Policy gradient...: 100%|██████████| 10/10 [00:41<00:00,  4.17s/it]\n",
            "Generating molecules...: 100%|██████████| 50/50 [00:08<00:00,  5.74it/s]\n"
          ]
        },
        {
          "name": "stdout",
          "output_type": "stream",
          "text": [
            "Mean value of predictions: 0.7714286\n",
            "Proportion of valid SMILES: 0.0175\n",
            "Threshold increased to: 1.00\n",
            "285 Training on replay instances...\n"
          ]
        },
        {
          "name": "stderr",
          "output_type": "stream",
          "text": [
            " 285 Policy gradient...: 100%|██████████| 10/10 [00:41<00:00,  4.18s/it]\n",
            "Generating molecules...: 100%|██████████| 50/50 [00:08<00:00,  5.70it/s]\n"
          ]
        },
        {
          "name": "stdout",
          "output_type": "stream",
          "text": [
            "Mean value of predictions: 0.8666667\n",
            "Proportion of valid SMILES: 0.01875\n",
            "Threshold increased to: 1.00\n",
            "286 Training on replay instances...\n"
          ]
        },
        {
          "name": "stderr",
          "output_type": "stream",
          "text": [
            " 286 Policy gradient...: 100%|██████████| 10/10 [00:41<00:00,  4.18s/it]\n",
            "Generating molecules...: 100%|██████████| 50/50 [00:08<00:00,  5.74it/s]\n"
          ]
        },
        {
          "name": "stdout",
          "output_type": "stream",
          "text": [
            "Mean value of predictions: 0.73846155\n",
            "Proportion of valid SMILES: 0.01625\n",
            "Threshold increased to: 1.00\n",
            "287 Training on replay instances...\n"
          ]
        },
        {
          "name": "stderr",
          "output_type": "stream",
          "text": [
            " 287 Policy gradient...: 100%|██████████| 10/10 [00:41<00:00,  4.20s/it]\n",
            "Generating molecules...: 100%|██████████| 50/50 [00:08<00:00,  5.69it/s]\n"
          ]
        },
        {
          "name": "stdout",
          "output_type": "stream",
          "text": [
            "Mean value of predictions: 0.875\n",
            "Proportion of valid SMILES: 0.01\n",
            "Threshold increased to: 1.00\n",
            "288 Training on replay instances...\n"
          ]
        },
        {
          "name": "stderr",
          "output_type": "stream",
          "text": [
            " 288 Policy gradient...: 100%|██████████| 10/10 [00:41<00:00,  4.19s/it]\n",
            "Generating molecules...: 100%|██████████| 50/50 [00:08<00:00,  5.74it/s]\n"
          ]
        },
        {
          "name": "stdout",
          "output_type": "stream",
          "text": [
            "Mean value of predictions: 0.9818182\n",
            "Proportion of valid SMILES: 0.01375\n",
            "Threshold increased to: 1.00\n",
            "289 Training on replay instances...\n"
          ]
        },
        {
          "name": "stderr",
          "output_type": "stream",
          "text": [
            " 289 Policy gradient...: 100%|██████████| 10/10 [00:42<00:00,  4.23s/it]\n",
            "Generating molecules...: 100%|██████████| 50/50 [00:08<00:00,  5.79it/s]\n"
          ]
        },
        {
          "name": "stdout",
          "output_type": "stream",
          "text": [
            "Mean value of predictions: 0.87272733\n",
            "Proportion of valid SMILES: 0.01375\n",
            "Threshold increased to: 1.00\n",
            "290 Training on replay instances...\n"
          ]
        },
        {
          "name": "stderr",
          "output_type": "stream",
          "text": [
            " 290 Policy gradient...: 100%|██████████| 10/10 [00:42<00:00,  4.23s/it]\n",
            "Generating molecules...: 100%|██████████| 50/50 [00:08<00:00,  5.73it/s]\n"
          ]
        },
        {
          "name": "stdout",
          "output_type": "stream",
          "text": [
            "Mean value of predictions: 0.68\n",
            "Proportion of valid SMILES: 0.025\n",
            "Threshold increased to: 1.00\n",
            "291 Training on replay instances...\n"
          ]
        },
        {
          "name": "stderr",
          "output_type": "stream",
          "text": [
            " 291 Policy gradient...: 100%|██████████| 10/10 [00:42<00:00,  4.24s/it]\n",
            "Generating molecules...: 100%|██████████| 50/50 [00:08<00:00,  5.74it/s]\n"
          ]
        },
        {
          "name": "stdout",
          "output_type": "stream",
          "text": [
            "Mean value of predictions: 0.70000005\n",
            "Proportion of valid SMILES: 0.0225\n",
            "Threshold increased to: 1.00\n",
            "292 Training on replay instances...\n"
          ]
        },
        {
          "name": "stderr",
          "output_type": "stream",
          "text": [
            " 292 Policy gradient...: 100%|██████████| 10/10 [00:45<00:00,  4.50s/it]\n",
            "Generating molecules...: 100%|██████████| 50/50 [00:08<00:00,  5.70it/s]\n"
          ]
        },
        {
          "name": "stdout",
          "output_type": "stream",
          "text": [
            "Mean value of predictions: 0.7\n",
            "Proportion of valid SMILES: 0.0175\n",
            "Threshold increased to: 1.00\n",
            "293 Training on replay instances...\n"
          ]
        },
        {
          "name": "stderr",
          "output_type": "stream",
          "text": [
            " 293 Policy gradient...: 100%|██████████| 10/10 [00:42<00:00,  4.23s/it]\n",
            "Generating molecules...: 100%|██████████| 50/50 [00:08<00:00,  5.69it/s]\n"
          ]
        },
        {
          "name": "stdout",
          "output_type": "stream",
          "text": [
            "Mean value of predictions: 0.6952381\n",
            "Proportion of valid SMILES: 0.02625\n",
            "Threshold increased to: 1.00\n",
            "294 Training on replay instances...\n"
          ]
        },
        {
          "name": "stderr",
          "output_type": "stream",
          "text": [
            " 294 Policy gradient...: 100%|██████████| 10/10 [00:42<00:00,  4.21s/it]\n",
            "Generating molecules...: 100%|██████████| 50/50 [00:08<00:00,  5.72it/s]\n"
          ]
        },
        {
          "name": "stdout",
          "output_type": "stream",
          "text": [
            "Mean value of predictions: 0.64285713\n",
            "Proportion of valid SMILES: 0.0175\n",
            "Threshold increased to: 1.00\n",
            "295 Training on replay instances...\n"
          ]
        },
        {
          "name": "stderr",
          "output_type": "stream",
          "text": [
            " 295 Policy gradient...: 100%|██████████| 10/10 [00:42<00:00,  4.24s/it]\n",
            "Generating molecules...: 100%|██████████| 50/50 [00:08<00:00,  5.68it/s]\n"
          ]
        },
        {
          "name": "stdout",
          "output_type": "stream",
          "text": [
            "Mean value of predictions: 0.67777777\n",
            "Proportion of valid SMILES: 0.0225\n",
            "Threshold increased to: 1.00\n",
            "296 Training on replay instances...\n"
          ]
        },
        {
          "name": "stderr",
          "output_type": "stream",
          "text": [
            " 296 Policy gradient...: 100%|██████████| 10/10 [00:42<00:00,  4.21s/it]\n",
            "Generating molecules...: 100%|██████████| 50/50 [00:08<00:00,  5.74it/s]\n"
          ]
        },
        {
          "name": "stdout",
          "output_type": "stream",
          "text": [
            "Mean value of predictions: 0.8352941\n",
            "Proportion of valid SMILES: 0.02125\n",
            "Threshold increased to: 1.00\n",
            "297 Training on replay instances...\n"
          ]
        },
        {
          "name": "stderr",
          "output_type": "stream",
          "text": [
            " 297 Policy gradient...: 100%|██████████| 10/10 [00:42<00:00,  4.22s/it]\n",
            "Generating molecules...: 100%|██████████| 50/50 [00:08<00:00,  5.75it/s]\n"
          ]
        },
        {
          "name": "stdout",
          "output_type": "stream",
          "text": [
            "Mean value of predictions: 0.768421\n",
            "Proportion of valid SMILES: 0.02375\n",
            "Threshold increased to: 1.00\n",
            "298 Training on replay instances...\n"
          ]
        },
        {
          "name": "stderr",
          "output_type": "stream",
          "text": [
            " 298 Policy gradient...: 100%|██████████| 10/10 [00:42<00:00,  4.23s/it]\n",
            "Generating molecules...: 100%|██████████| 50/50 [00:08<00:00,  5.78it/s]\n"
          ]
        },
        {
          "name": "stdout",
          "output_type": "stream",
          "text": [
            "Mean value of predictions: 0.8\n",
            "Proportion of valid SMILES: 0.015\n",
            "Threshold increased to: 1.00\n",
            "299 Training on replay instances...\n"
          ]
        },
        {
          "name": "stderr",
          "output_type": "stream",
          "text": [
            " 299 Policy gradient...:  90%|█████████ | 9/10 [00:37<00:04,  4.20s/it]"
          ]
        }
      ],
      "source": [
        "import os\n",
        "import sys\n",
        "import torch\n",
        "import numpy as np\n",
        "import pandas as pd\n",
        "import matplotlib.pyplot as plt\n",
        "from tqdm import tqdm, trange\n",
        "from rdkit import Chem, DataStructs\n",
        "from sklearn.ensemble import RandomForestClassifier as RFC\n",
        "from utils import canonical_smiles, get_fp\n",
        "from stackRNN import StackAugmentedRNN\n",
        "from data import GeneratorData\n",
        "from predictor import VanillaQSAR\n",
        "from reinforcement import Reinforcement\n",
        "import time\n",
        "import contextlib\n",
        "from rdkit import RDLogger\n",
        "\n",
        "# Suppress RDKit warnings and errors\n",
        "RDLogger.DisableLog('rdApp.*')\n",
        "\n",
        "# A function to suppress stderr (error messages)\n",
        "@contextlib.contextmanager\n",
        "def suppress_stderr():\n",
        "    # Redirect stderr to null\n",
        "    with open(os.devnull, 'w') as devnull:\n",
        "        old_stderr = sys.stderr\n",
        "        sys.stderr = devnull\n",
        "        try:\n",
        "            yield\n",
        "        finally:\n",
        "            sys.stderr = old_stderr\n",
        "\n",
        "# Modify the function where the SMILES processing happens\n",
        "def estimate_and_update(generator, predictor, n_to_generate, threshold=None, batch_size=16,\n",
        "                        plot_counts=False, plot=False, return_metrics=False, **kwargs):\n",
        "    generated = []\n",
        "    pbar = tqdm(range(n_to_generate))\n",
        "    for i in pbar:\n",
        "        pbar.set_description(\"Generating molecules...\")\n",
        "        with suppress_stderr():  # Suppress error messages during SMILES generation\n",
        "            generated += generator.evaluate(gen_data, predict_len=120, batch_size=batch_size)\n",
        "\n",
        "    with suppress_stderr():  # Suppress error messages during canonicalization\n",
        "        sanitized = canonical_smiles(generated, sanitize=False, throw_warning=False)[:-1]\n",
        "    unique_smiles, counts = np.unique(sanitized, return_counts=True)\n",
        "    unique_smiles, counts = list(unique_smiles)[1:], counts[1:]\n",
        "\n",
        "    smiles, prediction, nan_smiles = predictor.predict(unique_smiles, get_features=get_fp)\n",
        "\n",
        "    if plot_counts:\n",
        "        if plot:\n",
        "            plt.hist(counts)\n",
        "            plt.gca().set_yscale('log')\n",
        "            plt.title('Distribution of counts of generated smiles')\n",
        "            plt.xlabel('Counts observed')\n",
        "            plt.show()\n",
        "        max_counts = max(counts)\n",
        "        if max_counts > 1:\n",
        "            print('Trajectories with max counts:')\n",
        "            for i in np.where(counts == max_counts)[0]:\n",
        "                print('%d\\t%s' % (counts[i], unique_smiles[i]))\n",
        "\n",
        "    with suppress_stderr():  # Suppress error messages during prediction\n",
        "        plot_hist(prediction, len(generated), threshold, plot=plot)\n",
        "\n",
        "    valid_fraction = len(prediction) / len(generated)\n",
        "    active_fraction = np.mean(prediction >= threshold)\n",
        "    metrics = {'valid_fraction': valid_fraction,\n",
        "               'active_fraction': active_fraction}\n",
        "\n",
        "    if plot_counts:\n",
        "        metrics['max_counts'] = max_counts\n",
        "    if return_metrics:\n",
        "        return smiles, prediction, metrics\n",
        "    else:\n",
        "        return smiles, prediction\n",
        "\n",
        "\n",
        "def plot_hist(prediction, n_to_generate, threshold=None, plot=True):\n",
        "    print(\"Mean value of predictions:\", prediction.mean())\n",
        "    print(\"Proportion of valid SMILES:\", len(prediction)/n_to_generate)\n",
        "    if plot:\n",
        "        plt.hist(prediction, bins=20, edgecolor='black')\n",
        "        if threshold is not None:\n",
        "            plt.axvline(x=threshold, color=\"red\")\n",
        "        plt.xlabel('Predicted pIC50')\n",
        "        plt.title('Distribution of predicted pIC50 for generated molecules')\n",
        "        plt.show()\n",
        "\n",
        "def update_threshold(cur_threshold, prediction, proportion=0.15, step=0.05):\n",
        "    if (prediction >= cur_threshold).mean() >= proportion:\n",
        "        new_threshold = min(cur_threshold + step, 1.0)\n",
        "        print(f\"Threshold increased to: {new_threshold:.2f}\")\n",
        "        return new_threshold\n",
        "    else:\n",
        "        return cur_threshold\n",
        "\n",
        "def simple_moving_average(prev_values, new_value, ma_window_size=10):\n",
        "    ma_value = sum(prev_values[-(ma_window_size-1):]) + new_value\n",
        "    ma_value = ma_value / (len(prev_values[-(ma_window_size-1):]) + 1.)\n",
        "    return ma_value\n",
        "\n",
        "def main(n_iterations=400, n_policy=10, n_policy_replay=15, batch_size=16, n_fine_tune=None,\n",
        "         seed=None, replay_data_path='/content/rl_experiments/data/gen_actives.smi',\n",
        "         primed_path='/content/rl_experiments/checkpoints/generator/checkpoint_batch_training',\n",
        "         save_path=None):\n",
        "\n",
        "    if n_fine_tune is None:\n",
        "        n_fine_tune = n_iterations\n",
        "\n",
        "    if seed is not None:\n",
        "        np.random.seed(seed)\n",
        "        torch.manual_seed(seed)\n",
        "\n",
        "    gen_data_path = '/content/rl_experiments/data/chembl_22_clean_1576904_sorted_std_final.smi'\n",
        "    tokens = [' ', '<', '>', '#', '%', ')', '(', '+', '-', '/', '.', '1', '0', '3', '2', '5', '4',\n",
        "              '7', '6', '9', '8', '=', 'a', '@', 'C', 'B', 'F', 'I', 'H', 'O', 'N', 'P', 'S', '[', ']',\n",
        "              '\\\\', 'c', 'e', 'i', 'l', 'o', 'n', 'p', 's', 'r']\n",
        "    global gen_data\n",
        "    gen_data = GeneratorData(gen_data_path, delimiter='\\t',\n",
        "                             cols_to_read=[0], keep_header=True, tokens=tokens)\n",
        "\n",
        "    hidden_size = 1500\n",
        "    stack_width = 1500\n",
        "    stack_depth = 200\n",
        "    layer_type = 'GRU'\n",
        "    optimizer = torch.optim.SGD\n",
        "    lr = 0.0002\n",
        "    generator = StackAugmentedRNN(input_size=gen_data.n_characters, hidden_size=hidden_size,\n",
        "                                  output_size=gen_data.n_characters, layer_type=layer_type,\n",
        "                                  n_layers=1, is_bidirectional=False, has_stack=True,\n",
        "                                  stack_width=stack_width, stack_depth=stack_depth,\n",
        "                                  use_cuda=torch.cuda.is_available(), optimizer_instance=optimizer, lr=lr)\n",
        "    # Load the model with appropriate device mapping\n",
        "    weights = torch.load(primed_path, map_location=lambda storage, loc: storage.cuda() if torch.cuda.is_available() else storage.cpu())\n",
        "    generator.load_state_dict(weights)\n",
        "\n",
        "\n",
        "    model_instance = RFC\n",
        "    model_params = {'n_estimators': 250, 'n_jobs': 10}\n",
        "    predictor = VanillaQSAR(model_instance=model_instance,\n",
        "                            model_params=model_params,\n",
        "                            model_type='classifier')\n",
        "    predictor.load_model('/content/drive/MyDrive/egfr_rfc')\n",
        "\n",
        "    def get_reward(smiles, predictor, threshold, invalid_reward=1.0, get_features=get_fp):\n",
        "        mol, prop, nan_smiles = predictor.predict([smiles], get_features=get_features)\n",
        "        if len(nan_smiles) == 1:\n",
        "            return invalid_reward\n",
        "        if prop[0] >= threshold:\n",
        "            return 10.0\n",
        "        else:\n",
        "            return invalid_reward\n",
        "\n",
        "    RL_model = Reinforcement(generator, predictor, get_reward)\n",
        "\n",
        "    rl_losses = []\n",
        "    rewards = []\n",
        "    valid_fractions = []\n",
        "    active_fractions = []\n",
        "    thresholds = []\n",
        "    n_to_generate = 50\n",
        "    threshold = 0.05\n",
        "    start = time.time()\n",
        "\n",
        "    for i in range(n_iterations):\n",
        "        print(f\"{i+1} Training on replay instances...\")\n",
        "        thresholds.append(threshold)\n",
        "\n",
        "        # Policy Gradient\n",
        "        for j in trange(n_policy, desc=f\" {i+1} Policy gradient...\"):\n",
        "            cur_reward, cur_loss = RL_model.policy_gradient(gen_data, threshold=threshold)\n",
        "            rewards.append(simple_moving_average(rewards, cur_reward))\n",
        "            rl_losses.append(simple_moving_average(rl_losses, cur_loss))\n",
        "\n",
        "        # Estimate and Update\n",
        "        smiles_cur, prediction_cur, metrics = estimate_and_update(RL_model.generator,\n",
        "                                                                  RL_model.predictor,\n",
        "                                                                  n_to_generate,\n",
        "                                                                  batch_size=batch_size,\n",
        "                                                                  threshold=0.75,\n",
        "                                                                  plot_counts=False,\n",
        "                                                                  return_metrics=True)\n",
        "        valid_fractions.append(metrics['valid_fraction'])\n",
        "        active_fractions.append(metrics['active_fraction'])\n",
        "\n",
        "        # Update threshold\n",
        "        threshold = update_threshold(threshold, prediction_cur)\n",
        "\n",
        "    duration = time.time() - start\n",
        "    print(f\"Training duration: {duration} seconds\")\n",
        "\n",
        "    # Plotting the results\n",
        "    plt.figure(figsize=(12, 6))\n",
        "    plt.plot(rewards, label='Rewards')\n",
        "    plt.title('Rewards Over Iterations')\n",
        "    plt.xlabel('Iterations')\n",
        "    plt.ylabel('Reward')\n",
        "    plt.legend()\n",
        "    plt.show()\n",
        "\n",
        "    plt.figure(figsize=(12, 6))\n",
        "    plt.plot(valid_fractions, label='Valid Fractions')\n",
        "    plt.plot(active_fractions, label='Active Fractions')\n",
        "    plt.plot(thresholds, label='Thresholds')\n",
        "    plt.title('Fractions and Threshold Over Iterations')\n",
        "    plt.xlabel('Iterations')\n",
        "    plt.ylabel('Fraction / Threshold')\n",
        "    plt.legend()\n",
        "    plt.show()\n",
        "\n",
        "if __name__ == '__main__':\n",
        "    main(n_iterations=400)"
      ]
    }
  ],
  "metadata": {
    "accelerator": "GPU",
    "colab": {
      "gpuType": "A100",
      "provenance": []
    },
    "kernelspec": {
      "display_name": "Python 3",
      "name": "python3"
    },
    "language_info": {
      "codemirror_mode": {
        "name": "ipython",
        "version": 3
      },
      "file_extension": ".py",
      "mimetype": "text/x-python",
      "name": "python",
      "nbconvert_exporter": "python",
      "pygments_lexer": "ipython3",
      "version": "3.8.10"
    }
  },
  "nbformat": 4,
  "nbformat_minor": 5
}
